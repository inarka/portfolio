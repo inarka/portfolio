{
 "cells": [
  {
   "cell_type": "markdown",
   "metadata": {
    "toc": true
   },
   "source": [
    "<h1>Содержание<span class=\"tocSkip\"></span></h1>\n",
    "<div class=\"toc\"><ul class=\"toc-item\"><li><span><a href=\"#Подготовка-данных\" data-toc-modified-id=\"Подготовка-данных-1\"><span class=\"toc-item-num\">1&nbsp;&nbsp;</span>Подготовка данных</a></span><ul class=\"toc-item\"><li><span><a href=\"#Расчет-эффективности-обогащения\" data-toc-modified-id=\"Расчет-эффективности-обогащения-1.1\"><span class=\"toc-item-num\">1.1&nbsp;&nbsp;</span>Расчет эффективности обогащения</a></span></li><li><span><a href=\"#Анализ-признаков,-пропущенных-в-тестовой-выборке\" data-toc-modified-id=\"Анализ-признаков,-пропущенных-в-тестовой-выборке-1.2\"><span class=\"toc-item-num\">1.2&nbsp;&nbsp;</span>Анализ признаков, пропущенных в тестовой выборке</a></span></li><li><span><a href=\"#Предобработка-данных\" data-toc-modified-id=\"Предобработка-данных-1.3\"><span class=\"toc-item-num\">1.3&nbsp;&nbsp;</span>Предобработка данных</a></span></li><li><span><a href=\"#Вывод\" data-toc-modified-id=\"Вывод-1.4\"><span class=\"toc-item-num\">1.4&nbsp;&nbsp;</span>Вывод</a></span></li></ul></li><li><span><a href=\"#Анализ-данных\" data-toc-modified-id=\"Анализ-данных-2\"><span class=\"toc-item-num\">2&nbsp;&nbsp;</span>Анализ данных</a></span><ul class=\"toc-item\"><li><span><a href=\"#Изменение-концентрации-металлов-на-различных-этапах\" data-toc-modified-id=\"Изменение-концентрации-металлов-на-различных-этапах-2.1\"><span class=\"toc-item-num\">2.1&nbsp;&nbsp;</span>Изменение концентрации металлов на различных этапах</a></span></li><li><span><a href=\"#Сравнение-распределения-гранул-исходного-сырья-на-выборках\" data-toc-modified-id=\"Сравнение-распределения-гранул-исходного-сырья-на-выборках-2.2\"><span class=\"toc-item-num\">2.2&nbsp;&nbsp;</span>Сравнение распределения гранул исходного сырья на выборках</a></span></li><li><span><a href=\"#Суммарная-концентрация-металлов-на-разных-стадиях\" data-toc-modified-id=\"Суммарная-концентрация-металлов-на-разных-стадиях-2.3\"><span class=\"toc-item-num\">2.3&nbsp;&nbsp;</span>Суммарная концентрация металлов на разных стадиях</a></span></li><li><span><a href=\"#Вывод\" data-toc-modified-id=\"Вывод-2.4\"><span class=\"toc-item-num\">2.4&nbsp;&nbsp;</span>Вывод</a></span></li></ul></li><li><span><a href=\"#Модель\" data-toc-modified-id=\"Модель-3\"><span class=\"toc-item-num\">3&nbsp;&nbsp;</span>Модель</a></span><ul class=\"toc-item\"><li><span><a href=\"#Подготовка-признаков-и-целевых-признаков\" data-toc-modified-id=\"Подготовка-признаков-и-целевых-признаков-3.1\"><span class=\"toc-item-num\">3.1&nbsp;&nbsp;</span>Подготовка признаков и целевых признаков</a></span></li><li><span><a href=\"#Обучение-моделей\" data-toc-modified-id=\"Обучение-моделей-3.2\"><span class=\"toc-item-num\">3.2&nbsp;&nbsp;</span>Обучение моделей</a></span><ul class=\"toc-item\"><li><span><a href=\"#Модель-для-прогноза-эффективности-обогащения-чернового-концентрата\" data-toc-modified-id=\"Модель-для-прогноза-эффективности-обогащения-чернового-концентрата-3.2.1\"><span class=\"toc-item-num\">3.2.1&nbsp;&nbsp;</span>Модель для прогноза эффективности обогащения чернового концентрата</a></span><ul class=\"toc-item\"><li><span><a href=\"#Дерево-решений\" data-toc-modified-id=\"Дерево-решений-3.2.1.1\"><span class=\"toc-item-num\">3.2.1.1&nbsp;&nbsp;</span>Дерево решений</a></span></li><li><span><a href=\"#Случайный-лес\" data-toc-modified-id=\"Случайный-лес-3.2.1.2\"><span class=\"toc-item-num\">3.2.1.2&nbsp;&nbsp;</span>Случайный лес</a></span></li><li><span><a href=\"#Линейная-регрессия\" data-toc-modified-id=\"Линейная-регрессия-3.2.1.3\"><span class=\"toc-item-num\">3.2.1.3&nbsp;&nbsp;</span>Линейная регрессия</a></span></li></ul></li><li><span><a href=\"#Модель-для-прогноза-эффективности-обогащения-финального-концентрата\" data-toc-modified-id=\"Модель-для-прогноза-эффективности-обогащения-финального-концентрата-3.2.2\"><span class=\"toc-item-num\">3.2.2&nbsp;&nbsp;</span>Модель для прогноза эффективности обогащения финального концентрата</a></span><ul class=\"toc-item\"><li><span><a href=\"#Дерево-решений\" data-toc-modified-id=\"Дерево-решений-3.2.2.1\"><span class=\"toc-item-num\">3.2.2.1&nbsp;&nbsp;</span>Дерево решений</a></span></li><li><span><a href=\"#Случайный-лес\" data-toc-modified-id=\"Случайный-лес-3.2.2.2\"><span class=\"toc-item-num\">3.2.2.2&nbsp;&nbsp;</span>Случайный лес</a></span></li><li><span><a href=\"#Линейная-регрессия\" data-toc-modified-id=\"Линейная-регрессия-3.2.2.3\"><span class=\"toc-item-num\">3.2.2.3&nbsp;&nbsp;</span>Линейная регрессия</a></span></li></ul></li></ul></li><li><span><a href=\"#Вывод\" data-toc-modified-id=\"Вывод-3.3\"><span class=\"toc-item-num\">3.3&nbsp;&nbsp;</span>Вывод</a></span></li><li><span><a href=\"#Расчет-итогового-sMAPE\" data-toc-modified-id=\"Расчет-итогового-sMAPE-3.4\"><span class=\"toc-item-num\">3.4&nbsp;&nbsp;</span>Расчет итогового sMAPE</a></span><ul class=\"toc-item\"><li><span><a href=\"#Обучающая-выборка\" data-toc-modified-id=\"Обучающая-выборка-3.4.1\"><span class=\"toc-item-num\">3.4.1&nbsp;&nbsp;</span>Обучающая выборка</a></span></li><li><span><a href=\"#Тестовая-выборка\" data-toc-modified-id=\"Тестовая-выборка-3.4.2\"><span class=\"toc-item-num\">3.4.2&nbsp;&nbsp;</span>Тестовая выборка</a></span></li></ul></li></ul></li><li><span><a href=\"#Вывод\" data-toc-modified-id=\"Вывод-4\"><span class=\"toc-item-num\">4&nbsp;&nbsp;</span>Вывод</a></span></li></ul></div>"
   ]
  },
  {
   "cell_type": "markdown",
   "metadata": {},
   "source": [
    "# Восстановление золота из руды"
   ]
  },
  {
   "cell_type": "markdown",
   "metadata": {},
   "source": [
    "# План выполнения проекта"
   ]
  },
  {
   "cell_type": "markdown",
   "metadata": {},
   "source": [
    "- Этап 1: Загрузка и предобработка данных\n",
    "    - Загрузка и изучение данных\n",
    "    - Проверка формулы эффективности обогащения\n",
    "    - Анализ отсутствующих признаков в тестовом наборе: изучить характеристики признаков, которые не представлены в тестовой выборке, и определить их тип.\n",
    "    - Предобработка данных\n",
    "- Этап 2: Исследовательский анализ данных\n",
    "    - Изучение динамики концентрации au, ag и pb на различных этапах производственного процесса.\n",
    "    - Сравнение размеров гранул сырьяв обучающей и тестовой выборках.\n",
    "    - Обзор суммарной концентрации металлов на различных этапах производства.\n",
    "- Этап 3: Разработка и тестирование модели\n",
    "    - Реализация функции sMAPE\n",
    "    - Обучение и сравнение моделей с использованием кросс-валидации.\n",
    "    - Выбор и тестирование лучшей модели"
   ]
  },
  {
   "cell_type": "markdown",
   "metadata": {},
   "source": [
    "## Подготовка данных"
   ]
  },
  {
   "cell_type": "markdown",
   "metadata": {},
   "source": [
    "Импортируем необходимые библиотеки. "
   ]
  },
  {
   "cell_type": "code",
   "execution_count": 1,
   "metadata": {},
   "outputs": [],
   "source": [
    "import os\n",
    "\n",
    "import pandas as pd\n",
    "import seaborn as sns\n",
    "import matplotlib.pyplot as plt\n",
    "import numpy as np\n",
    "\n",
    "from sklearn.metrics import mean_absolute_error\n",
    "from sklearn.preprocessing import StandardScaler \n",
    "\n",
    "from sklearn.model_selection import GridSearchCV\n",
    "from sklearn.model_selection import cross_val_score\n",
    "\n",
    "from sklearn.tree import DecisionTreeRegressor\n",
    "from sklearn.ensemble import RandomForestRegressor\n",
    "from sklearn.linear_model import LinearRegression\n",
    "from sklearn.dummy import DummyRegressor\n",
    "\n",
    "pd.set_option('max_columns', None)\n",
    "pd.set_option('max_rows', None)"
   ]
  },
  {
   "cell_type": "markdown",
   "metadata": {},
   "source": [
    "Считаем данные из файлов. "
   ]
  },
  {
   "cell_type": "code",
   "execution_count": 2,
   "metadata": {},
   "outputs": [],
   "source": [
    "data_train = pd.read_csv('/datasets/gold_industry_train.csv')"
   ]
  },
  {
   "cell_type": "code",
   "execution_count": 4,
   "metadata": {},
   "outputs": [
    {
     "name": "stdout",
     "output_type": "stream",
     "text": [
      "<class 'pandas.core.frame.DataFrame'>\n",
      "RangeIndex: 14579 entries, 0 to 14578\n",
      "Data columns (total 87 columns):\n",
      " #   Column                                              Non-Null Count  Dtype  \n",
      "---  ------                                              --------------  -----  \n",
      " 0   date                                                14579 non-null  object \n",
      " 1   rougher.input.feed_au                               14579 non-null  float64\n",
      " 2   rougher.input.feed_ag                               14579 non-null  float64\n",
      " 3   rougher.input.feed_pb                               14507 non-null  float64\n",
      " 4   rougher.input.feed_sol                              14502 non-null  float64\n",
      " 5   rougher.input.feed_rate                             14572 non-null  float64\n",
      " 6   rougher.input.feed_size                             14478 non-null  float64\n",
      " 7   rougher.input.floatbank10_sulfate                   14548 non-null  float64\n",
      " 8   rougher.input.floatbank10_xanthate                  14572 non-null  float64\n",
      " 9   rougher.state.floatbank10_a_air                     14579 non-null  float64\n",
      " 10  rougher.state.floatbank10_a_level                   14579 non-null  float64\n",
      " 11  rougher.state.floatbank10_b_air                     14579 non-null  float64\n",
      " 12  rougher.state.floatbank10_b_level                   14579 non-null  float64\n",
      " 13  rougher.state.floatbank10_c_air                     14579 non-null  float64\n",
      " 14  rougher.state.floatbank10_c_level                   14579 non-null  float64\n",
      " 15  rougher.state.floatbank10_d_air                     14579 non-null  float64\n",
      " 16  rougher.state.floatbank10_d_level                   14579 non-null  float64\n",
      " 17  rougher.state.floatbank10_e_air                     14150 non-null  float64\n",
      " 18  rougher.state.floatbank10_e_level                   14579 non-null  float64\n",
      " 19  rougher.state.floatbank10_f_air                     14579 non-null  float64\n",
      " 20  rougher.state.floatbank10_f_level                   14579 non-null  float64\n",
      " 21  rougher.input.floatbank11_sulfate                   14543 non-null  float64\n",
      " 22  rougher.input.floatbank11_xanthate                  14172 non-null  float64\n",
      " 23  rougher.calculation.sulfate_to_au_concentrate       14578 non-null  float64\n",
      " 24  rougher.calculation.floatbank10_sulfate_to_au_feed  14578 non-null  float64\n",
      " 25  rougher.calculation.floatbank11_sulfate_to_au_feed  14578 non-null  float64\n",
      " 26  rougher.calculation.au_pb_ratio                     14579 non-null  float64\n",
      " 27  rougher.output.concentrate_au                       14579 non-null  float64\n",
      " 28  rougher.output.concentrate_ag                       14579 non-null  float64\n",
      " 29  rougher.output.concentrate_pb                       14579 non-null  float64\n",
      " 30  rougher.output.concentrate_sol                      14561 non-null  float64\n",
      " 31  rougher.output.recovery                             14579 non-null  float64\n",
      " 32  rougher.output.tail_au                              14579 non-null  float64\n",
      " 33  rougher.output.tail_ag                              14578 non-null  float64\n",
      " 34  rougher.output.tail_pb                              14579 non-null  float64\n",
      " 35  rougher.output.tail_sol                             14579 non-null  float64\n",
      " 36  primary_cleaner.input.sulfate                       14556 non-null  float64\n",
      " 37  primary_cleaner.input.depressant                    14551 non-null  float64\n",
      " 38  primary_cleaner.input.feed_size                     14579 non-null  float64\n",
      " 39  primary_cleaner.input.xanthate                      14518 non-null  float64\n",
      " 40  primary_cleaner.state.floatbank8_a_air              14576 non-null  float64\n",
      " 41  primary_cleaner.state.floatbank8_a_level            14579 non-null  float64\n",
      " 42  primary_cleaner.state.floatbank8_b_air              14576 non-null  float64\n",
      " 43  primary_cleaner.state.floatbank8_b_level            14579 non-null  float64\n",
      " 44  primary_cleaner.state.floatbank8_c_air              14579 non-null  float64\n",
      " 45  primary_cleaner.state.floatbank8_c_level            14579 non-null  float64\n",
      " 46  primary_cleaner.state.floatbank8_d_air              14578 non-null  float64\n",
      " 47  primary_cleaner.state.floatbank8_d_level            14579 non-null  float64\n",
      " 48  primary_cleaner.output.concentrate_au               14579 non-null  float64\n",
      " 49  primary_cleaner.output.concentrate_ag               14579 non-null  float64\n",
      " 50  primary_cleaner.output.concentrate_pb               14491 non-null  float64\n",
      " 51  primary_cleaner.output.concentrate_sol              14314 non-null  float64\n",
      " 52  primary_cleaner.output.tail_au                      14579 non-null  float64\n",
      " 53  primary_cleaner.output.tail_ag                      14575 non-null  float64\n",
      " 54  primary_cleaner.output.tail_pb                      14573 non-null  float64\n",
      " 55  primary_cleaner.output.tail_sol                     14534 non-null  float64\n",
      " 56  secondary_cleaner.state.floatbank2_a_air            14485 non-null  float64\n",
      " 57  secondary_cleaner.state.floatbank2_a_level          14579 non-null  float64\n",
      " 58  secondary_cleaner.state.floatbank2_b_air            14557 non-null  float64\n",
      " 59  secondary_cleaner.state.floatbank2_b_level          14579 non-null  float64\n",
      " 60  secondary_cleaner.state.floatbank3_a_air            14567 non-null  float64\n",
      " 61  secondary_cleaner.state.floatbank3_a_level          14579 non-null  float64\n",
      " 62  secondary_cleaner.state.floatbank3_b_air            14579 non-null  float64\n",
      " 63  secondary_cleaner.state.floatbank3_b_level          14579 non-null  float64\n",
      " 64  secondary_cleaner.state.floatbank4_a_air            14574 non-null  float64\n",
      " 65  secondary_cleaner.state.floatbank4_a_level          14579 non-null  float64\n",
      " 66  secondary_cleaner.state.floatbank4_b_air            14579 non-null  float64\n",
      " 67  secondary_cleaner.state.floatbank4_b_level          14579 non-null  float64\n",
      " 68  secondary_cleaner.state.floatbank5_a_air            14579 non-null  float64\n",
      " 69  secondary_cleaner.state.floatbank5_a_level          14579 non-null  float64\n",
      " 70  secondary_cleaner.state.floatbank5_b_air            14579 non-null  float64\n",
      " 71  secondary_cleaner.state.floatbank5_b_level          14579 non-null  float64\n",
      " 72  secondary_cleaner.state.floatbank6_a_air            14578 non-null  float64\n",
      " 73  secondary_cleaner.state.floatbank6_a_level          14579 non-null  float64\n",
      " 74  secondary_cleaner.output.tail_au                    14579 non-null  float64\n",
      " 75  secondary_cleaner.output.tail_ag                    14578 non-null  float64\n",
      " 76  secondary_cleaner.output.tail_pb                    14575 non-null  float64\n",
      " 77  secondary_cleaner.output.tail_sol                   13659 non-null  float64\n",
      " 78  final.output.concentrate_au                         14579 non-null  float64\n",
      " 79  final.output.concentrate_ag                         14578 non-null  float64\n",
      " 80  final.output.concentrate_pb                         14578 non-null  float64\n",
      " 81  final.output.concentrate_sol                        14387 non-null  float64\n",
      " 82  final.output.recovery                               14579 non-null  float64\n",
      " 83  final.output.tail_au                                14579 non-null  float64\n",
      " 84  final.output.tail_ag                                14578 non-null  float64\n",
      " 85  final.output.tail_pb                                14504 non-null  float64\n",
      " 86  final.output.tail_sol                               14574 non-null  float64\n",
      "dtypes: float64(86), object(1)\n",
      "memory usage: 9.7+ MB\n"
     ]
    }
   ],
   "source": [
    "data_train.info()"
   ]
  },
  {
   "cell_type": "code",
   "execution_count": 5,
   "metadata": {},
   "outputs": [
    {
     "data": {
      "text/html": [
       "<div>\n",
       "<style scoped>\n",
       "    .dataframe tbody tr th:only-of-type {\n",
       "        vertical-align: middle;\n",
       "    }\n",
       "\n",
       "    .dataframe tbody tr th {\n",
       "        vertical-align: top;\n",
       "    }\n",
       "\n",
       "    .dataframe thead th {\n",
       "        text-align: right;\n",
       "    }\n",
       "</style>\n",
       "<table border=\"1\" class=\"dataframe\">\n",
       "  <thead>\n",
       "    <tr style=\"text-align: right;\">\n",
       "      <th></th>\n",
       "      <th>date</th>\n",
       "      <th>rougher.input.feed_au</th>\n",
       "      <th>rougher.input.feed_ag</th>\n",
       "      <th>rougher.input.feed_pb</th>\n",
       "      <th>rougher.input.feed_sol</th>\n",
       "      <th>rougher.input.feed_rate</th>\n",
       "      <th>rougher.input.feed_size</th>\n",
       "      <th>rougher.input.floatbank10_sulfate</th>\n",
       "      <th>rougher.input.floatbank10_xanthate</th>\n",
       "      <th>rougher.state.floatbank10_a_air</th>\n",
       "      <th>rougher.state.floatbank10_a_level</th>\n",
       "      <th>rougher.state.floatbank10_b_air</th>\n",
       "      <th>rougher.state.floatbank10_b_level</th>\n",
       "      <th>rougher.state.floatbank10_c_air</th>\n",
       "      <th>rougher.state.floatbank10_c_level</th>\n",
       "      <th>rougher.state.floatbank10_d_air</th>\n",
       "      <th>rougher.state.floatbank10_d_level</th>\n",
       "      <th>rougher.state.floatbank10_e_air</th>\n",
       "      <th>rougher.state.floatbank10_e_level</th>\n",
       "      <th>rougher.state.floatbank10_f_air</th>\n",
       "      <th>rougher.state.floatbank10_f_level</th>\n",
       "      <th>rougher.input.floatbank11_sulfate</th>\n",
       "      <th>rougher.input.floatbank11_xanthate</th>\n",
       "      <th>rougher.calculation.sulfate_to_au_concentrate</th>\n",
       "      <th>rougher.calculation.floatbank10_sulfate_to_au_feed</th>\n",
       "      <th>rougher.calculation.floatbank11_sulfate_to_au_feed</th>\n",
       "      <th>rougher.calculation.au_pb_ratio</th>\n",
       "      <th>rougher.output.concentrate_au</th>\n",
       "      <th>rougher.output.concentrate_ag</th>\n",
       "      <th>rougher.output.concentrate_pb</th>\n",
       "      <th>rougher.output.concentrate_sol</th>\n",
       "      <th>rougher.output.recovery</th>\n",
       "      <th>rougher.output.tail_au</th>\n",
       "      <th>rougher.output.tail_ag</th>\n",
       "      <th>rougher.output.tail_pb</th>\n",
       "      <th>rougher.output.tail_sol</th>\n",
       "      <th>primary_cleaner.input.sulfate</th>\n",
       "      <th>primary_cleaner.input.depressant</th>\n",
       "      <th>primary_cleaner.input.feed_size</th>\n",
       "      <th>primary_cleaner.input.xanthate</th>\n",
       "      <th>primary_cleaner.state.floatbank8_a_air</th>\n",
       "      <th>primary_cleaner.state.floatbank8_a_level</th>\n",
       "      <th>primary_cleaner.state.floatbank8_b_air</th>\n",
       "      <th>primary_cleaner.state.floatbank8_b_level</th>\n",
       "      <th>primary_cleaner.state.floatbank8_c_air</th>\n",
       "      <th>primary_cleaner.state.floatbank8_c_level</th>\n",
       "      <th>primary_cleaner.state.floatbank8_d_air</th>\n",
       "      <th>primary_cleaner.state.floatbank8_d_level</th>\n",
       "      <th>primary_cleaner.output.concentrate_au</th>\n",
       "      <th>primary_cleaner.output.concentrate_ag</th>\n",
       "      <th>primary_cleaner.output.concentrate_pb</th>\n",
       "      <th>primary_cleaner.output.concentrate_sol</th>\n",
       "      <th>primary_cleaner.output.tail_au</th>\n",
       "      <th>primary_cleaner.output.tail_ag</th>\n",
       "      <th>primary_cleaner.output.tail_pb</th>\n",
       "      <th>primary_cleaner.output.tail_sol</th>\n",
       "      <th>secondary_cleaner.state.floatbank2_a_air</th>\n",
       "      <th>secondary_cleaner.state.floatbank2_a_level</th>\n",
       "      <th>secondary_cleaner.state.floatbank2_b_air</th>\n",
       "      <th>secondary_cleaner.state.floatbank2_b_level</th>\n",
       "      <th>secondary_cleaner.state.floatbank3_a_air</th>\n",
       "      <th>secondary_cleaner.state.floatbank3_a_level</th>\n",
       "      <th>secondary_cleaner.state.floatbank3_b_air</th>\n",
       "      <th>secondary_cleaner.state.floatbank3_b_level</th>\n",
       "      <th>secondary_cleaner.state.floatbank4_a_air</th>\n",
       "      <th>secondary_cleaner.state.floatbank4_a_level</th>\n",
       "      <th>secondary_cleaner.state.floatbank4_b_air</th>\n",
       "      <th>secondary_cleaner.state.floatbank4_b_level</th>\n",
       "      <th>secondary_cleaner.state.floatbank5_a_air</th>\n",
       "      <th>secondary_cleaner.state.floatbank5_a_level</th>\n",
       "      <th>secondary_cleaner.state.floatbank5_b_air</th>\n",
       "      <th>secondary_cleaner.state.floatbank5_b_level</th>\n",
       "      <th>secondary_cleaner.state.floatbank6_a_air</th>\n",
       "      <th>secondary_cleaner.state.floatbank6_a_level</th>\n",
       "      <th>secondary_cleaner.output.tail_au</th>\n",
       "      <th>secondary_cleaner.output.tail_ag</th>\n",
       "      <th>secondary_cleaner.output.tail_pb</th>\n",
       "      <th>secondary_cleaner.output.tail_sol</th>\n",
       "      <th>final.output.concentrate_au</th>\n",
       "      <th>final.output.concentrate_ag</th>\n",
       "      <th>final.output.concentrate_pb</th>\n",
       "      <th>final.output.concentrate_sol</th>\n",
       "      <th>final.output.recovery</th>\n",
       "      <th>final.output.tail_au</th>\n",
       "      <th>final.output.tail_ag</th>\n",
       "      <th>final.output.tail_pb</th>\n",
       "      <th>final.output.tail_sol</th>\n",
       "    </tr>\n",
       "  </thead>\n",
       "  <tbody>\n",
       "    <tr>\n",
       "      <th>0</th>\n",
       "      <td>2016-01-15 00:00:00</td>\n",
       "      <td>6.486150</td>\n",
       "      <td>6.100378</td>\n",
       "      <td>2.284912</td>\n",
       "      <td>36.808594</td>\n",
       "      <td>523.546326</td>\n",
       "      <td>55.486599</td>\n",
       "      <td>11.986616</td>\n",
       "      <td>6.007990</td>\n",
       "      <td>999.706909</td>\n",
       "      <td>-404.066986</td>\n",
       "      <td>1603.011353</td>\n",
       "      <td>-434.715027</td>\n",
       "      <td>1602.375000</td>\n",
       "      <td>-442.204468</td>\n",
       "      <td>1598.937256</td>\n",
       "      <td>-451.294128</td>\n",
       "      <td>1404.472046</td>\n",
       "      <td>-455.462982</td>\n",
       "      <td>1416.354980</td>\n",
       "      <td>-451.939636</td>\n",
       "      <td>11.836743</td>\n",
       "      <td>6.005818</td>\n",
       "      <td>41885.707031</td>\n",
       "      <td>3481.779053</td>\n",
       "      <td>3520.337158</td>\n",
       "      <td>2.838687</td>\n",
       "      <td>19.793808</td>\n",
       "      <td>11.500771</td>\n",
       "      <td>7.101074</td>\n",
       "      <td>28.029297</td>\n",
       "      <td>87.107763</td>\n",
       "      <td>1.170244</td>\n",
       "      <td>5.008018</td>\n",
       "      <td>0.508728</td>\n",
       "      <td>19.154297</td>\n",
       "      <td>127.092003</td>\n",
       "      <td>10.128295</td>\n",
       "      <td>7.25</td>\n",
       "      <td>0.988759</td>\n",
       "      <td>1549.775757</td>\n",
       "      <td>-498.912140</td>\n",
       "      <td>1551.434204</td>\n",
       "      <td>-516.403442</td>\n",
       "      <td>1549.873901</td>\n",
       "      <td>-498.666595</td>\n",
       "      <td>1554.367432</td>\n",
       "      <td>-493.428131</td>\n",
       "      <td>34.174427</td>\n",
       "      <td>8.547551</td>\n",
       "      <td>10.389648</td>\n",
       "      <td>19.529297</td>\n",
       "      <td>2.106679</td>\n",
       "      <td>14.936526</td>\n",
       "      <td>2.534912</td>\n",
       "      <td>7.476074</td>\n",
       "      <td>25.853109</td>\n",
       "      <td>-498.526489</td>\n",
       "      <td>23.893660</td>\n",
       "      <td>-501.406281</td>\n",
       "      <td>23.961798</td>\n",
       "      <td>-495.262817</td>\n",
       "      <td>21.940409</td>\n",
       "      <td>-499.340973</td>\n",
       "      <td>14.016835</td>\n",
       "      <td>-502.488007</td>\n",
       "      <td>12.099931</td>\n",
       "      <td>-504.715942</td>\n",
       "      <td>9.925633</td>\n",
       "      <td>-498.310211</td>\n",
       "      <td>8.079666</td>\n",
       "      <td>-500.470978</td>\n",
       "      <td>14.151341</td>\n",
       "      <td>-605.841980</td>\n",
       "      <td>2.606185</td>\n",
       "      <td>14.500184</td>\n",
       "      <td>4.694824</td>\n",
       "      <td>8.764648</td>\n",
       "      <td>42.192020</td>\n",
       "      <td>6.055403</td>\n",
       "      <td>9.889648</td>\n",
       "      <td>5.507324</td>\n",
       "      <td>70.541216</td>\n",
       "      <td>2.143149</td>\n",
       "      <td>10.411962</td>\n",
       "      <td>0.895447</td>\n",
       "      <td>16.904297</td>\n",
       "    </tr>\n",
       "    <tr>\n",
       "      <th>1</th>\n",
       "      <td>2016-01-15 01:00:00</td>\n",
       "      <td>6.478583</td>\n",
       "      <td>6.161113</td>\n",
       "      <td>2.266033</td>\n",
       "      <td>35.753385</td>\n",
       "      <td>525.290581</td>\n",
       "      <td>57.278666</td>\n",
       "      <td>11.971193</td>\n",
       "      <td>6.005766</td>\n",
       "      <td>1000.286398</td>\n",
       "      <td>-400.065196</td>\n",
       "      <td>1600.754587</td>\n",
       "      <td>-449.953435</td>\n",
       "      <td>1600.479580</td>\n",
       "      <td>-449.830646</td>\n",
       "      <td>1600.527589</td>\n",
       "      <td>-449.953649</td>\n",
       "      <td>1399.227084</td>\n",
       "      <td>-450.869848</td>\n",
       "      <td>1399.719514</td>\n",
       "      <td>-450.119001</td>\n",
       "      <td>11.996163</td>\n",
       "      <td>6.012594</td>\n",
       "      <td>42050.861809</td>\n",
       "      <td>3498.370979</td>\n",
       "      <td>3489.981857</td>\n",
       "      <td>2.858998</td>\n",
       "      <td>20.050975</td>\n",
       "      <td>11.615865</td>\n",
       "      <td>7.278807</td>\n",
       "      <td>28.067063</td>\n",
       "      <td>86.843261</td>\n",
       "      <td>1.184827</td>\n",
       "      <td>4.955378</td>\n",
       "      <td>0.536689</td>\n",
       "      <td>18.965234</td>\n",
       "      <td>125.629232</td>\n",
       "      <td>10.296251</td>\n",
       "      <td>7.25</td>\n",
       "      <td>1.002663</td>\n",
       "      <td>1576.166671</td>\n",
       "      <td>-500.904965</td>\n",
       "      <td>1575.950626</td>\n",
       "      <td>-499.865889</td>\n",
       "      <td>1575.994189</td>\n",
       "      <td>-499.315107</td>\n",
       "      <td>1574.479259</td>\n",
       "      <td>-498.931665</td>\n",
       "      <td>34.118526</td>\n",
       "      <td>8.558743</td>\n",
       "      <td>10.497069</td>\n",
       "      <td>19.369147</td>\n",
       "      <td>2.353017</td>\n",
       "      <td>16.250511</td>\n",
       "      <td>3.049646</td>\n",
       "      <td>6.733907</td>\n",
       "      <td>25.880539</td>\n",
       "      <td>-499.989656</td>\n",
       "      <td>23.889530</td>\n",
       "      <td>-500.372428</td>\n",
       "      <td>23.970550</td>\n",
       "      <td>-500.085473</td>\n",
       "      <td>22.085714</td>\n",
       "      <td>-499.446897</td>\n",
       "      <td>13.992281</td>\n",
       "      <td>-505.503262</td>\n",
       "      <td>11.950531</td>\n",
       "      <td>-501.331529</td>\n",
       "      <td>10.039245</td>\n",
       "      <td>-500.169983</td>\n",
       "      <td>7.984757</td>\n",
       "      <td>-500.582168</td>\n",
       "      <td>13.998353</td>\n",
       "      <td>-599.787184</td>\n",
       "      <td>2.488248</td>\n",
       "      <td>14.265474</td>\n",
       "      <td>4.592547</td>\n",
       "      <td>9.001494</td>\n",
       "      <td>42.701629</td>\n",
       "      <td>6.029369</td>\n",
       "      <td>9.968944</td>\n",
       "      <td>5.257781</td>\n",
       "      <td>69.266198</td>\n",
       "      <td>2.224930</td>\n",
       "      <td>10.462676</td>\n",
       "      <td>0.927452</td>\n",
       "      <td>16.634514</td>\n",
       "    </tr>\n",
       "    <tr>\n",
       "      <th>2</th>\n",
       "      <td>2016-01-15 02:00:00</td>\n",
       "      <td>6.362222</td>\n",
       "      <td>6.116455</td>\n",
       "      <td>2.159622</td>\n",
       "      <td>35.971630</td>\n",
       "      <td>530.026610</td>\n",
       "      <td>57.510649</td>\n",
       "      <td>11.920603</td>\n",
       "      <td>6.197377</td>\n",
       "      <td>999.719565</td>\n",
       "      <td>-400.074028</td>\n",
       "      <td>1599.337330</td>\n",
       "      <td>-450.008530</td>\n",
       "      <td>1599.672797</td>\n",
       "      <td>-449.954491</td>\n",
       "      <td>1599.849325</td>\n",
       "      <td>-449.954185</td>\n",
       "      <td>1399.180945</td>\n",
       "      <td>-449.937588</td>\n",
       "      <td>1400.316682</td>\n",
       "      <td>-450.527147</td>\n",
       "      <td>11.920305</td>\n",
       "      <td>6.204633</td>\n",
       "      <td>42018.101184</td>\n",
       "      <td>3495.348910</td>\n",
       "      <td>3502.359819</td>\n",
       "      <td>2.945989</td>\n",
       "      <td>19.737170</td>\n",
       "      <td>11.695753</td>\n",
       "      <td>7.216833</td>\n",
       "      <td>27.454037</td>\n",
       "      <td>86.842308</td>\n",
       "      <td>1.162562</td>\n",
       "      <td>4.843460</td>\n",
       "      <td>0.546416</td>\n",
       "      <td>18.808533</td>\n",
       "      <td>123.819808</td>\n",
       "      <td>11.316280</td>\n",
       "      <td>7.25</td>\n",
       "      <td>0.991265</td>\n",
       "      <td>1601.556163</td>\n",
       "      <td>-499.997791</td>\n",
       "      <td>1600.386685</td>\n",
       "      <td>-500.607762</td>\n",
       "      <td>1602.003542</td>\n",
       "      <td>-500.870069</td>\n",
       "      <td>1599.541515</td>\n",
       "      <td>-499.827444</td>\n",
       "      <td>33.969464</td>\n",
       "      <td>8.603505</td>\n",
       "      <td>10.354494</td>\n",
       "      <td>19.167579</td>\n",
       "      <td>2.416800</td>\n",
       "      <td>16.491823</td>\n",
       "      <td>3.124664</td>\n",
       "      <td>6.471768</td>\n",
       "      <td>26.005245</td>\n",
       "      <td>-499.929616</td>\n",
       "      <td>23.886657</td>\n",
       "      <td>-499.951928</td>\n",
       "      <td>23.913535</td>\n",
       "      <td>-499.442343</td>\n",
       "      <td>23.957717</td>\n",
       "      <td>-499.901982</td>\n",
       "      <td>14.015015</td>\n",
       "      <td>-502.520901</td>\n",
       "      <td>11.912783</td>\n",
       "      <td>-501.133383</td>\n",
       "      <td>10.070913</td>\n",
       "      <td>-500.129135</td>\n",
       "      <td>8.013877</td>\n",
       "      <td>-500.517572</td>\n",
       "      <td>14.028663</td>\n",
       "      <td>-601.427363</td>\n",
       "      <td>2.458187</td>\n",
       "      <td>14.115662</td>\n",
       "      <td>4.624775</td>\n",
       "      <td>8.842896</td>\n",
       "      <td>42.657501</td>\n",
       "      <td>6.055926</td>\n",
       "      <td>10.213995</td>\n",
       "      <td>5.383759</td>\n",
       "      <td>68.116445</td>\n",
       "      <td>2.257889</td>\n",
       "      <td>10.507046</td>\n",
       "      <td>0.953716</td>\n",
       "      <td>16.208849</td>\n",
       "    </tr>\n",
       "    <tr>\n",
       "      <th>3</th>\n",
       "      <td>2016-01-15 03:00:00</td>\n",
       "      <td>6.118189</td>\n",
       "      <td>6.043309</td>\n",
       "      <td>2.037807</td>\n",
       "      <td>36.862241</td>\n",
       "      <td>542.590390</td>\n",
       "      <td>57.792734</td>\n",
       "      <td>11.630094</td>\n",
       "      <td>6.203177</td>\n",
       "      <td>999.814770</td>\n",
       "      <td>-400.200179</td>\n",
       "      <td>1600.059442</td>\n",
       "      <td>-450.619948</td>\n",
       "      <td>1600.012842</td>\n",
       "      <td>-449.910497</td>\n",
       "      <td>1597.725177</td>\n",
       "      <td>-450.130127</td>\n",
       "      <td>1400.943157</td>\n",
       "      <td>-450.030142</td>\n",
       "      <td>1400.234743</td>\n",
       "      <td>-449.790835</td>\n",
       "      <td>11.692450</td>\n",
       "      <td>6.196578</td>\n",
       "      <td>42029.447991</td>\n",
       "      <td>3498.578313</td>\n",
       "      <td>3499.162912</td>\n",
       "      <td>3.002340</td>\n",
       "      <td>19.320810</td>\n",
       "      <td>11.915047</td>\n",
       "      <td>7.175616</td>\n",
       "      <td>27.341277</td>\n",
       "      <td>87.226430</td>\n",
       "      <td>1.079755</td>\n",
       "      <td>4.655288</td>\n",
       "      <td>0.542525</td>\n",
       "      <td>19.330200</td>\n",
       "      <td>122.270188</td>\n",
       "      <td>11.322140</td>\n",
       "      <td>7.25</td>\n",
       "      <td>0.996739</td>\n",
       "      <td>1599.968720</td>\n",
       "      <td>-500.951778</td>\n",
       "      <td>1600.659236</td>\n",
       "      <td>-499.677094</td>\n",
       "      <td>1600.304144</td>\n",
       "      <td>-500.727997</td>\n",
       "      <td>1600.449520</td>\n",
       "      <td>-500.052575</td>\n",
       "      <td>28.260743</td>\n",
       "      <td>7.221879</td>\n",
       "      <td>8.496563</td>\n",
       "      <td>15.978538</td>\n",
       "      <td>2.262051</td>\n",
       "      <td>16.024359</td>\n",
       "      <td>2.960362</td>\n",
       "      <td>6.843791</td>\n",
       "      <td>25.942508</td>\n",
       "      <td>-499.176749</td>\n",
       "      <td>23.955516</td>\n",
       "      <td>-499.848796</td>\n",
       "      <td>23.966838</td>\n",
       "      <td>-500.008812</td>\n",
       "      <td>23.954443</td>\n",
       "      <td>-499.944710</td>\n",
       "      <td>14.036510</td>\n",
       "      <td>-500.857308</td>\n",
       "      <td>11.999550</td>\n",
       "      <td>-501.193686</td>\n",
       "      <td>9.970366</td>\n",
       "      <td>-499.201640</td>\n",
       "      <td>7.977324</td>\n",
       "      <td>-500.255908</td>\n",
       "      <td>14.005551</td>\n",
       "      <td>-599.996129</td>\n",
       "      <td>2.322062</td>\n",
       "      <td>13.732071</td>\n",
       "      <td>4.482453</td>\n",
       "      <td>9.122857</td>\n",
       "      <td>42.689819</td>\n",
       "      <td>6.047977</td>\n",
       "      <td>9.977019</td>\n",
       "      <td>4.858634</td>\n",
       "      <td>68.347543</td>\n",
       "      <td>2.146849</td>\n",
       "      <td>10.422762</td>\n",
       "      <td>0.883763</td>\n",
       "      <td>16.532835</td>\n",
       "    </tr>\n",
       "    <tr>\n",
       "      <th>4</th>\n",
       "      <td>2016-01-15 04:00:00</td>\n",
       "      <td>5.663707</td>\n",
       "      <td>6.060915</td>\n",
       "      <td>1.786875</td>\n",
       "      <td>34.347666</td>\n",
       "      <td>540.531893</td>\n",
       "      <td>56.047189</td>\n",
       "      <td>10.957755</td>\n",
       "      <td>6.198826</td>\n",
       "      <td>999.678690</td>\n",
       "      <td>-399.752729</td>\n",
       "      <td>1600.208824</td>\n",
       "      <td>-449.599614</td>\n",
       "      <td>1600.357732</td>\n",
       "      <td>-450.034364</td>\n",
       "      <td>1599.759049</td>\n",
       "      <td>-449.909799</td>\n",
       "      <td>1401.560902</td>\n",
       "      <td>-448.877187</td>\n",
       "      <td>1401.160227</td>\n",
       "      <td>-450.407128</td>\n",
       "      <td>10.960521</td>\n",
       "      <td>6.194897</td>\n",
       "      <td>42125.354245</td>\n",
       "      <td>3494.800771</td>\n",
       "      <td>3506.679315</td>\n",
       "      <td>3.169615</td>\n",
       "      <td>19.216101</td>\n",
       "      <td>12.411054</td>\n",
       "      <td>7.240205</td>\n",
       "      <td>27.041023</td>\n",
       "      <td>86.688794</td>\n",
       "      <td>1.012642</td>\n",
       "      <td>4.552800</td>\n",
       "      <td>0.515438</td>\n",
       "      <td>19.267422</td>\n",
       "      <td>117.988169</td>\n",
       "      <td>11.913613</td>\n",
       "      <td>7.25</td>\n",
       "      <td>1.009869</td>\n",
       "      <td>1601.339707</td>\n",
       "      <td>-498.975456</td>\n",
       "      <td>1601.437854</td>\n",
       "      <td>-500.323246</td>\n",
       "      <td>1599.581894</td>\n",
       "      <td>-500.888152</td>\n",
       "      <td>1602.649541</td>\n",
       "      <td>-500.593010</td>\n",
       "      <td>33.044932</td>\n",
       "      <td>9.089428</td>\n",
       "      <td>9.986786</td>\n",
       "      <td>19.199864</td>\n",
       "      <td>2.277073</td>\n",
       "      <td>16.480185</td>\n",
       "      <td>3.112100</td>\n",
       "      <td>6.550154</td>\n",
       "      <td>26.024787</td>\n",
       "      <td>-500.279091</td>\n",
       "      <td>23.955345</td>\n",
       "      <td>-500.593614</td>\n",
       "      <td>23.985703</td>\n",
       "      <td>-500.083811</td>\n",
       "      <td>23.958945</td>\n",
       "      <td>-499.990309</td>\n",
       "      <td>14.027298</td>\n",
       "      <td>-499.838632</td>\n",
       "      <td>11.953070</td>\n",
       "      <td>-501.053894</td>\n",
       "      <td>9.925709</td>\n",
       "      <td>-501.686727</td>\n",
       "      <td>7.894242</td>\n",
       "      <td>-500.356035</td>\n",
       "      <td>13.996647</td>\n",
       "      <td>-601.496691</td>\n",
       "      <td>2.330448</td>\n",
       "      <td>14.079996</td>\n",
       "      <td>4.470737</td>\n",
       "      <td>8.871028</td>\n",
       "      <td>42.774141</td>\n",
       "      <td>6.148599</td>\n",
       "      <td>10.142511</td>\n",
       "      <td>4.939416</td>\n",
       "      <td>66.927016</td>\n",
       "      <td>2.055292</td>\n",
       "      <td>10.360302</td>\n",
       "      <td>0.792826</td>\n",
       "      <td>16.525686</td>\n",
       "    </tr>\n",
       "  </tbody>\n",
       "</table>\n",
       "</div>"
      ],
      "text/plain": [
       "                  date  rougher.input.feed_au  rougher.input.feed_ag  \\\n",
       "0  2016-01-15 00:00:00               6.486150               6.100378   \n",
       "1  2016-01-15 01:00:00               6.478583               6.161113   \n",
       "2  2016-01-15 02:00:00               6.362222               6.116455   \n",
       "3  2016-01-15 03:00:00               6.118189               6.043309   \n",
       "4  2016-01-15 04:00:00               5.663707               6.060915   \n",
       "\n",
       "   rougher.input.feed_pb  rougher.input.feed_sol  rougher.input.feed_rate  \\\n",
       "0               2.284912               36.808594               523.546326   \n",
       "1               2.266033               35.753385               525.290581   \n",
       "2               2.159622               35.971630               530.026610   \n",
       "3               2.037807               36.862241               542.590390   \n",
       "4               1.786875               34.347666               540.531893   \n",
       "\n",
       "   rougher.input.feed_size  rougher.input.floatbank10_sulfate  \\\n",
       "0                55.486599                          11.986616   \n",
       "1                57.278666                          11.971193   \n",
       "2                57.510649                          11.920603   \n",
       "3                57.792734                          11.630094   \n",
       "4                56.047189                          10.957755   \n",
       "\n",
       "   rougher.input.floatbank10_xanthate  rougher.state.floatbank10_a_air  \\\n",
       "0                            6.007990                       999.706909   \n",
       "1                            6.005766                      1000.286398   \n",
       "2                            6.197377                       999.719565   \n",
       "3                            6.203177                       999.814770   \n",
       "4                            6.198826                       999.678690   \n",
       "\n",
       "   rougher.state.floatbank10_a_level  rougher.state.floatbank10_b_air  \\\n",
       "0                        -404.066986                      1603.011353   \n",
       "1                        -400.065196                      1600.754587   \n",
       "2                        -400.074028                      1599.337330   \n",
       "3                        -400.200179                      1600.059442   \n",
       "4                        -399.752729                      1600.208824   \n",
       "\n",
       "   rougher.state.floatbank10_b_level  rougher.state.floatbank10_c_air  \\\n",
       "0                        -434.715027                      1602.375000   \n",
       "1                        -449.953435                      1600.479580   \n",
       "2                        -450.008530                      1599.672797   \n",
       "3                        -450.619948                      1600.012842   \n",
       "4                        -449.599614                      1600.357732   \n",
       "\n",
       "   rougher.state.floatbank10_c_level  rougher.state.floatbank10_d_air  \\\n",
       "0                        -442.204468                      1598.937256   \n",
       "1                        -449.830646                      1600.527589   \n",
       "2                        -449.954491                      1599.849325   \n",
       "3                        -449.910497                      1597.725177   \n",
       "4                        -450.034364                      1599.759049   \n",
       "\n",
       "   rougher.state.floatbank10_d_level  rougher.state.floatbank10_e_air  \\\n",
       "0                        -451.294128                      1404.472046   \n",
       "1                        -449.953649                      1399.227084   \n",
       "2                        -449.954185                      1399.180945   \n",
       "3                        -450.130127                      1400.943157   \n",
       "4                        -449.909799                      1401.560902   \n",
       "\n",
       "   rougher.state.floatbank10_e_level  rougher.state.floatbank10_f_air  \\\n",
       "0                        -455.462982                      1416.354980   \n",
       "1                        -450.869848                      1399.719514   \n",
       "2                        -449.937588                      1400.316682   \n",
       "3                        -450.030142                      1400.234743   \n",
       "4                        -448.877187                      1401.160227   \n",
       "\n",
       "   rougher.state.floatbank10_f_level  rougher.input.floatbank11_sulfate  \\\n",
       "0                        -451.939636                          11.836743   \n",
       "1                        -450.119001                          11.996163   \n",
       "2                        -450.527147                          11.920305   \n",
       "3                        -449.790835                          11.692450   \n",
       "4                        -450.407128                          10.960521   \n",
       "\n",
       "   rougher.input.floatbank11_xanthate  \\\n",
       "0                            6.005818   \n",
       "1                            6.012594   \n",
       "2                            6.204633   \n",
       "3                            6.196578   \n",
       "4                            6.194897   \n",
       "\n",
       "   rougher.calculation.sulfate_to_au_concentrate  \\\n",
       "0                                   41885.707031   \n",
       "1                                   42050.861809   \n",
       "2                                   42018.101184   \n",
       "3                                   42029.447991   \n",
       "4                                   42125.354245   \n",
       "\n",
       "   rougher.calculation.floatbank10_sulfate_to_au_feed  \\\n",
       "0                                        3481.779053    \n",
       "1                                        3498.370979    \n",
       "2                                        3495.348910    \n",
       "3                                        3498.578313    \n",
       "4                                        3494.800771    \n",
       "\n",
       "   rougher.calculation.floatbank11_sulfate_to_au_feed  \\\n",
       "0                                        3520.337158    \n",
       "1                                        3489.981857    \n",
       "2                                        3502.359819    \n",
       "3                                        3499.162912    \n",
       "4                                        3506.679315    \n",
       "\n",
       "   rougher.calculation.au_pb_ratio  rougher.output.concentrate_au  \\\n",
       "0                         2.838687                      19.793808   \n",
       "1                         2.858998                      20.050975   \n",
       "2                         2.945989                      19.737170   \n",
       "3                         3.002340                      19.320810   \n",
       "4                         3.169615                      19.216101   \n",
       "\n",
       "   rougher.output.concentrate_ag  rougher.output.concentrate_pb  \\\n",
       "0                      11.500771                       7.101074   \n",
       "1                      11.615865                       7.278807   \n",
       "2                      11.695753                       7.216833   \n",
       "3                      11.915047                       7.175616   \n",
       "4                      12.411054                       7.240205   \n",
       "\n",
       "   rougher.output.concentrate_sol  rougher.output.recovery  \\\n",
       "0                       28.029297                87.107763   \n",
       "1                       28.067063                86.843261   \n",
       "2                       27.454037                86.842308   \n",
       "3                       27.341277                87.226430   \n",
       "4                       27.041023                86.688794   \n",
       "\n",
       "   rougher.output.tail_au  rougher.output.tail_ag  rougher.output.tail_pb  \\\n",
       "0                1.170244                5.008018                0.508728   \n",
       "1                1.184827                4.955378                0.536689   \n",
       "2                1.162562                4.843460                0.546416   \n",
       "3                1.079755                4.655288                0.542525   \n",
       "4                1.012642                4.552800                0.515438   \n",
       "\n",
       "   rougher.output.tail_sol  primary_cleaner.input.sulfate  \\\n",
       "0                19.154297                     127.092003   \n",
       "1                18.965234                     125.629232   \n",
       "2                18.808533                     123.819808   \n",
       "3                19.330200                     122.270188   \n",
       "4                19.267422                     117.988169   \n",
       "\n",
       "   primary_cleaner.input.depressant  primary_cleaner.input.feed_size  \\\n",
       "0                         10.128295                             7.25   \n",
       "1                         10.296251                             7.25   \n",
       "2                         11.316280                             7.25   \n",
       "3                         11.322140                             7.25   \n",
       "4                         11.913613                             7.25   \n",
       "\n",
       "   primary_cleaner.input.xanthate  primary_cleaner.state.floatbank8_a_air  \\\n",
       "0                        0.988759                             1549.775757   \n",
       "1                        1.002663                             1576.166671   \n",
       "2                        0.991265                             1601.556163   \n",
       "3                        0.996739                             1599.968720   \n",
       "4                        1.009869                             1601.339707   \n",
       "\n",
       "   primary_cleaner.state.floatbank8_a_level  \\\n",
       "0                               -498.912140   \n",
       "1                               -500.904965   \n",
       "2                               -499.997791   \n",
       "3                               -500.951778   \n",
       "4                               -498.975456   \n",
       "\n",
       "   primary_cleaner.state.floatbank8_b_air  \\\n",
       "0                             1551.434204   \n",
       "1                             1575.950626   \n",
       "2                             1600.386685   \n",
       "3                             1600.659236   \n",
       "4                             1601.437854   \n",
       "\n",
       "   primary_cleaner.state.floatbank8_b_level  \\\n",
       "0                               -516.403442   \n",
       "1                               -499.865889   \n",
       "2                               -500.607762   \n",
       "3                               -499.677094   \n",
       "4                               -500.323246   \n",
       "\n",
       "   primary_cleaner.state.floatbank8_c_air  \\\n",
       "0                             1549.873901   \n",
       "1                             1575.994189   \n",
       "2                             1602.003542   \n",
       "3                             1600.304144   \n",
       "4                             1599.581894   \n",
       "\n",
       "   primary_cleaner.state.floatbank8_c_level  \\\n",
       "0                               -498.666595   \n",
       "1                               -499.315107   \n",
       "2                               -500.870069   \n",
       "3                               -500.727997   \n",
       "4                               -500.888152   \n",
       "\n",
       "   primary_cleaner.state.floatbank8_d_air  \\\n",
       "0                             1554.367432   \n",
       "1                             1574.479259   \n",
       "2                             1599.541515   \n",
       "3                             1600.449520   \n",
       "4                             1602.649541   \n",
       "\n",
       "   primary_cleaner.state.floatbank8_d_level  \\\n",
       "0                               -493.428131   \n",
       "1                               -498.931665   \n",
       "2                               -499.827444   \n",
       "3                               -500.052575   \n",
       "4                               -500.593010   \n",
       "\n",
       "   primary_cleaner.output.concentrate_au  \\\n",
       "0                              34.174427   \n",
       "1                              34.118526   \n",
       "2                              33.969464   \n",
       "3                              28.260743   \n",
       "4                              33.044932   \n",
       "\n",
       "   primary_cleaner.output.concentrate_ag  \\\n",
       "0                               8.547551   \n",
       "1                               8.558743   \n",
       "2                               8.603505   \n",
       "3                               7.221879   \n",
       "4                               9.089428   \n",
       "\n",
       "   primary_cleaner.output.concentrate_pb  \\\n",
       "0                              10.389648   \n",
       "1                              10.497069   \n",
       "2                              10.354494   \n",
       "3                               8.496563   \n",
       "4                               9.986786   \n",
       "\n",
       "   primary_cleaner.output.concentrate_sol  primary_cleaner.output.tail_au  \\\n",
       "0                               19.529297                        2.106679   \n",
       "1                               19.369147                        2.353017   \n",
       "2                               19.167579                        2.416800   \n",
       "3                               15.978538                        2.262051   \n",
       "4                               19.199864                        2.277073   \n",
       "\n",
       "   primary_cleaner.output.tail_ag  primary_cleaner.output.tail_pb  \\\n",
       "0                       14.936526                        2.534912   \n",
       "1                       16.250511                        3.049646   \n",
       "2                       16.491823                        3.124664   \n",
       "3                       16.024359                        2.960362   \n",
       "4                       16.480185                        3.112100   \n",
       "\n",
       "   primary_cleaner.output.tail_sol  secondary_cleaner.state.floatbank2_a_air  \\\n",
       "0                         7.476074                                 25.853109   \n",
       "1                         6.733907                                 25.880539   \n",
       "2                         6.471768                                 26.005245   \n",
       "3                         6.843791                                 25.942508   \n",
       "4                         6.550154                                 26.024787   \n",
       "\n",
       "   secondary_cleaner.state.floatbank2_a_level  \\\n",
       "0                                 -498.526489   \n",
       "1                                 -499.989656   \n",
       "2                                 -499.929616   \n",
       "3                                 -499.176749   \n",
       "4                                 -500.279091   \n",
       "\n",
       "   secondary_cleaner.state.floatbank2_b_air  \\\n",
       "0                                 23.893660   \n",
       "1                                 23.889530   \n",
       "2                                 23.886657   \n",
       "3                                 23.955516   \n",
       "4                                 23.955345   \n",
       "\n",
       "   secondary_cleaner.state.floatbank2_b_level  \\\n",
       "0                                 -501.406281   \n",
       "1                                 -500.372428   \n",
       "2                                 -499.951928   \n",
       "3                                 -499.848796   \n",
       "4                                 -500.593614   \n",
       "\n",
       "   secondary_cleaner.state.floatbank3_a_air  \\\n",
       "0                                 23.961798   \n",
       "1                                 23.970550   \n",
       "2                                 23.913535   \n",
       "3                                 23.966838   \n",
       "4                                 23.985703   \n",
       "\n",
       "   secondary_cleaner.state.floatbank3_a_level  \\\n",
       "0                                 -495.262817   \n",
       "1                                 -500.085473   \n",
       "2                                 -499.442343   \n",
       "3                                 -500.008812   \n",
       "4                                 -500.083811   \n",
       "\n",
       "   secondary_cleaner.state.floatbank3_b_air  \\\n",
       "0                                 21.940409   \n",
       "1                                 22.085714   \n",
       "2                                 23.957717   \n",
       "3                                 23.954443   \n",
       "4                                 23.958945   \n",
       "\n",
       "   secondary_cleaner.state.floatbank3_b_level  \\\n",
       "0                                 -499.340973   \n",
       "1                                 -499.446897   \n",
       "2                                 -499.901982   \n",
       "3                                 -499.944710   \n",
       "4                                 -499.990309   \n",
       "\n",
       "   secondary_cleaner.state.floatbank4_a_air  \\\n",
       "0                                 14.016835   \n",
       "1                                 13.992281   \n",
       "2                                 14.015015   \n",
       "3                                 14.036510   \n",
       "4                                 14.027298   \n",
       "\n",
       "   secondary_cleaner.state.floatbank4_a_level  \\\n",
       "0                                 -502.488007   \n",
       "1                                 -505.503262   \n",
       "2                                 -502.520901   \n",
       "3                                 -500.857308   \n",
       "4                                 -499.838632   \n",
       "\n",
       "   secondary_cleaner.state.floatbank4_b_air  \\\n",
       "0                                 12.099931   \n",
       "1                                 11.950531   \n",
       "2                                 11.912783   \n",
       "3                                 11.999550   \n",
       "4                                 11.953070   \n",
       "\n",
       "   secondary_cleaner.state.floatbank4_b_level  \\\n",
       "0                                 -504.715942   \n",
       "1                                 -501.331529   \n",
       "2                                 -501.133383   \n",
       "3                                 -501.193686   \n",
       "4                                 -501.053894   \n",
       "\n",
       "   secondary_cleaner.state.floatbank5_a_air  \\\n",
       "0                                  9.925633   \n",
       "1                                 10.039245   \n",
       "2                                 10.070913   \n",
       "3                                  9.970366   \n",
       "4                                  9.925709   \n",
       "\n",
       "   secondary_cleaner.state.floatbank5_a_level  \\\n",
       "0                                 -498.310211   \n",
       "1                                 -500.169983   \n",
       "2                                 -500.129135   \n",
       "3                                 -499.201640   \n",
       "4                                 -501.686727   \n",
       "\n",
       "   secondary_cleaner.state.floatbank5_b_air  \\\n",
       "0                                  8.079666   \n",
       "1                                  7.984757   \n",
       "2                                  8.013877   \n",
       "3                                  7.977324   \n",
       "4                                  7.894242   \n",
       "\n",
       "   secondary_cleaner.state.floatbank5_b_level  \\\n",
       "0                                 -500.470978   \n",
       "1                                 -500.582168   \n",
       "2                                 -500.517572   \n",
       "3                                 -500.255908   \n",
       "4                                 -500.356035   \n",
       "\n",
       "   secondary_cleaner.state.floatbank6_a_air  \\\n",
       "0                                 14.151341   \n",
       "1                                 13.998353   \n",
       "2                                 14.028663   \n",
       "3                                 14.005551   \n",
       "4                                 13.996647   \n",
       "\n",
       "   secondary_cleaner.state.floatbank6_a_level  \\\n",
       "0                                 -605.841980   \n",
       "1                                 -599.787184   \n",
       "2                                 -601.427363   \n",
       "3                                 -599.996129   \n",
       "4                                 -601.496691   \n",
       "\n",
       "   secondary_cleaner.output.tail_au  secondary_cleaner.output.tail_ag  \\\n",
       "0                          2.606185                         14.500184   \n",
       "1                          2.488248                         14.265474   \n",
       "2                          2.458187                         14.115662   \n",
       "3                          2.322062                         13.732071   \n",
       "4                          2.330448                         14.079996   \n",
       "\n",
       "   secondary_cleaner.output.tail_pb  secondary_cleaner.output.tail_sol  \\\n",
       "0                          4.694824                           8.764648   \n",
       "1                          4.592547                           9.001494   \n",
       "2                          4.624775                           8.842896   \n",
       "3                          4.482453                           9.122857   \n",
       "4                          4.470737                           8.871028   \n",
       "\n",
       "   final.output.concentrate_au  final.output.concentrate_ag  \\\n",
       "0                    42.192020                     6.055403   \n",
       "1                    42.701629                     6.029369   \n",
       "2                    42.657501                     6.055926   \n",
       "3                    42.689819                     6.047977   \n",
       "4                    42.774141                     6.148599   \n",
       "\n",
       "   final.output.concentrate_pb  final.output.concentrate_sol  \\\n",
       "0                     9.889648                      5.507324   \n",
       "1                     9.968944                      5.257781   \n",
       "2                    10.213995                      5.383759   \n",
       "3                     9.977019                      4.858634   \n",
       "4                    10.142511                      4.939416   \n",
       "\n",
       "   final.output.recovery  final.output.tail_au  final.output.tail_ag  \\\n",
       "0              70.541216              2.143149             10.411962   \n",
       "1              69.266198              2.224930             10.462676   \n",
       "2              68.116445              2.257889             10.507046   \n",
       "3              68.347543              2.146849             10.422762   \n",
       "4              66.927016              2.055292             10.360302   \n",
       "\n",
       "   final.output.tail_pb  final.output.tail_sol  \n",
       "0              0.895447              16.904297  \n",
       "1              0.927452              16.634514  \n",
       "2              0.953716              16.208849  \n",
       "3              0.883763              16.532835  \n",
       "4              0.792826              16.525686  "
      ]
     },
     "execution_count": 5,
     "metadata": {},
     "output_type": "execute_result"
    }
   ],
   "source": [
    "data_train.head()"
   ]
  },
  {
   "cell_type": "code",
   "execution_count": 6,
   "metadata": {},
   "outputs": [],
   "source": [
    "data_test = pd.read_csv('/datasets/gold_industry_test.csv')"
   ]
  },
  {
   "cell_type": "code",
   "execution_count": 7,
   "metadata": {},
   "outputs": [
    {
     "name": "stdout",
     "output_type": "stream",
     "text": [
      "<class 'pandas.core.frame.DataFrame'>\n",
      "RangeIndex: 4860 entries, 0 to 4859\n",
      "Data columns (total 53 columns):\n",
      " #   Column                                      Non-Null Count  Dtype  \n",
      "---  ------                                      --------------  -----  \n",
      " 0   date                                        4860 non-null   object \n",
      " 1   rougher.input.feed_au                       4860 non-null   float64\n",
      " 2   rougher.input.feed_ag                       4860 non-null   float64\n",
      " 3   rougher.input.feed_pb                       4832 non-null   float64\n",
      " 4   rougher.input.feed_sol                      4838 non-null   float64\n",
      " 5   rougher.input.feed_rate                     4856 non-null   float64\n",
      " 6   rougher.input.feed_size                     4816 non-null   float64\n",
      " 7   rougher.input.floatbank10_sulfate           4857 non-null   float64\n",
      " 8   rougher.input.floatbank10_xanthate          4859 non-null   float64\n",
      " 9   rougher.state.floatbank10_a_air             4859 non-null   float64\n",
      " 10  rougher.state.floatbank10_a_level           4859 non-null   float64\n",
      " 11  rougher.state.floatbank10_b_air             4859 non-null   float64\n",
      " 12  rougher.state.floatbank10_b_level           4859 non-null   float64\n",
      " 13  rougher.state.floatbank10_c_air             4859 non-null   float64\n",
      " 14  rougher.state.floatbank10_c_level           4859 non-null   float64\n",
      " 15  rougher.state.floatbank10_d_air             4860 non-null   float64\n",
      " 16  rougher.state.floatbank10_d_level           4860 non-null   float64\n",
      " 17  rougher.state.floatbank10_e_air             4853 non-null   float64\n",
      " 18  rougher.state.floatbank10_e_level           4860 non-null   float64\n",
      " 19  rougher.state.floatbank10_f_air             4860 non-null   float64\n",
      " 20  rougher.state.floatbank10_f_level           4860 non-null   float64\n",
      " 21  rougher.input.floatbank11_sulfate           4852 non-null   float64\n",
      " 22  rougher.input.floatbank11_xanthate          4814 non-null   float64\n",
      " 23  primary_cleaner.input.sulfate               4859 non-null   float64\n",
      " 24  primary_cleaner.input.depressant            4851 non-null   float64\n",
      " 25  primary_cleaner.input.feed_size             4860 non-null   float64\n",
      " 26  primary_cleaner.input.xanthate              4817 non-null   float64\n",
      " 27  primary_cleaner.state.floatbank8_a_air      4859 non-null   float64\n",
      " 28  primary_cleaner.state.floatbank8_a_level    4859 non-null   float64\n",
      " 29  primary_cleaner.state.floatbank8_b_air      4859 non-null   float64\n",
      " 30  primary_cleaner.state.floatbank8_b_level    4859 non-null   float64\n",
      " 31  primary_cleaner.state.floatbank8_c_air      4858 non-null   float64\n",
      " 32  primary_cleaner.state.floatbank8_c_level    4859 non-null   float64\n",
      " 33  primary_cleaner.state.floatbank8_d_air      4858 non-null   float64\n",
      " 34  primary_cleaner.state.floatbank8_d_level    4859 non-null   float64\n",
      " 35  secondary_cleaner.state.floatbank2_a_air    4734 non-null   float64\n",
      " 36  secondary_cleaner.state.floatbank2_a_level  4859 non-null   float64\n",
      " 37  secondary_cleaner.state.floatbank2_b_air    4859 non-null   float64\n",
      " 38  secondary_cleaner.state.floatbank2_b_level  4859 non-null   float64\n",
      " 39  secondary_cleaner.state.floatbank3_a_air    4859 non-null   float64\n",
      " 40  secondary_cleaner.state.floatbank3_a_level  4859 non-null   float64\n",
      " 41  secondary_cleaner.state.floatbank3_b_air    4859 non-null   float64\n",
      " 42  secondary_cleaner.state.floatbank3_b_level  4859 non-null   float64\n",
      " 43  secondary_cleaner.state.floatbank4_a_air    4859 non-null   float64\n",
      " 44  secondary_cleaner.state.floatbank4_a_level  4859 non-null   float64\n",
      " 45  secondary_cleaner.state.floatbank4_b_air    4859 non-null   float64\n",
      " 46  secondary_cleaner.state.floatbank4_b_level  4859 non-null   float64\n",
      " 47  secondary_cleaner.state.floatbank5_a_air    4859 non-null   float64\n",
      " 48  secondary_cleaner.state.floatbank5_a_level  4859 non-null   float64\n",
      " 49  secondary_cleaner.state.floatbank5_b_air    4859 non-null   float64\n",
      " 50  secondary_cleaner.state.floatbank5_b_level  4859 non-null   float64\n",
      " 51  secondary_cleaner.state.floatbank6_a_air    4859 non-null   float64\n",
      " 52  secondary_cleaner.state.floatbank6_a_level  4859 non-null   float64\n",
      "dtypes: float64(52), object(1)\n",
      "memory usage: 2.0+ MB\n"
     ]
    }
   ],
   "source": [
    "data_test.info()"
   ]
  },
  {
   "cell_type": "code",
   "execution_count": 8,
   "metadata": {},
   "outputs": [],
   "source": [
    "data_full = pd.read_csv('/datasets/gold_industry_full.csv')"
   ]
  },
  {
   "cell_type": "code",
   "execution_count": 9,
   "metadata": {},
   "outputs": [
    {
     "name": "stdout",
     "output_type": "stream",
     "text": [
      "<class 'pandas.core.frame.DataFrame'>\n",
      "RangeIndex: 19439 entries, 0 to 19438\n",
      "Data columns (total 87 columns):\n",
      " #   Column                                              Non-Null Count  Dtype  \n",
      "---  ------                                              --------------  -----  \n",
      " 0   date                                                19439 non-null  object \n",
      " 1   rougher.input.feed_au                               19439 non-null  float64\n",
      " 2   rougher.input.feed_ag                               19439 non-null  float64\n",
      " 3   rougher.input.feed_pb                               19339 non-null  float64\n",
      " 4   rougher.input.feed_sol                              19340 non-null  float64\n",
      " 5   rougher.input.feed_rate                             19428 non-null  float64\n",
      " 6   rougher.input.feed_size                             19294 non-null  float64\n",
      " 7   rougher.input.floatbank10_sulfate                   19405 non-null  float64\n",
      " 8   rougher.input.floatbank10_xanthate                  19431 non-null  float64\n",
      " 9   rougher.state.floatbank10_a_air                     19438 non-null  float64\n",
      " 10  rougher.state.floatbank10_a_level                   19438 non-null  float64\n",
      " 11  rougher.state.floatbank10_b_air                     19438 non-null  float64\n",
      " 12  rougher.state.floatbank10_b_level                   19438 non-null  float64\n",
      " 13  rougher.state.floatbank10_c_air                     19438 non-null  float64\n",
      " 14  rougher.state.floatbank10_c_level                   19438 non-null  float64\n",
      " 15  rougher.state.floatbank10_d_air                     19439 non-null  float64\n",
      " 16  rougher.state.floatbank10_d_level                   19439 non-null  float64\n",
      " 17  rougher.state.floatbank10_e_air                     19003 non-null  float64\n",
      " 18  rougher.state.floatbank10_e_level                   19439 non-null  float64\n",
      " 19  rougher.state.floatbank10_f_air                     19439 non-null  float64\n",
      " 20  rougher.state.floatbank10_f_level                   19439 non-null  float64\n",
      " 21  rougher.input.floatbank11_sulfate                   19395 non-null  float64\n",
      " 22  rougher.input.floatbank11_xanthate                  18986 non-null  float64\n",
      " 23  rougher.calculation.sulfate_to_au_concentrate       19437 non-null  float64\n",
      " 24  rougher.calculation.floatbank10_sulfate_to_au_feed  19437 non-null  float64\n",
      " 25  rougher.calculation.floatbank11_sulfate_to_au_feed  19437 non-null  float64\n",
      " 26  rougher.calculation.au_pb_ratio                     19439 non-null  float64\n",
      " 27  rougher.output.concentrate_au                       19439 non-null  float64\n",
      " 28  rougher.output.concentrate_ag                       19439 non-null  float64\n",
      " 29  rougher.output.concentrate_pb                       19439 non-null  float64\n",
      " 30  rougher.output.concentrate_sol                      19416 non-null  float64\n",
      " 31  rougher.output.recovery                             19439 non-null  float64\n",
      " 32  rougher.output.tail_au                              19439 non-null  float64\n",
      " 33  rougher.output.tail_ag                              19438 non-null  float64\n",
      " 34  rougher.output.tail_pb                              19439 non-null  float64\n",
      " 35  rougher.output.tail_sol                             19439 non-null  float64\n",
      " 36  primary_cleaner.input.sulfate                       19415 non-null  float64\n",
      " 37  primary_cleaner.input.depressant                    19402 non-null  float64\n",
      " 38  primary_cleaner.input.feed_size                     19439 non-null  float64\n",
      " 39  primary_cleaner.input.xanthate                      19335 non-null  float64\n",
      " 40  primary_cleaner.state.floatbank8_a_air              19435 non-null  float64\n",
      " 41  primary_cleaner.state.floatbank8_a_level            19438 non-null  float64\n",
      " 42  primary_cleaner.state.floatbank8_b_air              19435 non-null  float64\n",
      " 43  primary_cleaner.state.floatbank8_b_level            19438 non-null  float64\n",
      " 44  primary_cleaner.state.floatbank8_c_air              19437 non-null  float64\n",
      " 45  primary_cleaner.state.floatbank8_c_level            19438 non-null  float64\n",
      " 46  primary_cleaner.state.floatbank8_d_air              19436 non-null  float64\n",
      " 47  primary_cleaner.state.floatbank8_d_level            19438 non-null  float64\n",
      " 48  primary_cleaner.output.concentrate_au               19439 non-null  float64\n",
      " 49  primary_cleaner.output.concentrate_ag               19439 non-null  float64\n",
      " 50  primary_cleaner.output.concentrate_pb               19323 non-null  float64\n",
      " 51  primary_cleaner.output.concentrate_sol              19069 non-null  float64\n",
      " 52  primary_cleaner.output.tail_au                      19439 non-null  float64\n",
      " 53  primary_cleaner.output.tail_ag                      19435 non-null  float64\n",
      " 54  primary_cleaner.output.tail_pb                      19418 non-null  float64\n",
      " 55  primary_cleaner.output.tail_sol                     19377 non-null  float64\n",
      " 56  secondary_cleaner.state.floatbank2_a_air            19219 non-null  float64\n",
      " 57  secondary_cleaner.state.floatbank2_a_level          19438 non-null  float64\n",
      " 58  secondary_cleaner.state.floatbank2_b_air            19416 non-null  float64\n",
      " 59  secondary_cleaner.state.floatbank2_b_level          19438 non-null  float64\n",
      " 60  secondary_cleaner.state.floatbank3_a_air            19426 non-null  float64\n",
      " 61  secondary_cleaner.state.floatbank3_a_level          19438 non-null  float64\n",
      " 62  secondary_cleaner.state.floatbank3_b_air            19438 non-null  float64\n",
      " 63  secondary_cleaner.state.floatbank3_b_level          19438 non-null  float64\n",
      " 64  secondary_cleaner.state.floatbank4_a_air            19433 non-null  float64\n",
      " 65  secondary_cleaner.state.floatbank4_a_level          19438 non-null  float64\n",
      " 66  secondary_cleaner.state.floatbank4_b_air            19438 non-null  float64\n",
      " 67  secondary_cleaner.state.floatbank4_b_level          19438 non-null  float64\n",
      " 68  secondary_cleaner.state.floatbank5_a_air            19438 non-null  float64\n",
      " 69  secondary_cleaner.state.floatbank5_a_level          19438 non-null  float64\n",
      " 70  secondary_cleaner.state.floatbank5_b_air            19438 non-null  float64\n",
      " 71  secondary_cleaner.state.floatbank5_b_level          19438 non-null  float64\n",
      " 72  secondary_cleaner.state.floatbank6_a_air            19437 non-null  float64\n",
      " 73  secondary_cleaner.state.floatbank6_a_level          19438 non-null  float64\n",
      " 74  secondary_cleaner.output.tail_au                    19439 non-null  float64\n",
      " 75  secondary_cleaner.output.tail_ag                    19437 non-null  float64\n",
      " 76  secondary_cleaner.output.tail_pb                    19427 non-null  float64\n",
      " 77  secondary_cleaner.output.tail_sol                   17691 non-null  float64\n",
      " 78  final.output.concentrate_au                         19439 non-null  float64\n",
      " 79  final.output.concentrate_ag                         19438 non-null  float64\n",
      " 80  final.output.concentrate_pb                         19438 non-null  float64\n",
      " 81  final.output.concentrate_sol                        19228 non-null  float64\n",
      " 82  final.output.recovery                               19439 non-null  float64\n",
      " 83  final.output.tail_au                                19439 non-null  float64\n",
      " 84  final.output.tail_ag                                19438 non-null  float64\n",
      " 85  final.output.tail_pb                                19338 non-null  float64\n",
      " 86  final.output.tail_sol                               19433 non-null  float64\n",
      "dtypes: float64(86), object(1)\n",
      "memory usage: 12.9+ MB\n"
     ]
    }
   ],
   "source": [
    "data_full.info()"
   ]
  },
  {
   "cell_type": "markdown",
   "metadata": {},
   "source": [
    "Можно заметить, что данные имеют пропуски, также колонка `date` имеет тип данных object. Эти проблемы будут исправлены на этапе предобработки. "
   ]
  },
  {
   "cell_type": "markdown",
   "metadata": {},
   "source": [
    "### Расчет эффективности обогащения"
   ]
  },
  {
   "cell_type": "markdown",
   "metadata": {},
   "source": [
    "Напишем функцию для расчета эффективности обогащения и вычислим ее на обучающей выборке для признака `rougher.output.recovery`. "
   ]
  },
  {
   "cell_type": "code",
   "execution_count": 10,
   "metadata": {},
   "outputs": [],
   "source": [
    "def calculate_recovery(concentrate_au, feed_au, tail_au):\n",
    "    return (concentrate_au * (feed_au - tail_au)) * 100 / (feed_au * (concentrate_au - tail_au))"
   ]
  },
  {
   "cell_type": "code",
   "execution_count": 11,
   "metadata": {},
   "outputs": [],
   "source": [
    "data_train['rougher.output.recovery_calculated'] = data_train.apply(\n",
    "    lambda x : calculate_recovery(x['rougher.output.concentrate_au'], x['rougher.input.feed_au'], x['rougher.output.tail_au']), \n",
    "    axis=1)"
   ]
  },
  {
   "cell_type": "code",
   "execution_count": 12,
   "metadata": {},
   "outputs": [
    {
     "data": {
      "text/html": [
       "<div>\n",
       "<style scoped>\n",
       "    .dataframe tbody tr th:only-of-type {\n",
       "        vertical-align: middle;\n",
       "    }\n",
       "\n",
       "    .dataframe tbody tr th {\n",
       "        vertical-align: top;\n",
       "    }\n",
       "\n",
       "    .dataframe thead th {\n",
       "        text-align: right;\n",
       "    }\n",
       "</style>\n",
       "<table border=\"1\" class=\"dataframe\">\n",
       "  <thead>\n",
       "    <tr style=\"text-align: right;\">\n",
       "      <th></th>\n",
       "      <th>rougher.output.recovery</th>\n",
       "      <th>rougher.output.recovery_calculated</th>\n",
       "    </tr>\n",
       "  </thead>\n",
       "  <tbody>\n",
       "    <tr>\n",
       "      <th>1165</th>\n",
       "      <td>78.929399</td>\n",
       "      <td>78.929399</td>\n",
       "    </tr>\n",
       "    <tr>\n",
       "      <th>2742</th>\n",
       "      <td>78.280447</td>\n",
       "      <td>78.280447</td>\n",
       "    </tr>\n",
       "    <tr>\n",
       "      <th>11444</th>\n",
       "      <td>94.594986</td>\n",
       "      <td>94.594986</td>\n",
       "    </tr>\n",
       "    <tr>\n",
       "      <th>829</th>\n",
       "      <td>79.692226</td>\n",
       "      <td>79.692226</td>\n",
       "    </tr>\n",
       "    <tr>\n",
       "      <th>3255</th>\n",
       "      <td>84.071185</td>\n",
       "      <td>84.071185</td>\n",
       "    </tr>\n",
       "    <tr>\n",
       "      <th>3442</th>\n",
       "      <td>90.160553</td>\n",
       "      <td>90.160553</td>\n",
       "    </tr>\n",
       "    <tr>\n",
       "      <th>11098</th>\n",
       "      <td>93.389993</td>\n",
       "      <td>93.389993</td>\n",
       "    </tr>\n",
       "    <tr>\n",
       "      <th>1730</th>\n",
       "      <td>67.969221</td>\n",
       "      <td>67.969221</td>\n",
       "    </tr>\n",
       "    <tr>\n",
       "      <th>5700</th>\n",
       "      <td>84.823468</td>\n",
       "      <td>84.823468</td>\n",
       "    </tr>\n",
       "    <tr>\n",
       "      <th>20</th>\n",
       "      <td>87.561100</td>\n",
       "      <td>87.561100</td>\n",
       "    </tr>\n",
       "  </tbody>\n",
       "</table>\n",
       "</div>"
      ],
      "text/plain": [
       "       rougher.output.recovery  rougher.output.recovery_calculated\n",
       "1165                 78.929399                           78.929399\n",
       "2742                 78.280447                           78.280447\n",
       "11444                94.594986                           94.594986\n",
       "829                  79.692226                           79.692226\n",
       "3255                 84.071185                           84.071185\n",
       "3442                 90.160553                           90.160553\n",
       "11098                93.389993                           93.389993\n",
       "1730                 67.969221                           67.969221\n",
       "5700                 84.823468                           84.823468\n",
       "20                   87.561100                           87.561100"
      ]
     },
     "execution_count": 12,
     "metadata": {},
     "output_type": "execute_result"
    }
   ],
   "source": [
    "data_train[['rougher.output.recovery', 'rougher.output.recovery_calculated']].sample(10)"
   ]
  },
  {
   "cell_type": "code",
   "execution_count": 13,
   "metadata": {},
   "outputs": [
    {
     "name": "stdout",
     "output_type": "stream",
     "text": [
      "1.1181885454685472e-14\n"
     ]
    }
   ],
   "source": [
    "print(mean_absolute_error(data_train['rougher.output.recovery'], data_train['rougher.output.recovery_calculated']))"
   ]
  },
  {
   "cell_type": "markdown",
   "metadata": {},
   "source": [
    "Посчитав самостоятельно эффективность обогащения, мы получили MAE между заданым и рассчитанным значением ~$\\ 1.12 * 10^{-14} \\$, что является очень маленькой погрешностью. Можно сделать вывод, что в данных представлена корректно расчитанная эффективность обогащения. "
   ]
  },
  {
   "cell_type": "markdown",
   "metadata": {},
   "source": [
    "### Анализ признаков, пропущенных в тестовой выборке"
   ]
  },
  {
   "cell_type": "markdown",
   "metadata": {},
   "source": [
    "Проанализируем, какие признаки пропущены в наборе тестовых данных. "
   ]
  },
  {
   "cell_type": "code",
   "execution_count": 14,
   "metadata": {},
   "outputs": [
    {
     "data": {
      "text/plain": [
       "['rougher.calculation.sulfate_to_au_concentrate',\n",
       " 'rougher.calculation.floatbank10_sulfate_to_au_feed',\n",
       " 'rougher.calculation.floatbank11_sulfate_to_au_feed',\n",
       " 'rougher.calculation.au_pb_ratio',\n",
       " 'rougher.output.concentrate_au',\n",
       " 'rougher.output.concentrate_ag',\n",
       " 'rougher.output.concentrate_pb',\n",
       " 'rougher.output.concentrate_sol',\n",
       " 'rougher.output.recovery',\n",
       " 'rougher.output.tail_au',\n",
       " 'rougher.output.tail_ag',\n",
       " 'rougher.output.tail_pb',\n",
       " 'rougher.output.tail_sol',\n",
       " 'primary_cleaner.output.concentrate_au',\n",
       " 'primary_cleaner.output.concentrate_ag',\n",
       " 'primary_cleaner.output.concentrate_pb',\n",
       " 'primary_cleaner.output.concentrate_sol',\n",
       " 'primary_cleaner.output.tail_au',\n",
       " 'primary_cleaner.output.tail_ag',\n",
       " 'primary_cleaner.output.tail_pb',\n",
       " 'primary_cleaner.output.tail_sol',\n",
       " 'secondary_cleaner.output.tail_au',\n",
       " 'secondary_cleaner.output.tail_ag',\n",
       " 'secondary_cleaner.output.tail_pb',\n",
       " 'secondary_cleaner.output.tail_sol',\n",
       " 'final.output.concentrate_au',\n",
       " 'final.output.concentrate_ag',\n",
       " 'final.output.concentrate_pb',\n",
       " 'final.output.concentrate_sol',\n",
       " 'final.output.recovery',\n",
       " 'final.output.tail_au',\n",
       " 'final.output.tail_ag',\n",
       " 'final.output.tail_pb',\n",
       " 'final.output.tail_sol']"
      ]
     },
     "execution_count": 14,
     "metadata": {},
     "output_type": "execute_result"
    }
   ],
   "source": [
    "test_sample_missing_columns = [j for j in data_full.columns if j not in data_test.columns]\n",
    "test_sample_missing_columns"
   ]
  },
  {
   "cell_type": "code",
   "execution_count": 15,
   "metadata": {
    "scrolled": true
   },
   "outputs": [
    {
     "data": {
      "text/plain": [
       "34"
      ]
     },
     "execution_count": 15,
     "metadata": {},
     "output_type": "execute_result"
    }
   ],
   "source": [
    "len(test_sample_missing_columns)"
   ]
  },
  {
   "cell_type": "code",
   "execution_count": 16,
   "metadata": {},
   "outputs": [
    {
     "data": {
      "text/plain": [
       "['rougher.calculation.sulfate_to_au_concentrate',\n",
       " 'rougher.calculation.floatbank10_sulfate_to_au_feed',\n",
       " 'rougher.calculation.floatbank11_sulfate_to_au_feed',\n",
       " 'rougher.calculation.au_pb_ratio',\n",
       " 'rougher.output.concentrate_au',\n",
       " 'rougher.output.concentrate_ag',\n",
       " 'rougher.output.concentrate_pb',\n",
       " 'rougher.output.concentrate_sol',\n",
       " 'rougher.output.recovery',\n",
       " 'rougher.output.tail_au',\n",
       " 'rougher.output.tail_ag',\n",
       " 'rougher.output.tail_pb',\n",
       " 'rougher.output.tail_sol',\n",
       " 'primary_cleaner.output.concentrate_au',\n",
       " 'primary_cleaner.output.concentrate_ag',\n",
       " 'primary_cleaner.output.concentrate_pb',\n",
       " 'primary_cleaner.output.concentrate_sol',\n",
       " 'primary_cleaner.output.tail_au',\n",
       " 'primary_cleaner.output.tail_ag',\n",
       " 'primary_cleaner.output.tail_pb',\n",
       " 'primary_cleaner.output.tail_sol',\n",
       " 'secondary_cleaner.output.tail_au',\n",
       " 'secondary_cleaner.output.tail_ag',\n",
       " 'secondary_cleaner.output.tail_pb',\n",
       " 'secondary_cleaner.output.tail_sol',\n",
       " 'final.output.concentrate_au',\n",
       " 'final.output.concentrate_ag',\n",
       " 'final.output.concentrate_pb',\n",
       " 'final.output.concentrate_sol',\n",
       " 'final.output.recovery',\n",
       " 'final.output.tail_au',\n",
       " 'final.output.tail_ag',\n",
       " 'final.output.tail_pb',\n",
       " 'final.output.tail_sol']"
      ]
     },
     "execution_count": 16,
     "metadata": {},
     "output_type": "execute_result"
    }
   ],
   "source": [
    "output_calculation_columns = [j for j in data_full.columns if any([x in j for x in ['output', 'calculation']])]\n",
    "output_calculation_columns"
   ]
  },
  {
   "cell_type": "code",
   "execution_count": 17,
   "metadata": {},
   "outputs": [
    {
     "data": {
      "text/plain": [
       "34"
      ]
     },
     "execution_count": 17,
     "metadata": {},
     "output_type": "execute_result"
    }
   ],
   "source": [
    "len(output_calculation_columns)"
   ]
  },
  {
   "cell_type": "code",
   "execution_count": 18,
   "metadata": {},
   "outputs": [
    {
     "data": {
      "text/plain": [
       "True"
      ]
     },
     "execution_count": 18,
     "metadata": {},
     "output_type": "execute_result"
    }
   ],
   "source": [
    "sorted(test_sample_missing_columns) == sorted(output_calculation_columns)"
   ]
  },
  {
   "cell_type": "markdown",
   "metadata": {},
   "source": [
    "В тестовой выборке отсутствуют все данные исходного датасета, относящиеся к типам `calculation` и `output`, то есть расчетные характеристики и параметры продукта, полученные после каждого этапа.  \n",
    "Это, вероятно, связано с тем, что значения этих признаков замеряются или рассчитваются позже, требуют лабораторного анализа и тд. и не могут быть получены в реальном времени. Это также означает, что эти параметры не будут доступны ни на этапе тестирования модели, ни для real-time прогнозирования. "
   ]
  },
  {
   "cell_type": "markdown",
   "metadata": {},
   "source": [
    "### Предобработка данных "
   ]
  },
  {
   "cell_type": "markdown",
   "metadata": {},
   "source": [
    "Для дальнейшей работы с обучающей и тестовой выборкой добавим в тестовую выборку данные о целевых признаках, также оставим в обучающей выборке только колонки, которые будут доступны в реальном времени и на этапе тестирования. "
   ]
  },
  {
   "cell_type": "markdown",
   "metadata": {},
   "source": [
    "В описании проекта сказано, что данные проиндексированы по колонке `date`. Приведем ее к типу `datetime`, проверим, что значения в этой колонке уникальны. "
   ]
  },
  {
   "cell_type": "code",
   "execution_count": 19,
   "metadata": {},
   "outputs": [
    {
     "data": {
      "text/plain": [
       "17647    2018-05-21 05:59:59\n",
       "Name: date, dtype: object"
      ]
     },
     "execution_count": 19,
     "metadata": {},
     "output_type": "execute_result"
    }
   ],
   "source": [
    "data_full['date'].sample(1)"
   ]
  },
  {
   "cell_type": "code",
   "execution_count": 20,
   "metadata": {},
   "outputs": [],
   "source": [
    "data_full['date'] = pd.to_datetime(data_full['date'], format='%Y-%m-%d %H:%M:%S')\n",
    "data_train['date'] = pd.to_datetime(data_train['date'], format='%Y-%m-%d %H:%M:%S')\n",
    "data_test['date'] = pd.to_datetime(data_test['date'], format='%Y-%m-%d %H:%M:%S')"
   ]
  },
  {
   "cell_type": "code",
   "execution_count": 21,
   "metadata": {},
   "outputs": [
    {
     "name": "stdout",
     "output_type": "stream",
     "text": [
      "True\n",
      "True\n",
      "True\n"
     ]
    }
   ],
   "source": [
    "for df in [data_full, data_train, data_test]:\n",
    "    print(df.shape[0] == df['date'].nunique())"
   ]
  },
  {
   "cell_type": "markdown",
   "metadata": {},
   "source": [
    "Установим колонку `date` в качестве индекса в датафреймах. "
   ]
  },
  {
   "cell_type": "code",
   "execution_count": 22,
   "metadata": {},
   "outputs": [],
   "source": [
    "data_full.set_index('date', inplace=True)\n",
    "data_train.set_index('date', inplace=True)\n",
    "data_test.set_index('date', inplace=True)"
   ]
  },
  {
   "cell_type": "markdown",
   "metadata": {},
   "source": [
    "Добавим в датафрейм с тестовой выборкой целевые признаки. "
   ]
  },
  {
   "cell_type": "code",
   "execution_count": 23,
   "metadata": {},
   "outputs": [
    {
     "data": {
      "text/html": [
       "<div>\n",
       "<style scoped>\n",
       "    .dataframe tbody tr th:only-of-type {\n",
       "        vertical-align: middle;\n",
       "    }\n",
       "\n",
       "    .dataframe tbody tr th {\n",
       "        vertical-align: top;\n",
       "    }\n",
       "\n",
       "    .dataframe thead th {\n",
       "        text-align: right;\n",
       "    }\n",
       "</style>\n",
       "<table border=\"1\" class=\"dataframe\">\n",
       "  <thead>\n",
       "    <tr style=\"text-align: right;\">\n",
       "      <th></th>\n",
       "      <th>rougher.input.feed_au</th>\n",
       "      <th>rougher.input.feed_ag</th>\n",
       "      <th>rougher.input.feed_pb</th>\n",
       "      <th>rougher.input.feed_sol</th>\n",
       "      <th>rougher.input.feed_rate</th>\n",
       "      <th>rougher.input.feed_size</th>\n",
       "      <th>rougher.input.floatbank10_sulfate</th>\n",
       "      <th>rougher.input.floatbank10_xanthate</th>\n",
       "      <th>rougher.state.floatbank10_a_air</th>\n",
       "      <th>rougher.state.floatbank10_a_level</th>\n",
       "      <th>rougher.state.floatbank10_b_air</th>\n",
       "      <th>rougher.state.floatbank10_b_level</th>\n",
       "      <th>rougher.state.floatbank10_c_air</th>\n",
       "      <th>rougher.state.floatbank10_c_level</th>\n",
       "      <th>rougher.state.floatbank10_d_air</th>\n",
       "      <th>rougher.state.floatbank10_d_level</th>\n",
       "      <th>rougher.state.floatbank10_e_air</th>\n",
       "      <th>rougher.state.floatbank10_e_level</th>\n",
       "      <th>rougher.state.floatbank10_f_air</th>\n",
       "      <th>rougher.state.floatbank10_f_level</th>\n",
       "      <th>rougher.input.floatbank11_sulfate</th>\n",
       "      <th>rougher.input.floatbank11_xanthate</th>\n",
       "      <th>primary_cleaner.input.sulfate</th>\n",
       "      <th>primary_cleaner.input.depressant</th>\n",
       "      <th>primary_cleaner.input.feed_size</th>\n",
       "      <th>primary_cleaner.input.xanthate</th>\n",
       "      <th>primary_cleaner.state.floatbank8_a_air</th>\n",
       "      <th>primary_cleaner.state.floatbank8_a_level</th>\n",
       "      <th>primary_cleaner.state.floatbank8_b_air</th>\n",
       "      <th>primary_cleaner.state.floatbank8_b_level</th>\n",
       "      <th>primary_cleaner.state.floatbank8_c_air</th>\n",
       "      <th>primary_cleaner.state.floatbank8_c_level</th>\n",
       "      <th>primary_cleaner.state.floatbank8_d_air</th>\n",
       "      <th>primary_cleaner.state.floatbank8_d_level</th>\n",
       "      <th>secondary_cleaner.state.floatbank2_a_air</th>\n",
       "      <th>secondary_cleaner.state.floatbank2_a_level</th>\n",
       "      <th>secondary_cleaner.state.floatbank2_b_air</th>\n",
       "      <th>secondary_cleaner.state.floatbank2_b_level</th>\n",
       "      <th>secondary_cleaner.state.floatbank3_a_air</th>\n",
       "      <th>secondary_cleaner.state.floatbank3_a_level</th>\n",
       "      <th>secondary_cleaner.state.floatbank3_b_air</th>\n",
       "      <th>secondary_cleaner.state.floatbank3_b_level</th>\n",
       "      <th>secondary_cleaner.state.floatbank4_a_air</th>\n",
       "      <th>secondary_cleaner.state.floatbank4_a_level</th>\n",
       "      <th>secondary_cleaner.state.floatbank4_b_air</th>\n",
       "      <th>secondary_cleaner.state.floatbank4_b_level</th>\n",
       "      <th>secondary_cleaner.state.floatbank5_a_air</th>\n",
       "      <th>secondary_cleaner.state.floatbank5_a_level</th>\n",
       "      <th>secondary_cleaner.state.floatbank5_b_air</th>\n",
       "      <th>secondary_cleaner.state.floatbank5_b_level</th>\n",
       "      <th>secondary_cleaner.state.floatbank6_a_air</th>\n",
       "      <th>secondary_cleaner.state.floatbank6_a_level</th>\n",
       "      <th>rougher.output.recovery</th>\n",
       "      <th>final.output.recovery</th>\n",
       "    </tr>\n",
       "    <tr>\n",
       "      <th>date</th>\n",
       "      <th></th>\n",
       "      <th></th>\n",
       "      <th></th>\n",
       "      <th></th>\n",
       "      <th></th>\n",
       "      <th></th>\n",
       "      <th></th>\n",
       "      <th></th>\n",
       "      <th></th>\n",
       "      <th></th>\n",
       "      <th></th>\n",
       "      <th></th>\n",
       "      <th></th>\n",
       "      <th></th>\n",
       "      <th></th>\n",
       "      <th></th>\n",
       "      <th></th>\n",
       "      <th></th>\n",
       "      <th></th>\n",
       "      <th></th>\n",
       "      <th></th>\n",
       "      <th></th>\n",
       "      <th></th>\n",
       "      <th></th>\n",
       "      <th></th>\n",
       "      <th></th>\n",
       "      <th></th>\n",
       "      <th></th>\n",
       "      <th></th>\n",
       "      <th></th>\n",
       "      <th></th>\n",
       "      <th></th>\n",
       "      <th></th>\n",
       "      <th></th>\n",
       "      <th></th>\n",
       "      <th></th>\n",
       "      <th></th>\n",
       "      <th></th>\n",
       "      <th></th>\n",
       "      <th></th>\n",
       "      <th></th>\n",
       "      <th></th>\n",
       "      <th></th>\n",
       "      <th></th>\n",
       "      <th></th>\n",
       "      <th></th>\n",
       "      <th></th>\n",
       "      <th></th>\n",
       "      <th></th>\n",
       "      <th></th>\n",
       "      <th></th>\n",
       "      <th></th>\n",
       "      <th></th>\n",
       "      <th></th>\n",
       "    </tr>\n",
       "  </thead>\n",
       "  <tbody>\n",
       "    <tr>\n",
       "      <th>2017-12-09 14:59:59</th>\n",
       "      <td>4.365491</td>\n",
       "      <td>6.158718</td>\n",
       "      <td>3.875727</td>\n",
       "      <td>39.135119</td>\n",
       "      <td>555.820208</td>\n",
       "      <td>94.544358</td>\n",
       "      <td>6.146982</td>\n",
       "      <td>9.308612</td>\n",
       "      <td>1196.238112</td>\n",
       "      <td>-299.862743</td>\n",
       "      <td>1147.248241</td>\n",
       "      <td>-500.363165</td>\n",
       "      <td>1047.279065</td>\n",
       "      <td>-500.354091</td>\n",
       "      <td>948.756608</td>\n",
       "      <td>-498.439416</td>\n",
       "      <td>849.441918</td>\n",
       "      <td>-499.255503</td>\n",
       "      <td>850.112246</td>\n",
       "      <td>-499.407112</td>\n",
       "      <td>6.168939</td>\n",
       "      <td>9.309852</td>\n",
       "      <td>95.248427</td>\n",
       "      <td>8.078957</td>\n",
       "      <td>6.500000</td>\n",
       "      <td>1.283045</td>\n",
       "      <td>1648.759906</td>\n",
       "      <td>-399.862053</td>\n",
       "      <td>1650.135395</td>\n",
       "      <td>-399.957321</td>\n",
       "      <td>1648.831890</td>\n",
       "      <td>-400.586116</td>\n",
       "      <td>1649.464582</td>\n",
       "      <td>-400.673303</td>\n",
       "      <td>34.940919</td>\n",
       "      <td>-500.150510</td>\n",
       "      <td>30.031867</td>\n",
       "      <td>-500.328335</td>\n",
       "      <td>26.033990</td>\n",
       "      <td>-500.147792</td>\n",
       "      <td>22.952306</td>\n",
       "      <td>-500.037678</td>\n",
       "      <td>23.018622</td>\n",
       "      <td>-500.492702</td>\n",
       "      <td>20.020205</td>\n",
       "      <td>-500.220296</td>\n",
       "      <td>17.963512</td>\n",
       "      <td>-499.939490</td>\n",
       "      <td>12.990306</td>\n",
       "      <td>-500.080993</td>\n",
       "      <td>19.990336</td>\n",
       "      <td>-499.191575</td>\n",
       "      <td>89.514960</td>\n",
       "      <td>70.281454</td>\n",
       "    </tr>\n",
       "    <tr>\n",
       "      <th>2017-12-09 15:59:59</th>\n",
       "      <td>4.362781</td>\n",
       "      <td>6.048130</td>\n",
       "      <td>3.902537</td>\n",
       "      <td>39.713906</td>\n",
       "      <td>544.731687</td>\n",
       "      <td>123.742430</td>\n",
       "      <td>6.210119</td>\n",
       "      <td>9.297709</td>\n",
       "      <td>1201.904177</td>\n",
       "      <td>-299.907308</td>\n",
       "      <td>1154.087804</td>\n",
       "      <td>-500.036580</td>\n",
       "      <td>1054.009756</td>\n",
       "      <td>-500.237335</td>\n",
       "      <td>944.138793</td>\n",
       "      <td>-496.866953</td>\n",
       "      <td>851.589767</td>\n",
       "      <td>-499.040466</td>\n",
       "      <td>851.345606</td>\n",
       "      <td>-499.122561</td>\n",
       "      <td>6.209517</td>\n",
       "      <td>9.297194</td>\n",
       "      <td>98.880538</td>\n",
       "      <td>7.984164</td>\n",
       "      <td>6.500000</td>\n",
       "      <td>1.241969</td>\n",
       "      <td>1646.547763</td>\n",
       "      <td>-398.977083</td>\n",
       "      <td>1648.212240</td>\n",
       "      <td>-400.383265</td>\n",
       "      <td>1648.917387</td>\n",
       "      <td>-399.521344</td>\n",
       "      <td>1651.498591</td>\n",
       "      <td>-399.745329</td>\n",
       "      <td>34.980742</td>\n",
       "      <td>-498.131002</td>\n",
       "      <td>29.968453</td>\n",
       "      <td>-586.013330</td>\n",
       "      <td>25.971737</td>\n",
       "      <td>-499.608392</td>\n",
       "      <td>22.958448</td>\n",
       "      <td>-499.821308</td>\n",
       "      <td>23.024963</td>\n",
       "      <td>-501.153409</td>\n",
       "      <td>20.054122</td>\n",
       "      <td>-500.314711</td>\n",
       "      <td>17.979515</td>\n",
       "      <td>-499.272871</td>\n",
       "      <td>12.992404</td>\n",
       "      <td>-499.976268</td>\n",
       "      <td>20.013986</td>\n",
       "      <td>-500.625471</td>\n",
       "      <td>89.858126</td>\n",
       "      <td>65.523246</td>\n",
       "    </tr>\n",
       "    <tr>\n",
       "      <th>2017-12-09 16:59:59</th>\n",
       "      <td>5.081681</td>\n",
       "      <td>6.082745</td>\n",
       "      <td>4.564078</td>\n",
       "      <td>37.208683</td>\n",
       "      <td>558.155110</td>\n",
       "      <td>82.610855</td>\n",
       "      <td>7.363824</td>\n",
       "      <td>9.003562</td>\n",
       "      <td>1200.826926</td>\n",
       "      <td>-300.124116</td>\n",
       "      <td>1150.754676</td>\n",
       "      <td>-499.986009</td>\n",
       "      <td>1049.182824</td>\n",
       "      <td>-500.014696</td>\n",
       "      <td>948.085464</td>\n",
       "      <td>-499.997003</td>\n",
       "      <td>850.170086</td>\n",
       "      <td>-500.270334</td>\n",
       "      <td>849.557905</td>\n",
       "      <td>-500.198702</td>\n",
       "      <td>7.358308</td>\n",
       "      <td>9.000624</td>\n",
       "      <td>119.497545</td>\n",
       "      <td>8.003752</td>\n",
       "      <td>6.500000</td>\n",
       "      <td>1.259741</td>\n",
       "      <td>1647.368779</td>\n",
       "      <td>-399.788506</td>\n",
       "      <td>1648.395206</td>\n",
       "      <td>-400.166490</td>\n",
       "      <td>1648.953828</td>\n",
       "      <td>-400.468641</td>\n",
       "      <td>1649.821569</td>\n",
       "      <td>-400.071884</td>\n",
       "      <td>34.952967</td>\n",
       "      <td>-501.204647</td>\n",
       "      <td>29.927025</td>\n",
       "      <td>-500.106628</td>\n",
       "      <td>25.978253</td>\n",
       "      <td>-499.890060</td>\n",
       "      <td>23.004376</td>\n",
       "      <td>-500.014529</td>\n",
       "      <td>22.993827</td>\n",
       "      <td>-501.559663</td>\n",
       "      <td>20.029144</td>\n",
       "      <td>-500.000662</td>\n",
       "      <td>18.012723</td>\n",
       "      <td>-500.024764</td>\n",
       "      <td>13.016445</td>\n",
       "      <td>-500.058432</td>\n",
       "      <td>19.973767</td>\n",
       "      <td>-501.394155</td>\n",
       "      <td>91.816623</td>\n",
       "      <td>74.817644</td>\n",
       "    </tr>\n",
       "    <tr>\n",
       "      <th>2017-12-09 17:59:59</th>\n",
       "      <td>5.145949</td>\n",
       "      <td>6.084374</td>\n",
       "      <td>4.768124</td>\n",
       "      <td>36.808874</td>\n",
       "      <td>539.713765</td>\n",
       "      <td>77.984784</td>\n",
       "      <td>6.927072</td>\n",
       "      <td>8.955597</td>\n",
       "      <td>1199.292489</td>\n",
       "      <td>-299.778385</td>\n",
       "      <td>1152.512559</td>\n",
       "      <td>-500.338106</td>\n",
       "      <td>1052.601592</td>\n",
       "      <td>-499.695075</td>\n",
       "      <td>955.171539</td>\n",
       "      <td>-500.294989</td>\n",
       "      <td>851.957342</td>\n",
       "      <td>-499.779541</td>\n",
       "      <td>850.765662</td>\n",
       "      <td>-501.030559</td>\n",
       "      <td>6.929364</td>\n",
       "      <td>8.920717</td>\n",
       "      <td>108.080163</td>\n",
       "      <td>7.970121</td>\n",
       "      <td>6.660000</td>\n",
       "      <td>0.774909</td>\n",
       "      <td>1652.660845</td>\n",
       "      <td>-399.702218</td>\n",
       "      <td>1651.203128</td>\n",
       "      <td>-400.291472</td>\n",
       "      <td>1651.924848</td>\n",
       "      <td>-398.058033</td>\n",
       "      <td>1650.782696</td>\n",
       "      <td>-399.597977</td>\n",
       "      <td>35.038256</td>\n",
       "      <td>-500.102649</td>\n",
       "      <td>30.066959</td>\n",
       "      <td>-500.211499</td>\n",
       "      <td>26.013515</td>\n",
       "      <td>-500.054597</td>\n",
       "      <td>22.988928</td>\n",
       "      <td>-499.981410</td>\n",
       "      <td>23.032807</td>\n",
       "      <td>-501.287889</td>\n",
       "      <td>19.977466</td>\n",
       "      <td>-500.159903</td>\n",
       "      <td>17.980463</td>\n",
       "      <td>-500.504602</td>\n",
       "      <td>12.949071</td>\n",
       "      <td>-500.009937</td>\n",
       "      <td>20.010332</td>\n",
       "      <td>-508.337973</td>\n",
       "      <td>88.478959</td>\n",
       "      <td>63.082720</td>\n",
       "    </tr>\n",
       "    <tr>\n",
       "      <th>2017-12-09 18:59:59</th>\n",
       "      <td>5.735249</td>\n",
       "      <td>6.165220</td>\n",
       "      <td>4.512346</td>\n",
       "      <td>37.810642</td>\n",
       "      <td>558.713584</td>\n",
       "      <td>86.434874</td>\n",
       "      <td>7.823471</td>\n",
       "      <td>7.490356</td>\n",
       "      <td>1198.005449</td>\n",
       "      <td>-300.283401</td>\n",
       "      <td>1099.481500</td>\n",
       "      <td>-499.702465</td>\n",
       "      <td>999.539264</td>\n",
       "      <td>-499.306051</td>\n",
       "      <td>889.445596</td>\n",
       "      <td>-498.118617</td>\n",
       "      <td>800.533525</td>\n",
       "      <td>-499.765068</td>\n",
       "      <td>800.510356</td>\n",
       "      <td>-497.289533</td>\n",
       "      <td>7.824875</td>\n",
       "      <td>7.500678</td>\n",
       "      <td>117.750648</td>\n",
       "      <td>6.954311</td>\n",
       "      <td>6.426667</td>\n",
       "      <td>0.731271</td>\n",
       "      <td>1649.411497</td>\n",
       "      <td>-399.853156</td>\n",
       "      <td>1648.917211</td>\n",
       "      <td>-400.321866</td>\n",
       "      <td>1649.117753</td>\n",
       "      <td>-399.645348</td>\n",
       "      <td>1650.398209</td>\n",
       "      <td>-400.654533</td>\n",
       "      <td>34.894598</td>\n",
       "      <td>-498.444587</td>\n",
       "      <td>30.020745</td>\n",
       "      <td>-533.831343</td>\n",
       "      <td>26.022094</td>\n",
       "      <td>-499.725484</td>\n",
       "      <td>22.992992</td>\n",
       "      <td>-499.891405</td>\n",
       "      <td>23.001911</td>\n",
       "      <td>-499.947838</td>\n",
       "      <td>20.023735</td>\n",
       "      <td>-499.713680</td>\n",
       "      <td>17.990955</td>\n",
       "      <td>-500.334769</td>\n",
       "      <td>13.007523</td>\n",
       "      <td>-499.968459</td>\n",
       "      <td>19.995999</td>\n",
       "      <td>-499.788805</td>\n",
       "      <td>89.230316</td>\n",
       "      <td>74.463380</td>\n",
       "    </tr>\n",
       "  </tbody>\n",
       "</table>\n",
       "</div>"
      ],
      "text/plain": [
       "                     rougher.input.feed_au  rougher.input.feed_ag  \\\n",
       "date                                                                \n",
       "2017-12-09 14:59:59               4.365491               6.158718   \n",
       "2017-12-09 15:59:59               4.362781               6.048130   \n",
       "2017-12-09 16:59:59               5.081681               6.082745   \n",
       "2017-12-09 17:59:59               5.145949               6.084374   \n",
       "2017-12-09 18:59:59               5.735249               6.165220   \n",
       "\n",
       "                     rougher.input.feed_pb  rougher.input.feed_sol  \\\n",
       "date                                                                 \n",
       "2017-12-09 14:59:59               3.875727               39.135119   \n",
       "2017-12-09 15:59:59               3.902537               39.713906   \n",
       "2017-12-09 16:59:59               4.564078               37.208683   \n",
       "2017-12-09 17:59:59               4.768124               36.808874   \n",
       "2017-12-09 18:59:59               4.512346               37.810642   \n",
       "\n",
       "                     rougher.input.feed_rate  rougher.input.feed_size  \\\n",
       "date                                                                    \n",
       "2017-12-09 14:59:59               555.820208                94.544358   \n",
       "2017-12-09 15:59:59               544.731687               123.742430   \n",
       "2017-12-09 16:59:59               558.155110                82.610855   \n",
       "2017-12-09 17:59:59               539.713765                77.984784   \n",
       "2017-12-09 18:59:59               558.713584                86.434874   \n",
       "\n",
       "                     rougher.input.floatbank10_sulfate  \\\n",
       "date                                                     \n",
       "2017-12-09 14:59:59                           6.146982   \n",
       "2017-12-09 15:59:59                           6.210119   \n",
       "2017-12-09 16:59:59                           7.363824   \n",
       "2017-12-09 17:59:59                           6.927072   \n",
       "2017-12-09 18:59:59                           7.823471   \n",
       "\n",
       "                     rougher.input.floatbank10_xanthate  \\\n",
       "date                                                      \n",
       "2017-12-09 14:59:59                            9.308612   \n",
       "2017-12-09 15:59:59                            9.297709   \n",
       "2017-12-09 16:59:59                            9.003562   \n",
       "2017-12-09 17:59:59                            8.955597   \n",
       "2017-12-09 18:59:59                            7.490356   \n",
       "\n",
       "                     rougher.state.floatbank10_a_air  \\\n",
       "date                                                   \n",
       "2017-12-09 14:59:59                      1196.238112   \n",
       "2017-12-09 15:59:59                      1201.904177   \n",
       "2017-12-09 16:59:59                      1200.826926   \n",
       "2017-12-09 17:59:59                      1199.292489   \n",
       "2017-12-09 18:59:59                      1198.005449   \n",
       "\n",
       "                     rougher.state.floatbank10_a_level  \\\n",
       "date                                                     \n",
       "2017-12-09 14:59:59                        -299.862743   \n",
       "2017-12-09 15:59:59                        -299.907308   \n",
       "2017-12-09 16:59:59                        -300.124116   \n",
       "2017-12-09 17:59:59                        -299.778385   \n",
       "2017-12-09 18:59:59                        -300.283401   \n",
       "\n",
       "                     rougher.state.floatbank10_b_air  \\\n",
       "date                                                   \n",
       "2017-12-09 14:59:59                      1147.248241   \n",
       "2017-12-09 15:59:59                      1154.087804   \n",
       "2017-12-09 16:59:59                      1150.754676   \n",
       "2017-12-09 17:59:59                      1152.512559   \n",
       "2017-12-09 18:59:59                      1099.481500   \n",
       "\n",
       "                     rougher.state.floatbank10_b_level  \\\n",
       "date                                                     \n",
       "2017-12-09 14:59:59                        -500.363165   \n",
       "2017-12-09 15:59:59                        -500.036580   \n",
       "2017-12-09 16:59:59                        -499.986009   \n",
       "2017-12-09 17:59:59                        -500.338106   \n",
       "2017-12-09 18:59:59                        -499.702465   \n",
       "\n",
       "                     rougher.state.floatbank10_c_air  \\\n",
       "date                                                   \n",
       "2017-12-09 14:59:59                      1047.279065   \n",
       "2017-12-09 15:59:59                      1054.009756   \n",
       "2017-12-09 16:59:59                      1049.182824   \n",
       "2017-12-09 17:59:59                      1052.601592   \n",
       "2017-12-09 18:59:59                       999.539264   \n",
       "\n",
       "                     rougher.state.floatbank10_c_level  \\\n",
       "date                                                     \n",
       "2017-12-09 14:59:59                        -500.354091   \n",
       "2017-12-09 15:59:59                        -500.237335   \n",
       "2017-12-09 16:59:59                        -500.014696   \n",
       "2017-12-09 17:59:59                        -499.695075   \n",
       "2017-12-09 18:59:59                        -499.306051   \n",
       "\n",
       "                     rougher.state.floatbank10_d_air  \\\n",
       "date                                                   \n",
       "2017-12-09 14:59:59                       948.756608   \n",
       "2017-12-09 15:59:59                       944.138793   \n",
       "2017-12-09 16:59:59                       948.085464   \n",
       "2017-12-09 17:59:59                       955.171539   \n",
       "2017-12-09 18:59:59                       889.445596   \n",
       "\n",
       "                     rougher.state.floatbank10_d_level  \\\n",
       "date                                                     \n",
       "2017-12-09 14:59:59                        -498.439416   \n",
       "2017-12-09 15:59:59                        -496.866953   \n",
       "2017-12-09 16:59:59                        -499.997003   \n",
       "2017-12-09 17:59:59                        -500.294989   \n",
       "2017-12-09 18:59:59                        -498.118617   \n",
       "\n",
       "                     rougher.state.floatbank10_e_air  \\\n",
       "date                                                   \n",
       "2017-12-09 14:59:59                       849.441918   \n",
       "2017-12-09 15:59:59                       851.589767   \n",
       "2017-12-09 16:59:59                       850.170086   \n",
       "2017-12-09 17:59:59                       851.957342   \n",
       "2017-12-09 18:59:59                       800.533525   \n",
       "\n",
       "                     rougher.state.floatbank10_e_level  \\\n",
       "date                                                     \n",
       "2017-12-09 14:59:59                        -499.255503   \n",
       "2017-12-09 15:59:59                        -499.040466   \n",
       "2017-12-09 16:59:59                        -500.270334   \n",
       "2017-12-09 17:59:59                        -499.779541   \n",
       "2017-12-09 18:59:59                        -499.765068   \n",
       "\n",
       "                     rougher.state.floatbank10_f_air  \\\n",
       "date                                                   \n",
       "2017-12-09 14:59:59                       850.112246   \n",
       "2017-12-09 15:59:59                       851.345606   \n",
       "2017-12-09 16:59:59                       849.557905   \n",
       "2017-12-09 17:59:59                       850.765662   \n",
       "2017-12-09 18:59:59                       800.510356   \n",
       "\n",
       "                     rougher.state.floatbank10_f_level  \\\n",
       "date                                                     \n",
       "2017-12-09 14:59:59                        -499.407112   \n",
       "2017-12-09 15:59:59                        -499.122561   \n",
       "2017-12-09 16:59:59                        -500.198702   \n",
       "2017-12-09 17:59:59                        -501.030559   \n",
       "2017-12-09 18:59:59                        -497.289533   \n",
       "\n",
       "                     rougher.input.floatbank11_sulfate  \\\n",
       "date                                                     \n",
       "2017-12-09 14:59:59                           6.168939   \n",
       "2017-12-09 15:59:59                           6.209517   \n",
       "2017-12-09 16:59:59                           7.358308   \n",
       "2017-12-09 17:59:59                           6.929364   \n",
       "2017-12-09 18:59:59                           7.824875   \n",
       "\n",
       "                     rougher.input.floatbank11_xanthate  \\\n",
       "date                                                      \n",
       "2017-12-09 14:59:59                            9.309852   \n",
       "2017-12-09 15:59:59                            9.297194   \n",
       "2017-12-09 16:59:59                            9.000624   \n",
       "2017-12-09 17:59:59                            8.920717   \n",
       "2017-12-09 18:59:59                            7.500678   \n",
       "\n",
       "                     primary_cleaner.input.sulfate  \\\n",
       "date                                                 \n",
       "2017-12-09 14:59:59                      95.248427   \n",
       "2017-12-09 15:59:59                      98.880538   \n",
       "2017-12-09 16:59:59                     119.497545   \n",
       "2017-12-09 17:59:59                     108.080163   \n",
       "2017-12-09 18:59:59                     117.750648   \n",
       "\n",
       "                     primary_cleaner.input.depressant  \\\n",
       "date                                                    \n",
       "2017-12-09 14:59:59                          8.078957   \n",
       "2017-12-09 15:59:59                          7.984164   \n",
       "2017-12-09 16:59:59                          8.003752   \n",
       "2017-12-09 17:59:59                          7.970121   \n",
       "2017-12-09 18:59:59                          6.954311   \n",
       "\n",
       "                     primary_cleaner.input.feed_size  \\\n",
       "date                                                   \n",
       "2017-12-09 14:59:59                         6.500000   \n",
       "2017-12-09 15:59:59                         6.500000   \n",
       "2017-12-09 16:59:59                         6.500000   \n",
       "2017-12-09 17:59:59                         6.660000   \n",
       "2017-12-09 18:59:59                         6.426667   \n",
       "\n",
       "                     primary_cleaner.input.xanthate  \\\n",
       "date                                                  \n",
       "2017-12-09 14:59:59                        1.283045   \n",
       "2017-12-09 15:59:59                        1.241969   \n",
       "2017-12-09 16:59:59                        1.259741   \n",
       "2017-12-09 17:59:59                        0.774909   \n",
       "2017-12-09 18:59:59                        0.731271   \n",
       "\n",
       "                     primary_cleaner.state.floatbank8_a_air  \\\n",
       "date                                                          \n",
       "2017-12-09 14:59:59                             1648.759906   \n",
       "2017-12-09 15:59:59                             1646.547763   \n",
       "2017-12-09 16:59:59                             1647.368779   \n",
       "2017-12-09 17:59:59                             1652.660845   \n",
       "2017-12-09 18:59:59                             1649.411497   \n",
       "\n",
       "                     primary_cleaner.state.floatbank8_a_level  \\\n",
       "date                                                            \n",
       "2017-12-09 14:59:59                               -399.862053   \n",
       "2017-12-09 15:59:59                               -398.977083   \n",
       "2017-12-09 16:59:59                               -399.788506   \n",
       "2017-12-09 17:59:59                               -399.702218   \n",
       "2017-12-09 18:59:59                               -399.853156   \n",
       "\n",
       "                     primary_cleaner.state.floatbank8_b_air  \\\n",
       "date                                                          \n",
       "2017-12-09 14:59:59                             1650.135395   \n",
       "2017-12-09 15:59:59                             1648.212240   \n",
       "2017-12-09 16:59:59                             1648.395206   \n",
       "2017-12-09 17:59:59                             1651.203128   \n",
       "2017-12-09 18:59:59                             1648.917211   \n",
       "\n",
       "                     primary_cleaner.state.floatbank8_b_level  \\\n",
       "date                                                            \n",
       "2017-12-09 14:59:59                               -399.957321   \n",
       "2017-12-09 15:59:59                               -400.383265   \n",
       "2017-12-09 16:59:59                               -400.166490   \n",
       "2017-12-09 17:59:59                               -400.291472   \n",
       "2017-12-09 18:59:59                               -400.321866   \n",
       "\n",
       "                     primary_cleaner.state.floatbank8_c_air  \\\n",
       "date                                                          \n",
       "2017-12-09 14:59:59                             1648.831890   \n",
       "2017-12-09 15:59:59                             1648.917387   \n",
       "2017-12-09 16:59:59                             1648.953828   \n",
       "2017-12-09 17:59:59                             1651.924848   \n",
       "2017-12-09 18:59:59                             1649.117753   \n",
       "\n",
       "                     primary_cleaner.state.floatbank8_c_level  \\\n",
       "date                                                            \n",
       "2017-12-09 14:59:59                               -400.586116   \n",
       "2017-12-09 15:59:59                               -399.521344   \n",
       "2017-12-09 16:59:59                               -400.468641   \n",
       "2017-12-09 17:59:59                               -398.058033   \n",
       "2017-12-09 18:59:59                               -399.645348   \n",
       "\n",
       "                     primary_cleaner.state.floatbank8_d_air  \\\n",
       "date                                                          \n",
       "2017-12-09 14:59:59                             1649.464582   \n",
       "2017-12-09 15:59:59                             1651.498591   \n",
       "2017-12-09 16:59:59                             1649.821569   \n",
       "2017-12-09 17:59:59                             1650.782696   \n",
       "2017-12-09 18:59:59                             1650.398209   \n",
       "\n",
       "                     primary_cleaner.state.floatbank8_d_level  \\\n",
       "date                                                            \n",
       "2017-12-09 14:59:59                               -400.673303   \n",
       "2017-12-09 15:59:59                               -399.745329   \n",
       "2017-12-09 16:59:59                               -400.071884   \n",
       "2017-12-09 17:59:59                               -399.597977   \n",
       "2017-12-09 18:59:59                               -400.654533   \n",
       "\n",
       "                     secondary_cleaner.state.floatbank2_a_air  \\\n",
       "date                                                            \n",
       "2017-12-09 14:59:59                                 34.940919   \n",
       "2017-12-09 15:59:59                                 34.980742   \n",
       "2017-12-09 16:59:59                                 34.952967   \n",
       "2017-12-09 17:59:59                                 35.038256   \n",
       "2017-12-09 18:59:59                                 34.894598   \n",
       "\n",
       "                     secondary_cleaner.state.floatbank2_a_level  \\\n",
       "date                                                              \n",
       "2017-12-09 14:59:59                                 -500.150510   \n",
       "2017-12-09 15:59:59                                 -498.131002   \n",
       "2017-12-09 16:59:59                                 -501.204647   \n",
       "2017-12-09 17:59:59                                 -500.102649   \n",
       "2017-12-09 18:59:59                                 -498.444587   \n",
       "\n",
       "                     secondary_cleaner.state.floatbank2_b_air  \\\n",
       "date                                                            \n",
       "2017-12-09 14:59:59                                 30.031867   \n",
       "2017-12-09 15:59:59                                 29.968453   \n",
       "2017-12-09 16:59:59                                 29.927025   \n",
       "2017-12-09 17:59:59                                 30.066959   \n",
       "2017-12-09 18:59:59                                 30.020745   \n",
       "\n",
       "                     secondary_cleaner.state.floatbank2_b_level  \\\n",
       "date                                                              \n",
       "2017-12-09 14:59:59                                 -500.328335   \n",
       "2017-12-09 15:59:59                                 -586.013330   \n",
       "2017-12-09 16:59:59                                 -500.106628   \n",
       "2017-12-09 17:59:59                                 -500.211499   \n",
       "2017-12-09 18:59:59                                 -533.831343   \n",
       "\n",
       "                     secondary_cleaner.state.floatbank3_a_air  \\\n",
       "date                                                            \n",
       "2017-12-09 14:59:59                                 26.033990   \n",
       "2017-12-09 15:59:59                                 25.971737   \n",
       "2017-12-09 16:59:59                                 25.978253   \n",
       "2017-12-09 17:59:59                                 26.013515   \n",
       "2017-12-09 18:59:59                                 26.022094   \n",
       "\n",
       "                     secondary_cleaner.state.floatbank3_a_level  \\\n",
       "date                                                              \n",
       "2017-12-09 14:59:59                                 -500.147792   \n",
       "2017-12-09 15:59:59                                 -499.608392   \n",
       "2017-12-09 16:59:59                                 -499.890060   \n",
       "2017-12-09 17:59:59                                 -500.054597   \n",
       "2017-12-09 18:59:59                                 -499.725484   \n",
       "\n",
       "                     secondary_cleaner.state.floatbank3_b_air  \\\n",
       "date                                                            \n",
       "2017-12-09 14:59:59                                 22.952306   \n",
       "2017-12-09 15:59:59                                 22.958448   \n",
       "2017-12-09 16:59:59                                 23.004376   \n",
       "2017-12-09 17:59:59                                 22.988928   \n",
       "2017-12-09 18:59:59                                 22.992992   \n",
       "\n",
       "                     secondary_cleaner.state.floatbank3_b_level  \\\n",
       "date                                                              \n",
       "2017-12-09 14:59:59                                 -500.037678   \n",
       "2017-12-09 15:59:59                                 -499.821308   \n",
       "2017-12-09 16:59:59                                 -500.014529   \n",
       "2017-12-09 17:59:59                                 -499.981410   \n",
       "2017-12-09 18:59:59                                 -499.891405   \n",
       "\n",
       "                     secondary_cleaner.state.floatbank4_a_air  \\\n",
       "date                                                            \n",
       "2017-12-09 14:59:59                                 23.018622   \n",
       "2017-12-09 15:59:59                                 23.024963   \n",
       "2017-12-09 16:59:59                                 22.993827   \n",
       "2017-12-09 17:59:59                                 23.032807   \n",
       "2017-12-09 18:59:59                                 23.001911   \n",
       "\n",
       "                     secondary_cleaner.state.floatbank4_a_level  \\\n",
       "date                                                              \n",
       "2017-12-09 14:59:59                                 -500.492702   \n",
       "2017-12-09 15:59:59                                 -501.153409   \n",
       "2017-12-09 16:59:59                                 -501.559663   \n",
       "2017-12-09 17:59:59                                 -501.287889   \n",
       "2017-12-09 18:59:59                                 -499.947838   \n",
       "\n",
       "                     secondary_cleaner.state.floatbank4_b_air  \\\n",
       "date                                                            \n",
       "2017-12-09 14:59:59                                 20.020205   \n",
       "2017-12-09 15:59:59                                 20.054122   \n",
       "2017-12-09 16:59:59                                 20.029144   \n",
       "2017-12-09 17:59:59                                 19.977466   \n",
       "2017-12-09 18:59:59                                 20.023735   \n",
       "\n",
       "                     secondary_cleaner.state.floatbank4_b_level  \\\n",
       "date                                                              \n",
       "2017-12-09 14:59:59                                 -500.220296   \n",
       "2017-12-09 15:59:59                                 -500.314711   \n",
       "2017-12-09 16:59:59                                 -500.000662   \n",
       "2017-12-09 17:59:59                                 -500.159903   \n",
       "2017-12-09 18:59:59                                 -499.713680   \n",
       "\n",
       "                     secondary_cleaner.state.floatbank5_a_air  \\\n",
       "date                                                            \n",
       "2017-12-09 14:59:59                                 17.963512   \n",
       "2017-12-09 15:59:59                                 17.979515   \n",
       "2017-12-09 16:59:59                                 18.012723   \n",
       "2017-12-09 17:59:59                                 17.980463   \n",
       "2017-12-09 18:59:59                                 17.990955   \n",
       "\n",
       "                     secondary_cleaner.state.floatbank5_a_level  \\\n",
       "date                                                              \n",
       "2017-12-09 14:59:59                                 -499.939490   \n",
       "2017-12-09 15:59:59                                 -499.272871   \n",
       "2017-12-09 16:59:59                                 -500.024764   \n",
       "2017-12-09 17:59:59                                 -500.504602   \n",
       "2017-12-09 18:59:59                                 -500.334769   \n",
       "\n",
       "                     secondary_cleaner.state.floatbank5_b_air  \\\n",
       "date                                                            \n",
       "2017-12-09 14:59:59                                 12.990306   \n",
       "2017-12-09 15:59:59                                 12.992404   \n",
       "2017-12-09 16:59:59                                 13.016445   \n",
       "2017-12-09 17:59:59                                 12.949071   \n",
       "2017-12-09 18:59:59                                 13.007523   \n",
       "\n",
       "                     secondary_cleaner.state.floatbank5_b_level  \\\n",
       "date                                                              \n",
       "2017-12-09 14:59:59                                 -500.080993   \n",
       "2017-12-09 15:59:59                                 -499.976268   \n",
       "2017-12-09 16:59:59                                 -500.058432   \n",
       "2017-12-09 17:59:59                                 -500.009937   \n",
       "2017-12-09 18:59:59                                 -499.968459   \n",
       "\n",
       "                     secondary_cleaner.state.floatbank6_a_air  \\\n",
       "date                                                            \n",
       "2017-12-09 14:59:59                                 19.990336   \n",
       "2017-12-09 15:59:59                                 20.013986   \n",
       "2017-12-09 16:59:59                                 19.973767   \n",
       "2017-12-09 17:59:59                                 20.010332   \n",
       "2017-12-09 18:59:59                                 19.995999   \n",
       "\n",
       "                     secondary_cleaner.state.floatbank6_a_level  \\\n",
       "date                                                              \n",
       "2017-12-09 14:59:59                                 -499.191575   \n",
       "2017-12-09 15:59:59                                 -500.625471   \n",
       "2017-12-09 16:59:59                                 -501.394155   \n",
       "2017-12-09 17:59:59                                 -508.337973   \n",
       "2017-12-09 18:59:59                                 -499.788805   \n",
       "\n",
       "                     rougher.output.recovery  final.output.recovery  \n",
       "date                                                                 \n",
       "2017-12-09 14:59:59                89.514960              70.281454  \n",
       "2017-12-09 15:59:59                89.858126              65.523246  \n",
       "2017-12-09 16:59:59                91.816623              74.817644  \n",
       "2017-12-09 17:59:59                88.478959              63.082720  \n",
       "2017-12-09 18:59:59                89.230316              74.463380  "
      ]
     },
     "execution_count": 23,
     "metadata": {},
     "output_type": "execute_result"
    }
   ],
   "source": [
    "data_test = data_test.join(data_full[['rougher.output.recovery','final.output.recovery']], how='left')\n",
    "data_test.head()"
   ]
  },
  {
   "cell_type": "markdown",
   "metadata": {},
   "source": [
    "Оставим в обучающей выборке только доступные столбцы. "
   ]
  },
  {
   "cell_type": "code",
   "execution_count": 24,
   "metadata": {},
   "outputs": [],
   "source": [
    "data_train = data_train[data_test.columns]"
   ]
  },
  {
   "cell_type": "code",
   "execution_count": 25,
   "metadata": {},
   "outputs": [
    {
     "data": {
      "text/plain": [
       "(14579, 54)"
      ]
     },
     "execution_count": 25,
     "metadata": {},
     "output_type": "execute_result"
    }
   ],
   "source": [
    "data_train.shape"
   ]
  },
  {
   "cell_type": "code",
   "execution_count": 26,
   "metadata": {},
   "outputs": [
    {
     "data": {
      "text/plain": [
       "(4860, 54)"
      ]
     },
     "execution_count": 26,
     "metadata": {},
     "output_type": "execute_result"
    }
   ],
   "source": [
    "data_test.shape"
   ]
  },
  {
   "cell_type": "markdown",
   "metadata": {},
   "source": [
    "Количество столбцов в обеих выборках совпадает. "
   ]
  },
  {
   "cell_type": "markdown",
   "metadata": {},
   "source": [
    "Изучим пропуски в данных. "
   ]
  },
  {
   "cell_type": "code",
   "execution_count": 27,
   "metadata": {},
   "outputs": [
    {
     "data": {
      "text/html": [
       "<div>\n",
       "<style scoped>\n",
       "    .dataframe tbody tr th:only-of-type {\n",
       "        vertical-align: middle;\n",
       "    }\n",
       "\n",
       "    .dataframe tbody tr th {\n",
       "        vertical-align: top;\n",
       "    }\n",
       "\n",
       "    .dataframe thead th {\n",
       "        text-align: right;\n",
       "    }\n",
       "</style>\n",
       "<table border=\"1\" class=\"dataframe\">\n",
       "  <thead>\n",
       "    <tr style=\"text-align: right;\">\n",
       "      <th></th>\n",
       "      <th>missing_values_number</th>\n",
       "      <th>missing_values_percentage</th>\n",
       "    </tr>\n",
       "  </thead>\n",
       "  <tbody>\n",
       "    <tr>\n",
       "      <th>rougher.state.floatbank10_e_air</th>\n",
       "      <td>429</td>\n",
       "      <td>2.94%</td>\n",
       "    </tr>\n",
       "    <tr>\n",
       "      <th>rougher.input.floatbank11_xanthate</th>\n",
       "      <td>407</td>\n",
       "      <td>2.79%</td>\n",
       "    </tr>\n",
       "    <tr>\n",
       "      <th>rougher.input.feed_size</th>\n",
       "      <td>101</td>\n",
       "      <td>0.69%</td>\n",
       "    </tr>\n",
       "    <tr>\n",
       "      <th>secondary_cleaner.state.floatbank2_a_air</th>\n",
       "      <td>94</td>\n",
       "      <td>0.64%</td>\n",
       "    </tr>\n",
       "    <tr>\n",
       "      <th>rougher.input.feed_sol</th>\n",
       "      <td>77</td>\n",
       "      <td>0.53%</td>\n",
       "    </tr>\n",
       "    <tr>\n",
       "      <th>rougher.input.feed_pb</th>\n",
       "      <td>72</td>\n",
       "      <td>0.49%</td>\n",
       "    </tr>\n",
       "    <tr>\n",
       "      <th>primary_cleaner.input.xanthate</th>\n",
       "      <td>61</td>\n",
       "      <td>0.42%</td>\n",
       "    </tr>\n",
       "    <tr>\n",
       "      <th>rougher.input.floatbank11_sulfate</th>\n",
       "      <td>36</td>\n",
       "      <td>0.25%</td>\n",
       "    </tr>\n",
       "    <tr>\n",
       "      <th>rougher.input.floatbank10_sulfate</th>\n",
       "      <td>31</td>\n",
       "      <td>0.21%</td>\n",
       "    </tr>\n",
       "    <tr>\n",
       "      <th>primary_cleaner.input.depressant</th>\n",
       "      <td>28</td>\n",
       "      <td>0.19%</td>\n",
       "    </tr>\n",
       "    <tr>\n",
       "      <th>primary_cleaner.input.sulfate</th>\n",
       "      <td>23</td>\n",
       "      <td>0.16%</td>\n",
       "    </tr>\n",
       "    <tr>\n",
       "      <th>secondary_cleaner.state.floatbank2_b_air</th>\n",
       "      <td>22</td>\n",
       "      <td>0.15%</td>\n",
       "    </tr>\n",
       "    <tr>\n",
       "      <th>secondary_cleaner.state.floatbank3_a_air</th>\n",
       "      <td>12</td>\n",
       "      <td>0.08%</td>\n",
       "    </tr>\n",
       "    <tr>\n",
       "      <th>rougher.input.floatbank10_xanthate</th>\n",
       "      <td>7</td>\n",
       "      <td>0.05%</td>\n",
       "    </tr>\n",
       "    <tr>\n",
       "      <th>rougher.input.feed_rate</th>\n",
       "      <td>7</td>\n",
       "      <td>0.05%</td>\n",
       "    </tr>\n",
       "    <tr>\n",
       "      <th>secondary_cleaner.state.floatbank4_a_air</th>\n",
       "      <td>5</td>\n",
       "      <td>0.03%</td>\n",
       "    </tr>\n",
       "    <tr>\n",
       "      <th>primary_cleaner.state.floatbank8_b_air</th>\n",
       "      <td>3</td>\n",
       "      <td>0.02%</td>\n",
       "    </tr>\n",
       "    <tr>\n",
       "      <th>primary_cleaner.state.floatbank8_a_air</th>\n",
       "      <td>3</td>\n",
       "      <td>0.02%</td>\n",
       "    </tr>\n",
       "    <tr>\n",
       "      <th>secondary_cleaner.state.floatbank6_a_air</th>\n",
       "      <td>1</td>\n",
       "      <td>0.01%</td>\n",
       "    </tr>\n",
       "    <tr>\n",
       "      <th>primary_cleaner.state.floatbank8_d_air</th>\n",
       "      <td>1</td>\n",
       "      <td>0.01%</td>\n",
       "    </tr>\n",
       "    <tr>\n",
       "      <th>secondary_cleaner.state.floatbank2_b_level</th>\n",
       "      <td>0</td>\n",
       "      <td>0.00%</td>\n",
       "    </tr>\n",
       "    <tr>\n",
       "      <th>secondary_cleaner.state.floatbank3_b_level</th>\n",
       "      <td>0</td>\n",
       "      <td>0.00%</td>\n",
       "    </tr>\n",
       "    <tr>\n",
       "      <th>secondary_cleaner.state.floatbank3_a_level</th>\n",
       "      <td>0</td>\n",
       "      <td>0.00%</td>\n",
       "    </tr>\n",
       "    <tr>\n",
       "      <th>secondary_cleaner.state.floatbank3_b_air</th>\n",
       "      <td>0</td>\n",
       "      <td>0.00%</td>\n",
       "    </tr>\n",
       "    <tr>\n",
       "      <th>rougher.input.feed_au</th>\n",
       "      <td>0</td>\n",
       "      <td>0.00%</td>\n",
       "    </tr>\n",
       "    <tr>\n",
       "      <th>secondary_cleaner.state.floatbank4_a_level</th>\n",
       "      <td>0</td>\n",
       "      <td>0.00%</td>\n",
       "    </tr>\n",
       "    <tr>\n",
       "      <th>secondary_cleaner.state.floatbank2_a_level</th>\n",
       "      <td>0</td>\n",
       "      <td>0.00%</td>\n",
       "    </tr>\n",
       "    <tr>\n",
       "      <th>secondary_cleaner.state.floatbank4_b_level</th>\n",
       "      <td>0</td>\n",
       "      <td>0.00%</td>\n",
       "    </tr>\n",
       "    <tr>\n",
       "      <th>secondary_cleaner.state.floatbank5_a_air</th>\n",
       "      <td>0</td>\n",
       "      <td>0.00%</td>\n",
       "    </tr>\n",
       "    <tr>\n",
       "      <th>secondary_cleaner.state.floatbank5_a_level</th>\n",
       "      <td>0</td>\n",
       "      <td>0.00%</td>\n",
       "    </tr>\n",
       "    <tr>\n",
       "      <th>secondary_cleaner.state.floatbank5_b_air</th>\n",
       "      <td>0</td>\n",
       "      <td>0.00%</td>\n",
       "    </tr>\n",
       "    <tr>\n",
       "      <th>secondary_cleaner.state.floatbank5_b_level</th>\n",
       "      <td>0</td>\n",
       "      <td>0.00%</td>\n",
       "    </tr>\n",
       "    <tr>\n",
       "      <th>secondary_cleaner.state.floatbank6_a_level</th>\n",
       "      <td>0</td>\n",
       "      <td>0.00%</td>\n",
       "    </tr>\n",
       "    <tr>\n",
       "      <th>rougher.output.recovery</th>\n",
       "      <td>0</td>\n",
       "      <td>0.00%</td>\n",
       "    </tr>\n",
       "    <tr>\n",
       "      <th>secondary_cleaner.state.floatbank4_b_air</th>\n",
       "      <td>0</td>\n",
       "      <td>0.00%</td>\n",
       "    </tr>\n",
       "    <tr>\n",
       "      <th>primary_cleaner.state.floatbank8_a_level</th>\n",
       "      <td>0</td>\n",
       "      <td>0.00%</td>\n",
       "    </tr>\n",
       "    <tr>\n",
       "      <th>primary_cleaner.state.floatbank8_d_level</th>\n",
       "      <td>0</td>\n",
       "      <td>0.00%</td>\n",
       "    </tr>\n",
       "    <tr>\n",
       "      <th>primary_cleaner.state.floatbank8_c_level</th>\n",
       "      <td>0</td>\n",
       "      <td>0.00%</td>\n",
       "    </tr>\n",
       "    <tr>\n",
       "      <th>rougher.state.floatbank10_a_air</th>\n",
       "      <td>0</td>\n",
       "      <td>0.00%</td>\n",
       "    </tr>\n",
       "    <tr>\n",
       "      <th>rougher.state.floatbank10_a_level</th>\n",
       "      <td>0</td>\n",
       "      <td>0.00%</td>\n",
       "    </tr>\n",
       "    <tr>\n",
       "      <th>rougher.state.floatbank10_b_air</th>\n",
       "      <td>0</td>\n",
       "      <td>0.00%</td>\n",
       "    </tr>\n",
       "    <tr>\n",
       "      <th>rougher.state.floatbank10_b_level</th>\n",
       "      <td>0</td>\n",
       "      <td>0.00%</td>\n",
       "    </tr>\n",
       "    <tr>\n",
       "      <th>rougher.state.floatbank10_c_air</th>\n",
       "      <td>0</td>\n",
       "      <td>0.00%</td>\n",
       "    </tr>\n",
       "    <tr>\n",
       "      <th>rougher.state.floatbank10_c_level</th>\n",
       "      <td>0</td>\n",
       "      <td>0.00%</td>\n",
       "    </tr>\n",
       "    <tr>\n",
       "      <th>rougher.state.floatbank10_d_air</th>\n",
       "      <td>0</td>\n",
       "      <td>0.00%</td>\n",
       "    </tr>\n",
       "    <tr>\n",
       "      <th>rougher.state.floatbank10_d_level</th>\n",
       "      <td>0</td>\n",
       "      <td>0.00%</td>\n",
       "    </tr>\n",
       "    <tr>\n",
       "      <th>rougher.state.floatbank10_e_level</th>\n",
       "      <td>0</td>\n",
       "      <td>0.00%</td>\n",
       "    </tr>\n",
       "    <tr>\n",
       "      <th>rougher.state.floatbank10_f_air</th>\n",
       "      <td>0</td>\n",
       "      <td>0.00%</td>\n",
       "    </tr>\n",
       "    <tr>\n",
       "      <th>rougher.state.floatbank10_f_level</th>\n",
       "      <td>0</td>\n",
       "      <td>0.00%</td>\n",
       "    </tr>\n",
       "    <tr>\n",
       "      <th>primary_cleaner.input.feed_size</th>\n",
       "      <td>0</td>\n",
       "      <td>0.00%</td>\n",
       "    </tr>\n",
       "    <tr>\n",
       "      <th>rougher.input.feed_ag</th>\n",
       "      <td>0</td>\n",
       "      <td>0.00%</td>\n",
       "    </tr>\n",
       "    <tr>\n",
       "      <th>primary_cleaner.state.floatbank8_b_level</th>\n",
       "      <td>0</td>\n",
       "      <td>0.00%</td>\n",
       "    </tr>\n",
       "    <tr>\n",
       "      <th>primary_cleaner.state.floatbank8_c_air</th>\n",
       "      <td>0</td>\n",
       "      <td>0.00%</td>\n",
       "    </tr>\n",
       "    <tr>\n",
       "      <th>final.output.recovery</th>\n",
       "      <td>0</td>\n",
       "      <td>0.00%</td>\n",
       "    </tr>\n",
       "  </tbody>\n",
       "</table>\n",
       "</div>"
      ],
      "text/plain": [
       "                                            missing_values_number  \\\n",
       "rougher.state.floatbank10_e_air                               429   \n",
       "rougher.input.floatbank11_xanthate                            407   \n",
       "rougher.input.feed_size                                       101   \n",
       "secondary_cleaner.state.floatbank2_a_air                       94   \n",
       "rougher.input.feed_sol                                         77   \n",
       "rougher.input.feed_pb                                          72   \n",
       "primary_cleaner.input.xanthate                                 61   \n",
       "rougher.input.floatbank11_sulfate                              36   \n",
       "rougher.input.floatbank10_sulfate                              31   \n",
       "primary_cleaner.input.depressant                               28   \n",
       "primary_cleaner.input.sulfate                                  23   \n",
       "secondary_cleaner.state.floatbank2_b_air                       22   \n",
       "secondary_cleaner.state.floatbank3_a_air                       12   \n",
       "rougher.input.floatbank10_xanthate                              7   \n",
       "rougher.input.feed_rate                                         7   \n",
       "secondary_cleaner.state.floatbank4_a_air                        5   \n",
       "primary_cleaner.state.floatbank8_b_air                          3   \n",
       "primary_cleaner.state.floatbank8_a_air                          3   \n",
       "secondary_cleaner.state.floatbank6_a_air                        1   \n",
       "primary_cleaner.state.floatbank8_d_air                          1   \n",
       "secondary_cleaner.state.floatbank2_b_level                      0   \n",
       "secondary_cleaner.state.floatbank3_b_level                      0   \n",
       "secondary_cleaner.state.floatbank3_a_level                      0   \n",
       "secondary_cleaner.state.floatbank3_b_air                        0   \n",
       "rougher.input.feed_au                                           0   \n",
       "secondary_cleaner.state.floatbank4_a_level                      0   \n",
       "secondary_cleaner.state.floatbank2_a_level                      0   \n",
       "secondary_cleaner.state.floatbank4_b_level                      0   \n",
       "secondary_cleaner.state.floatbank5_a_air                        0   \n",
       "secondary_cleaner.state.floatbank5_a_level                      0   \n",
       "secondary_cleaner.state.floatbank5_b_air                        0   \n",
       "secondary_cleaner.state.floatbank5_b_level                      0   \n",
       "secondary_cleaner.state.floatbank6_a_level                      0   \n",
       "rougher.output.recovery                                         0   \n",
       "secondary_cleaner.state.floatbank4_b_air                        0   \n",
       "primary_cleaner.state.floatbank8_a_level                        0   \n",
       "primary_cleaner.state.floatbank8_d_level                        0   \n",
       "primary_cleaner.state.floatbank8_c_level                        0   \n",
       "rougher.state.floatbank10_a_air                                 0   \n",
       "rougher.state.floatbank10_a_level                               0   \n",
       "rougher.state.floatbank10_b_air                                 0   \n",
       "rougher.state.floatbank10_b_level                               0   \n",
       "rougher.state.floatbank10_c_air                                 0   \n",
       "rougher.state.floatbank10_c_level                               0   \n",
       "rougher.state.floatbank10_d_air                                 0   \n",
       "rougher.state.floatbank10_d_level                               0   \n",
       "rougher.state.floatbank10_e_level                               0   \n",
       "rougher.state.floatbank10_f_air                                 0   \n",
       "rougher.state.floatbank10_f_level                               0   \n",
       "primary_cleaner.input.feed_size                                 0   \n",
       "rougher.input.feed_ag                                           0   \n",
       "primary_cleaner.state.floatbank8_b_level                        0   \n",
       "primary_cleaner.state.floatbank8_c_air                          0   \n",
       "final.output.recovery                                           0   \n",
       "\n",
       "                                           missing_values_percentage  \n",
       "rougher.state.floatbank10_e_air                                2.94%  \n",
       "rougher.input.floatbank11_xanthate                             2.79%  \n",
       "rougher.input.feed_size                                        0.69%  \n",
       "secondary_cleaner.state.floatbank2_a_air                       0.64%  \n",
       "rougher.input.feed_sol                                         0.53%  \n",
       "rougher.input.feed_pb                                          0.49%  \n",
       "primary_cleaner.input.xanthate                                 0.42%  \n",
       "rougher.input.floatbank11_sulfate                              0.25%  \n",
       "rougher.input.floatbank10_sulfate                              0.21%  \n",
       "primary_cleaner.input.depressant                               0.19%  \n",
       "primary_cleaner.input.sulfate                                  0.16%  \n",
       "secondary_cleaner.state.floatbank2_b_air                       0.15%  \n",
       "secondary_cleaner.state.floatbank3_a_air                       0.08%  \n",
       "rougher.input.floatbank10_xanthate                             0.05%  \n",
       "rougher.input.feed_rate                                        0.05%  \n",
       "secondary_cleaner.state.floatbank4_a_air                       0.03%  \n",
       "primary_cleaner.state.floatbank8_b_air                         0.02%  \n",
       "primary_cleaner.state.floatbank8_a_air                         0.02%  \n",
       "secondary_cleaner.state.floatbank6_a_air                       0.01%  \n",
       "primary_cleaner.state.floatbank8_d_air                         0.01%  \n",
       "secondary_cleaner.state.floatbank2_b_level                     0.00%  \n",
       "secondary_cleaner.state.floatbank3_b_level                     0.00%  \n",
       "secondary_cleaner.state.floatbank3_a_level                     0.00%  \n",
       "secondary_cleaner.state.floatbank3_b_air                       0.00%  \n",
       "rougher.input.feed_au                                          0.00%  \n",
       "secondary_cleaner.state.floatbank4_a_level                     0.00%  \n",
       "secondary_cleaner.state.floatbank2_a_level                     0.00%  \n",
       "secondary_cleaner.state.floatbank4_b_level                     0.00%  \n",
       "secondary_cleaner.state.floatbank5_a_air                       0.00%  \n",
       "secondary_cleaner.state.floatbank5_a_level                     0.00%  \n",
       "secondary_cleaner.state.floatbank5_b_air                       0.00%  \n",
       "secondary_cleaner.state.floatbank5_b_level                     0.00%  \n",
       "secondary_cleaner.state.floatbank6_a_level                     0.00%  \n",
       "rougher.output.recovery                                        0.00%  \n",
       "secondary_cleaner.state.floatbank4_b_air                       0.00%  \n",
       "primary_cleaner.state.floatbank8_a_level                       0.00%  \n",
       "primary_cleaner.state.floatbank8_d_level                       0.00%  \n",
       "primary_cleaner.state.floatbank8_c_level                       0.00%  \n",
       "rougher.state.floatbank10_a_air                                0.00%  \n",
       "rougher.state.floatbank10_a_level                              0.00%  \n",
       "rougher.state.floatbank10_b_air                                0.00%  \n",
       "rougher.state.floatbank10_b_level                              0.00%  \n",
       "rougher.state.floatbank10_c_air                                0.00%  \n",
       "rougher.state.floatbank10_c_level                              0.00%  \n",
       "rougher.state.floatbank10_d_air                                0.00%  \n",
       "rougher.state.floatbank10_d_level                              0.00%  \n",
       "rougher.state.floatbank10_e_level                              0.00%  \n",
       "rougher.state.floatbank10_f_air                                0.00%  \n",
       "rougher.state.floatbank10_f_level                              0.00%  \n",
       "primary_cleaner.input.feed_size                                0.00%  \n",
       "rougher.input.feed_ag                                          0.00%  \n",
       "primary_cleaner.state.floatbank8_b_level                       0.00%  \n",
       "primary_cleaner.state.floatbank8_c_air                         0.00%  \n",
       "final.output.recovery                                          0.00%  "
      ]
     },
     "execution_count": 27,
     "metadata": {},
     "output_type": "execute_result"
    }
   ],
   "source": [
    "pd.DataFrame({'missing_values_number' : data_train.isna().sum(), \n",
    "              'missing_values_percentage' : (data_train.isna().sum() * 100 /\n",
    "                                             data_train.shape[0]).apply\n",
    "              (lambda x : \"{:.2f}%\".format(x))}).sort_values(by='missing_values_number', ascending=False)"
   ]
  },
  {
   "cell_type": "code",
   "execution_count": 28,
   "metadata": {},
   "outputs": [
    {
     "data": {
      "text/plain": [
       "True"
      ]
     },
     "execution_count": 28,
     "metadata": {},
     "output_type": "execute_result"
    }
   ],
   "source": [
    "data_train.index.is_monotonic_increasing"
   ]
  },
  {
   "cell_type": "code",
   "execution_count": 29,
   "metadata": {},
   "outputs": [
    {
     "data": {
      "text/plain": [
       "True"
      ]
     },
     "execution_count": 29,
     "metadata": {},
     "output_type": "execute_result"
    }
   ],
   "source": [
    "data_test.index.is_monotonic_increasing"
   ]
  },
  {
   "cell_type": "markdown",
   "metadata": {},
   "source": [
    "Заполним пропуски предыдущим или следующим значением. Аналогично поступим с тестовой выборкой. "
   ]
  },
  {
   "cell_type": "code",
   "execution_count": 30,
   "metadata": {},
   "outputs": [],
   "source": [
    "data_train = data_train.ffill()\n",
    "\n",
    "if data_train.isna().sum().max() > 0:\n",
    "    data_train = data_train.bfill()"
   ]
  },
  {
   "cell_type": "code",
   "execution_count": 31,
   "metadata": {},
   "outputs": [
    {
     "data": {
      "text/html": [
       "<div>\n",
       "<style scoped>\n",
       "    .dataframe tbody tr th:only-of-type {\n",
       "        vertical-align: middle;\n",
       "    }\n",
       "\n",
       "    .dataframe tbody tr th {\n",
       "        vertical-align: top;\n",
       "    }\n",
       "\n",
       "    .dataframe thead th {\n",
       "        text-align: right;\n",
       "    }\n",
       "</style>\n",
       "<table border=\"1\" class=\"dataframe\">\n",
       "  <thead>\n",
       "    <tr style=\"text-align: right;\">\n",
       "      <th></th>\n",
       "      <th>missing_values_number</th>\n",
       "      <th>missing_values_percentage</th>\n",
       "    </tr>\n",
       "  </thead>\n",
       "  <tbody>\n",
       "    <tr>\n",
       "      <th>secondary_cleaner.state.floatbank2_a_air</th>\n",
       "      <td>126</td>\n",
       "      <td>2.59%</td>\n",
       "    </tr>\n",
       "    <tr>\n",
       "      <th>rougher.input.floatbank11_xanthate</th>\n",
       "      <td>46</td>\n",
       "      <td>0.95%</td>\n",
       "    </tr>\n",
       "    <tr>\n",
       "      <th>rougher.input.feed_size</th>\n",
       "      <td>44</td>\n",
       "      <td>0.91%</td>\n",
       "    </tr>\n",
       "    <tr>\n",
       "      <th>primary_cleaner.input.xanthate</th>\n",
       "      <td>43</td>\n",
       "      <td>0.88%</td>\n",
       "    </tr>\n",
       "    <tr>\n",
       "      <th>rougher.input.feed_pb</th>\n",
       "      <td>28</td>\n",
       "      <td>0.58%</td>\n",
       "    </tr>\n",
       "    <tr>\n",
       "      <th>rougher.input.feed_sol</th>\n",
       "      <td>22</td>\n",
       "      <td>0.45%</td>\n",
       "    </tr>\n",
       "    <tr>\n",
       "      <th>primary_cleaner.input.depressant</th>\n",
       "      <td>9</td>\n",
       "      <td>0.19%</td>\n",
       "    </tr>\n",
       "    <tr>\n",
       "      <th>rougher.input.floatbank11_sulfate</th>\n",
       "      <td>8</td>\n",
       "      <td>0.16%</td>\n",
       "    </tr>\n",
       "    <tr>\n",
       "      <th>rougher.state.floatbank10_e_air</th>\n",
       "      <td>7</td>\n",
       "      <td>0.14%</td>\n",
       "    </tr>\n",
       "    <tr>\n",
       "      <th>rougher.input.feed_rate</th>\n",
       "      <td>4</td>\n",
       "      <td>0.08%</td>\n",
       "    </tr>\n",
       "    <tr>\n",
       "      <th>rougher.input.floatbank10_sulfate</th>\n",
       "      <td>3</td>\n",
       "      <td>0.06%</td>\n",
       "    </tr>\n",
       "    <tr>\n",
       "      <th>primary_cleaner.state.floatbank8_c_air</th>\n",
       "      <td>2</td>\n",
       "      <td>0.04%</td>\n",
       "    </tr>\n",
       "    <tr>\n",
       "      <th>primary_cleaner.state.floatbank8_d_air</th>\n",
       "      <td>2</td>\n",
       "      <td>0.04%</td>\n",
       "    </tr>\n",
       "    <tr>\n",
       "      <th>primary_cleaner.state.floatbank8_a_level</th>\n",
       "      <td>1</td>\n",
       "      <td>0.02%</td>\n",
       "    </tr>\n",
       "    <tr>\n",
       "      <th>primary_cleaner.state.floatbank8_c_level</th>\n",
       "      <td>1</td>\n",
       "      <td>0.02%</td>\n",
       "    </tr>\n",
       "    <tr>\n",
       "      <th>primary_cleaner.state.floatbank8_d_level</th>\n",
       "      <td>1</td>\n",
       "      <td>0.02%</td>\n",
       "    </tr>\n",
       "    <tr>\n",
       "      <th>secondary_cleaner.state.floatbank2_b_level</th>\n",
       "      <td>1</td>\n",
       "      <td>0.02%</td>\n",
       "    </tr>\n",
       "    <tr>\n",
       "      <th>secondary_cleaner.state.floatbank2_a_level</th>\n",
       "      <td>1</td>\n",
       "      <td>0.02%</td>\n",
       "    </tr>\n",
       "    <tr>\n",
       "      <th>secondary_cleaner.state.floatbank2_b_air</th>\n",
       "      <td>1</td>\n",
       "      <td>0.02%</td>\n",
       "    </tr>\n",
       "    <tr>\n",
       "      <th>primary_cleaner.state.floatbank8_b_air</th>\n",
       "      <td>1</td>\n",
       "      <td>0.02%</td>\n",
       "    </tr>\n",
       "    <tr>\n",
       "      <th>secondary_cleaner.state.floatbank3_a_air</th>\n",
       "      <td>1</td>\n",
       "      <td>0.02%</td>\n",
       "    </tr>\n",
       "    <tr>\n",
       "      <th>secondary_cleaner.state.floatbank3_a_level</th>\n",
       "      <td>1</td>\n",
       "      <td>0.02%</td>\n",
       "    </tr>\n",
       "    <tr>\n",
       "      <th>secondary_cleaner.state.floatbank3_b_air</th>\n",
       "      <td>1</td>\n",
       "      <td>0.02%</td>\n",
       "    </tr>\n",
       "    <tr>\n",
       "      <th>secondary_cleaner.state.floatbank3_b_level</th>\n",
       "      <td>1</td>\n",
       "      <td>0.02%</td>\n",
       "    </tr>\n",
       "    <tr>\n",
       "      <th>secondary_cleaner.state.floatbank4_a_air</th>\n",
       "      <td>1</td>\n",
       "      <td>0.02%</td>\n",
       "    </tr>\n",
       "    <tr>\n",
       "      <th>secondary_cleaner.state.floatbank4_a_level</th>\n",
       "      <td>1</td>\n",
       "      <td>0.02%</td>\n",
       "    </tr>\n",
       "    <tr>\n",
       "      <th>primary_cleaner.state.floatbank8_b_level</th>\n",
       "      <td>1</td>\n",
       "      <td>0.02%</td>\n",
       "    </tr>\n",
       "    <tr>\n",
       "      <th>primary_cleaner.input.sulfate</th>\n",
       "      <td>1</td>\n",
       "      <td>0.02%</td>\n",
       "    </tr>\n",
       "    <tr>\n",
       "      <th>secondary_cleaner.state.floatbank5_a_air</th>\n",
       "      <td>1</td>\n",
       "      <td>0.02%</td>\n",
       "    </tr>\n",
       "    <tr>\n",
       "      <th>rougher.state.floatbank10_c_level</th>\n",
       "      <td>1</td>\n",
       "      <td>0.02%</td>\n",
       "    </tr>\n",
       "    <tr>\n",
       "      <th>rougher.input.floatbank10_xanthate</th>\n",
       "      <td>1</td>\n",
       "      <td>0.02%</td>\n",
       "    </tr>\n",
       "    <tr>\n",
       "      <th>rougher.state.floatbank10_a_air</th>\n",
       "      <td>1</td>\n",
       "      <td>0.02%</td>\n",
       "    </tr>\n",
       "    <tr>\n",
       "      <th>rougher.state.floatbank10_a_level</th>\n",
       "      <td>1</td>\n",
       "      <td>0.02%</td>\n",
       "    </tr>\n",
       "    <tr>\n",
       "      <th>rougher.state.floatbank10_b_air</th>\n",
       "      <td>1</td>\n",
       "      <td>0.02%</td>\n",
       "    </tr>\n",
       "    <tr>\n",
       "      <th>rougher.state.floatbank10_b_level</th>\n",
       "      <td>1</td>\n",
       "      <td>0.02%</td>\n",
       "    </tr>\n",
       "    <tr>\n",
       "      <th>rougher.state.floatbank10_c_air</th>\n",
       "      <td>1</td>\n",
       "      <td>0.02%</td>\n",
       "    </tr>\n",
       "    <tr>\n",
       "      <th>secondary_cleaner.state.floatbank4_b_air</th>\n",
       "      <td>1</td>\n",
       "      <td>0.02%</td>\n",
       "    </tr>\n",
       "    <tr>\n",
       "      <th>primary_cleaner.state.floatbank8_a_air</th>\n",
       "      <td>1</td>\n",
       "      <td>0.02%</td>\n",
       "    </tr>\n",
       "    <tr>\n",
       "      <th>secondary_cleaner.state.floatbank6_a_level</th>\n",
       "      <td>1</td>\n",
       "      <td>0.02%</td>\n",
       "    </tr>\n",
       "    <tr>\n",
       "      <th>secondary_cleaner.state.floatbank6_a_air</th>\n",
       "      <td>1</td>\n",
       "      <td>0.02%</td>\n",
       "    </tr>\n",
       "    <tr>\n",
       "      <th>secondary_cleaner.state.floatbank5_b_level</th>\n",
       "      <td>1</td>\n",
       "      <td>0.02%</td>\n",
       "    </tr>\n",
       "    <tr>\n",
       "      <th>secondary_cleaner.state.floatbank5_b_air</th>\n",
       "      <td>1</td>\n",
       "      <td>0.02%</td>\n",
       "    </tr>\n",
       "    <tr>\n",
       "      <th>secondary_cleaner.state.floatbank4_b_level</th>\n",
       "      <td>1</td>\n",
       "      <td>0.02%</td>\n",
       "    </tr>\n",
       "    <tr>\n",
       "      <th>secondary_cleaner.state.floatbank5_a_level</th>\n",
       "      <td>1</td>\n",
       "      <td>0.02%</td>\n",
       "    </tr>\n",
       "    <tr>\n",
       "      <th>rougher.output.recovery</th>\n",
       "      <td>0</td>\n",
       "      <td>0.00%</td>\n",
       "    </tr>\n",
       "    <tr>\n",
       "      <th>rougher.input.feed_au</th>\n",
       "      <td>0</td>\n",
       "      <td>0.00%</td>\n",
       "    </tr>\n",
       "    <tr>\n",
       "      <th>rougher.input.feed_ag</th>\n",
       "      <td>0</td>\n",
       "      <td>0.00%</td>\n",
       "    </tr>\n",
       "    <tr>\n",
       "      <th>primary_cleaner.input.feed_size</th>\n",
       "      <td>0</td>\n",
       "      <td>0.00%</td>\n",
       "    </tr>\n",
       "    <tr>\n",
       "      <th>rougher.state.floatbank10_f_level</th>\n",
       "      <td>0</td>\n",
       "      <td>0.00%</td>\n",
       "    </tr>\n",
       "    <tr>\n",
       "      <th>rougher.state.floatbank10_f_air</th>\n",
       "      <td>0</td>\n",
       "      <td>0.00%</td>\n",
       "    </tr>\n",
       "    <tr>\n",
       "      <th>rougher.state.floatbank10_e_level</th>\n",
       "      <td>0</td>\n",
       "      <td>0.00%</td>\n",
       "    </tr>\n",
       "    <tr>\n",
       "      <th>rougher.state.floatbank10_d_level</th>\n",
       "      <td>0</td>\n",
       "      <td>0.00%</td>\n",
       "    </tr>\n",
       "    <tr>\n",
       "      <th>rougher.state.floatbank10_d_air</th>\n",
       "      <td>0</td>\n",
       "      <td>0.00%</td>\n",
       "    </tr>\n",
       "    <tr>\n",
       "      <th>final.output.recovery</th>\n",
       "      <td>0</td>\n",
       "      <td>0.00%</td>\n",
       "    </tr>\n",
       "  </tbody>\n",
       "</table>\n",
       "</div>"
      ],
      "text/plain": [
       "                                            missing_values_number  \\\n",
       "secondary_cleaner.state.floatbank2_a_air                      126   \n",
       "rougher.input.floatbank11_xanthate                             46   \n",
       "rougher.input.feed_size                                        44   \n",
       "primary_cleaner.input.xanthate                                 43   \n",
       "rougher.input.feed_pb                                          28   \n",
       "rougher.input.feed_sol                                         22   \n",
       "primary_cleaner.input.depressant                                9   \n",
       "rougher.input.floatbank11_sulfate                               8   \n",
       "rougher.state.floatbank10_e_air                                 7   \n",
       "rougher.input.feed_rate                                         4   \n",
       "rougher.input.floatbank10_sulfate                               3   \n",
       "primary_cleaner.state.floatbank8_c_air                          2   \n",
       "primary_cleaner.state.floatbank8_d_air                          2   \n",
       "primary_cleaner.state.floatbank8_a_level                        1   \n",
       "primary_cleaner.state.floatbank8_c_level                        1   \n",
       "primary_cleaner.state.floatbank8_d_level                        1   \n",
       "secondary_cleaner.state.floatbank2_b_level                      1   \n",
       "secondary_cleaner.state.floatbank2_a_level                      1   \n",
       "secondary_cleaner.state.floatbank2_b_air                        1   \n",
       "primary_cleaner.state.floatbank8_b_air                          1   \n",
       "secondary_cleaner.state.floatbank3_a_air                        1   \n",
       "secondary_cleaner.state.floatbank3_a_level                      1   \n",
       "secondary_cleaner.state.floatbank3_b_air                        1   \n",
       "secondary_cleaner.state.floatbank3_b_level                      1   \n",
       "secondary_cleaner.state.floatbank4_a_air                        1   \n",
       "secondary_cleaner.state.floatbank4_a_level                      1   \n",
       "primary_cleaner.state.floatbank8_b_level                        1   \n",
       "primary_cleaner.input.sulfate                                   1   \n",
       "secondary_cleaner.state.floatbank5_a_air                        1   \n",
       "rougher.state.floatbank10_c_level                               1   \n",
       "rougher.input.floatbank10_xanthate                              1   \n",
       "rougher.state.floatbank10_a_air                                 1   \n",
       "rougher.state.floatbank10_a_level                               1   \n",
       "rougher.state.floatbank10_b_air                                 1   \n",
       "rougher.state.floatbank10_b_level                               1   \n",
       "rougher.state.floatbank10_c_air                                 1   \n",
       "secondary_cleaner.state.floatbank4_b_air                        1   \n",
       "primary_cleaner.state.floatbank8_a_air                          1   \n",
       "secondary_cleaner.state.floatbank6_a_level                      1   \n",
       "secondary_cleaner.state.floatbank6_a_air                        1   \n",
       "secondary_cleaner.state.floatbank5_b_level                      1   \n",
       "secondary_cleaner.state.floatbank5_b_air                        1   \n",
       "secondary_cleaner.state.floatbank4_b_level                      1   \n",
       "secondary_cleaner.state.floatbank5_a_level                      1   \n",
       "rougher.output.recovery                                         0   \n",
       "rougher.input.feed_au                                           0   \n",
       "rougher.input.feed_ag                                           0   \n",
       "primary_cleaner.input.feed_size                                 0   \n",
       "rougher.state.floatbank10_f_level                               0   \n",
       "rougher.state.floatbank10_f_air                                 0   \n",
       "rougher.state.floatbank10_e_level                               0   \n",
       "rougher.state.floatbank10_d_level                               0   \n",
       "rougher.state.floatbank10_d_air                                 0   \n",
       "final.output.recovery                                           0   \n",
       "\n",
       "                                           missing_values_percentage  \n",
       "secondary_cleaner.state.floatbank2_a_air                       2.59%  \n",
       "rougher.input.floatbank11_xanthate                             0.95%  \n",
       "rougher.input.feed_size                                        0.91%  \n",
       "primary_cleaner.input.xanthate                                 0.88%  \n",
       "rougher.input.feed_pb                                          0.58%  \n",
       "rougher.input.feed_sol                                         0.45%  \n",
       "primary_cleaner.input.depressant                               0.19%  \n",
       "rougher.input.floatbank11_sulfate                              0.16%  \n",
       "rougher.state.floatbank10_e_air                                0.14%  \n",
       "rougher.input.feed_rate                                        0.08%  \n",
       "rougher.input.floatbank10_sulfate                              0.06%  \n",
       "primary_cleaner.state.floatbank8_c_air                         0.04%  \n",
       "primary_cleaner.state.floatbank8_d_air                         0.04%  \n",
       "primary_cleaner.state.floatbank8_a_level                       0.02%  \n",
       "primary_cleaner.state.floatbank8_c_level                       0.02%  \n",
       "primary_cleaner.state.floatbank8_d_level                       0.02%  \n",
       "secondary_cleaner.state.floatbank2_b_level                     0.02%  \n",
       "secondary_cleaner.state.floatbank2_a_level                     0.02%  \n",
       "secondary_cleaner.state.floatbank2_b_air                       0.02%  \n",
       "primary_cleaner.state.floatbank8_b_air                         0.02%  \n",
       "secondary_cleaner.state.floatbank3_a_air                       0.02%  \n",
       "secondary_cleaner.state.floatbank3_a_level                     0.02%  \n",
       "secondary_cleaner.state.floatbank3_b_air                       0.02%  \n",
       "secondary_cleaner.state.floatbank3_b_level                     0.02%  \n",
       "secondary_cleaner.state.floatbank4_a_air                       0.02%  \n",
       "secondary_cleaner.state.floatbank4_a_level                     0.02%  \n",
       "primary_cleaner.state.floatbank8_b_level                       0.02%  \n",
       "primary_cleaner.input.sulfate                                  0.02%  \n",
       "secondary_cleaner.state.floatbank5_a_air                       0.02%  \n",
       "rougher.state.floatbank10_c_level                              0.02%  \n",
       "rougher.input.floatbank10_xanthate                             0.02%  \n",
       "rougher.state.floatbank10_a_air                                0.02%  \n",
       "rougher.state.floatbank10_a_level                              0.02%  \n",
       "rougher.state.floatbank10_b_air                                0.02%  \n",
       "rougher.state.floatbank10_b_level                              0.02%  \n",
       "rougher.state.floatbank10_c_air                                0.02%  \n",
       "secondary_cleaner.state.floatbank4_b_air                       0.02%  \n",
       "primary_cleaner.state.floatbank8_a_air                         0.02%  \n",
       "secondary_cleaner.state.floatbank6_a_level                     0.02%  \n",
       "secondary_cleaner.state.floatbank6_a_air                       0.02%  \n",
       "secondary_cleaner.state.floatbank5_b_level                     0.02%  \n",
       "secondary_cleaner.state.floatbank5_b_air                       0.02%  \n",
       "secondary_cleaner.state.floatbank4_b_level                     0.02%  \n",
       "secondary_cleaner.state.floatbank5_a_level                     0.02%  \n",
       "rougher.output.recovery                                        0.00%  \n",
       "rougher.input.feed_au                                          0.00%  \n",
       "rougher.input.feed_ag                                          0.00%  \n",
       "primary_cleaner.input.feed_size                                0.00%  \n",
       "rougher.state.floatbank10_f_level                              0.00%  \n",
       "rougher.state.floatbank10_f_air                                0.00%  \n",
       "rougher.state.floatbank10_e_level                              0.00%  \n",
       "rougher.state.floatbank10_d_level                              0.00%  \n",
       "rougher.state.floatbank10_d_air                                0.00%  \n",
       "final.output.recovery                                          0.00%  "
      ]
     },
     "execution_count": 31,
     "metadata": {},
     "output_type": "execute_result"
    }
   ],
   "source": [
    "pd.DataFrame({'missing_values_number' : data_test.isna().sum(), \n",
    "              'missing_values_percentage' : (data_test.isna().sum() * 100 /\n",
    "                                             data_test.shape[0]).apply\n",
    "              (lambda x : \"{:.2f}%\".format(x))}).sort_values(by='missing_values_number', ascending=False)"
   ]
  },
  {
   "cell_type": "code",
   "execution_count": 32,
   "metadata": {},
   "outputs": [],
   "source": [
    "data_test = data_test.ffill()\n",
    "\n",
    "if data_test.isna().sum().max() > 0:\n",
    "    data_test = data_test.bfill()"
   ]
  },
  {
   "cell_type": "markdown",
   "metadata": {},
   "source": [
    "Посмотрим, все ли пропуски заполнились. "
   ]
  },
  {
   "cell_type": "code",
   "execution_count": 33,
   "metadata": {},
   "outputs": [
    {
     "data": {
      "text/plain": [
       "0"
      ]
     },
     "execution_count": 33,
     "metadata": {},
     "output_type": "execute_result"
    }
   ],
   "source": [
    "data_train.isna().sum().max()"
   ]
  },
  {
   "cell_type": "code",
   "execution_count": 34,
   "metadata": {},
   "outputs": [
    {
     "data": {
      "text/plain": [
       "0"
      ]
     },
     "execution_count": 34,
     "metadata": {},
     "output_type": "execute_result"
    }
   ],
   "source": [
    "data_test.isna().sum().max()"
   ]
  },
  {
   "cell_type": "markdown",
   "metadata": {},
   "source": [
    "### Вывод"
   ]
  },
  {
   "cell_type": "markdown",
   "metadata": {},
   "source": [
    "**Знакомство с данными**\n",
    "\n",
    "Нам было дано три датасета : \n",
    "\n",
    "- Исходный набор данных\n",
    "    - 19439 записей\n",
    "    - 87 колонок\n",
    "- Обучающий набор данных:\n",
    "    - 14579 записей\n",
    "    - 87 колонок\n",
    "- Тестовый набор данных:\n",
    "    - 4860 записей\n",
    "    - 53 колонки\n",
    "\n",
    "**Расчет эффективности обогащения** \n",
    "\n",
    "Значение средней абсолютной ошибки (MAE) между заданным и рассчитанным показателями составляет  ~$\\ 1.12 * 10^{-14} \\$, что можно считать незначительной погрешностью. Следовательно, предоставленные данные содержат корректно расчитанную эффективность обогащения.\n",
    " \n",
    "**Анализ признаков, отсутствующих в тестовой выборке**\n",
    " \n",
    "В тестовой выборке отсутствуют признаки, относящиеся к типам `calculation` и `output`. Данный факт, вероятно, обусловлен тем, что эти данные обычно получаются позже и требуют дополнительных измерений или лабораторных анализов. Это указывает на необходимость разработки модели, способной функционировать на основе ограниченного набора входных данных.\n",
    "\n",
    "**Предобработка данных**\n",
    "\n",
    "- Изменен тип данных для колонки `date`.\n",
    "- В тестовую выборку добавлены целевые признаки с целью последующей оценки модели.\n",
    "- Из обучающей выборки удалены признаки, недоступные в реальном времени.\n",
    "- Произведено заполнение пропущенный признаков предыдущим или следующим значением. \n",
    "- После предобработки в обучающем и тестовом наборах осталось исходное количество записей, 54 колонки и индекс `date`.\n",
    "\n",
    "В результате проведенных операций, данные подготовлены для дальнейшего анализа, также построения и оценки моделей машинного обучения. "
   ]
  },
  {
   "cell_type": "markdown",
   "metadata": {},
   "source": [
    "## Анализ данных"
   ]
  },
  {
   "cell_type": "markdown",
   "metadata": {},
   "source": [
    "На текущем этапе проведем анализ данных, исследуем эффективность процесса путем изучения изменения концентрации металлов на разных этапах производства и сравним распределения размеров гранул исходного сырья для уверенности в том, что  в обучающей и тестовой выборках между ними нет существенных отличий. "
   ]
  },
  {
   "cell_type": "markdown",
   "metadata": {},
   "source": [
    "Добавим словари с расшифровками терминов. "
   ]
  },
  {
   "cell_type": "code",
   "execution_count": 35,
   "metadata": {},
   "outputs": [],
   "source": [
    "metals = {'au' : 'Золото', 'ag' : 'Серебро', 'pb' : 'Свинец'}"
   ]
  },
  {
   "cell_type": "code",
   "execution_count": 36,
   "metadata": {},
   "outputs": [],
   "source": [
    "stages = {'rougher' : 'флотация', 'primary_cleaner' : 'первичная очистка', 'secondary_cleaner' : 'вторичная очистка', \n",
    "         'final' : 'финальные характеристики'}"
   ]
  },
  {
   "cell_type": "code",
   "execution_count": 37,
   "metadata": {},
   "outputs": [],
   "source": [
    "parameter_types = {'input' : 'параметры сырья', 'output' : 'параметры продукта', \n",
    "                  'state' : 'параметры, характеризующие текущее состояние этапа', 'calculation' : 'расчётные характеристики'}"
   ]
  },
  {
   "cell_type": "markdown",
   "metadata": {},
   "source": [
    "### Изменение концентрации металлов на различных этапах"
   ]
  },
  {
   "cell_type": "markdown",
   "metadata": {},
   "source": [
    "Сохраним в отдельный словарь этапы, которые необходимо исследовать. "
   ]
  },
  {
   "cell_type": "code",
   "execution_count": 38,
   "metadata": {},
   "outputs": [],
   "source": [
    "stages_to_examine = {'rougher.input.feed' : 'В сырье', 'rougher.output.concentrate' : 'В черновом концентрате', \n",
    "               'primary_cleaner.output.concentrate' : 'После 1-ой очистки', \n",
    "               'final.output.concentrate' : 'В финальном концентрате'}"
   ]
  },
  {
   "cell_type": "markdown",
   "metadata": {},
   "source": [
    "Выведем статистку для каждого металла и каждого этапа. "
   ]
  },
  {
   "cell_type": "code",
   "execution_count": 39,
   "metadata": {},
   "outputs": [
    {
     "name": "stdout",
     "output_type": "stream",
     "text": [
      "Статистики для металла \"Золото\"\n"
     ]
    },
    {
     "data": {
      "text/html": [
       "<div>\n",
       "<style scoped>\n",
       "    .dataframe tbody tr th:only-of-type {\n",
       "        vertical-align: middle;\n",
       "    }\n",
       "\n",
       "    .dataframe tbody tr th {\n",
       "        vertical-align: top;\n",
       "    }\n",
       "\n",
       "    .dataframe thead th {\n",
       "        text-align: right;\n",
       "    }\n",
       "</style>\n",
       "<table border=\"1\" class=\"dataframe\">\n",
       "  <thead>\n",
       "    <tr style=\"text-align: right;\">\n",
       "      <th></th>\n",
       "      <th>rougher.input.feed_au</th>\n",
       "      <th>rougher.output.concentrate_au</th>\n",
       "      <th>primary_cleaner.output.concentrate_au</th>\n",
       "      <th>final.output.concentrate_au</th>\n",
       "    </tr>\n",
       "  </thead>\n",
       "  <tbody>\n",
       "    <tr>\n",
       "      <th>count</th>\n",
       "      <td>19439.000000</td>\n",
       "      <td>19439.000000</td>\n",
       "      <td>19439.000000</td>\n",
       "      <td>19439.000000</td>\n",
       "    </tr>\n",
       "    <tr>\n",
       "      <th>mean</th>\n",
       "      <td>8.266097</td>\n",
       "      <td>19.772000</td>\n",
       "      <td>32.119400</td>\n",
       "      <td>44.076513</td>\n",
       "    </tr>\n",
       "    <tr>\n",
       "      <th>std</th>\n",
       "      <td>1.955092</td>\n",
       "      <td>3.753600</td>\n",
       "      <td>5.627611</td>\n",
       "      <td>5.129784</td>\n",
       "    </tr>\n",
       "    <tr>\n",
       "      <th>min</th>\n",
       "      <td>0.010000</td>\n",
       "      <td>0.000000</td>\n",
       "      <td>0.000000</td>\n",
       "      <td>0.000000</td>\n",
       "    </tr>\n",
       "    <tr>\n",
       "      <th>25%</th>\n",
       "      <td>6.854384</td>\n",
       "      <td>18.802523</td>\n",
       "      <td>30.463140</td>\n",
       "      <td>43.402215</td>\n",
       "    </tr>\n",
       "    <tr>\n",
       "      <th>50%</th>\n",
       "      <td>8.125839</td>\n",
       "      <td>20.280214</td>\n",
       "      <td>32.841295</td>\n",
       "      <td>45.011244</td>\n",
       "    </tr>\n",
       "    <tr>\n",
       "      <th>75%</th>\n",
       "      <td>9.769917</td>\n",
       "      <td>21.717843</td>\n",
       "      <td>35.048006</td>\n",
       "      <td>46.275313</td>\n",
       "    </tr>\n",
       "    <tr>\n",
       "      <th>max</th>\n",
       "      <td>13.731330</td>\n",
       "      <td>28.824507</td>\n",
       "      <td>45.933934</td>\n",
       "      <td>52.756638</td>\n",
       "    </tr>\n",
       "  </tbody>\n",
       "</table>\n",
       "</div>"
      ],
      "text/plain": [
       "       rougher.input.feed_au  rougher.output.concentrate_au  \\\n",
       "count           19439.000000                   19439.000000   \n",
       "mean                8.266097                      19.772000   \n",
       "std                 1.955092                       3.753600   \n",
       "min                 0.010000                       0.000000   \n",
       "25%                 6.854384                      18.802523   \n",
       "50%                 8.125839                      20.280214   \n",
       "75%                 9.769917                      21.717843   \n",
       "max                13.731330                      28.824507   \n",
       "\n",
       "       primary_cleaner.output.concentrate_au  final.output.concentrate_au  \n",
       "count                           19439.000000                 19439.000000  \n",
       "mean                               32.119400                    44.076513  \n",
       "std                                 5.627611                     5.129784  \n",
       "min                                 0.000000                     0.000000  \n",
       "25%                                30.463140                    43.402215  \n",
       "50%                                32.841295                    45.011244  \n",
       "75%                                35.048006                    46.275313  \n",
       "max                                45.933934                    52.756638  "
      ]
     },
     "metadata": {},
     "output_type": "display_data"
    },
    {
     "name": "stdout",
     "output_type": "stream",
     "text": [
      "Статистики для металла \"Серебро\"\n"
     ]
    },
    {
     "data": {
      "text/html": [
       "<div>\n",
       "<style scoped>\n",
       "    .dataframe tbody tr th:only-of-type {\n",
       "        vertical-align: middle;\n",
       "    }\n",
       "\n",
       "    .dataframe tbody tr th {\n",
       "        vertical-align: top;\n",
       "    }\n",
       "\n",
       "    .dataframe thead th {\n",
       "        text-align: right;\n",
       "    }\n",
       "</style>\n",
       "<table border=\"1\" class=\"dataframe\">\n",
       "  <thead>\n",
       "    <tr style=\"text-align: right;\">\n",
       "      <th></th>\n",
       "      <th>rougher.input.feed_ag</th>\n",
       "      <th>rougher.output.concentrate_ag</th>\n",
       "      <th>primary_cleaner.output.concentrate_ag</th>\n",
       "      <th>final.output.concentrate_ag</th>\n",
       "    </tr>\n",
       "  </thead>\n",
       "  <tbody>\n",
       "    <tr>\n",
       "      <th>count</th>\n",
       "      <td>19439.000000</td>\n",
       "      <td>19439.000000</td>\n",
       "      <td>19439.000000</td>\n",
       "      <td>19438.000000</td>\n",
       "    </tr>\n",
       "    <tr>\n",
       "      <th>mean</th>\n",
       "      <td>8.794927</td>\n",
       "      <td>11.994759</td>\n",
       "      <td>8.442408</td>\n",
       "      <td>5.168470</td>\n",
       "    </tr>\n",
       "    <tr>\n",
       "      <th>std</th>\n",
       "      <td>1.936847</td>\n",
       "      <td>2.733862</td>\n",
       "      <td>2.054465</td>\n",
       "      <td>1.372348</td>\n",
       "    </tr>\n",
       "    <tr>\n",
       "      <th>min</th>\n",
       "      <td>0.010000</td>\n",
       "      <td>0.000000</td>\n",
       "      <td>0.000000</td>\n",
       "      <td>0.000000</td>\n",
       "    </tr>\n",
       "    <tr>\n",
       "      <th>25%</th>\n",
       "      <td>7.237967</td>\n",
       "      <td>10.628337</td>\n",
       "      <td>7.263288</td>\n",
       "      <td>4.251240</td>\n",
       "    </tr>\n",
       "    <tr>\n",
       "      <th>50%</th>\n",
       "      <td>8.593574</td>\n",
       "      <td>12.098115</td>\n",
       "      <td>8.507298</td>\n",
       "      <td>5.066094</td>\n",
       "    </tr>\n",
       "    <tr>\n",
       "      <th>75%</th>\n",
       "      <td>10.213771</td>\n",
       "      <td>13.736996</td>\n",
       "      <td>9.809001</td>\n",
       "      <td>5.895527</td>\n",
       "    </tr>\n",
       "    <tr>\n",
       "      <th>max</th>\n",
       "      <td>14.596026</td>\n",
       "      <td>24.480271</td>\n",
       "      <td>16.081632</td>\n",
       "      <td>16.001945</td>\n",
       "    </tr>\n",
       "  </tbody>\n",
       "</table>\n",
       "</div>"
      ],
      "text/plain": [
       "       rougher.input.feed_ag  rougher.output.concentrate_ag  \\\n",
       "count           19439.000000                   19439.000000   \n",
       "mean                8.794927                      11.994759   \n",
       "std                 1.936847                       2.733862   \n",
       "min                 0.010000                       0.000000   \n",
       "25%                 7.237967                      10.628337   \n",
       "50%                 8.593574                      12.098115   \n",
       "75%                10.213771                      13.736996   \n",
       "max                14.596026                      24.480271   \n",
       "\n",
       "       primary_cleaner.output.concentrate_ag  final.output.concentrate_ag  \n",
       "count                           19439.000000                 19438.000000  \n",
       "mean                                8.442408                     5.168470  \n",
       "std                                 2.054465                     1.372348  \n",
       "min                                 0.000000                     0.000000  \n",
       "25%                                 7.263288                     4.251240  \n",
       "50%                                 8.507298                     5.066094  \n",
       "75%                                 9.809001                     5.895527  \n",
       "max                                16.081632                    16.001945  "
      ]
     },
     "metadata": {},
     "output_type": "display_data"
    },
    {
     "name": "stdout",
     "output_type": "stream",
     "text": [
      "Статистики для металла \"Свинец\"\n"
     ]
    },
    {
     "data": {
      "text/html": [
       "<div>\n",
       "<style scoped>\n",
       "    .dataframe tbody tr th:only-of-type {\n",
       "        vertical-align: middle;\n",
       "    }\n",
       "\n",
       "    .dataframe tbody tr th {\n",
       "        vertical-align: top;\n",
       "    }\n",
       "\n",
       "    .dataframe thead th {\n",
       "        text-align: right;\n",
       "    }\n",
       "</style>\n",
       "<table border=\"1\" class=\"dataframe\">\n",
       "  <thead>\n",
       "    <tr style=\"text-align: right;\">\n",
       "      <th></th>\n",
       "      <th>rougher.input.feed_pb</th>\n",
       "      <th>rougher.output.concentrate_pb</th>\n",
       "      <th>primary_cleaner.output.concentrate_pb</th>\n",
       "      <th>final.output.concentrate_pb</th>\n",
       "    </tr>\n",
       "  </thead>\n",
       "  <tbody>\n",
       "    <tr>\n",
       "      <th>count</th>\n",
       "      <td>19339.000000</td>\n",
       "      <td>19439.000000</td>\n",
       "      <td>19323.000000</td>\n",
       "      <td>19438.000000</td>\n",
       "    </tr>\n",
       "    <tr>\n",
       "      <th>mean</th>\n",
       "      <td>3.598085</td>\n",
       "      <td>7.606272</td>\n",
       "      <td>9.829530</td>\n",
       "      <td>9.978895</td>\n",
       "    </tr>\n",
       "    <tr>\n",
       "      <th>std</th>\n",
       "      <td>1.049486</td>\n",
       "      <td>1.796757</td>\n",
       "      <td>2.556843</td>\n",
       "      <td>1.669240</td>\n",
       "    </tr>\n",
       "    <tr>\n",
       "      <th>min</th>\n",
       "      <td>0.010000</td>\n",
       "      <td>0.000000</td>\n",
       "      <td>0.000000</td>\n",
       "      <td>0.000000</td>\n",
       "    </tr>\n",
       "    <tr>\n",
       "      <th>25%</th>\n",
       "      <td>2.887280</td>\n",
       "      <td>6.725987</td>\n",
       "      <td>8.702328</td>\n",
       "      <td>9.137262</td>\n",
       "    </tr>\n",
       "    <tr>\n",
       "      <th>50%</th>\n",
       "      <td>3.534895</td>\n",
       "      <td>7.742580</td>\n",
       "      <td>10.152433</td>\n",
       "      <td>10.102433</td>\n",
       "    </tr>\n",
       "    <tr>\n",
       "      <th>75%</th>\n",
       "      <td>4.244161</td>\n",
       "      <td>8.565199</td>\n",
       "      <td>11.424971</td>\n",
       "      <td>11.035769</td>\n",
       "    </tr>\n",
       "    <tr>\n",
       "      <th>max</th>\n",
       "      <td>7.142594</td>\n",
       "      <td>13.617072</td>\n",
       "      <td>17.081278</td>\n",
       "      <td>17.031899</td>\n",
       "    </tr>\n",
       "  </tbody>\n",
       "</table>\n",
       "</div>"
      ],
      "text/plain": [
       "       rougher.input.feed_pb  rougher.output.concentrate_pb  \\\n",
       "count           19339.000000                   19439.000000   \n",
       "mean                3.598085                       7.606272   \n",
       "std                 1.049486                       1.796757   \n",
       "min                 0.010000                       0.000000   \n",
       "25%                 2.887280                       6.725987   \n",
       "50%                 3.534895                       7.742580   \n",
       "75%                 4.244161                       8.565199   \n",
       "max                 7.142594                      13.617072   \n",
       "\n",
       "       primary_cleaner.output.concentrate_pb  final.output.concentrate_pb  \n",
       "count                           19323.000000                 19438.000000  \n",
       "mean                                9.829530                     9.978895  \n",
       "std                                 2.556843                     1.669240  \n",
       "min                                 0.000000                     0.000000  \n",
       "25%                                 8.702328                     9.137262  \n",
       "50%                                10.152433                    10.102433  \n",
       "75%                                11.424971                    11.035769  \n",
       "max                                17.081278                    17.031899  "
      ]
     },
     "metadata": {},
     "output_type": "display_data"
    }
   ],
   "source": [
    "list_of_cols = list(stages_to_examine.keys())\n",
    "\n",
    "for metal in metals:\n",
    "    cols = [x + '_' + metal for x in list_of_cols]\n",
    "    print(f'Статистики для металла \"{metals[metal]}\"')\n",
    "    display(data_full[cols].describe())"
   ]
  },
  {
   "cell_type": "markdown",
   "metadata": {},
   "source": [
    "Для начала изучим среднюю концентрацию каждого металла на каждом этапе производства. "
   ]
  },
  {
   "cell_type": "code",
   "execution_count": 40,
   "metadata": {},
   "outputs": [],
   "source": [
    "metals_conc_at_stages = pd.DataFrame(columns=['metal', 'rougher.input.feed', 'rougher.output.concentrate', \n",
    "                                              'primary_cleaner.output.concentrate', 'final.output.concentrate'])\n",
    "metals_conc_at_stages.set_index('metal', inplace=True)"
   ]
  },
  {
   "cell_type": "code",
   "execution_count": 41,
   "metadata": {},
   "outputs": [],
   "source": [
    "for metal in metals:\n",
    "    metal_data = []\n",
    "    for stage in stages_to_examine:\n",
    "        col_name = f'{stage}_{metal}'\n",
    "        metal_data.append(data_full[col_name].mean())\n",
    "    metals_conc_at_stages.loc[metal] = metal_data"
   ]
  },
  {
   "cell_type": "code",
   "execution_count": 42,
   "metadata": {},
   "outputs": [
    {
     "data": {
      "text/html": [
       "<div>\n",
       "<style scoped>\n",
       "    .dataframe tbody tr th:only-of-type {\n",
       "        vertical-align: middle;\n",
       "    }\n",
       "\n",
       "    .dataframe tbody tr th {\n",
       "        vertical-align: top;\n",
       "    }\n",
       "\n",
       "    .dataframe thead th {\n",
       "        text-align: right;\n",
       "    }\n",
       "</style>\n",
       "<table border=\"1\" class=\"dataframe\">\n",
       "  <thead>\n",
       "    <tr style=\"text-align: right;\">\n",
       "      <th></th>\n",
       "      <th>rougher.input.feed</th>\n",
       "      <th>rougher.output.concentrate</th>\n",
       "      <th>primary_cleaner.output.concentrate</th>\n",
       "      <th>final.output.concentrate</th>\n",
       "    </tr>\n",
       "    <tr>\n",
       "      <th>metal</th>\n",
       "      <th></th>\n",
       "      <th></th>\n",
       "      <th></th>\n",
       "      <th></th>\n",
       "    </tr>\n",
       "  </thead>\n",
       "  <tbody>\n",
       "    <tr>\n",
       "      <th>au</th>\n",
       "      <td>8.266097</td>\n",
       "      <td>19.772000</td>\n",
       "      <td>32.119400</td>\n",
       "      <td>44.076513</td>\n",
       "    </tr>\n",
       "    <tr>\n",
       "      <th>ag</th>\n",
       "      <td>8.794927</td>\n",
       "      <td>11.994759</td>\n",
       "      <td>8.442408</td>\n",
       "      <td>5.168470</td>\n",
       "    </tr>\n",
       "    <tr>\n",
       "      <th>pb</th>\n",
       "      <td>3.598085</td>\n",
       "      <td>7.606272</td>\n",
       "      <td>9.829530</td>\n",
       "      <td>9.978895</td>\n",
       "    </tr>\n",
       "  </tbody>\n",
       "</table>\n",
       "</div>"
      ],
      "text/plain": [
       "       rougher.input.feed  rougher.output.concentrate  \\\n",
       "metal                                                   \n",
       "au               8.266097                   19.772000   \n",
       "ag               8.794927                   11.994759   \n",
       "pb               3.598085                    7.606272   \n",
       "\n",
       "       primary_cleaner.output.concentrate  final.output.concentrate  \n",
       "metal                                                                \n",
       "au                              32.119400                 44.076513  \n",
       "ag                               8.442408                  5.168470  \n",
       "pb                               9.829530                  9.978895  "
      ]
     },
     "execution_count": 42,
     "metadata": {},
     "output_type": "execute_result"
    }
   ],
   "source": [
    "metals_conc_at_stages"
   ]
  },
  {
   "cell_type": "code",
   "execution_count": 43,
   "metadata": {},
   "outputs": [
    {
     "data": {
      "image/png": "[encoded data removed]",
      "text/plain": [
       "<Figure size 864x576 with 1 Axes>"
      ]
     },
     "metadata": {
      "needs_background": "light"
     },
     "output_type": "display_data"
    }
   ],
   "source": [
    "plt.figure(figsize=(12, 8))\n",
    "\n",
    "for metal in metals: \n",
    "    plt.plot(metals_conc_at_stages.columns.map(stages_to_examine), metals_conc_at_stages.loc[metal], marker='o', label=metals[metal])\n",
    "\n",
    "plt.legend(fontsize=12)\n",
    "plt.grid(True)\n",
    "plt.xlabel('\\n Этапы производства', size=14)\n",
    "plt.ylabel('Концентрация металла (в %)', size=14)\n",
    "plt.title('Концентрация металлов на различных этапах производства \\n', size=14)\n",
    "plt.show()"
   ]
  },
  {
   "cell_type": "markdown",
   "metadata": {},
   "source": [
    "- Золото (Au):  \n",
    "Концентрация золота увеличивается на каждом этапе и достигает максимума в финальном концентрате (почти 45% в среднем), что является ожидаемым и хорошим показателем эффективности процесса.\n",
    "- Серебро (Ag):  \n",
    "Концентрация серебра немного увеличивается после первого этапа, но затем уменьшается. Это может быть связано с тем, что серебро удаляется на этапах очистки.\n",
    "- Свинец (Pb):  \n",
    "Концентрация свинца увеличивается на каждом этапе и достигает максимума в финальном концентрате. Максимальное значение свинца равно 10% в среднем. "
   ]
  },
  {
   "cell_type": "markdown",
   "metadata": {},
   "source": [
    "Построим гистограммы распределений концентраций металлов на каждом этапе. "
   ]
  },
  {
   "cell_type": "code",
   "execution_count": 44,
   "metadata": {
    "scrolled": false
   },
   "outputs": [
    {
     "data": {
      "image/png": "[encoded data removed]",
      "text/plain": [
       "<Figure size 864x576 with 1 Axes>"
      ]
     },
     "metadata": {
      "needs_background": "light"
     },
     "output_type": "display_data"
    },
    {
     "data": {
      "image/png": "[encoded data removed]",
      "text/plain": [
       "<Figure size 864x576 with 1 Axes>"
      ]
     },
     "metadata": {
      "needs_background": "light"
     },
     "output_type": "display_data"
    },
    {
     "data": {
      "image/png": "[encoded data removed]",
      "text/plain": [
       "<Figure size 864x576 with 1 Axes>"
      ]
     },
     "metadata": {
      "needs_background": "light"
     },
     "output_type": "display_data"
    },
    {
     "data": {
      "image/png": "[encoded data removed]",
      "text/plain": [
       "<Figure size 864x576 with 1 Axes>"
      ]
     },
     "metadata": {
      "needs_background": "light"
     },
     "output_type": "display_data"
    }
   ],
   "source": [
    "for stage in stages_to_examine:\n",
    "    fig, ax = plt.subplots(figsize=(12, 8))\n",
    "    for metal in metals: \n",
    "        col_name = stage + '_' + metal\n",
    "        ax.hist(data_full[col_name], bins=30, alpha=0.55, label=metals[metal])\n",
    "    ax.legend()\n",
    "    ax.grid(True)\n",
    "    title = stages_to_examine[stage] + '\\n'\n",
    "    ax.set_title(title, size=16)\n",
    "    ax.set_xlabel('Концентрация металла (в %)', size=12)\n",
    "    ax.set_ylabel('Частота', size=12)  \n",
    "    plt.show()"
   ]
  },
  {
   "cell_type": "markdown",
   "metadata": {},
   "source": [
    "Распдереления имеют достаточно плавные формы, хорошо отображающие концентрацию металлов на разных этапах. Однако на этапах 2-4 видны пики в районе 0%, что выбивается из общей картины.  \n",
    "Посмотрим, что это за пики. "
   ]
  },
  {
   "cell_type": "code",
   "execution_count": 45,
   "metadata": {},
   "outputs": [
    {
     "name": "stdout",
     "output_type": "stream",
     "text": [
      "(0.0018700000000000001, 0.248]    11\n",
      "(0.248, 0.486]                    22\n",
      "(0.486, 0.723]                    23\n",
      "Name: rougher.input.feed_pb, dtype: int64\n",
      "(-0.014599999999999998, 0.454]    400\n",
      "(0.454, 0.908]                      3\n",
      "(0.908, 1.362]                      2\n",
      "Name: rougher.output.concentrate_pb, dtype: int64\n",
      "(-0.0181, 0.569]    247\n",
      "(0.569, 1.139]       15\n",
      "(1.139, 1.708]       22\n",
      "Name: primary_cleaner.output.concentrate_pb, dtype: int64\n",
      "(-0.018000000000000002, 0.568]    100\n",
      "(0.568, 1.135]                      3\n",
      "(1.135, 1.703]                      9\n",
      "Name: final.output.concentrate_pb, dtype: int64\n"
     ]
    }
   ],
   "source": [
    "for stage in stages_to_examine:\n",
    "    col_name = stage + '_' + metal\n",
    "    print(data_full[col_name].value_counts(bins=30).sort_index().head(3))"
   ]
  },
  {
   "cell_type": "markdown",
   "metadata": {},
   "source": [
    "Для этапов 2-4 оставим только те записи, у которых концентрация больше 0.6%. "
   ]
  },
  {
   "cell_type": "code",
   "execution_count": 46,
   "metadata": {},
   "outputs": [
    {
     "name": "stdout",
     "output_type": "stream",
     "text": [
      "18604\n"
     ]
    }
   ],
   "source": [
    "for stage in stages_to_examine:\n",
    "    if stage != 'rougher.input.feed':\n",
    "        for metal in metals:\n",
    "            col_name = stage + '_' + metal\n",
    "            data_full = data_full[data_full[col_name] > 0.6]\n",
    "            \n",
    "print(len(data_full))"
   ]
  },
  {
   "cell_type": "code",
   "execution_count": 47,
   "metadata": {
    "scrolled": false
   },
   "outputs": [
    {
     "data": {
      "image/png": "[encoded data removed]",
      "text/plain": [
       "<Figure size 864x576 with 1 Axes>"
      ]
     },
     "metadata": {
      "needs_background": "light"
     },
     "output_type": "display_data"
    },
    {
     "data": {
      "image/png": "[encoded data removed]",
      "text/plain": [
       "<Figure size 864x576 with 1 Axes>"
      ]
     },
     "metadata": {
      "needs_background": "light"
     },
     "output_type": "display_data"
    },
    {
     "data": {
      "image/png": "[encoded data removed]",
      "text/plain": [
       "<Figure size 864x576 with 1 Axes>"
      ]
     },
     "metadata": {
      "needs_background": "light"
     },
     "output_type": "display_data"
    },
    {
     "data": {
      "image/png": "[encoded data removed]",
      "text/plain": [
       "<Figure size 864x576 with 1 Axes>"
      ]
     },
     "metadata": {
      "needs_background": "light"
     },
     "output_type": "display_data"
    }
   ],
   "source": [
    "for stage in stages_to_examine:\n",
    "    fig, ax = plt.subplots(figsize=(12, 8))\n",
    "    for metal in metals: \n",
    "        col_name = stage + '_' + metal\n",
    "        ax.hist(data_full[col_name], bins=30, alpha=0.55, label=metals[metal])\n",
    "    ax.legend()\n",
    "    ax.grid(True)\n",
    "    title = stages_to_examine[stage] + '\\n'\n",
    "    ax.set_title(title, size=16)\n",
    "    ax.set_xlabel('Концентрация металла (в %)', size=12)\n",
    "    ax.set_ylabel('Частота', size=12)  \n",
    "    plt.show()"
   ]
  },
  {
   "cell_type": "markdown",
   "metadata": {},
   "source": [
    "Аномалии в данных были удалены и гистограммы стали лучше отображать реальную картину. "
   ]
  },
  {
   "cell_type": "markdown",
   "metadata": {},
   "source": [
    "- Сырье\n",
    "    - Распределение свинца имеет вид, похожий на нормальный\n",
    "    - Распределения серебра и золота имеют смещение вправо\n",
    "    - Концентрация свинца наименьшая \n",
    "    - Наибольшая концентрация наблюдается у серебра, с максимальным значением, равным чуть больше 14%\n",
    "    - Распределения золота и серебра практически накладываются друг на друга\n",
    "- В черновом концентрате\n",
    "    - Распределения всех трех металлов имеют вид, похожий на нормальный, распределение серебра чуть смещено вправо \n",
    "    - Концентрация золота стала наибольшей, пик гистограммы находится в районе 19%, а максимальное значение - чуть меньше 30%\n",
    "    - На втором месте находится серебро, концентрация его чаще всего составляет примерно от 10% до 15%.\n",
    "    - Концентрация свинца наименьшая и имеет пик в районе 8-9%\n",
    "- После первой очистки\n",
    "    - Распределения всех трех металлов имеют вид, похожий на нормальный\n",
    "    - Концентрация золота чаще всего составляет от 28% до 38%. \n",
    "    - Концентрация серебра чаще всего равна 6-10%.\n",
    "    - Пиковая концентрация свинца составляет примерно от 8% до 12%.\n",
    "- В финальном концентрате\n",
    "    - Концентрации золота и свинца достигают максимума, серебра - минимума \n",
    "    - Пик для золота - 45%, максимальное значение превосходит 50%\n",
    "    - Серебро составляет около 3-8%\n",
    "    - Пиковая концентрация свинца составляет примерно от 8% до 12%.\n",
    "    \n",
    "Таким образом, в сырье концентрации металлов минимальны, так как никакой обработки не производилось, а в конечном продукте концентрация золота максимальна, что и следовало ожидать. \n",
    "Хотя в финальном концентрате распределения для золота имеет хвост слева, в целом можно сказать, что процесс работает эффективно. Однако эти данные можно учесть для дальнейшей оптимизации технологического процесса. \n",
    "В конечном продукте находится достаточно много свинца, что может быть нежелательным, так как свинец не является целевым металлом. "
   ]
  },
  {
   "cell_type": "markdown",
   "metadata": {},
   "source": [
    "Нам важно иметь \"чистые\" данные в обучающей выборке. Так как на данном этапе мы нашли аномалии в датасете с исходной информацией и удалили их, оставим в датасете с обучающей выборкой только те строки, которые не были удалены из исходного. "
   ]
  },
  {
   "cell_type": "code",
   "execution_count": 48,
   "metadata": {},
   "outputs": [],
   "source": [
    "data_train = data_train[data_train.index.isin(data_full.index)]"
   ]
  },
  {
   "cell_type": "markdown",
   "metadata": {},
   "source": [
    "### Сравнение распределения гранул исходного сырья на выборках"
   ]
  },
  {
   "cell_type": "markdown",
   "metadata": {},
   "source": [
    "В технологическом процессе золотодобычи гранулы исходного сырья — это частицы руды, которые подготовлены для дальнейшей обработки. Размер этих гранул имеет большое значение для эффективности всего процесса. Если распределения размеров гранул сильно отличается на обучающей и тестовой выборках, модель, обученная на одном распределении размеров гранул, может плохо работать на данных с другим распределением, что приведет к недостоверным или неприменимым прогнозам."
   ]
  },
  {
   "cell_type": "markdown",
   "metadata": {},
   "source": [
    "Для начала посмотрим на численные статистики. "
   ]
  },
  {
   "cell_type": "code",
   "execution_count": 49,
   "metadata": {},
   "outputs": [
    {
     "data": {
      "text/plain": [
       "count    13798.000000\n",
       "mean        59.015343\n",
       "std         22.549617\n",
       "min          0.049194\n",
       "25%         47.329881\n",
       "50%         54.486478\n",
       "75%         64.299720\n",
       "max        484.967466\n",
       "Name: rougher.input.feed_size, dtype: float64"
      ]
     },
     "execution_count": 49,
     "metadata": {},
     "output_type": "execute_result"
    }
   ],
   "source": [
    "data_train['rougher.input.feed_size'].describe()"
   ]
  },
  {
   "cell_type": "code",
   "execution_count": 50,
   "metadata": {},
   "outputs": [
    {
     "data": {
      "text/plain": [
       "count    4860.000000\n",
       "mean       59.136150\n",
       "std        19.512497\n",
       "min         0.046369\n",
       "25%        47.610795\n",
       "50%        55.461058\n",
       "75%        66.538910\n",
       "max       363.989699\n",
       "Name: rougher.input.feed_size, dtype: float64"
      ]
     },
     "execution_count": 50,
     "metadata": {},
     "output_type": "execute_result"
    }
   ],
   "source": [
    "data_test['rougher.input.feed_size'].describe()"
   ]
  },
  {
   "cell_type": "markdown",
   "metadata": {},
   "source": [
    "Построим диаграмму с усами, чтобы понять размах размера гранул для обеих выборок, также визуально отобразить медианы и межквартильные размахи. "
   ]
  },
  {
   "cell_type": "code",
   "execution_count": 51,
   "metadata": {},
   "outputs": [
    {
     "data": {
      "image/png": "[encoded data removed]",
      "text/plain": [
       "<Figure size 720x1080 with 1 Axes>"
      ]
     },
     "metadata": {
      "needs_background": "light"
     },
     "output_type": "display_data"
    }
   ],
   "source": [
    "plt.figure(figsize=(10, 15))\n",
    "ax = sns.boxplot(data=[data_train['rougher.input.feed_size'], data_test['rougher.input.feed_size']])\n",
    "ax.set_xticklabels(['Обучающая', 'Тестовая'])\n",
    "plt.grid(True)\n",
    "plt.ylabel('Размер гранул исходного сырья')\n",
    "plt.title('Диаграмма с усами для размера гранул сырья на обучающей и тестовой выборках \\n', size=14)\n",
    "plt.show()"
   ]
  },
  {
   "cell_type": "markdown",
   "metadata": {},
   "source": [
    "На боксплотах видно, что, хотя на обучающей выборке есть выбросы, расположенные дальше, в целом границы межквартильного размаха и медианы в выборках очень похожи. "
   ]
  },
  {
   "cell_type": "code",
   "execution_count": 52,
   "metadata": {},
   "outputs": [
    {
     "data": {
      "image/png": "[encoded data removed]",
      "text/plain": [
       "<Figure size 720x576 with 1 Axes>"
      ]
     },
     "metadata": {
      "needs_background": "light"
     },
     "output_type": "display_data"
    }
   ],
   "source": [
    "plt.figure(figsize=(10, 8))\n",
    "plt.hist(data_train['rougher.input.feed_size'], bins=50, alpha=0.5, label='Обучающая', density=True)\n",
    "plt.hist(data_test['rougher.input.feed_size'], bins=50, alpha=0.5, label='Тестовая', density=True)\n",
    "plt.xlim(0, 150)\n",
    "plt.xlabel('\\n Размер гранул исходного сырья', size=12)\n",
    "plt.ylabel('Плотность распределения')\n",
    "plt.legend()\n",
    "plt.title('Гистограмма для размера гранул исходного сырья на обучающей и тестовой выборках \\n', size=14)\n",
    "plt.show()"
   ]
  },
  {
   "cell_type": "markdown",
   "metadata": {},
   "source": [
    "Мы нормализовали гистограммы, так как количество наблюдений в выборках отличается, а нам важно сравнить распределения. "
   ]
  },
  {
   "cell_type": "markdown",
   "metadata": {},
   "source": [
    "Из графика с нормализованными гистограммами видно, что распределения похожи, пики гистограм также расположены близко друг к другу, разброс данных не сильно отличается.  \n",
    "\n",
    "Можно сделать вывод, что распределения размеров гранул похожи, и проблем с переобучением модели на обучающей выборке не будет. "
   ]
  },
  {
   "cell_type": "markdown",
   "metadata": {},
   "source": [
    "### Суммарная концентрация металлов на разных стадиях"
   ]
  },
  {
   "cell_type": "markdown",
   "metadata": {},
   "source": [
    "Для начала изучим данные по средней суммарной концентрации металлов на каждом этапе. "
   ]
  },
  {
   "cell_type": "code",
   "execution_count": 53,
   "metadata": {},
   "outputs": [],
   "source": [
    "metal_data = []\n",
    "\n",
    "for stage in stages_to_examine:\n",
    "    metals_sum = 0\n",
    "    for metal in metals:\n",
    "        col_name = f'{stage}_{metal}'\n",
    "        metals_sum = metals_sum + data_full[col_name].mean()\n",
    "    metal_data.append(metals_sum)"
   ]
  },
  {
   "cell_type": "code",
   "execution_count": 54,
   "metadata": {},
   "outputs": [
    {
     "data": {
      "image/png": "[encoded data removed]",
      "text/plain": [
       "<Figure size 864x576 with 1 Axes>"
      ]
     },
     "metadata": {
      "needs_background": "light"
     },
     "output_type": "display_data"
    }
   ],
   "source": [
    "plt.figure(figsize=(12, 8))\n",
    "\n",
    "plt.plot(stages_to_examine.values(), metal_data, marker='o')\n",
    "\n",
    "plt.grid(True)\n",
    "plt.xlabel('\\n Этапы производства', size=14)\n",
    "plt.ylabel('Концентрация металла (в %)', size=14)\n",
    "plt.title('Суммарная концентрация металлов на различных этапах производства \\n', size=14)\n",
    "plt.show()"
   ]
  },
  {
   "cell_type": "markdown",
   "metadata": {},
   "source": [
    "На графике видно, что на каждом этапе суммарная концентрация металлов увеличивается. Это происходит за счет удаления из руды минералов, которые не содержат целевых металлов - происходит увеличение относительной концентрацию металлов в оставшемся материале.  \n",
    "Так как на каждом из этапов (флотация и два этапа очистки) происходит отделение \"отвальных хвостов\", к моменту получения финального концентрата, содержание металлов в продукте достигает максимума. "
   ]
  },
  {
   "cell_type": "markdown",
   "metadata": {},
   "source": [
    "Построим гистограммы распределений суммарной концентрации металлов на каждом этапе. "
   ]
  },
  {
   "cell_type": "code",
   "execution_count": 55,
   "metadata": {},
   "outputs": [
    {
     "data": {
      "image/png": "[encoded data removed]",
      "text/plain": [
       "<Figure size 576x432 with 1 Axes>"
      ]
     },
     "metadata": {
      "needs_background": "light"
     },
     "output_type": "display_data"
    },
    {
     "data": {
      "image/png": "[encoded data removed]",
      "text/plain": [
       "<Figure size 576x432 with 1 Axes>"
      ]
     },
     "metadata": {
      "needs_background": "light"
     },
     "output_type": "display_data"
    },
    {
     "data": {
      "image/png": "[encoded data removed]",
      "text/plain": [
       "<Figure size 576x432 with 1 Axes>"
      ]
     },
     "metadata": {
      "needs_background": "light"
     },
     "output_type": "display_data"
    },
    {
     "data": {
      "image/png": "[encoded data removed]",
      "text/plain": [
       "<Figure size 576x432 with 1 Axes>"
      ]
     },
     "metadata": {
      "needs_background": "light"
     },
     "output_type": "display_data"
    }
   ],
   "source": [
    "for stage in stages_to_examine:\n",
    "    fig, ax = plt.subplots(figsize=(8, 6))\n",
    "    col_names = []\n",
    "    for metal in metals: \n",
    "        col_name = stage + '_' + metal\n",
    "        col_names.append(col_name)\n",
    "    metals_conc_sum = data_full[col_names].sum(axis=1)\n",
    "    ax.hist(metals_conc_sum, bins=50)\n",
    "    ax.grid(True)\n",
    "    title = 'Гистограмма распределения суммарной концентрации металлов ' + stages_to_examine[stage].lower() + '\\n'\n",
    "    ax.set_title(title, size=16)\n",
    "    ax.set_xlabel('\\n Суммарная концентрация металлов (в %)', size=12)\n",
    "    ax.set_ylabel('Частота', size=12)  \n",
    "    plt.show()"
   ]
  },
  {
   "cell_type": "markdown",
   "metadata": {},
   "source": [
    "- Сырье\n",
    "     - Гистограмма имеет скос вправо, это показывает, что в исходном сырье суммарная концентрация металлов выше среднего бывает чаще, чем ниже среднего\n",
    "     - Пик находится в районе 16-18%, максимум почти достигает 35%\n",
    "- Черновой концентрат \n",
    "    - Гистограмма имеет нормальное распределение и хвост, уходящий влево\n",
    "    - Чаще всего суммарная концентрация составляет 39-41%\n",
    "- После первой очистки\n",
    "    - Суммарная концентрация металлов продолжает расти, пик находится в районе 52-54%\n",
    "    - Однако заметен и хвост слева, находящийся между 5 и 45%\n",
    "- Финальный концентрат\n",
    "     - Пик гистограммы находится у максимального большого значения, равного примерно 60-63%\n",
    "     - Основная часть значений лежит между 55 и 65%.\n",
    "     \n",
    "На каждом этапе можно заметить увеличение суммарной концентрации металлов, следовательно процесс отделения отвальных хвостов работает. \n",
    "Однако ассиметрия в распределениях на заключительных этапах, уходящие влево хвосты, могут указывать на возможности дальшейшего совершенствования процесса золотодобычи. "
   ]
  },
  {
   "cell_type": "markdown",
   "metadata": {},
   "source": [
    "### Вывод"
   ]
  },
  {
   "cell_type": "markdown",
   "metadata": {},
   "source": [
    "**Концентрация металлов на различных этапах**\n",
    "\n",
    "- Построив гистограммы в первый раз, были обнаружены аномалии - пики в районе 0%. Они были удалены из исходной и обучающей выборок. После очистки аномалий гистограммы приняли более реалистичный вид. \n",
    "\n",
    "- Концентрация золота увеличивается на каждом этапе обработки, начиная от исходного сырья и заканчивая финальным концентратом. Это указывает на эффективность процесса обогащения.\n",
    "  \n",
    "- Концентрация серебра, наоборот, уменьшается от этапа к этапу. Это может быть связано с тем, что серебро удаляется вместе с отвальными хвостами или не является целевым металлом в данном процессе.\n",
    "  \n",
    "- Концентрация свинца увеличивается, но не так значительно, как золота. Это может быть связано с химическими особенностями процесса или с тем, что свинец может быть частью других минералов, которые не удаляются на этапах очистки.\n",
    "\n",
    "**Распределение размеров гранул исходного сырья**\n",
    "\n",
    "- Сравнение распределений размеров гранул в обучающей и тестовой выборках показало, что они схожи. Это указывает на то, что модель, обученная на обучающей выборке, скорее всего, будет адекватно работать и на тестовой выборке. \n",
    "\n",
    "**Суммарная концентрация металлов на разных стадиях** \n",
    "\n",
    "- Суммарная концентрация металлов увеличивается от исходного сырья к финальному концентрату. Это подтверждает эффективность процесса обогащения и указывает на то, что большая часть нежелательных веществ и примесей удаляется на различных этапах обработки.\n",
    "\n",
    "Исследование показало, что процесс обогащения эффективен для извлечения золота, и схожесть распределений размеров гранул между обучающей и тестовой выборками является положительным фактором для дальнейшего моделирования."
   ]
  },
  {
   "cell_type": "markdown",
   "metadata": {},
   "source": [
    "## Модель"
   ]
  },
  {
   "cell_type": "markdown",
   "metadata": {},
   "source": [
    "Для решения задачи введём новую метрику качества — sMAPE (англ. Symmetric Mean Absolute Percentage Error, «симметричное среднее абсолютное процентное отклонение»).\n",
    "Она симметричная и  выражается в относительных величинах, то есть переоцентка и недооценка в ней учитываются однинаково и выражается величина в процентах.\n",
    "\n",
    "Значение SMAPE лежит в диапазоне от 0% до 200% и интерпретировать его можно таким образом :  \n",
    "- 0%: Прогноз идеально точен. Это идеальный, но редко встречающийся случай.\n",
    "- Меньше 10%: Очень хороший прогноз. Ошибки минимальны и модель можно считать очень точной.\n",
    "- 10%–20%: Хороший прогноз. Модель достаточно точна для большинства практических применений.\n",
    "- 20%–50%: Средний прогноз. Модель имеет заметные ошибки, которые могут быть критичными для некоторых применений.\n",
    "- Больше 50%: Плохой прогноз. Модель не точна и требует доработки."
   ]
  },
  {
   "cell_type": "markdown",
   "metadata": {},
   "source": [
    "Напишем функции для расчета sMAPE. "
   ]
  },
  {
   "cell_type": "code",
   "execution_count": 56,
   "metadata": {},
   "outputs": [],
   "source": [
    "def smape(target, predicted):\n",
    "    return 100 * ((2 * abs(target-predicted) / (abs(target) + abs(predicted))).mean())    "
   ]
  },
  {
   "cell_type": "code",
   "execution_count": 57,
   "metadata": {},
   "outputs": [],
   "source": [
    "def final_smape(rougher_smape, final_smape):\n",
    "    return rougher_smape * 0.25 + final_smape * 0.75"
   ]
  },
  {
   "cell_type": "markdown",
   "metadata": {},
   "source": [
    "Проверим, что значение sMAPE при передаче идентичных target и predicted равно 0. "
   ]
  },
  {
   "cell_type": "code",
   "execution_count": 58,
   "metadata": {},
   "outputs": [
    {
     "data": {
      "text/plain": [
       "0.0"
      ]
     },
     "execution_count": 58,
     "metadata": {},
     "output_type": "execute_result"
    }
   ],
   "source": [
    "rand_array = np.random.uniform(0, 100, 10000)\n",
    "\n",
    "smape(rand_array, rand_array)"
   ]
  },
  {
   "cell_type": "markdown",
   "metadata": {},
   "source": [
    "### Подготовка признаков и целевых признаков "
   ]
  },
  {
   "cell_type": "markdown",
   "metadata": {},
   "source": [
    "Разобъем данные на \"признаки\" и \"целевой признак\". Будем обучать разные модели для разных целевых признаков. Создадим два набора с таргетами, набор с признаками будет один. "
   ]
  },
  {
   "cell_type": "code",
   "execution_count": 59,
   "metadata": {},
   "outputs": [],
   "source": [
    "features_train = data_train.drop(['rougher.output.recovery', 'final.output.recovery'], axis=1)\n",
    "rougher_target_train = data_train['rougher.output.recovery']\n",
    "final_target_train = data_train['final.output.recovery']"
   ]
  },
  {
   "cell_type": "code",
   "execution_count": 60,
   "metadata": {},
   "outputs": [],
   "source": [
    "features_test = data_test.drop(['rougher.output.recovery', 'final.output.recovery'], axis=1)\n",
    "rougher_target_test = data_test['rougher.output.recovery']\n",
    "final_target_test = data_test['final.output.recovery']"
   ]
  },
  {
   "cell_type": "markdown",
   "metadata": {},
   "source": [
    "Стандартизируем признаки, чтобы потом использовать эти наборы для поиска лучшей модели. "
   ]
  },
  {
   "cell_type": "code",
   "execution_count": 61,
   "metadata": {},
   "outputs": [],
   "source": [
    "cols = features_train.columns"
   ]
  },
  {
   "cell_type": "code",
   "execution_count": 62,
   "metadata": {},
   "outputs": [],
   "source": [
    "scaler = StandardScaler()\n",
    "features_train_scaled = pd.DataFrame(scaler.fit_transform(features_train[cols]), columns=cols, index=features_train.index)\n",
    "features_test_scaled = pd.DataFrame(scaler.transform(features_test[cols]), columns=cols, index=features_test.index)"
   ]
  },
  {
   "cell_type": "code",
   "execution_count": 63,
   "metadata": {},
   "outputs": [
    {
     "data": {
      "text/html": [
       "<div>\n",
       "<style scoped>\n",
       "    .dataframe tbody tr th:only-of-type {\n",
       "        vertical-align: middle;\n",
       "    }\n",
       "\n",
       "    .dataframe tbody tr th {\n",
       "        vertical-align: top;\n",
       "    }\n",
       "\n",
       "    .dataframe thead th {\n",
       "        text-align: right;\n",
       "    }\n",
       "</style>\n",
       "<table border=\"1\" class=\"dataframe\">\n",
       "  <thead>\n",
       "    <tr style=\"text-align: right;\">\n",
       "      <th></th>\n",
       "      <th>rougher.input.feed_au</th>\n",
       "      <th>rougher.input.feed_ag</th>\n",
       "      <th>rougher.input.feed_pb</th>\n",
       "      <th>rougher.input.feed_sol</th>\n",
       "      <th>rougher.input.feed_rate</th>\n",
       "      <th>rougher.input.feed_size</th>\n",
       "      <th>rougher.input.floatbank10_sulfate</th>\n",
       "      <th>rougher.input.floatbank10_xanthate</th>\n",
       "      <th>rougher.state.floatbank10_a_air</th>\n",
       "      <th>rougher.state.floatbank10_a_level</th>\n",
       "      <th>rougher.state.floatbank10_b_air</th>\n",
       "      <th>rougher.state.floatbank10_b_level</th>\n",
       "      <th>rougher.state.floatbank10_c_air</th>\n",
       "      <th>rougher.state.floatbank10_c_level</th>\n",
       "      <th>rougher.state.floatbank10_d_air</th>\n",
       "      <th>rougher.state.floatbank10_d_level</th>\n",
       "      <th>rougher.state.floatbank10_e_air</th>\n",
       "      <th>rougher.state.floatbank10_e_level</th>\n",
       "      <th>rougher.state.floatbank10_f_air</th>\n",
       "      <th>rougher.state.floatbank10_f_level</th>\n",
       "      <th>rougher.input.floatbank11_sulfate</th>\n",
       "      <th>rougher.input.floatbank11_xanthate</th>\n",
       "      <th>primary_cleaner.input.sulfate</th>\n",
       "      <th>primary_cleaner.input.depressant</th>\n",
       "      <th>primary_cleaner.input.feed_size</th>\n",
       "      <th>primary_cleaner.input.xanthate</th>\n",
       "      <th>primary_cleaner.state.floatbank8_a_air</th>\n",
       "      <th>primary_cleaner.state.floatbank8_a_level</th>\n",
       "      <th>primary_cleaner.state.floatbank8_b_air</th>\n",
       "      <th>primary_cleaner.state.floatbank8_b_level</th>\n",
       "      <th>primary_cleaner.state.floatbank8_c_air</th>\n",
       "      <th>primary_cleaner.state.floatbank8_c_level</th>\n",
       "      <th>primary_cleaner.state.floatbank8_d_air</th>\n",
       "      <th>primary_cleaner.state.floatbank8_d_level</th>\n",
       "      <th>secondary_cleaner.state.floatbank2_a_air</th>\n",
       "      <th>secondary_cleaner.state.floatbank2_a_level</th>\n",
       "      <th>secondary_cleaner.state.floatbank2_b_air</th>\n",
       "      <th>secondary_cleaner.state.floatbank2_b_level</th>\n",
       "      <th>secondary_cleaner.state.floatbank3_a_air</th>\n",
       "      <th>secondary_cleaner.state.floatbank3_a_level</th>\n",
       "      <th>secondary_cleaner.state.floatbank3_b_air</th>\n",
       "      <th>secondary_cleaner.state.floatbank3_b_level</th>\n",
       "      <th>secondary_cleaner.state.floatbank4_a_air</th>\n",
       "      <th>secondary_cleaner.state.floatbank4_a_level</th>\n",
       "      <th>secondary_cleaner.state.floatbank4_b_air</th>\n",
       "      <th>secondary_cleaner.state.floatbank4_b_level</th>\n",
       "      <th>secondary_cleaner.state.floatbank5_a_air</th>\n",
       "      <th>secondary_cleaner.state.floatbank5_a_level</th>\n",
       "      <th>secondary_cleaner.state.floatbank5_b_air</th>\n",
       "      <th>secondary_cleaner.state.floatbank5_b_level</th>\n",
       "      <th>secondary_cleaner.state.floatbank6_a_air</th>\n",
       "      <th>secondary_cleaner.state.floatbank6_a_level</th>\n",
       "    </tr>\n",
       "    <tr>\n",
       "      <th>date</th>\n",
       "      <th></th>\n",
       "      <th></th>\n",
       "      <th></th>\n",
       "      <th></th>\n",
       "      <th></th>\n",
       "      <th></th>\n",
       "      <th></th>\n",
       "      <th></th>\n",
       "      <th></th>\n",
       "      <th></th>\n",
       "      <th></th>\n",
       "      <th></th>\n",
       "      <th></th>\n",
       "      <th></th>\n",
       "      <th></th>\n",
       "      <th></th>\n",
       "      <th></th>\n",
       "      <th></th>\n",
       "      <th></th>\n",
       "      <th></th>\n",
       "      <th></th>\n",
       "      <th></th>\n",
       "      <th></th>\n",
       "      <th></th>\n",
       "      <th></th>\n",
       "      <th></th>\n",
       "      <th></th>\n",
       "      <th></th>\n",
       "      <th></th>\n",
       "      <th></th>\n",
       "      <th></th>\n",
       "      <th></th>\n",
       "      <th></th>\n",
       "      <th></th>\n",
       "      <th></th>\n",
       "      <th></th>\n",
       "      <th></th>\n",
       "      <th></th>\n",
       "      <th></th>\n",
       "      <th></th>\n",
       "      <th></th>\n",
       "      <th></th>\n",
       "      <th></th>\n",
       "      <th></th>\n",
       "      <th></th>\n",
       "      <th></th>\n",
       "      <th></th>\n",
       "      <th></th>\n",
       "      <th></th>\n",
       "      <th></th>\n",
       "      <th></th>\n",
       "      <th></th>\n",
       "    </tr>\n",
       "  </thead>\n",
       "  <tbody>\n",
       "    <tr>\n",
       "      <th>2016-01-15 00:00:00</th>\n",
       "      <td>-0.997200</td>\n",
       "      <td>-1.460421</td>\n",
       "      <td>-1.237446</td>\n",
       "      <td>0.037914</td>\n",
       "      <td>0.445462</td>\n",
       "      <td>-0.156494</td>\n",
       "      <td>-0.131030</td>\n",
       "      <td>-0.023304</td>\n",
       "      <td>-0.639080</td>\n",
       "      <td>-0.246275</td>\n",
       "      <td>1.532126</td>\n",
       "      <td>0.535663</td>\n",
       "      <td>1.414463</td>\n",
       "      <td>0.419471</td>\n",
       "      <td>1.821751</td>\n",
       "      <td>0.260926</td>\n",
       "      <td>1.818221</td>\n",
       "      <td>0.135752</td>\n",
       "      <td>2.282484</td>\n",
       "      <td>0.199178</td>\n",
       "      <td>-0.075950</td>\n",
       "      <td>0.000692</td>\n",
       "      <td>-0.443331</td>\n",
       "      <td>0.379368</td>\n",
       "      <td>-0.100317</td>\n",
       "      <td>-0.080350</td>\n",
       "      <td>-0.320315</td>\n",
       "      <td>-0.234831</td>\n",
       "      <td>-0.323059</td>\n",
       "      <td>-0.746407</td>\n",
       "      <td>-0.280551</td>\n",
       "      <td>-0.204668</td>\n",
       "      <td>0.031107</td>\n",
       "      <td>-0.107301</td>\n",
       "      <td>-0.484926</td>\n",
       "      <td>0.082881</td>\n",
       "      <td>-0.007175</td>\n",
       "      <td>0.045310</td>\n",
       "      <td>-0.666461</td>\n",
       "      <td>-0.192203</td>\n",
       "      <td>-0.034616</td>\n",
       "      <td>-0.146035</td>\n",
       "      <td>-0.906839</td>\n",
       "      <td>-0.367207</td>\n",
       "      <td>-0.566644</td>\n",
       "      <td>-0.672363</td>\n",
       "      <td>-1.024923</td>\n",
       "      <td>-0.307079</td>\n",
       "      <td>-0.746889</td>\n",
       "      <td>-0.379104</td>\n",
       "      <td>-0.886400</td>\n",
       "      <td>-2.733352</td>\n",
       "    </tr>\n",
       "    <tr>\n",
       "      <th>2016-01-15 01:00:00</th>\n",
       "      <td>-1.001199</td>\n",
       "      <td>-1.428574</td>\n",
       "      <td>-1.255287</td>\n",
       "      <td>-0.168672</td>\n",
       "      <td>0.462003</td>\n",
       "      <td>-0.077019</td>\n",
       "      <td>-0.135641</td>\n",
       "      <td>-0.025301</td>\n",
       "      <td>-0.635482</td>\n",
       "      <td>-0.204133</td>\n",
       "      <td>1.519603</td>\n",
       "      <td>0.264538</td>\n",
       "      <td>1.405372</td>\n",
       "      <td>0.281330</td>\n",
       "      <td>1.829374</td>\n",
       "      <td>0.284980</td>\n",
       "      <td>1.788771</td>\n",
       "      <td>0.213427</td>\n",
       "      <td>2.184602</td>\n",
       "      <td>0.229665</td>\n",
       "      <td>-0.034093</td>\n",
       "      <td>0.006405</td>\n",
       "      <td>-0.476621</td>\n",
       "      <td>0.430480</td>\n",
       "      <td>-0.100317</td>\n",
       "      <td>-0.053436</td>\n",
       "      <td>-0.112125</td>\n",
       "      <td>-0.301555</td>\n",
       "      <td>-0.132027</td>\n",
       "      <td>-0.230498</td>\n",
       "      <td>-0.083599</td>\n",
       "      <td>-0.225658</td>\n",
       "      <td>0.114035</td>\n",
       "      <td>-0.236196</td>\n",
       "      <td>-0.479892</td>\n",
       "      <td>0.056804</td>\n",
       "      <td>-0.007891</td>\n",
       "      <td>0.062503</td>\n",
       "      <td>-0.665019</td>\n",
       "      <td>-0.279770</td>\n",
       "      <td>-0.008508</td>\n",
       "      <td>-0.148466</td>\n",
       "      <td>-0.911595</td>\n",
       "      <td>-0.429025</td>\n",
       "      <td>-0.597482</td>\n",
       "      <td>-0.621428</td>\n",
       "      <td>-1.003761</td>\n",
       "      <td>-0.359975</td>\n",
       "      <td>-0.765107</td>\n",
       "      <td>-0.382025</td>\n",
       "      <td>-0.914208</td>\n",
       "      <td>-2.568483</td>\n",
       "    </tr>\n",
       "    <tr>\n",
       "      <th>2016-01-15 02:00:00</th>\n",
       "      <td>-1.062686</td>\n",
       "      <td>-1.451991</td>\n",
       "      <td>-1.355845</td>\n",
       "      <td>-0.125944</td>\n",
       "      <td>0.506914</td>\n",
       "      <td>-0.066731</td>\n",
       "      <td>-0.150766</td>\n",
       "      <td>0.146767</td>\n",
       "      <td>-0.639002</td>\n",
       "      <td>-0.204226</td>\n",
       "      <td>1.511739</td>\n",
       "      <td>0.263557</td>\n",
       "      <td>1.401503</td>\n",
       "      <td>0.279086</td>\n",
       "      <td>1.826123</td>\n",
       "      <td>0.284970</td>\n",
       "      <td>1.788512</td>\n",
       "      <td>0.229192</td>\n",
       "      <td>2.188116</td>\n",
       "      <td>0.222831</td>\n",
       "      <td>-0.054010</td>\n",
       "      <td>0.168330</td>\n",
       "      <td>-0.517801</td>\n",
       "      <td>0.740895</td>\n",
       "      <td>-0.100317</td>\n",
       "      <td>-0.075499</td>\n",
       "      <td>0.088164</td>\n",
       "      <td>-0.271181</td>\n",
       "      <td>0.058379</td>\n",
       "      <td>-0.253642</td>\n",
       "      <td>0.112516</td>\n",
       "      <td>-0.275988</td>\n",
       "      <td>0.217375</td>\n",
       "      <td>-0.257175</td>\n",
       "      <td>-0.457008</td>\n",
       "      <td>0.057874</td>\n",
       "      <td>-0.008389</td>\n",
       "      <td>0.069495</td>\n",
       "      <td>-0.674413</td>\n",
       "      <td>-0.268092</td>\n",
       "      <td>0.327848</td>\n",
       "      <td>-0.158910</td>\n",
       "      <td>-0.907191</td>\n",
       "      <td>-0.367881</td>\n",
       "      <td>-0.605273</td>\n",
       "      <td>-0.618446</td>\n",
       "      <td>-0.997862</td>\n",
       "      <td>-0.358813</td>\n",
       "      <td>-0.759518</td>\n",
       "      <td>-0.380328</td>\n",
       "      <td>-0.908698</td>\n",
       "      <td>-2.613144</td>\n",
       "    </tr>\n",
       "    <tr>\n",
       "      <th>2016-01-15 03:00:00</th>\n",
       "      <td>-1.191638</td>\n",
       "      <td>-1.490345</td>\n",
       "      <td>-1.470959</td>\n",
       "      <td>0.048417</td>\n",
       "      <td>0.626056</td>\n",
       "      <td>-0.054221</td>\n",
       "      <td>-0.237622</td>\n",
       "      <td>0.151976</td>\n",
       "      <td>-0.638410</td>\n",
       "      <td>-0.205554</td>\n",
       "      <td>1.515746</td>\n",
       "      <td>0.252679</td>\n",
       "      <td>1.403134</td>\n",
       "      <td>0.279883</td>\n",
       "      <td>1.815942</td>\n",
       "      <td>0.281813</td>\n",
       "      <td>1.798406</td>\n",
       "      <td>0.227627</td>\n",
       "      <td>2.187634</td>\n",
       "      <td>0.235160</td>\n",
       "      <td>-0.113835</td>\n",
       "      <td>0.161538</td>\n",
       "      <td>-0.553068</td>\n",
       "      <td>0.742678</td>\n",
       "      <td>-0.100317</td>\n",
       "      <td>-0.064904</td>\n",
       "      <td>0.075641</td>\n",
       "      <td>-0.303122</td>\n",
       "      <td>0.060503</td>\n",
       "      <td>-0.224608</td>\n",
       "      <td>0.099703</td>\n",
       "      <td>-0.271389</td>\n",
       "      <td>0.221119</td>\n",
       "      <td>-0.262448</td>\n",
       "      <td>-0.468521</td>\n",
       "      <td>0.071292</td>\n",
       "      <td>0.003548</td>\n",
       "      <td>0.071210</td>\n",
       "      <td>-0.665631</td>\n",
       "      <td>-0.278378</td>\n",
       "      <td>0.327259</td>\n",
       "      <td>-0.159891</td>\n",
       "      <td>-0.903028</td>\n",
       "      <td>-0.333775</td>\n",
       "      <td>-0.587364</td>\n",
       "      <td>-0.619354</td>\n",
       "      <td>-1.016591</td>\n",
       "      <td>-0.332433</td>\n",
       "      <td>-0.766534</td>\n",
       "      <td>-0.373456</td>\n",
       "      <td>-0.912899</td>\n",
       "      <td>-2.574172</td>\n",
       "    </tr>\n",
       "    <tr>\n",
       "      <th>2016-01-15 04:00:00</th>\n",
       "      <td>-1.431796</td>\n",
       "      <td>-1.481113</td>\n",
       "      <td>-1.708087</td>\n",
       "      <td>-0.443879</td>\n",
       "      <td>0.606535</td>\n",
       "      <td>-0.131632</td>\n",
       "      <td>-0.438637</td>\n",
       "      <td>0.148068</td>\n",
       "      <td>-0.639256</td>\n",
       "      <td>-0.200842</td>\n",
       "      <td>1.516575</td>\n",
       "      <td>0.270833</td>\n",
       "      <td>1.404788</td>\n",
       "      <td>0.277640</td>\n",
       "      <td>1.825691</td>\n",
       "      <td>0.285766</td>\n",
       "      <td>1.801875</td>\n",
       "      <td>0.247125</td>\n",
       "      <td>2.193079</td>\n",
       "      <td>0.224841</td>\n",
       "      <td>-0.306009</td>\n",
       "      <td>0.160120</td>\n",
       "      <td>-0.650520</td>\n",
       "      <td>0.922675</td>\n",
       "      <td>-0.100317</td>\n",
       "      <td>-0.039487</td>\n",
       "      <td>0.086456</td>\n",
       "      <td>-0.236951</td>\n",
       "      <td>0.066570</td>\n",
       "      <td>-0.244766</td>\n",
       "      <td>0.094257</td>\n",
       "      <td>-0.276573</td>\n",
       "      <td>0.230191</td>\n",
       "      <td>-0.275105</td>\n",
       "      <td>-0.453422</td>\n",
       "      <td>0.051645</td>\n",
       "      <td>0.003519</td>\n",
       "      <td>0.058825</td>\n",
       "      <td>-0.662523</td>\n",
       "      <td>-0.279740</td>\n",
       "      <td>0.328068</td>\n",
       "      <td>-0.160937</td>\n",
       "      <td>-0.904812</td>\n",
       "      <td>-0.312891</td>\n",
       "      <td>-0.596958</td>\n",
       "      <td>-0.617250</td>\n",
       "      <td>-1.024909</td>\n",
       "      <td>-0.403114</td>\n",
       "      <td>-0.782482</td>\n",
       "      <td>-0.376086</td>\n",
       "      <td>-0.914518</td>\n",
       "      <td>-2.615032</td>\n",
       "    </tr>\n",
       "  </tbody>\n",
       "</table>\n",
       "</div>"
      ],
      "text/plain": [
       "                     rougher.input.feed_au  rougher.input.feed_ag  \\\n",
       "date                                                                \n",
       "2016-01-15 00:00:00              -0.997200              -1.460421   \n",
       "2016-01-15 01:00:00              -1.001199              -1.428574   \n",
       "2016-01-15 02:00:00              -1.062686              -1.451991   \n",
       "2016-01-15 03:00:00              -1.191638              -1.490345   \n",
       "2016-01-15 04:00:00              -1.431796              -1.481113   \n",
       "\n",
       "                     rougher.input.feed_pb  rougher.input.feed_sol  \\\n",
       "date                                                                 \n",
       "2016-01-15 00:00:00              -1.237446                0.037914   \n",
       "2016-01-15 01:00:00              -1.255287               -0.168672   \n",
       "2016-01-15 02:00:00              -1.355845               -0.125944   \n",
       "2016-01-15 03:00:00              -1.470959                0.048417   \n",
       "2016-01-15 04:00:00              -1.708087               -0.443879   \n",
       "\n",
       "                     rougher.input.feed_rate  rougher.input.feed_size  \\\n",
       "date                                                                    \n",
       "2016-01-15 00:00:00                 0.445462                -0.156494   \n",
       "2016-01-15 01:00:00                 0.462003                -0.077019   \n",
       "2016-01-15 02:00:00                 0.506914                -0.066731   \n",
       "2016-01-15 03:00:00                 0.626056                -0.054221   \n",
       "2016-01-15 04:00:00                 0.606535                -0.131632   \n",
       "\n",
       "                     rougher.input.floatbank10_sulfate  \\\n",
       "date                                                     \n",
       "2016-01-15 00:00:00                          -0.131030   \n",
       "2016-01-15 01:00:00                          -0.135641   \n",
       "2016-01-15 02:00:00                          -0.150766   \n",
       "2016-01-15 03:00:00                          -0.237622   \n",
       "2016-01-15 04:00:00                          -0.438637   \n",
       "\n",
       "                     rougher.input.floatbank10_xanthate  \\\n",
       "date                                                      \n",
       "2016-01-15 00:00:00                           -0.023304   \n",
       "2016-01-15 01:00:00                           -0.025301   \n",
       "2016-01-15 02:00:00                            0.146767   \n",
       "2016-01-15 03:00:00                            0.151976   \n",
       "2016-01-15 04:00:00                            0.148068   \n",
       "\n",
       "                     rougher.state.floatbank10_a_air  \\\n",
       "date                                                   \n",
       "2016-01-15 00:00:00                        -0.639080   \n",
       "2016-01-15 01:00:00                        -0.635482   \n",
       "2016-01-15 02:00:00                        -0.639002   \n",
       "2016-01-15 03:00:00                        -0.638410   \n",
       "2016-01-15 04:00:00                        -0.639256   \n",
       "\n",
       "                     rougher.state.floatbank10_a_level  \\\n",
       "date                                                     \n",
       "2016-01-15 00:00:00                          -0.246275   \n",
       "2016-01-15 01:00:00                          -0.204133   \n",
       "2016-01-15 02:00:00                          -0.204226   \n",
       "2016-01-15 03:00:00                          -0.205554   \n",
       "2016-01-15 04:00:00                          -0.200842   \n",
       "\n",
       "                     rougher.state.floatbank10_b_air  \\\n",
       "date                                                   \n",
       "2016-01-15 00:00:00                         1.532126   \n",
       "2016-01-15 01:00:00                         1.519603   \n",
       "2016-01-15 02:00:00                         1.511739   \n",
       "2016-01-15 03:00:00                         1.515746   \n",
       "2016-01-15 04:00:00                         1.516575   \n",
       "\n",
       "                     rougher.state.floatbank10_b_level  \\\n",
       "date                                                     \n",
       "2016-01-15 00:00:00                           0.535663   \n",
       "2016-01-15 01:00:00                           0.264538   \n",
       "2016-01-15 02:00:00                           0.263557   \n",
       "2016-01-15 03:00:00                           0.252679   \n",
       "2016-01-15 04:00:00                           0.270833   \n",
       "\n",
       "                     rougher.state.floatbank10_c_air  \\\n",
       "date                                                   \n",
       "2016-01-15 00:00:00                         1.414463   \n",
       "2016-01-15 01:00:00                         1.405372   \n",
       "2016-01-15 02:00:00                         1.401503   \n",
       "2016-01-15 03:00:00                         1.403134   \n",
       "2016-01-15 04:00:00                         1.404788   \n",
       "\n",
       "                     rougher.state.floatbank10_c_level  \\\n",
       "date                                                     \n",
       "2016-01-15 00:00:00                           0.419471   \n",
       "2016-01-15 01:00:00                           0.281330   \n",
       "2016-01-15 02:00:00                           0.279086   \n",
       "2016-01-15 03:00:00                           0.279883   \n",
       "2016-01-15 04:00:00                           0.277640   \n",
       "\n",
       "                     rougher.state.floatbank10_d_air  \\\n",
       "date                                                   \n",
       "2016-01-15 00:00:00                         1.821751   \n",
       "2016-01-15 01:00:00                         1.829374   \n",
       "2016-01-15 02:00:00                         1.826123   \n",
       "2016-01-15 03:00:00                         1.815942   \n",
       "2016-01-15 04:00:00                         1.825691   \n",
       "\n",
       "                     rougher.state.floatbank10_d_level  \\\n",
       "date                                                     \n",
       "2016-01-15 00:00:00                           0.260926   \n",
       "2016-01-15 01:00:00                           0.284980   \n",
       "2016-01-15 02:00:00                           0.284970   \n",
       "2016-01-15 03:00:00                           0.281813   \n",
       "2016-01-15 04:00:00                           0.285766   \n",
       "\n",
       "                     rougher.state.floatbank10_e_air  \\\n",
       "date                                                   \n",
       "2016-01-15 00:00:00                         1.818221   \n",
       "2016-01-15 01:00:00                         1.788771   \n",
       "2016-01-15 02:00:00                         1.788512   \n",
       "2016-01-15 03:00:00                         1.798406   \n",
       "2016-01-15 04:00:00                         1.801875   \n",
       "\n",
       "                     rougher.state.floatbank10_e_level  \\\n",
       "date                                                     \n",
       "2016-01-15 00:00:00                           0.135752   \n",
       "2016-01-15 01:00:00                           0.213427   \n",
       "2016-01-15 02:00:00                           0.229192   \n",
       "2016-01-15 03:00:00                           0.227627   \n",
       "2016-01-15 04:00:00                           0.247125   \n",
       "\n",
       "                     rougher.state.floatbank10_f_air  \\\n",
       "date                                                   \n",
       "2016-01-15 00:00:00                         2.282484   \n",
       "2016-01-15 01:00:00                         2.184602   \n",
       "2016-01-15 02:00:00                         2.188116   \n",
       "2016-01-15 03:00:00                         2.187634   \n",
       "2016-01-15 04:00:00                         2.193079   \n",
       "\n",
       "                     rougher.state.floatbank10_f_level  \\\n",
       "date                                                     \n",
       "2016-01-15 00:00:00                           0.199178   \n",
       "2016-01-15 01:00:00                           0.229665   \n",
       "2016-01-15 02:00:00                           0.222831   \n",
       "2016-01-15 03:00:00                           0.235160   \n",
       "2016-01-15 04:00:00                           0.224841   \n",
       "\n",
       "                     rougher.input.floatbank11_sulfate  \\\n",
       "date                                                     \n",
       "2016-01-15 00:00:00                          -0.075950   \n",
       "2016-01-15 01:00:00                          -0.034093   \n",
       "2016-01-15 02:00:00                          -0.054010   \n",
       "2016-01-15 03:00:00                          -0.113835   \n",
       "2016-01-15 04:00:00                          -0.306009   \n",
       "\n",
       "                     rougher.input.floatbank11_xanthate  \\\n",
       "date                                                      \n",
       "2016-01-15 00:00:00                            0.000692   \n",
       "2016-01-15 01:00:00                            0.006405   \n",
       "2016-01-15 02:00:00                            0.168330   \n",
       "2016-01-15 03:00:00                            0.161538   \n",
       "2016-01-15 04:00:00                            0.160120   \n",
       "\n",
       "                     primary_cleaner.input.sulfate  \\\n",
       "date                                                 \n",
       "2016-01-15 00:00:00                      -0.443331   \n",
       "2016-01-15 01:00:00                      -0.476621   \n",
       "2016-01-15 02:00:00                      -0.517801   \n",
       "2016-01-15 03:00:00                      -0.553068   \n",
       "2016-01-15 04:00:00                      -0.650520   \n",
       "\n",
       "                     primary_cleaner.input.depressant  \\\n",
       "date                                                    \n",
       "2016-01-15 00:00:00                          0.379368   \n",
       "2016-01-15 01:00:00                          0.430480   \n",
       "2016-01-15 02:00:00                          0.740895   \n",
       "2016-01-15 03:00:00                          0.742678   \n",
       "2016-01-15 04:00:00                          0.922675   \n",
       "\n",
       "                     primary_cleaner.input.feed_size  \\\n",
       "date                                                   \n",
       "2016-01-15 00:00:00                        -0.100317   \n",
       "2016-01-15 01:00:00                        -0.100317   \n",
       "2016-01-15 02:00:00                        -0.100317   \n",
       "2016-01-15 03:00:00                        -0.100317   \n",
       "2016-01-15 04:00:00                        -0.100317   \n",
       "\n",
       "                     primary_cleaner.input.xanthate  \\\n",
       "date                                                  \n",
       "2016-01-15 00:00:00                       -0.080350   \n",
       "2016-01-15 01:00:00                       -0.053436   \n",
       "2016-01-15 02:00:00                       -0.075499   \n",
       "2016-01-15 03:00:00                       -0.064904   \n",
       "2016-01-15 04:00:00                       -0.039487   \n",
       "\n",
       "                     primary_cleaner.state.floatbank8_a_air  \\\n",
       "date                                                          \n",
       "2016-01-15 00:00:00                               -0.320315   \n",
       "2016-01-15 01:00:00                               -0.112125   \n",
       "2016-01-15 02:00:00                                0.088164   \n",
       "2016-01-15 03:00:00                                0.075641   \n",
       "2016-01-15 04:00:00                                0.086456   \n",
       "\n",
       "                     primary_cleaner.state.floatbank8_a_level  \\\n",
       "date                                                            \n",
       "2016-01-15 00:00:00                                 -0.234831   \n",
       "2016-01-15 01:00:00                                 -0.301555   \n",
       "2016-01-15 02:00:00                                 -0.271181   \n",
       "2016-01-15 03:00:00                                 -0.303122   \n",
       "2016-01-15 04:00:00                                 -0.236951   \n",
       "\n",
       "                     primary_cleaner.state.floatbank8_b_air  \\\n",
       "date                                                          \n",
       "2016-01-15 00:00:00                               -0.323059   \n",
       "2016-01-15 01:00:00                               -0.132027   \n",
       "2016-01-15 02:00:00                                0.058379   \n",
       "2016-01-15 03:00:00                                0.060503   \n",
       "2016-01-15 04:00:00                                0.066570   \n",
       "\n",
       "                     primary_cleaner.state.floatbank8_b_level  \\\n",
       "date                                                            \n",
       "2016-01-15 00:00:00                                 -0.746407   \n",
       "2016-01-15 01:00:00                                 -0.230498   \n",
       "2016-01-15 02:00:00                                 -0.253642   \n",
       "2016-01-15 03:00:00                                 -0.224608   \n",
       "2016-01-15 04:00:00                                 -0.244766   \n",
       "\n",
       "                     primary_cleaner.state.floatbank8_c_air  \\\n",
       "date                                                          \n",
       "2016-01-15 00:00:00                               -0.280551   \n",
       "2016-01-15 01:00:00                               -0.083599   \n",
       "2016-01-15 02:00:00                                0.112516   \n",
       "2016-01-15 03:00:00                                0.099703   \n",
       "2016-01-15 04:00:00                                0.094257   \n",
       "\n",
       "                     primary_cleaner.state.floatbank8_c_level  \\\n",
       "date                                                            \n",
       "2016-01-15 00:00:00                                 -0.204668   \n",
       "2016-01-15 01:00:00                                 -0.225658   \n",
       "2016-01-15 02:00:00                                 -0.275988   \n",
       "2016-01-15 03:00:00                                 -0.271389   \n",
       "2016-01-15 04:00:00                                 -0.276573   \n",
       "\n",
       "                     primary_cleaner.state.floatbank8_d_air  \\\n",
       "date                                                          \n",
       "2016-01-15 00:00:00                                0.031107   \n",
       "2016-01-15 01:00:00                                0.114035   \n",
       "2016-01-15 02:00:00                                0.217375   \n",
       "2016-01-15 03:00:00                                0.221119   \n",
       "2016-01-15 04:00:00                                0.230191   \n",
       "\n",
       "                     primary_cleaner.state.floatbank8_d_level  \\\n",
       "date                                                            \n",
       "2016-01-15 00:00:00                                 -0.107301   \n",
       "2016-01-15 01:00:00                                 -0.236196   \n",
       "2016-01-15 02:00:00                                 -0.257175   \n",
       "2016-01-15 03:00:00                                 -0.262448   \n",
       "2016-01-15 04:00:00                                 -0.275105   \n",
       "\n",
       "                     secondary_cleaner.state.floatbank2_a_air  \\\n",
       "date                                                            \n",
       "2016-01-15 00:00:00                                 -0.484926   \n",
       "2016-01-15 01:00:00                                 -0.479892   \n",
       "2016-01-15 02:00:00                                 -0.457008   \n",
       "2016-01-15 03:00:00                                 -0.468521   \n",
       "2016-01-15 04:00:00                                 -0.453422   \n",
       "\n",
       "                     secondary_cleaner.state.floatbank2_a_level  \\\n",
       "date                                                              \n",
       "2016-01-15 00:00:00                                    0.082881   \n",
       "2016-01-15 01:00:00                                    0.056804   \n",
       "2016-01-15 02:00:00                                    0.057874   \n",
       "2016-01-15 03:00:00                                    0.071292   \n",
       "2016-01-15 04:00:00                                    0.051645   \n",
       "\n",
       "                     secondary_cleaner.state.floatbank2_b_air  \\\n",
       "date                                                            \n",
       "2016-01-15 00:00:00                                 -0.007175   \n",
       "2016-01-15 01:00:00                                 -0.007891   \n",
       "2016-01-15 02:00:00                                 -0.008389   \n",
       "2016-01-15 03:00:00                                  0.003548   \n",
       "2016-01-15 04:00:00                                  0.003519   \n",
       "\n",
       "                     secondary_cleaner.state.floatbank2_b_level  \\\n",
       "date                                                              \n",
       "2016-01-15 00:00:00                                    0.045310   \n",
       "2016-01-15 01:00:00                                    0.062503   \n",
       "2016-01-15 02:00:00                                    0.069495   \n",
       "2016-01-15 03:00:00                                    0.071210   \n",
       "2016-01-15 04:00:00                                    0.058825   \n",
       "\n",
       "                     secondary_cleaner.state.floatbank3_a_air  \\\n",
       "date                                                            \n",
       "2016-01-15 00:00:00                                 -0.666461   \n",
       "2016-01-15 01:00:00                                 -0.665019   \n",
       "2016-01-15 02:00:00                                 -0.674413   \n",
       "2016-01-15 03:00:00                                 -0.665631   \n",
       "2016-01-15 04:00:00                                 -0.662523   \n",
       "\n",
       "                     secondary_cleaner.state.floatbank3_a_level  \\\n",
       "date                                                              \n",
       "2016-01-15 00:00:00                                   -0.192203   \n",
       "2016-01-15 01:00:00                                   -0.279770   \n",
       "2016-01-15 02:00:00                                   -0.268092   \n",
       "2016-01-15 03:00:00                                   -0.278378   \n",
       "2016-01-15 04:00:00                                   -0.279740   \n",
       "\n",
       "                     secondary_cleaner.state.floatbank3_b_air  \\\n",
       "date                                                            \n",
       "2016-01-15 00:00:00                                 -0.034616   \n",
       "2016-01-15 01:00:00                                 -0.008508   \n",
       "2016-01-15 02:00:00                                  0.327848   \n",
       "2016-01-15 03:00:00                                  0.327259   \n",
       "2016-01-15 04:00:00                                  0.328068   \n",
       "\n",
       "                     secondary_cleaner.state.floatbank3_b_level  \\\n",
       "date                                                              \n",
       "2016-01-15 00:00:00                                   -0.146035   \n",
       "2016-01-15 01:00:00                                   -0.148466   \n",
       "2016-01-15 02:00:00                                   -0.158910   \n",
       "2016-01-15 03:00:00                                   -0.159891   \n",
       "2016-01-15 04:00:00                                   -0.160937   \n",
       "\n",
       "                     secondary_cleaner.state.floatbank4_a_air  \\\n",
       "date                                                            \n",
       "2016-01-15 00:00:00                                 -0.906839   \n",
       "2016-01-15 01:00:00                                 -0.911595   \n",
       "2016-01-15 02:00:00                                 -0.907191   \n",
       "2016-01-15 03:00:00                                 -0.903028   \n",
       "2016-01-15 04:00:00                                 -0.904812   \n",
       "\n",
       "                     secondary_cleaner.state.floatbank4_a_level  \\\n",
       "date                                                              \n",
       "2016-01-15 00:00:00                                   -0.367207   \n",
       "2016-01-15 01:00:00                                   -0.429025   \n",
       "2016-01-15 02:00:00                                   -0.367881   \n",
       "2016-01-15 03:00:00                                   -0.333775   \n",
       "2016-01-15 04:00:00                                   -0.312891   \n",
       "\n",
       "                     secondary_cleaner.state.floatbank4_b_air  \\\n",
       "date                                                            \n",
       "2016-01-15 00:00:00                                 -0.566644   \n",
       "2016-01-15 01:00:00                                 -0.597482   \n",
       "2016-01-15 02:00:00                                 -0.605273   \n",
       "2016-01-15 03:00:00                                 -0.587364   \n",
       "2016-01-15 04:00:00                                 -0.596958   \n",
       "\n",
       "                     secondary_cleaner.state.floatbank4_b_level  \\\n",
       "date                                                              \n",
       "2016-01-15 00:00:00                                   -0.672363   \n",
       "2016-01-15 01:00:00                                   -0.621428   \n",
       "2016-01-15 02:00:00                                   -0.618446   \n",
       "2016-01-15 03:00:00                                   -0.619354   \n",
       "2016-01-15 04:00:00                                   -0.617250   \n",
       "\n",
       "                     secondary_cleaner.state.floatbank5_a_air  \\\n",
       "date                                                            \n",
       "2016-01-15 00:00:00                                 -1.024923   \n",
       "2016-01-15 01:00:00                                 -1.003761   \n",
       "2016-01-15 02:00:00                                 -0.997862   \n",
       "2016-01-15 03:00:00                                 -1.016591   \n",
       "2016-01-15 04:00:00                                 -1.024909   \n",
       "\n",
       "                     secondary_cleaner.state.floatbank5_a_level  \\\n",
       "date                                                              \n",
       "2016-01-15 00:00:00                                   -0.307079   \n",
       "2016-01-15 01:00:00                                   -0.359975   \n",
       "2016-01-15 02:00:00                                   -0.358813   \n",
       "2016-01-15 03:00:00                                   -0.332433   \n",
       "2016-01-15 04:00:00                                   -0.403114   \n",
       "\n",
       "                     secondary_cleaner.state.floatbank5_b_air  \\\n",
       "date                                                            \n",
       "2016-01-15 00:00:00                                 -0.746889   \n",
       "2016-01-15 01:00:00                                 -0.765107   \n",
       "2016-01-15 02:00:00                                 -0.759518   \n",
       "2016-01-15 03:00:00                                 -0.766534   \n",
       "2016-01-15 04:00:00                                 -0.782482   \n",
       "\n",
       "                     secondary_cleaner.state.floatbank5_b_level  \\\n",
       "date                                                              \n",
       "2016-01-15 00:00:00                                   -0.379104   \n",
       "2016-01-15 01:00:00                                   -0.382025   \n",
       "2016-01-15 02:00:00                                   -0.380328   \n",
       "2016-01-15 03:00:00                                   -0.373456   \n",
       "2016-01-15 04:00:00                                   -0.376086   \n",
       "\n",
       "                     secondary_cleaner.state.floatbank6_a_air  \\\n",
       "date                                                            \n",
       "2016-01-15 00:00:00                                 -0.886400   \n",
       "2016-01-15 01:00:00                                 -0.914208   \n",
       "2016-01-15 02:00:00                                 -0.908698   \n",
       "2016-01-15 03:00:00                                 -0.912899   \n",
       "2016-01-15 04:00:00                                 -0.914518   \n",
       "\n",
       "                     secondary_cleaner.state.floatbank6_a_level  \n",
       "date                                                             \n",
       "2016-01-15 00:00:00                                   -2.733352  \n",
       "2016-01-15 01:00:00                                   -2.568483  \n",
       "2016-01-15 02:00:00                                   -2.613144  \n",
       "2016-01-15 03:00:00                                   -2.574172  \n",
       "2016-01-15 04:00:00                                   -2.615032  "
      ]
     },
     "execution_count": 63,
     "metadata": {},
     "output_type": "execute_result"
    }
   ],
   "source": [
    "features_train_scaled.head()"
   ]
  },
  {
   "cell_type": "markdown",
   "metadata": {},
   "source": [
    "Изучим, в каком соотношении находятся обучающая и тестовая выборки. "
   ]
  },
  {
   "cell_type": "code",
   "execution_count": 64,
   "metadata": {},
   "outputs": [
    {
     "data": {
      "text/plain": [
       "0.7395219208918427"
      ]
     },
     "execution_count": 64,
     "metadata": {},
     "output_type": "execute_result"
    }
   ],
   "source": [
    "len(features_train) / (len(features_train) + len(features_test))"
   ]
  },
  {
   "cell_type": "markdown",
   "metadata": {},
   "source": [
    "Отношение составляет примерно 74% к 26%, это удовлетворяет требованиям. "
   ]
  },
  {
   "cell_type": "markdown",
   "metadata": {},
   "source": [
    "### Обучение моделей"
   ]
  },
  {
   "cell_type": "markdown",
   "metadata": {},
   "source": [
    "На данном этапе будем обучать модели для прогноза эффективности обогащения чернового концентрата и прогноза эффективности обогащения финального концентрата. \n",
    "Будем использовать следующие алгоритмы : \n",
    "- Дерево решений\n",
    "- Случайный лес\n",
    "- Линейная регрессия\n",
    "\n",
    "Оценивать модели будем методом кросс-валидации, передавая sMAPE в качестве стратегии оценки производительности модели на тестовом наборе. "
   ]
  },
  {
   "cell_type": "markdown",
   "metadata": {},
   "source": [
    "#### Модель для прогноза эффективности обогащения чернового концентрата"
   ]
  },
  {
   "cell_type": "code",
   "execution_count": 65,
   "metadata": {},
   "outputs": [],
   "source": [
    "rs = 1899"
   ]
  },
  {
   "cell_type": "code",
   "execution_count": 66,
   "metadata": {},
   "outputs": [],
   "source": [
    "rougher_best_model_overall = None\n",
    "rougher_best_smape_overall = 1_000"
   ]
  },
  {
   "cell_type": "markdown",
   "metadata": {},
   "source": [
    "Создадим функцию скоринга, которую будем передавать в качетсве стратегии оценки в GridSearch. "
   ]
  },
  {
   "cell_type": "code",
   "execution_count": 67,
   "metadata": {},
   "outputs": [],
   "source": [
    "def scorer(model, features, target):\n",
    "    return -smape(target, model.predict(features))"
   ]
  },
  {
   "cell_type": "markdown",
   "metadata": {},
   "source": [
    "##### Дерево решений"
   ]
  },
  {
   "cell_type": "code",
   "execution_count": 68,
   "metadata": {},
   "outputs": [],
   "source": [
    "param_grid = {\n",
    "    'max_depth': [2, 3, 4]\n",
    "}\n",
    "\n",
    "model = DecisionTreeRegressor(random_state=rs)\n",
    "\n",
    "grid_search = GridSearchCV(estimator=model, param_grid=param_grid, cv=5, n_jobs=-1, scoring=scorer)"
   ]
  },
  {
   "cell_type": "code",
   "execution_count": 69,
   "metadata": {},
   "outputs": [
    {
     "name": "stdout",
     "output_type": "stream",
     "text": [
      "Параметры лучшей модели дерева решений: {'max_depth': 4}\n",
      "sMAPE для лучшей модели дерева решений: 6.627905699145091\n"
     ]
    }
   ],
   "source": [
    "grid_search.fit(features_train, rougher_target_train)\n",
    "\n",
    "print(f\"Параметры лучшей модели дерева решений: {grid_search.best_params_}\")\n",
    "print(f\"sMAPE для лучшей модели дерева решений: {-grid_search.best_score_}\")"
   ]
  },
  {
   "cell_type": "code",
   "execution_count": 70,
   "metadata": {},
   "outputs": [],
   "source": [
    "if -grid_search.best_score_ < rougher_best_smape_overall:\n",
    "    rougher_best_smape_overall = -grid_search.best_score_\n",
    "    rougher_best_model_overall = DecisionTreeRegressor(random_state=rs, **grid_search.best_params_)"
   ]
  },
  {
   "cell_type": "markdown",
   "metadata": {},
   "source": [
    "##### Случайный лес"
   ]
  },
  {
   "cell_type": "code",
   "execution_count": 71,
   "metadata": {},
   "outputs": [
    {
     "name": "stdout",
     "output_type": "stream",
     "text": [
      "Параметры лучшей модели случайного леса: {'max_depth': 4, 'n_estimators': 50}\n",
      "sMAPE для лучшей модели случайного леса: 6.382734781418824\n"
     ]
    }
   ],
   "source": [
    "param_grid = {\n",
    "    'n_estimators': [50, 100, 200],\n",
    "    'max_depth': [2, 3, 4]\n",
    "}\n",
    "    \n",
    "model = RandomForestRegressor(random_state=rs)\n",
    "    \n",
    "grid_search = GridSearchCV(estimator=model, param_grid=param_grid, cv=5, n_jobs=-1, scoring=scorer)\n",
    "\n",
    "grid_search.fit(features_train, rougher_target_train)\n",
    "\n",
    "print(f\"Параметры лучшей модели случайного леса: {grid_search.best_params_}\")\n",
    "print(f\"sMAPE для лучшей модели случайного леса: {-grid_search.best_score_}\")"
   ]
  },
  {
   "cell_type": "code",
   "execution_count": 72,
   "metadata": {},
   "outputs": [],
   "source": [
    "if -grid_search.best_score_ < rougher_best_smape_overall:\n",
    "    rougher_best_smape_overall = -grid_search.best_score_\n",
    "    rougher_best_model_overall = RandomForestRegressor(random_state=rs, **grid_search.best_params_)"
   ]
  },
  {
   "cell_type": "markdown",
   "metadata": {},
   "source": [
    "##### Линейная регрессия"
   ]
  },
  {
   "cell_type": "markdown",
   "metadata": {},
   "source": [
    "**Без масштабирования**"
   ]
  },
  {
   "cell_type": "code",
   "execution_count": 73,
   "metadata": {},
   "outputs": [
    {
     "name": "stdout",
     "output_type": "stream",
     "text": [
      "sMAPE модели линейной регрессии равна 7.134224054477582\n"
     ]
    }
   ],
   "source": [
    "model = LinearRegression()\n",
    "\n",
    "scores = cross_val_score(model, features_train, rougher_target_train, cv=5, scoring=scorer)      \n",
    "            \n",
    "print(f'sMAPE модели линейной регрессии равна {-scores.mean()}')"
   ]
  },
  {
   "cell_type": "code",
   "execution_count": 74,
   "metadata": {},
   "outputs": [],
   "source": [
    "if -scores.mean() < rougher_best_smape_overall:\n",
    "    rougher_best_smape_overall = -scores.mean()\n",
    "    rougher_best_model_overall = LinearRegression()"
   ]
  },
  {
   "cell_type": "markdown",
   "metadata": {},
   "source": [
    "**С масштабированием**"
   ]
  },
  {
   "cell_type": "code",
   "execution_count": 75,
   "metadata": {},
   "outputs": [
    {
     "name": "stdout",
     "output_type": "stream",
     "text": [
      "sMAPE модели линейной регрессии с масштабированием параметров равна 7.134224054477572\n"
     ]
    }
   ],
   "source": [
    "model = LinearRegression()\n",
    "\n",
    "scores = cross_val_score(model, features_train_scaled, rougher_target_train, cv=5, scoring=scorer)      \n",
    "            \n",
    "print(f'sMAPE модели линейной регрессии с масштабированием параметров равна {-scores.mean()}')"
   ]
  },
  {
   "cell_type": "code",
   "execution_count": 76,
   "metadata": {},
   "outputs": [],
   "source": [
    "if -scores.mean() < rougher_best_smape_overall:\n",
    "    rougher_best_smape_overall = -scores.mean()\n",
    "    rougher_best_model_overall = LinearRegression()"
   ]
  },
  {
   "cell_type": "markdown",
   "metadata": {},
   "source": [
    "#### Модель для прогноза эффективности обогащения финального концентрата"
   ]
  },
  {
   "cell_type": "code",
   "execution_count": 77,
   "metadata": {},
   "outputs": [],
   "source": [
    "final_best_smape_overall = 1_000\n",
    "final_best_model_overall = None"
   ]
  },
  {
   "cell_type": "markdown",
   "metadata": {},
   "source": [
    "##### Дерево решений"
   ]
  },
  {
   "cell_type": "code",
   "execution_count": 78,
   "metadata": {},
   "outputs": [
    {
     "name": "stdout",
     "output_type": "stream",
     "text": [
      "Параметры лучшей модели : {'max_depth': 2}\n",
      "sMAPE для лучшей модели : 8.648923693301134\n"
     ]
    }
   ],
   "source": [
    "param_grid = {\n",
    "    'max_depth': [2, 3, 4]\n",
    "}\n",
    "\n",
    "model = DecisionTreeRegressor(random_state=rs)\n",
    "\n",
    "grid_search = GridSearchCV(estimator=model, param_grid=param_grid, cv=5, n_jobs=-1,scoring=scorer)\n",
    "\n",
    "grid_search.fit(features_train, final_target_train)\n",
    "\n",
    "print(f\"Параметры лучшей модели : {grid_search.best_params_}\")\n",
    "print(f\"sMAPE для лучшей модели : {-grid_search.best_score_}\")"
   ]
  },
  {
   "cell_type": "code",
   "execution_count": 79,
   "metadata": {},
   "outputs": [],
   "source": [
    "if -grid_search.best_score_ < final_best_smape_overall:\n",
    "    final_best_smape_overall = -grid_search.best_score_\n",
    "    final_best_model_overall = DecisionTreeRegressor(random_state=rs, **grid_search.best_params_)"
   ]
  },
  {
   "cell_type": "markdown",
   "metadata": {},
   "source": [
    "##### Случайный лес"
   ]
  },
  {
   "cell_type": "code",
   "execution_count": 80,
   "metadata": {},
   "outputs": [
    {
     "name": "stdout",
     "output_type": "stream",
     "text": [
      "Параметры лучшей модели : {'max_depth': 2, 'n_estimators': 50}\n",
      "sMAPE для лучшей модели : 8.564096535325826\n"
     ]
    }
   ],
   "source": [
    "param_grid = {\n",
    "    'n_estimators': [50, 100, 200],\n",
    "    'max_depth': [2, 3, 4]\n",
    "}\n",
    "    \n",
    "model = RandomForestRegressor(random_state=rs)\n",
    "    \n",
    "grid_search = GridSearchCV(estimator=model, param_grid=param_grid, cv=5, n_jobs=-1,scoring=scorer)\n",
    "\n",
    "grid_search.fit(features_train, final_target_train)\n",
    "\n",
    "print(f\"Параметры лучшей модели : {grid_search.best_params_}\")\n",
    "print(f\"sMAPE для лучшей модели : {-grid_search.best_score_}\")"
   ]
  },
  {
   "cell_type": "code",
   "execution_count": 81,
   "metadata": {},
   "outputs": [],
   "source": [
    "if -grid_search.best_score_ < final_best_smape_overall:\n",
    "    final_best_smape_overall = -grid_search.best_score_\n",
    "    final_best_model_overall = RandomForestRegressor(random_state=rs, **grid_search.best_params_)"
   ]
  },
  {
   "cell_type": "markdown",
   "metadata": {},
   "source": [
    "##### Линейная регрессия"
   ]
  },
  {
   "cell_type": "markdown",
   "metadata": {},
   "source": [
    "**Без масштабирования**"
   ]
  },
  {
   "cell_type": "code",
   "execution_count": 82,
   "metadata": {},
   "outputs": [
    {
     "name": "stdout",
     "output_type": "stream",
     "text": [
      "sMAPE модели линейной регрессии равна 9.32823002332057\n"
     ]
    }
   ],
   "source": [
    "model = LinearRegression()\n",
    "\n",
    "scores = cross_val_score(model, features_train, final_target_train, cv=5, scoring=scorer)    \n",
    "            \n",
    "print(f'sMAPE модели линейной регрессии равна {-scores.mean()}')"
   ]
  },
  {
   "cell_type": "code",
   "execution_count": 83,
   "metadata": {},
   "outputs": [],
   "source": [
    "if -scores.mean() < final_best_smape_overall:\n",
    "    final_best_smape_overall = -scores.mean()\n",
    "    final_best_model_overall = LinearRegression()"
   ]
  },
  {
   "cell_type": "markdown",
   "metadata": {},
   "source": [
    "**С масштабированием**"
   ]
  },
  {
   "cell_type": "code",
   "execution_count": 84,
   "metadata": {},
   "outputs": [
    {
     "name": "stdout",
     "output_type": "stream",
     "text": [
      "sMAPE модели линейной регрессии с масштабированием равна 9.32823002332059\n"
     ]
    }
   ],
   "source": [
    "model = LinearRegression()\n",
    "\n",
    "scores = cross_val_score(model, features_train_scaled, final_target_train, cv=5, scoring=scorer)    \n",
    "            \n",
    "print(f'sMAPE модели линейной регрессии с масштабированием равна {-scores.mean()}')"
   ]
  },
  {
   "cell_type": "code",
   "execution_count": 85,
   "metadata": {},
   "outputs": [],
   "source": [
    "if -scores.mean() < final_best_smape_overall:\n",
    "    final_best_smape_overall = -scores.mean()\n",
    "    final_best_model_overall = LinearRegression()"
   ]
  },
  {
   "cell_type": "markdown",
   "metadata": {},
   "source": [
    "### Вывод "
   ]
  },
  {
   "cell_type": "code",
   "execution_count": 86,
   "metadata": {},
   "outputs": [
    {
     "name": "stdout",
     "output_type": "stream",
     "text": [
      "Наилучшее значение sMAPE для прогноза эффективности обогащения чернового концентрата равно 6.38%. Данное значение показала модель RandomForestRegressor(max_depth=4, n_estimators=50, random_state=1899)\n",
      "\n",
      "Наилучшее значение sMAPE для прогноза эффективности обогащения финального концентрата равно 8.56%. Данное значение показала модель RandomForestRegressor(max_depth=2, n_estimators=50, random_state=1899)\n"
     ]
    }
   ],
   "source": [
    "print(f'Наилучшее значение sMAPE для прогноза эффективности обогащения чернового концентрата равно \\\n",
    "{round(rougher_best_smape_overall, 2)}%. Данное значение показала модель {rougher_best_model_overall}')\n",
    "print()\n",
    "print(f'Наилучшее значение sMAPE для прогноза эффективности обогащения финального концентрата равно \\\n",
    "{round(final_best_smape_overall, 2)}%. Данное значение показала модель {final_best_model_overall}')"
   ]
  },
  {
   "cell_type": "markdown",
   "metadata": {},
   "source": [
    "Таким образом, для прогноза обеих целевых величин лучшие значения метрик показала модель случайного леса.  \n",
    "\n",
    "sMAPE прогноза эффективности обогащения чернового концентрата (rougher.output.recovery) равна примерно 6.38%, что говорит об очень хорошем пронозе модели.  \n",
    "\n",
    "\n",
    "sMAPE прогноза эффективности обогащения финального концентрата (final.output.recovery) равна примерно 8.56%, что также говорит о достаточно высокой точности предсказания моделью данного таргета. "
   ]
  },
  {
   "cell_type": "markdown",
   "metadata": {},
   "source": [
    "### Расчет итогового sMAPE"
   ]
  },
  {
   "cell_type": "markdown",
   "metadata": {},
   "source": [
    "Рассчитаем итоговое значение sMAPE для обучающей и тестовой выборок. "
   ]
  },
  {
   "cell_type": "markdown",
   "metadata": {},
   "source": [
    "#### Обучающая выборка"
   ]
  },
  {
   "cell_type": "code",
   "execution_count": 87,
   "metadata": {},
   "outputs": [
    {
     "data": {
      "text/plain": [
       "8.018756096849076"
      ]
     },
     "execution_count": 87,
     "metadata": {},
     "output_type": "execute_result"
    }
   ],
   "source": [
    "final_smape(rougher_best_smape_overall, final_best_smape_overall)"
   ]
  },
  {
   "cell_type": "markdown",
   "metadata": {},
   "source": [
    "Итоговое sMAPE равно 8%, что считается очень хорошим прогнозом. Ошибки минимальны и модель можно считать очень точной."
   ]
  },
  {
   "cell_type": "markdown",
   "metadata": {},
   "source": [
    "#### Тестовая выборка"
   ]
  },
  {
   "cell_type": "code",
   "execution_count": 88,
   "metadata": {},
   "outputs": [
    {
     "data": {
      "text/plain": [
       "6.741425996264729"
      ]
     },
     "execution_count": 88,
     "metadata": {},
     "output_type": "execute_result"
    }
   ],
   "source": [
    "rougher_best_model_overall.fit(features_test, rougher_target_test)\n",
    "\n",
    "final_best_model_overall.fit(features_test, final_target_test)\n",
    "\n",
    "rougher_stage_smape = smape(rougher_target_test, rougher_best_model_overall.predict(features_test))\n",
    "final_stage_smape = smape(final_target_test, final_best_model_overall.predict(features_test))\n",
    "\n",
    "final_smape(rougher_stage_smape, final_stage_smape)"
   ]
  },
  {
   "cell_type": "markdown",
   "metadata": {},
   "source": [
    "На тестовой выборке итоговое sMAPE равно 6.7%. Это является очень хорошей точностью, что делает модель подходящей для большинства практических применений.  \n",
    "Однако для более точной оценки наших моделей и проверки на адекватность, сравним полученный показатель sMAPE с показателем, полученным при использовании dummy-модели, предсказывающей всегда среднее значение."
   ]
  },
  {
   "cell_type": "code",
   "execution_count": 89,
   "metadata": {},
   "outputs": [
    {
     "data": {
      "text/plain": [
       "8.45331820169171"
      ]
     },
     "execution_count": 89,
     "metadata": {},
     "output_type": "execute_result"
    }
   ],
   "source": [
    "rougher_dummy_model = DummyRegressor(strategy='mean').fit(features_train, rougher_target_train)\n",
    "final_dummy_model = DummyRegressor(strategy='mean').fit(features_train, final_target_train)\n",
    "\n",
    "rougher_stage_dummy_smape = smape(rougher_target_test, rougher_dummy_model.predict(features_test))\n",
    "final_stage_dummy_smape = smape(final_target_test, final_dummy_model.predict(features_test))\n",
    "\n",
    "final_smape(rougher_stage_dummy_smape, final_stage_dummy_smape)"
   ]
  },
  {
   "cell_type": "markdown",
   "metadata": {},
   "source": [
    "Как мы видим, значение итогового sMAPE dummy-моделей равно 8.45%, что также является хорошим результатом, если ориентироваться на интерпретацию sMAPE, однако оно все же меньше полученного при предсказаниях с использованием обученных моделей. "
   ]
  },
  {
   "cell_type": "markdown",
   "metadata": {},
   "source": [
    "## Вывод"
   ]
  },
  {
   "cell_type": "markdown",
   "metadata": {},
   "source": [
    "**Подготовка данных** \n",
    "\n",
    "Данные были успешно загружены из трех различных файлов и изучены. \n",
    "\n",
    "**Расчет эффективности обогащения**\n",
    "\n",
    "Значение средней абсолютной ошибки (MAE) между заданным и рассчитанным показателями составляет ~$\\ 1.12 * 10^{-14} \\$, что можно считать незначительной погрешностью. Следовательно, предоставленные данные содержат корректно расчитанную эффективность обогащения.\n",
    "\n",
    "**Анализ признаков, отсутствующих в тестовой выборке**\n",
    "\n",
    "В тестовой выборке отсутствуют признаки, относящиеся к типам `calculation` и `output`. Данный факт, вероятно, обусловлен тем, что эти данные обычно получаются позже и требуют дополнительных измерений или лабораторных анализов. Это указывает на необходимость разработки модели, способной функционировать на основе ограниченного набора входных данных.\n",
    "\n",
    "**Предобработка данных**\n",
    "\n",
    "Изменен тип данных для колонки date.  \n",
    "В тестовую выборку добавлены целевые признаки с для последующей оценки модели.  \n",
    "Из обучающей выборки удалены признаки, недоступные в реальном времени.  \n",
    "Произведено заполнение пропусков предыдущим или следующим значением в обучающей и тестовой выборках.  \n",
    "После предобработки в обучающем и тестовом наборах осталось исходное количество записей, 54 колонки и индекс `date`. \n",
    "\n",
    "**Анализ данных** \n",
    "\n",
    "**Концентрация металлов на различных этапах**\n",
    "\n",
    "Концентрация золота увеличивается на каждом этапе обработки, начиная от исходного сырья и заканчивая финальным концентратом. Это указывает на эффективность процесса обогащения.\n",
    "  \n",
    "Концентрация серебра, наоборот, уменьшается от этапа к этапу. Это может быть связано с тем, что серебро удаляется вместе с отвальными хвостами или не является целевым металлом в данном процессе.\n",
    "  \n",
    "Концентрация свинца увеличивается, но не так значительно, как золота. Это может быть связано с химическими особенностями процесса или с тем, что свинец может быть частью других минералов, которые не удаляются на этапах очистки.\n",
    "\n",
    "**Распределение размеров гранул исходного сырья**\n",
    "\n",
    "Сравнение распределений размеров гранул в обучающей и тестовой выборках показало, что они схожи. Это указывает на то, что модель, обученная на обучающей выборке, скорее всего, будет адекватно работать и на тестовой выборке. \n",
    "\n",
    "**Суммарная концентрация металлов на разных стадиях** \n",
    "\n",
    "Суммарная концентрация металлов увеличивается от исходного сырья к финальному концентрату. Это подтверждает эффективность процесса обогащения и указывает на то, что большая часть нежелательных веществ и примесей удаляется на различных этапах обработки. Однако ассиметрия в распределениях на заключительных этапах, уходящие влево хвосты, могут указывать на возможности дальшейшего совершенствования процесса золотодобычи.\n",
    "\n",
    "**Построение модели**\n",
    "\n",
    "**Функция sMAPE**\n",
    "\n",
    "Функция для вычисления sMAPE была успешно реализована и протестирована.\n",
    "\n",
    "**Подготовка признаков**\n",
    "\n",
    "Выборки были разделены и на признаки и целевые признаки.\n",
    "Соотношение обучающей и тестовой выборки равно ~74%/26%.\n",
    "Выполнено масштабирование признаков. \n",
    "\n",
    "**Обучение моделей** \n",
    "\n",
    "Модели машинного обучения с использованием алгоритмов дерева решений, случайного леса и линейной регрессии были обучены и оценены с использованием кросс-валидации.  \n",
    "\n",
    "Для прогноза обеих целевых величин лучшие значения метрик показала модель случайного леса.\n",
    "\n",
    "sMAPE прогноза эффективности обогащения чернового концентрата (rougher.output.recovery) равна примерно 6.38%, что говорит об очень хорошем пронозе модели.\n",
    "\n",
    "sMAPE прогноза эффективности обогащения финального концентрата (final.output.recovery) равна примерно 8.56%, что также говорит о достаточно высокой точности предсказания моделью данного таргета.\n",
    "\n",
    "Итоговое sMAPE на обучающей выборке равно 8%, что можно считать хорошим показателем.\n",
    "\n",
    "**Тестирование модели**\n",
    "\n",
    "Лучшая модель была протестирована на тестовой выборке и показала результат оценки sMAPE в 6.7%.  \n",
    "Была проведена проверка на адеватность модели путем сравнения ее показателей с показателями базовой (константной модели).  \n",
    "В результате можно сделать вывод, что полученые модели адекватны и очень хорошо справляются с прогнозом целевых признаков. "
   ]
  }
 ],
 "metadata": {
  "ExecuteTimeLog": [
   {
    "duration": 343,
    "start_time": "2023-09-17T08:49:25.101Z"
   },
   {
    "duration": 112,
    "start_time": "2023-09-17T08:49:51.124Z"
   },
   {
    "duration": 1177,
    "start_time": "2023-09-17T08:50:06.438Z"
   },
   {
    "duration": 24,
    "start_time": "2023-09-17T08:50:13.822Z"
   },
   {
    "duration": 21,
    "start_time": "2023-09-17T08:50:24.148Z"
   },
   {
    "duration": 731,
    "start_time": "2023-09-17T08:50:34.520Z"
   },
   {
    "duration": 12,
    "start_time": "2023-09-17T08:50:40.987Z"
   },
   {
    "duration": 20,
    "start_time": "2023-09-17T08:51:16.435Z"
   },
   {
    "duration": 3,
    "start_time": "2023-09-17T08:52:08.759Z"
   },
   {
    "duration": 71,
    "start_time": "2023-09-17T08:52:10.991Z"
   },
   {
    "duration": 1548,
    "start_time": "2023-09-17T08:52:42.611Z"
   },
   {
    "duration": 17,
    "start_time": "2023-09-17T08:52:49.043Z"
   },
   {
    "duration": 4,
    "start_time": "2023-09-17T10:24:31.074Z"
   },
   {
    "duration": 3,
    "start_time": "2023-09-17T10:43:44.910Z"
   },
   {
    "duration": 226,
    "start_time": "2023-09-17T10:49:29.144Z"
   },
   {
    "duration": 61,
    "start_time": "2023-09-17T10:49:41.521Z"
   },
   {
    "duration": 779,
    "start_time": "2023-09-17T10:50:56.403Z"
   },
   {
    "duration": 19,
    "start_time": "2023-09-17T10:52:04.449Z"
   },
   {
    "duration": 3,
    "start_time": "2023-09-17T10:52:13.145Z"
   },
   {
    "duration": 277,
    "start_time": "2023-09-17T10:52:14.091Z"
   },
   {
    "duration": 9,
    "start_time": "2023-09-17T10:52:15.331Z"
   },
   {
    "duration": 5,
    "start_time": "2023-09-17T10:52:23.334Z"
   },
   {
    "duration": 10,
    "start_time": "2023-09-17T10:53:24.019Z"
   },
   {
    "duration": 5,
    "start_time": "2023-09-17T11:06:31.045Z"
   },
   {
    "duration": 3,
    "start_time": "2023-09-17T11:07:30.134Z"
   },
   {
    "duration": 4,
    "start_time": "2023-09-17T11:08:17.411Z"
   },
   {
    "duration": 141,
    "start_time": "2023-09-17T11:10:23.106Z"
   },
   {
    "duration": 5,
    "start_time": "2023-09-17T11:10:27.188Z"
   },
   {
    "duration": 3,
    "start_time": "2023-09-17T11:10:39.725Z"
   },
   {
    "duration": 4,
    "start_time": "2023-09-17T11:10:45.722Z"
   },
   {
    "duration": 3,
    "start_time": "2023-09-17T11:10:50.895Z"
   },
   {
    "duration": 4,
    "start_time": "2023-09-17T11:12:06.429Z"
   },
   {
    "duration": 3,
    "start_time": "2023-09-17T11:12:23.637Z"
   },
   {
    "duration": 431,
    "start_time": "2023-09-17T11:16:17.476Z"
   },
   {
    "duration": 8,
    "start_time": "2023-09-17T11:19:48.286Z"
   },
   {
    "duration": 94,
    "start_time": "2023-09-17T11:32:56.730Z"
   },
   {
    "duration": 11,
    "start_time": "2023-09-17T11:33:15.335Z"
   },
   {
    "duration": 8,
    "start_time": "2023-09-17T11:33:23.167Z"
   },
   {
    "duration": 9,
    "start_time": "2023-09-17T11:33:34.537Z"
   },
   {
    "duration": 459,
    "start_time": "2023-09-17T11:35:25.056Z"
   },
   {
    "duration": 3,
    "start_time": "2023-09-17T11:35:45.661Z"
   },
   {
    "duration": 314,
    "start_time": "2023-09-17T11:36:08.692Z"
   },
   {
    "duration": 29794,
    "start_time": "2023-09-17T11:36:15.235Z"
   },
   {
    "duration": 31030,
    "start_time": "2023-09-17T11:37:47.346Z"
   },
   {
    "duration": 34254,
    "start_time": "2023-09-17T11:38:38.674Z"
   },
   {
    "duration": 8,
    "start_time": "2023-09-17T12:16:12.537Z"
   },
   {
    "duration": 8,
    "start_time": "2023-09-17T12:16:16.428Z"
   },
   {
    "duration": 315,
    "start_time": "2023-09-17T12:17:16.158Z"
   },
   {
    "duration": 315,
    "start_time": "2023-09-17T12:17:28.892Z"
   },
   {
    "duration": 71,
    "start_time": "2023-09-17T12:18:08.437Z"
   },
   {
    "duration": 303,
    "start_time": "2023-09-17T12:18:12.809Z"
   },
   {
    "duration": 69,
    "start_time": "2023-09-17T12:18:37.058Z"
   },
   {
    "duration": 68,
    "start_time": "2023-09-17T12:19:17.752Z"
   },
   {
    "duration": 8,
    "start_time": "2023-09-17T12:20:15.289Z"
   },
   {
    "duration": 80,
    "start_time": "2023-09-17T12:20:19.918Z"
   },
   {
    "duration": 6,
    "start_time": "2023-09-17T12:22:17.271Z"
   },
   {
    "duration": 5,
    "start_time": "2023-09-17T12:22:25.738Z"
   },
   {
    "duration": 3,
    "start_time": "2023-09-17T12:23:14.583Z"
   },
   {
    "duration": 3,
    "start_time": "2023-09-17T12:23:18.285Z"
   },
   {
    "duration": 7,
    "start_time": "2023-09-17T12:23:23.616Z"
   },
   {
    "duration": 9,
    "start_time": "2023-09-17T12:45:08.921Z"
   },
   {
    "duration": 24,
    "start_time": "2023-09-17T12:45:20.511Z"
   },
   {
    "duration": 31,
    "start_time": "2023-09-17T12:46:07.331Z"
   },
   {
    "duration": 3034,
    "start_time": "2023-09-17T12:46:50.992Z"
   },
   {
    "duration": 73,
    "start_time": "2023-09-17T12:46:57.401Z"
   },
   {
    "duration": 8,
    "start_time": "2023-09-17T12:51:31.128Z"
   },
   {
    "duration": 88,
    "start_time": "2023-09-17T12:52:04.607Z"
   },
   {
    "duration": 259,
    "start_time": "2023-09-17T12:52:08.427Z"
   },
   {
    "duration": 229,
    "start_time": "2023-09-17T12:52:50.142Z"
   },
   {
    "duration": 221,
    "start_time": "2023-09-17T12:52:58.440Z"
   },
   {
    "duration": 248,
    "start_time": "2023-09-17T12:54:05.487Z"
   },
   {
    "duration": 3,
    "start_time": "2023-09-17T12:55:09.792Z"
   },
   {
    "duration": 2,
    "start_time": "2023-09-17T12:55:29.041Z"
   },
   {
    "duration": 5,
    "start_time": "2023-09-17T12:56:56.937Z"
   },
   {
    "duration": 7,
    "start_time": "2023-09-17T12:57:37.275Z"
   },
   {
    "duration": 6,
    "start_time": "2023-09-17T12:57:40.227Z"
   },
   {
    "duration": 1807,
    "start_time": "2023-09-17T12:58:07.805Z"
   },
   {
    "duration": 1775,
    "start_time": "2023-09-17T12:58:12.410Z"
   },
   {
    "duration": 4,
    "start_time": "2023-09-17T12:58:16.100Z"
   },
   {
    "duration": 20,
    "start_time": "2023-09-17T12:58:25.527Z"
   },
   {
    "duration": 113,
    "start_time": "2023-09-17T12:59:59.422Z"
   },
   {
    "duration": 74,
    "start_time": "2023-09-17T17:10:34.788Z"
   },
   {
    "duration": 1843,
    "start_time": "2023-09-17T17:10:40.608Z"
   },
   {
    "duration": 1191,
    "start_time": "2023-09-17T17:10:42.454Z"
   },
   {
    "duration": 20,
    "start_time": "2023-09-17T17:10:43.647Z"
   },
   {
    "duration": 90,
    "start_time": "2023-09-17T17:10:43.669Z"
   },
   {
    "duration": 197,
    "start_time": "2023-09-17T17:10:43.761Z"
   },
   {
    "duration": 17,
    "start_time": "2023-09-17T17:10:43.960Z"
   },
   {
    "duration": 1612,
    "start_time": "2023-09-17T17:10:43.978Z"
   },
   {
    "duration": 31,
    "start_time": "2023-09-17T17:10:45.592Z"
   },
   {
    "duration": 6,
    "start_time": "2023-09-17T17:10:45.626Z"
   },
   {
    "duration": 338,
    "start_time": "2023-09-17T17:10:45.636Z"
   },
   {
    "duration": 33,
    "start_time": "2023-09-17T17:10:45.977Z"
   },
   {
    "duration": 15,
    "start_time": "2023-09-17T17:10:46.012Z"
   },
   {
    "duration": 6,
    "start_time": "2023-09-17T17:10:46.034Z"
   },
   {
    "duration": 7,
    "start_time": "2023-09-17T17:10:46.042Z"
   },
   {
    "duration": 11,
    "start_time": "2023-09-17T17:10:46.051Z"
   },
   {
    "duration": 15,
    "start_time": "2023-09-17T17:10:46.065Z"
   },
   {
    "duration": 13,
    "start_time": "2023-09-17T17:10:46.082Z"
   },
   {
    "duration": 35,
    "start_time": "2023-09-17T17:10:46.097Z"
   },
   {
    "duration": 16,
    "start_time": "2023-09-17T17:10:46.134Z"
   },
   {
    "duration": 6,
    "start_time": "2023-09-17T17:10:46.153Z"
   },
   {
    "duration": 52,
    "start_time": "2023-09-17T17:10:46.161Z"
   },
   {
    "duration": 2577,
    "start_time": "2023-09-17T17:10:46.222Z"
   },
   {
    "duration": 220,
    "start_time": "2023-09-17T17:10:48.801Z"
   },
   {
    "duration": 427,
    "start_time": "2023-09-17T17:10:49.022Z"
   },
   {
    "duration": 117,
    "start_time": "2023-09-17T17:10:49.452Z"
   },
   {
    "duration": 382,
    "start_time": "2023-09-17T17:10:49.571Z"
   },
   {
    "duration": 3,
    "start_time": "2023-09-17T17:10:49.955Z"
   },
   {
    "duration": 22,
    "start_time": "2023-09-17T17:12:52.928Z"
   },
   {
    "duration": 7,
    "start_time": "2023-09-17T17:12:54.748Z"
   },
   {
    "duration": 6,
    "start_time": "2023-09-17T17:15:18.257Z"
   },
   {
    "duration": 2603,
    "start_time": "2023-09-17T17:15:41.558Z"
   },
   {
    "duration": 49,
    "start_time": "2023-09-17T17:20:33.804Z"
   },
   {
    "duration": 4,
    "start_time": "2023-09-17T17:22:11.392Z"
   },
   {
    "duration": 375,
    "start_time": "2023-09-17T17:22:11.399Z"
   },
   {
    "duration": 18,
    "start_time": "2023-09-17T17:22:11.775Z"
   },
   {
    "duration": 93,
    "start_time": "2023-09-17T17:22:11.794Z"
   },
   {
    "duration": 96,
    "start_time": "2023-09-17T17:22:11.889Z"
   },
   {
    "duration": 14,
    "start_time": "2023-09-17T17:22:11.987Z"
   },
   {
    "duration": 472,
    "start_time": "2023-09-17T17:22:12.009Z"
   },
   {
    "duration": 42,
    "start_time": "2023-09-17T17:22:12.483Z"
   },
   {
    "duration": 4,
    "start_time": "2023-09-17T17:22:12.528Z"
   },
   {
    "duration": 365,
    "start_time": "2023-09-17T17:22:12.534Z"
   },
   {
    "duration": 22,
    "start_time": "2023-09-17T17:22:12.908Z"
   },
   {
    "duration": 4,
    "start_time": "2023-09-17T17:22:12.932Z"
   },
   {
    "duration": 5,
    "start_time": "2023-09-17T17:22:12.938Z"
   },
   {
    "duration": 6,
    "start_time": "2023-09-17T17:22:12.945Z"
   },
   {
    "duration": 6,
    "start_time": "2023-09-17T17:22:12.953Z"
   },
   {
    "duration": 14,
    "start_time": "2023-09-17T17:22:12.960Z"
   },
   {
    "duration": 6,
    "start_time": "2023-09-17T17:22:12.976Z"
   },
   {
    "duration": 33,
    "start_time": "2023-09-17T17:22:12.984Z"
   },
   {
    "duration": 20,
    "start_time": "2023-09-17T17:22:13.019Z"
   },
   {
    "duration": 14,
    "start_time": "2023-09-17T17:22:13.041Z"
   },
   {
    "duration": 8,
    "start_time": "2023-09-17T17:22:15.568Z"
   },
   {
    "duration": 12,
    "start_time": "2023-09-17T17:22:39.497Z"
   },
   {
    "duration": 10,
    "start_time": "2023-09-17T17:23:42.025Z"
   },
   {
    "duration": 8,
    "start_time": "2023-09-17T17:23:46.463Z"
   },
   {
    "duration": 6,
    "start_time": "2023-09-17T17:23:48.627Z"
   },
   {
    "duration": 116,
    "start_time": "2023-09-17T17:23:50.529Z"
   },
   {
    "duration": 52,
    "start_time": "2023-09-17T17:24:44.708Z"
   },
   {
    "duration": 6,
    "start_time": "2023-09-17T17:27:08.073Z"
   },
   {
    "duration": 19,
    "start_time": "2023-09-17T17:27:18.373Z"
   },
   {
    "duration": 56,
    "start_time": "2023-09-17T17:27:44.184Z"
   },
   {
    "duration": 17,
    "start_time": "2023-09-17T17:28:16.039Z"
   },
   {
    "duration": 8,
    "start_time": "2023-09-17T17:31:22.292Z"
   },
   {
    "duration": 14,
    "start_time": "2023-09-17T17:31:42.493Z"
   },
   {
    "duration": 12,
    "start_time": "2023-09-17T17:32:02.637Z"
   },
   {
    "duration": 6,
    "start_time": "2023-09-17T17:32:19.449Z"
   },
   {
    "duration": 10,
    "start_time": "2023-09-17T17:32:38.457Z"
   },
   {
    "duration": 24,
    "start_time": "2023-09-17T17:47:46.691Z"
   },
   {
    "duration": 3,
    "start_time": "2023-09-17T17:48:03.498Z"
   },
   {
    "duration": 377,
    "start_time": "2023-09-17T17:48:03.503Z"
   },
   {
    "duration": 17,
    "start_time": "2023-09-17T17:48:03.882Z"
   },
   {
    "duration": 82,
    "start_time": "2023-09-17T17:48:03.909Z"
   },
   {
    "duration": 96,
    "start_time": "2023-09-17T17:48:03.992Z"
   },
   {
    "duration": 29,
    "start_time": "2023-09-17T17:48:04.090Z"
   },
   {
    "duration": 467,
    "start_time": "2023-09-17T17:48:04.125Z"
   },
   {
    "duration": 33,
    "start_time": "2023-09-17T17:48:04.594Z"
   },
   {
    "duration": 4,
    "start_time": "2023-09-17T17:48:04.630Z"
   },
   {
    "duration": 283,
    "start_time": "2023-09-17T17:48:04.636Z"
   },
   {
    "duration": 15,
    "start_time": "2023-09-17T17:48:04.921Z"
   },
   {
    "duration": 5,
    "start_time": "2023-09-17T17:48:04.938Z"
   },
   {
    "duration": 13,
    "start_time": "2023-09-17T17:48:04.944Z"
   },
   {
    "duration": 19,
    "start_time": "2023-09-17T17:48:04.958Z"
   },
   {
    "duration": 9,
    "start_time": "2023-09-17T17:48:04.979Z"
   },
   {
    "duration": 27,
    "start_time": "2023-09-17T17:48:04.990Z"
   },
   {
    "duration": 18,
    "start_time": "2023-09-17T17:48:05.019Z"
   },
   {
    "duration": 19,
    "start_time": "2023-09-17T17:48:05.038Z"
   },
   {
    "duration": 21,
    "start_time": "2023-09-17T17:48:05.059Z"
   },
   {
    "duration": 39,
    "start_time": "2023-09-17T17:48:05.082Z"
   },
   {
    "duration": 12,
    "start_time": "2023-09-17T17:48:05.127Z"
   },
   {
    "duration": 19,
    "start_time": "2023-09-17T17:48:05.141Z"
   },
   {
    "duration": 19,
    "start_time": "2023-09-17T17:48:08.489Z"
   },
   {
    "duration": 5,
    "start_time": "2023-09-17T17:48:56.674Z"
   },
   {
    "duration": 5,
    "start_time": "2023-09-17T17:49:06.300Z"
   },
   {
    "duration": 5,
    "start_time": "2023-09-17T17:49:17.269Z"
   },
   {
    "duration": 4,
    "start_time": "2023-09-17T17:49:31.670Z"
   },
   {
    "duration": 10,
    "start_time": "2023-09-17T17:49:55.338Z"
   },
   {
    "duration": 5,
    "start_time": "2023-09-17T17:50:01.798Z"
   },
   {
    "duration": 19,
    "start_time": "2023-09-17T17:50:54.746Z"
   },
   {
    "duration": 9,
    "start_time": "2023-09-17T17:51:13.871Z"
   },
   {
    "duration": 8,
    "start_time": "2023-09-17T17:51:32.733Z"
   },
   {
    "duration": 64,
    "start_time": "2023-09-17T17:52:15.095Z"
   },
   {
    "duration": 5,
    "start_time": "2023-09-17T17:55:27.293Z"
   },
   {
    "duration": 5,
    "start_time": "2023-09-17T17:55:36.939Z"
   },
   {
    "duration": 46,
    "start_time": "2023-09-17T17:55:46.125Z"
   },
   {
    "duration": 5,
    "start_time": "2023-09-17T17:55:47.933Z"
   },
   {
    "duration": 4,
    "start_time": "2023-09-17T17:55:48.763Z"
   },
   {
    "duration": 5,
    "start_time": "2023-09-17T17:55:49.739Z"
   },
   {
    "duration": 20,
    "start_time": "2023-09-17T17:56:08.240Z"
   },
   {
    "duration": 23,
    "start_time": "2023-09-17T17:56:20.805Z"
   },
   {
    "duration": 17,
    "start_time": "2023-09-17T17:56:43.830Z"
   },
   {
    "duration": 8,
    "start_time": "2023-09-17T17:56:57.735Z"
   },
   {
    "duration": 2,
    "start_time": "2023-09-17T17:58:09.693Z"
   },
   {
    "duration": 12,
    "start_time": "2023-09-17T18:04:18.952Z"
   },
   {
    "duration": 16,
    "start_time": "2023-09-17T18:04:28.103Z"
   },
   {
    "duration": 14,
    "start_time": "2023-09-17T18:04:34.988Z"
   },
   {
    "duration": 1661,
    "start_time": "2023-09-17T18:04:47.293Z"
   },
   {
    "duration": 6,
    "start_time": "2023-09-17T18:06:36.768Z"
   },
   {
    "duration": 7,
    "start_time": "2023-09-17T18:07:32.734Z"
   },
   {
    "duration": 5,
    "start_time": "2023-09-17T18:08:12.192Z"
   },
   {
    "duration": 6,
    "start_time": "2023-09-17T18:12:17.540Z"
   },
   {
    "duration": 6,
    "start_time": "2023-09-17T18:12:40.828Z"
   },
   {
    "duration": 9,
    "start_time": "2023-09-17T18:13:03.431Z"
   },
   {
    "duration": 24,
    "start_time": "2023-09-17T18:13:43.741Z"
   },
   {
    "duration": 9,
    "start_time": "2023-09-17T18:13:56.936Z"
   },
   {
    "duration": 7059,
    "start_time": "2023-09-17T18:15:24.928Z"
   },
   {
    "duration": 52,
    "start_time": "2023-09-17T18:15:35.481Z"
   },
   {
    "duration": 11,
    "start_time": "2023-09-17T18:15:50.593Z"
   },
   {
    "duration": 4,
    "start_time": "2023-09-17T18:19:41.957Z"
   },
   {
    "duration": 5,
    "start_time": "2023-09-17T18:19:47.483Z"
   },
   {
    "duration": 6,
    "start_time": "2023-09-17T18:19:54.020Z"
   },
   {
    "duration": 11,
    "start_time": "2023-09-17T18:20:31.892Z"
   },
   {
    "duration": 8,
    "start_time": "2023-09-17T18:20:39.332Z"
   },
   {
    "duration": 6,
    "start_time": "2023-09-17T18:20:40.390Z"
   },
   {
    "duration": 7,
    "start_time": "2023-09-17T18:20:41.284Z"
   },
   {
    "duration": 5,
    "start_time": "2023-09-17T18:20:46.866Z"
   },
   {
    "duration": 32,
    "start_time": "2023-09-17T18:21:00.722Z"
   },
   {
    "duration": 52,
    "start_time": "2023-09-17T18:21:01.580Z"
   },
   {
    "duration": 43,
    "start_time": "2023-09-17T18:21:13.160Z"
   },
   {
    "duration": 9,
    "start_time": "2023-09-17T18:22:42.709Z"
   },
   {
    "duration": 5,
    "start_time": "2023-09-17T18:23:02.550Z"
   },
   {
    "duration": 5,
    "start_time": "2023-09-17T18:23:13.702Z"
   },
   {
    "duration": 15,
    "start_time": "2023-09-17T18:23:32.707Z"
   },
   {
    "duration": 5,
    "start_time": "2023-09-17T18:23:47.272Z"
   },
   {
    "duration": 6,
    "start_time": "2023-09-17T18:49:09.066Z"
   },
   {
    "duration": 5,
    "start_time": "2023-09-17T18:49:09.843Z"
   },
   {
    "duration": 5,
    "start_time": "2023-09-17T18:49:11.344Z"
   },
   {
    "duration": 27,
    "start_time": "2023-09-17T18:49:12.643Z"
   },
   {
    "duration": 10,
    "start_time": "2023-09-17T18:49:24.740Z"
   },
   {
    "duration": 27,
    "start_time": "2023-09-17T18:50:49.140Z"
   },
   {
    "duration": 44,
    "start_time": "2023-09-17T18:51:34.885Z"
   },
   {
    "duration": 27,
    "start_time": "2023-09-17T18:51:41.396Z"
   },
   {
    "duration": 54,
    "start_time": "2023-09-17T18:51:43.872Z"
   },
   {
    "duration": 24,
    "start_time": "2023-09-17T18:53:18.628Z"
   },
   {
    "duration": 58,
    "start_time": "2023-09-17T18:53:19.536Z"
   },
   {
    "duration": 6,
    "start_time": "2023-09-17T18:54:29.815Z"
   },
   {
    "duration": 4,
    "start_time": "2023-09-17T18:57:15.348Z"
   },
   {
    "duration": 4,
    "start_time": "2023-09-17T19:00:12.590Z"
   },
   {
    "duration": 9,
    "start_time": "2023-09-17T19:01:32.407Z"
   },
   {
    "duration": 32,
    "start_time": "2023-09-17T19:03:00.208Z"
   },
   {
    "duration": 6,
    "start_time": "2023-09-17T19:06:27.625Z"
   },
   {
    "duration": 3,
    "start_time": "2023-09-17T19:06:28.292Z"
   },
   {
    "duration": 3,
    "start_time": "2023-09-17T19:06:29.476Z"
   },
   {
    "duration": 7,
    "start_time": "2023-09-17T19:09:10.197Z"
   },
   {
    "duration": 6,
    "start_time": "2023-09-17T19:11:51.487Z"
   },
   {
    "duration": 9,
    "start_time": "2023-09-17T19:12:27.897Z"
   },
   {
    "duration": 7,
    "start_time": "2023-09-17T19:12:51.979Z"
   },
   {
    "duration": 4,
    "start_time": "2023-09-17T19:16:12.302Z"
   },
   {
    "duration": 6,
    "start_time": "2023-09-17T19:18:01.130Z"
   },
   {
    "duration": 5,
    "start_time": "2023-09-17T19:22:03.075Z"
   },
   {
    "duration": 3,
    "start_time": "2023-09-17T19:23:31.549Z"
   },
   {
    "duration": 4,
    "start_time": "2023-09-17T19:31:01.467Z"
   },
   {
    "duration": 15,
    "start_time": "2023-09-17T19:32:30.055Z"
   },
   {
    "duration": 4605,
    "start_time": "2023-09-17T19:32:36.568Z"
   },
   {
    "duration": 15,
    "start_time": "2023-09-17T19:33:44.609Z"
   },
   {
    "duration": 7,
    "start_time": "2023-09-17T19:39:38.434Z"
   },
   {
    "duration": 18,
    "start_time": "2023-09-17T19:39:48.207Z"
   },
   {
    "duration": 9,
    "start_time": "2023-09-17T19:40:24.882Z"
   },
   {
    "duration": 23,
    "start_time": "2023-09-17T19:41:27.281Z"
   },
   {
    "duration": 1506,
    "start_time": "2023-09-17T19:42:48.165Z"
   },
   {
    "duration": 13,
    "start_time": "2023-09-17T19:43:03.876Z"
   },
   {
    "duration": 14,
    "start_time": "2023-09-17T19:43:08.237Z"
   },
   {
    "duration": 10,
    "start_time": "2023-09-17T19:45:00.179Z"
   },
   {
    "duration": 6,
    "start_time": "2023-09-17T19:45:07.555Z"
   },
   {
    "duration": 16,
    "start_time": "2023-09-17T19:45:16.963Z"
   },
   {
    "duration": 13,
    "start_time": "2023-09-17T19:45:18.854Z"
   },
   {
    "duration": 13,
    "start_time": "2023-09-17T19:48:47.960Z"
   },
   {
    "duration": 4,
    "start_time": "2023-09-17T19:48:57.390Z"
   },
   {
    "duration": 4,
    "start_time": "2023-09-17T19:49:03.388Z"
   },
   {
    "duration": 5,
    "start_time": "2023-09-17T19:49:10.652Z"
   },
   {
    "duration": 5,
    "start_time": "2023-09-17T19:49:21.459Z"
   },
   {
    "duration": 14,
    "start_time": "2023-09-17T19:50:12.292Z"
   },
   {
    "duration": 11,
    "start_time": "2023-09-17T19:50:17.435Z"
   },
   {
    "duration": 9,
    "start_time": "2023-09-17T19:50:24.639Z"
   },
   {
    "duration": 5,
    "start_time": "2023-09-17T19:51:03.373Z"
   },
   {
    "duration": 22,
    "start_time": "2023-09-17T19:51:05.240Z"
   },
   {
    "duration": 10,
    "start_time": "2023-09-17T19:51:09.749Z"
   },
   {
    "duration": 682,
    "start_time": "2023-09-17T19:52:22.499Z"
   },
   {
    "duration": 734,
    "start_time": "2023-09-17T19:53:10.139Z"
   },
   {
    "duration": 635,
    "start_time": "2023-09-17T19:53:37.340Z"
   },
   {
    "duration": 12,
    "start_time": "2023-09-17T19:53:46.285Z"
   },
   {
    "duration": 33,
    "start_time": "2023-09-17T19:53:52.124Z"
   },
   {
    "duration": 47,
    "start_time": "2023-09-18T10:02:43.372Z"
   },
   {
    "duration": 1597,
    "start_time": "2023-09-18T10:02:46.783Z"
   },
   {
    "duration": 1055,
    "start_time": "2023-09-18T10:02:48.382Z"
   },
   {
    "duration": 17,
    "start_time": "2023-09-18T10:02:49.439Z"
   },
   {
    "duration": 71,
    "start_time": "2023-09-18T10:02:49.458Z"
   },
   {
    "duration": 155,
    "start_time": "2023-09-18T10:02:49.530Z"
   },
   {
    "duration": 12,
    "start_time": "2023-09-18T10:02:49.686Z"
   },
   {
    "duration": 1167,
    "start_time": "2023-09-18T10:02:49.700Z"
   },
   {
    "duration": 21,
    "start_time": "2023-09-18T10:02:50.869Z"
   },
   {
    "duration": 3,
    "start_time": "2023-09-18T10:02:50.892Z"
   },
   {
    "duration": 244,
    "start_time": "2023-09-18T10:02:50.900Z"
   },
   {
    "duration": 19,
    "start_time": "2023-09-18T10:02:51.145Z"
   },
   {
    "duration": 5,
    "start_time": "2023-09-18T10:02:51.166Z"
   },
   {
    "duration": 7,
    "start_time": "2023-09-18T10:02:51.172Z"
   },
   {
    "duration": 36,
    "start_time": "2023-09-18T10:02:51.181Z"
   },
   {
    "duration": 22,
    "start_time": "2023-09-18T10:02:51.219Z"
   },
   {
    "duration": 20,
    "start_time": "2023-09-18T10:02:51.243Z"
   },
   {
    "duration": 12,
    "start_time": "2023-09-18T10:02:51.264Z"
   },
   {
    "duration": 28,
    "start_time": "2023-09-18T10:02:51.277Z"
   },
   {
    "duration": 44,
    "start_time": "2023-09-18T10:02:51.307Z"
   },
   {
    "duration": 37,
    "start_time": "2023-09-18T10:02:51.352Z"
   },
   {
    "duration": 35,
    "start_time": "2023-09-18T10:02:51.390Z"
   },
   {
    "duration": 6,
    "start_time": "2023-09-18T10:02:51.426Z"
   },
   {
    "duration": 19,
    "start_time": "2023-09-18T10:02:51.434Z"
   },
   {
    "duration": 66,
    "start_time": "2023-09-18T10:02:51.454Z"
   },
   {
    "duration": 5,
    "start_time": "2023-09-18T10:02:51.521Z"
   },
   {
    "duration": 32,
    "start_time": "2023-09-18T10:02:51.528Z"
   },
   {
    "duration": 27,
    "start_time": "2023-09-18T10:02:51.562Z"
   },
   {
    "duration": 43,
    "start_time": "2023-09-18T10:02:51.593Z"
   },
   {
    "duration": 7,
    "start_time": "2023-09-18T10:02:51.638Z"
   },
   {
    "duration": 35,
    "start_time": "2023-09-18T10:02:51.647Z"
   },
   {
    "duration": 8,
    "start_time": "2023-09-18T10:02:51.683Z"
   },
   {
    "duration": 26,
    "start_time": "2023-09-18T10:02:51.692Z"
   },
   {
    "duration": 24,
    "start_time": "2023-09-18T10:02:51.720Z"
   },
   {
    "duration": 19,
    "start_time": "2023-09-18T10:02:51.745Z"
   },
   {
    "duration": 26,
    "start_time": "2023-09-18T10:02:51.766Z"
   },
   {
    "duration": 54,
    "start_time": "2023-09-18T10:02:51.794Z"
   },
   {
    "duration": 39,
    "start_time": "2023-09-18T10:02:51.850Z"
   },
   {
    "duration": 23,
    "start_time": "2023-09-18T10:02:51.890Z"
   },
   {
    "duration": 15,
    "start_time": "2023-09-18T10:02:51.914Z"
   },
   {
    "duration": 24,
    "start_time": "2023-09-18T10:02:51.931Z"
   },
   {
    "duration": 20,
    "start_time": "2023-09-18T10:02:51.957Z"
   },
   {
    "duration": 11,
    "start_time": "2023-09-18T10:02:51.979Z"
   },
   {
    "duration": 23,
    "start_time": "2023-09-18T10:02:51.992Z"
   },
   {
    "duration": 17,
    "start_time": "2023-09-18T10:02:52.016Z"
   },
   {
    "duration": 18,
    "start_time": "2023-09-18T10:02:52.034Z"
   },
   {
    "duration": 5,
    "start_time": "2023-09-18T10:02:52.054Z"
   },
   {
    "duration": 7,
    "start_time": "2023-09-18T10:02:52.060Z"
   },
   {
    "duration": 10,
    "start_time": "2023-09-18T10:02:52.069Z"
   },
   {
    "duration": 19,
    "start_time": "2023-09-18T10:02:52.081Z"
   },
   {
    "duration": 9,
    "start_time": "2023-09-18T10:02:55.526Z"
   },
   {
    "duration": 2693,
    "start_time": "2023-09-18T10:03:30.015Z"
   },
   {
    "duration": 1977,
    "start_time": "2023-09-18T10:03:50.776Z"
   },
   {
    "duration": 19,
    "start_time": "2023-09-18T10:05:23.444Z"
   },
   {
    "duration": 10,
    "start_time": "2023-09-18T10:05:24.731Z"
   },
   {
    "duration": 5,
    "start_time": "2023-09-18T10:05:29.156Z"
   },
   {
    "duration": 6,
    "start_time": "2023-09-18T10:06:18.287Z"
   },
   {
    "duration": 13,
    "start_time": "2023-09-18T10:06:23.372Z"
   },
   {
    "duration": 14,
    "start_time": "2023-09-18T10:06:36.956Z"
   },
   {
    "duration": 7,
    "start_time": "2023-09-18T10:07:03.426Z"
   },
   {
    "duration": 6,
    "start_time": "2023-09-18T10:07:17.105Z"
   },
   {
    "duration": 9,
    "start_time": "2023-09-18T10:07:54.497Z"
   },
   {
    "duration": 11,
    "start_time": "2023-09-18T10:08:00.190Z"
   },
   {
    "duration": 8,
    "start_time": "2023-09-18T10:08:01.440Z"
   },
   {
    "duration": 172,
    "start_time": "2023-09-18T10:08:19.419Z"
   },
   {
    "duration": 172,
    "start_time": "2023-09-18T10:09:16.699Z"
   },
   {
    "duration": 168,
    "start_time": "2023-09-18T10:09:34.069Z"
   },
   {
    "duration": 185,
    "start_time": "2023-09-18T10:09:38.191Z"
   },
   {
    "duration": 165,
    "start_time": "2023-09-18T10:09:51.450Z"
   },
   {
    "duration": 175,
    "start_time": "2023-09-18T10:11:13.256Z"
   },
   {
    "duration": 185,
    "start_time": "2023-09-18T10:11:48.566Z"
   },
   {
    "duration": 3,
    "start_time": "2023-09-18T10:13:27.240Z"
   },
   {
    "duration": 178,
    "start_time": "2023-09-18T10:13:37.304Z"
   },
   {
    "duration": 262,
    "start_time": "2023-09-18T10:13:44.415Z"
   },
   {
    "duration": 265,
    "start_time": "2023-09-18T10:13:53.551Z"
   },
   {
    "duration": 192,
    "start_time": "2023-09-18T10:14:01.794Z"
   },
   {
    "duration": 8,
    "start_time": "2023-09-18T10:15:55.142Z"
   },
   {
    "duration": 6,
    "start_time": "2023-09-18T10:18:14.766Z"
   },
   {
    "duration": 12,
    "start_time": "2023-09-18T10:18:49.795Z"
   },
   {
    "duration": 12,
    "start_time": "2023-09-18T10:19:16.550Z"
   },
   {
    "duration": 3,
    "start_time": "2023-09-18T10:21:16.290Z"
   },
   {
    "duration": 8,
    "start_time": "2023-09-18T10:21:29.931Z"
   },
   {
    "duration": 15,
    "start_time": "2023-09-18T10:22:31.524Z"
   },
   {
    "duration": 10,
    "start_time": "2023-09-18T10:23:39.468Z"
   },
   {
    "duration": 58,
    "start_time": "2023-09-18T10:25:01.721Z"
   },
   {
    "duration": 59,
    "start_time": "2023-09-18T10:25:20.771Z"
   },
   {
    "duration": 10,
    "start_time": "2023-09-18T10:25:38.940Z"
   },
   {
    "duration": 60,
    "start_time": "2023-09-18T10:25:49.995Z"
   },
   {
    "duration": 60,
    "start_time": "2023-09-18T10:25:54.030Z"
   },
   {
    "duration": 64,
    "start_time": "2023-09-18T10:25:57.410Z"
   },
   {
    "duration": 3,
    "start_time": "2023-09-18T10:26:18.823Z"
   },
   {
    "duration": 59,
    "start_time": "2023-09-18T10:26:22.134Z"
   },
   {
    "duration": 183,
    "start_time": "2023-09-18T10:27:14.094Z"
   },
   {
    "duration": 286,
    "start_time": "2023-09-18T10:27:24.424Z"
   },
   {
    "duration": 160,
    "start_time": "2023-09-18T10:34:26.089Z"
   },
   {
    "duration": 212,
    "start_time": "2023-09-18T10:34:36.387Z"
   },
   {
    "duration": 13,
    "start_time": "2023-09-18T10:35:31.885Z"
   },
   {
    "duration": 199,
    "start_time": "2023-09-18T10:35:39.527Z"
   },
   {
    "duration": 6,
    "start_time": "2023-09-18T10:36:11.428Z"
   },
   {
    "duration": 2127,
    "start_time": "2023-09-18T10:36:26.383Z"
   },
   {
    "duration": 3,
    "start_time": "2023-09-18T10:36:43.687Z"
   },
   {
    "duration": 7,
    "start_time": "2023-09-18T10:36:53.868Z"
   },
   {
    "duration": 6,
    "start_time": "2023-09-18T10:36:57.542Z"
   },
   {
    "duration": 7,
    "start_time": "2023-09-18T10:37:01.864Z"
   },
   {
    "duration": 5,
    "start_time": "2023-09-18T10:37:48.225Z"
   },
   {
    "duration": 106,
    "start_time": "2023-09-18T10:50:23.573Z"
   },
   {
    "duration": 131,
    "start_time": "2023-09-18T10:50:30.488Z"
   },
   {
    "duration": 252,
    "start_time": "2023-09-18T10:51:18.823Z"
   },
   {
    "duration": 134,
    "start_time": "2023-09-18T10:51:31.541Z"
   },
   {
    "duration": 226,
    "start_time": "2023-09-18T10:51:40.677Z"
   },
   {
    "duration": 199,
    "start_time": "2023-09-18T10:51:46.158Z"
   },
   {
    "duration": 11,
    "start_time": "2023-09-18T10:52:37.292Z"
   },
   {
    "duration": 9,
    "start_time": "2023-09-18T10:52:46.012Z"
   },
   {
    "duration": 88,
    "start_time": "2023-09-18T10:57:21.876Z"
   },
   {
    "duration": 196,
    "start_time": "2023-09-18T10:57:29.530Z"
   },
   {
    "duration": 5,
    "start_time": "2023-09-18T11:00:26.308Z"
   },
   {
    "duration": 5,
    "start_time": "2023-09-18T11:00:31.992Z"
   },
   {
    "duration": 194,
    "start_time": "2023-09-18T11:02:17.038Z"
   },
   {
    "duration": 204,
    "start_time": "2023-09-18T11:02:52.835Z"
   },
   {
    "duration": 191,
    "start_time": "2023-09-18T11:03:10.502Z"
   },
   {
    "duration": 191,
    "start_time": "2023-09-18T11:03:17.313Z"
   },
   {
    "duration": 140,
    "start_time": "2023-09-18T11:03:50.608Z"
   },
   {
    "duration": 150,
    "start_time": "2023-09-18T11:03:55.092Z"
   },
   {
    "duration": 151,
    "start_time": "2023-09-18T11:03:59.962Z"
   },
   {
    "duration": 179,
    "start_time": "2023-09-18T11:15:19.051Z"
   },
   {
    "duration": 161,
    "start_time": "2023-09-18T11:15:24.730Z"
   },
   {
    "duration": 169,
    "start_time": "2023-09-18T11:15:30.064Z"
   },
   {
    "duration": 13,
    "start_time": "2023-09-18T11:15:39.955Z"
   },
   {
    "duration": 130,
    "start_time": "2023-09-18T11:15:53.480Z"
   },
   {
    "duration": 299,
    "start_time": "2023-09-18T11:15:59.631Z"
   },
   {
    "duration": 311,
    "start_time": "2023-09-18T11:16:19.941Z"
   },
   {
    "duration": 286,
    "start_time": "2023-09-18T11:16:51.891Z"
   },
   {
    "duration": 323,
    "start_time": "2023-09-18T11:17:26.786Z"
   },
   {
    "duration": 319,
    "start_time": "2023-09-18T11:17:32.280Z"
   },
   {
    "duration": 312,
    "start_time": "2023-09-18T11:17:40.879Z"
   },
   {
    "duration": 440,
    "start_time": "2023-09-18T11:17:45.896Z"
   },
   {
    "duration": 314,
    "start_time": "2023-09-18T11:19:29.454Z"
   },
   {
    "duration": 3,
    "start_time": "2023-09-18T11:21:51.648Z"
   },
   {
    "duration": 2045,
    "start_time": "2023-09-18T11:22:20.713Z"
   },
   {
    "duration": 3,
    "start_time": "2023-09-18T11:22:34.926Z"
   },
   {
    "duration": 8,
    "start_time": "2023-09-18T11:22:38.240Z"
   },
   {
    "duration": 9,
    "start_time": "2023-09-18T11:22:41.021Z"
   },
   {
    "duration": 207,
    "start_time": "2023-09-18T11:22:42.914Z"
   },
   {
    "duration": 9,
    "start_time": "2023-09-18T11:22:47.464Z"
   },
   {
    "duration": 9,
    "start_time": "2023-09-18T11:22:48.649Z"
   },
   {
    "duration": 166,
    "start_time": "2023-09-18T11:22:50.590Z"
   },
   {
    "duration": 323,
    "start_time": "2023-09-18T11:22:53.424Z"
   },
   {
    "duration": 3,
    "start_time": "2023-09-18T11:23:37.250Z"
   },
   {
    "duration": 5,
    "start_time": "2023-09-18T11:24:51.964Z"
   },
   {
    "duration": 11,
    "start_time": "2023-09-18T11:32:29.000Z"
   },
   {
    "duration": 14,
    "start_time": "2023-09-18T11:32:37.045Z"
   },
   {
    "duration": 4,
    "start_time": "2023-09-18T11:32:56.378Z"
   },
   {
    "duration": 5,
    "start_time": "2023-09-18T11:35:01.097Z"
   },
   {
    "duration": 6,
    "start_time": "2023-09-18T11:35:04.289Z"
   },
   {
    "duration": 13,
    "start_time": "2023-09-18T11:35:07.387Z"
   },
   {
    "duration": 9,
    "start_time": "2023-09-18T11:35:09.323Z"
   },
   {
    "duration": 8,
    "start_time": "2023-09-18T11:35:24.919Z"
   },
   {
    "duration": 6,
    "start_time": "2023-09-18T11:36:02.304Z"
   },
   {
    "duration": 6,
    "start_time": "2023-09-18T11:36:13.453Z"
   },
   {
    "duration": 5,
    "start_time": "2023-09-18T11:36:56.888Z"
   },
   {
    "duration": 183,
    "start_time": "2023-09-18T11:37:46.933Z"
   },
   {
    "duration": 163,
    "start_time": "2023-09-18T11:38:04.073Z"
   },
   {
    "duration": 193,
    "start_time": "2023-09-18T11:40:37.325Z"
   },
   {
    "duration": 3,
    "start_time": "2023-09-18T11:51:26.906Z"
   },
   {
    "duration": 3,
    "start_time": "2023-09-18T11:53:06.713Z"
   },
   {
    "duration": 58,
    "start_time": "2023-09-18T12:42:39.875Z"
   },
   {
    "duration": 3,
    "start_time": "2023-09-18T12:43:21.375Z"
   },
   {
    "duration": 15,
    "start_time": "2023-09-18T12:49:12.704Z"
   },
   {
    "duration": 3,
    "start_time": "2023-09-18T12:49:31.681Z"
   },
   {
    "duration": 12265,
    "start_time": "2023-09-18T12:49:49.620Z"
   },
   {
    "duration": 12339,
    "start_time": "2023-09-18T12:50:05.642Z"
   },
   {
    "duration": 12463,
    "start_time": "2023-09-18T12:52:02.139Z"
   },
   {
    "duration": 3098,
    "start_time": "2023-09-18T12:53:54.460Z"
   },
   {
    "duration": 11291,
    "start_time": "2023-09-18T12:54:00.662Z"
   },
   {
    "duration": 11329,
    "start_time": "2023-09-18T12:54:23.410Z"
   },
   {
    "duration": 1959,
    "start_time": "2023-09-18T15:32:33.242Z"
   },
   {
    "duration": 1134,
    "start_time": "2023-09-18T15:32:35.203Z"
   },
   {
    "duration": 21,
    "start_time": "2023-09-18T15:32:36.340Z"
   },
   {
    "duration": 113,
    "start_time": "2023-09-18T15:32:36.364Z"
   },
   {
    "duration": 214,
    "start_time": "2023-09-18T15:32:36.479Z"
   },
   {
    "duration": 28,
    "start_time": "2023-09-18T15:32:36.696Z"
   },
   {
    "duration": 1411,
    "start_time": "2023-09-18T15:32:36.727Z"
   },
   {
    "duration": 28,
    "start_time": "2023-09-18T15:32:38.141Z"
   },
   {
    "duration": 9,
    "start_time": "2023-09-18T15:32:38.171Z"
   },
   {
    "duration": 373,
    "start_time": "2023-09-18T15:32:38.184Z"
   },
   {
    "duration": 32,
    "start_time": "2023-09-18T15:32:38.559Z"
   },
   {
    "duration": 5,
    "start_time": "2023-09-18T15:32:38.593Z"
   },
   {
    "duration": 42,
    "start_time": "2023-09-18T15:32:38.600Z"
   },
   {
    "duration": 22,
    "start_time": "2023-09-18T15:32:38.644Z"
   },
   {
    "duration": 39,
    "start_time": "2023-09-18T15:32:38.668Z"
   },
   {
    "duration": 39,
    "start_time": "2023-09-18T15:32:38.709Z"
   },
   {
    "duration": 20,
    "start_time": "2023-09-18T15:32:38.752Z"
   },
   {
    "duration": 22,
    "start_time": "2023-09-18T15:32:38.774Z"
   },
   {
    "duration": 50,
    "start_time": "2023-09-18T15:32:38.798Z"
   },
   {
    "duration": 27,
    "start_time": "2023-09-18T15:32:38.850Z"
   },
   {
    "duration": 42,
    "start_time": "2023-09-18T15:32:38.879Z"
   },
   {
    "duration": 12,
    "start_time": "2023-09-18T15:32:38.931Z"
   },
   {
    "duration": 94,
    "start_time": "2023-09-18T15:32:38.944Z"
   },
   {
    "duration": 10,
    "start_time": "2023-09-18T15:32:39.042Z"
   },
   {
    "duration": 29,
    "start_time": "2023-09-18T15:32:39.054Z"
   },
   {
    "duration": 31,
    "start_time": "2023-09-18T15:32:39.085Z"
   },
   {
    "duration": 32,
    "start_time": "2023-09-18T15:32:39.118Z"
   },
   {
    "duration": 25,
    "start_time": "2023-09-18T15:32:39.156Z"
   },
   {
    "duration": 34,
    "start_time": "2023-09-18T15:32:39.183Z"
   },
   {
    "duration": 11,
    "start_time": "2023-09-18T15:32:39.219Z"
   },
   {
    "duration": 14,
    "start_time": "2023-09-18T15:32:39.232Z"
   },
   {
    "duration": 33,
    "start_time": "2023-09-18T15:32:39.247Z"
   },
   {
    "duration": 17,
    "start_time": "2023-09-18T15:32:39.282Z"
   },
   {
    "duration": 30,
    "start_time": "2023-09-18T15:32:39.301Z"
   },
   {
    "duration": 37,
    "start_time": "2023-09-18T15:32:39.334Z"
   },
   {
    "duration": 87,
    "start_time": "2023-09-18T15:32:39.373Z"
   },
   {
    "duration": 4,
    "start_time": "2023-09-18T15:32:39.462Z"
   },
   {
    "duration": 12,
    "start_time": "2023-09-18T15:32:39.468Z"
   },
   {
    "duration": 23,
    "start_time": "2023-09-18T15:32:39.482Z"
   },
   {
    "duration": 20,
    "start_time": "2023-09-18T15:32:39.507Z"
   },
   {
    "duration": 36,
    "start_time": "2023-09-18T15:32:39.529Z"
   },
   {
    "duration": 84,
    "start_time": "2023-09-18T15:32:39.567Z"
   },
   {
    "duration": 6,
    "start_time": "2023-09-18T15:32:39.653Z"
   },
   {
    "duration": 37,
    "start_time": "2023-09-18T15:32:39.661Z"
   },
   {
    "duration": 33,
    "start_time": "2023-09-18T15:32:39.700Z"
   },
   {
    "duration": 17,
    "start_time": "2023-09-18T15:32:39.736Z"
   },
   {
    "duration": 294,
    "start_time": "2023-09-18T15:32:39.756Z"
   },
   {
    "duration": 12,
    "start_time": "2023-09-18T15:32:40.052Z"
   },
   {
    "duration": 35,
    "start_time": "2023-09-18T15:32:40.067Z"
   },
   {
    "duration": 232,
    "start_time": "2023-09-18T15:32:40.104Z"
   },
   {
    "duration": 416,
    "start_time": "2023-09-18T15:32:40.338Z"
   },
   {
    "duration": 7,
    "start_time": "2023-09-18T15:32:40.757Z"
   },
   {
    "duration": 307,
    "start_time": "2023-09-18T15:32:40.766Z"
   },
   {
    "duration": 3,
    "start_time": "2023-09-18T15:32:41.075Z"
   },
   {
    "duration": 4,
    "start_time": "2023-09-18T15:32:44.278Z"
   },
   {
    "duration": 9,
    "start_time": "2023-09-18T15:33:04.650Z"
   },
   {
    "duration": 5,
    "start_time": "2023-09-18T15:33:40.038Z"
   },
   {
    "duration": 8,
    "start_time": "2023-09-18T15:33:41.749Z"
   },
   {
    "duration": 6,
    "start_time": "2023-09-18T15:33:59.540Z"
   },
   {
    "duration": 4,
    "start_time": "2023-09-18T15:34:08.674Z"
   },
   {
    "duration": 6,
    "start_time": "2023-09-18T15:34:11.000Z"
   },
   {
    "duration": 4,
    "start_time": "2023-09-18T15:34:49.281Z"
   },
   {
    "duration": 8,
    "start_time": "2023-09-18T15:34:50.955Z"
   },
   {
    "duration": 5,
    "start_time": "2023-09-18T15:35:05.438Z"
   },
   {
    "duration": 8,
    "start_time": "2023-09-18T15:35:06.918Z"
   },
   {
    "duration": 3,
    "start_time": "2023-09-18T15:35:19.257Z"
   },
   {
    "duration": 7,
    "start_time": "2023-09-18T15:35:21.471Z"
   },
   {
    "duration": 5,
    "start_time": "2023-09-18T15:37:11.087Z"
   },
   {
    "duration": 218,
    "start_time": "2023-09-18T15:37:15.208Z"
   },
   {
    "duration": 23,
    "start_time": "2023-09-18T15:37:25.404Z"
   },
   {
    "duration": 10,
    "start_time": "2023-09-18T15:37:29.331Z"
   },
   {
    "duration": 8,
    "start_time": "2023-09-18T15:37:33.944Z"
   },
   {
    "duration": 4,
    "start_time": "2023-09-18T15:39:23.788Z"
   },
   {
    "duration": 11,
    "start_time": "2023-09-18T15:39:26.010Z"
   },
   {
    "duration": 11,
    "start_time": "2023-09-18T15:40:08.354Z"
   },
   {
    "duration": 3,
    "start_time": "2023-09-18T15:40:11.463Z"
   },
   {
    "duration": 13203,
    "start_time": "2023-09-18T15:40:12.461Z"
   },
   {
    "duration": 52493,
    "start_time": "2023-09-18T15:46:25.231Z"
   },
   {
    "duration": 111,
    "start_time": "2023-09-18T15:47:59.550Z"
   },
   {
    "duration": 46040,
    "start_time": "2023-09-18T15:48:02.373Z"
   },
   {
    "duration": 46063,
    "start_time": "2023-09-18T15:52:14.669Z"
   },
   {
    "duration": 24835,
    "start_time": "2023-09-18T16:04:53.198Z"
   },
   {
    "duration": 33065,
    "start_time": "2023-09-18T16:05:24.127Z"
   },
   {
    "duration": 258,
    "start_time": "2023-09-18T16:06:55.241Z"
   },
   {
    "duration": 33269,
    "start_time": "2023-09-18T16:09:15.806Z"
   },
   {
    "duration": 97,
    "start_time": "2023-09-18T16:11:28.528Z"
   },
   {
    "duration": 0,
    "start_time": "2023-09-18T16:11:45.368Z"
   },
   {
    "duration": 2,
    "start_time": "2023-09-18T16:11:46.935Z"
   },
   {
    "duration": 33529,
    "start_time": "2023-09-18T16:11:47.626Z"
   },
   {
    "duration": 37344,
    "start_time": "2023-09-18T16:12:40.596Z"
   },
   {
    "duration": 13,
    "start_time": "2023-09-18T16:15:03.035Z"
   },
   {
    "duration": 13,
    "start_time": "2023-09-18T16:15:39.284Z"
   },
   {
    "duration": 19,
    "start_time": "2023-09-18T16:15:44.209Z"
   },
   {
    "duration": 18,
    "start_time": "2023-09-18T16:15:54.069Z"
   },
   {
    "duration": 25,
    "start_time": "2023-09-18T16:16:21.200Z"
   },
   {
    "duration": 4,
    "start_time": "2023-09-18T16:18:01.745Z"
   },
   {
    "duration": 72899,
    "start_time": "2023-09-18T16:18:10.459Z"
   },
   {
    "duration": 0,
    "start_time": "2023-09-18T16:19:23.360Z"
   },
   {
    "duration": 52362,
    "start_time": "2023-09-18T16:19:35.194Z"
   },
   {
    "duration": 215181,
    "start_time": "2023-09-18T16:20:29.651Z"
   },
   {
    "duration": 2182,
    "start_time": "2023-09-18T16:24:20.733Z"
   },
   {
    "duration": 607288,
    "start_time": "2023-09-18T16:25:11.803Z"
   },
   {
    "duration": 0,
    "start_time": "2023-09-18T16:35:19.094Z"
   },
   {
    "duration": 13,
    "start_time": "2023-09-18T16:35:21.456Z"
   },
   {
    "duration": 31538,
    "start_time": "2023-09-18T16:35:37.808Z"
   },
   {
    "duration": 31369,
    "start_time": "2023-09-18T16:36:10.686Z"
   },
   {
    "duration": 31306,
    "start_time": "2023-09-18T16:37:35.739Z"
   },
   {
    "duration": 30610,
    "start_time": "2023-09-18T16:38:18.732Z"
   },
   {
    "duration": 31337,
    "start_time": "2023-09-18T16:38:59.448Z"
   },
   {
    "duration": 30854,
    "start_time": "2023-09-18T16:40:15.449Z"
   },
   {
    "duration": 77413,
    "start_time": "2023-09-18T16:41:52.415Z"
   },
   {
    "duration": 1666,
    "start_time": "2023-09-18T16:43:12.951Z"
   },
   {
    "duration": 2098,
    "start_time": "2023-09-18T16:43:51.827Z"
   },
   {
    "duration": 1380,
    "start_time": "2023-09-18T16:44:00.733Z"
   },
   {
    "duration": 31923,
    "start_time": "2023-09-18T16:44:38.993Z"
   },
   {
    "duration": 1360,
    "start_time": "2023-09-18T16:46:15.460Z"
   },
   {
    "duration": 30628,
    "start_time": "2023-09-18T16:46:42.044Z"
   },
   {
    "duration": 999,
    "start_time": "2023-09-18T16:58:33.229Z"
   },
   {
    "duration": 700,
    "start_time": "2023-09-18T16:59:19.237Z"
   },
   {
    "duration": 3,
    "start_time": "2023-09-18T16:59:30.047Z"
   },
   {
    "duration": 634,
    "start_time": "2023-09-18T16:59:33.675Z"
   },
   {
    "duration": 5,
    "start_time": "2023-09-18T16:59:38.423Z"
   },
   {
    "duration": 334,
    "start_time": "2023-09-18T17:00:41.784Z"
   },
   {
    "duration": 768,
    "start_time": "2023-09-18T17:01:18.853Z"
   },
   {
    "duration": 3,
    "start_time": "2023-09-18T17:01:31.039Z"
   },
   {
    "duration": 454,
    "start_time": "2023-09-18T17:01:36.572Z"
   },
   {
    "duration": 4,
    "start_time": "2023-09-18T17:01:43.004Z"
   },
   {
    "duration": 194,
    "start_time": "2023-09-18T17:01:48.034Z"
   },
   {
    "duration": 11,
    "start_time": "2023-09-18T17:01:51.927Z"
   },
   {
    "duration": 13230234,
    "start_time": "2023-09-18T17:17:18.579Z"
   },
   {
    "duration": 54,
    "start_time": "2023-09-19T09:18:03.383Z"
   },
   {
    "duration": 1927,
    "start_time": "2023-09-19T09:18:07.255Z"
   },
   {
    "duration": 1417,
    "start_time": "2023-09-19T09:18:09.185Z"
   },
   {
    "duration": 22,
    "start_time": "2023-09-19T09:18:10.604Z"
   },
   {
    "duration": 80,
    "start_time": "2023-09-19T09:18:10.628Z"
   },
   {
    "duration": 405,
    "start_time": "2023-09-19T09:18:10.710Z"
   },
   {
    "duration": 15,
    "start_time": "2023-09-19T09:18:11.117Z"
   },
   {
    "duration": 1818,
    "start_time": "2023-09-19T09:18:11.134Z"
   },
   {
    "duration": 29,
    "start_time": "2023-09-19T09:18:12.954Z"
   },
   {
    "duration": 4,
    "start_time": "2023-09-19T09:18:12.985Z"
   },
   {
    "duration": 302,
    "start_time": "2023-09-19T09:18:12.992Z"
   },
   {
    "duration": 21,
    "start_time": "2023-09-19T09:18:13.296Z"
   },
   {
    "duration": 4,
    "start_time": "2023-09-19T09:18:13.319Z"
   },
   {
    "duration": 7,
    "start_time": "2023-09-19T09:18:13.325Z"
   },
   {
    "duration": 30,
    "start_time": "2023-09-19T09:18:13.334Z"
   },
   {
    "duration": 14,
    "start_time": "2023-09-19T09:18:13.366Z"
   },
   {
    "duration": 8,
    "start_time": "2023-09-19T09:18:13.381Z"
   },
   {
    "duration": 19,
    "start_time": "2023-09-19T09:18:13.390Z"
   },
   {
    "duration": 8,
    "start_time": "2023-09-19T09:18:13.411Z"
   },
   {
    "duration": 19,
    "start_time": "2023-09-19T09:18:13.421Z"
   },
   {
    "duration": 28,
    "start_time": "2023-09-19T09:18:13.442Z"
   },
   {
    "duration": 32,
    "start_time": "2023-09-19T09:18:13.473Z"
   },
   {
    "duration": 8,
    "start_time": "2023-09-19T09:18:13.507Z"
   },
   {
    "duration": 66,
    "start_time": "2023-09-19T09:18:13.517Z"
   },
   {
    "duration": 5,
    "start_time": "2023-09-19T09:18:13.585Z"
   },
   {
    "duration": 28,
    "start_time": "2023-09-19T09:18:13.593Z"
   },
   {
    "duration": 41,
    "start_time": "2023-09-19T09:18:13.623Z"
   },
   {
    "duration": 29,
    "start_time": "2023-09-19T09:18:13.668Z"
   },
   {
    "duration": 8,
    "start_time": "2023-09-19T09:18:13.701Z"
   },
   {
    "duration": 22,
    "start_time": "2023-09-19T09:18:13.710Z"
   },
   {
    "duration": 23,
    "start_time": "2023-09-19T09:18:13.734Z"
   },
   {
    "duration": 20,
    "start_time": "2023-09-19T09:18:13.759Z"
   },
   {
    "duration": 18,
    "start_time": "2023-09-19T09:18:13.780Z"
   },
   {
    "duration": 20,
    "start_time": "2023-09-19T09:18:13.800Z"
   },
   {
    "duration": 22,
    "start_time": "2023-09-19T09:18:13.822Z"
   },
   {
    "duration": 39,
    "start_time": "2023-09-19T09:18:13.846Z"
   },
   {
    "duration": 43,
    "start_time": "2023-09-19T09:18:13.886Z"
   },
   {
    "duration": 10,
    "start_time": "2023-09-19T09:18:13.931Z"
   },
   {
    "duration": 16,
    "start_time": "2023-09-19T09:18:13.942Z"
   },
   {
    "duration": 12,
    "start_time": "2023-09-19T09:18:13.960Z"
   },
   {
    "duration": 22,
    "start_time": "2023-09-19T09:18:13.974Z"
   },
   {
    "duration": 17,
    "start_time": "2023-09-19T09:18:13.998Z"
   },
   {
    "duration": 89,
    "start_time": "2023-09-19T09:18:14.016Z"
   },
   {
    "duration": 6,
    "start_time": "2023-09-19T09:18:14.107Z"
   },
   {
    "duration": 17,
    "start_time": "2023-09-19T09:18:14.115Z"
   },
   {
    "duration": 33,
    "start_time": "2023-09-19T09:18:14.134Z"
   },
   {
    "duration": 11,
    "start_time": "2023-09-19T09:18:14.170Z"
   },
   {
    "duration": 279,
    "start_time": "2023-09-19T09:18:14.183Z"
   },
   {
    "duration": 10,
    "start_time": "2023-09-19T09:18:14.468Z"
   },
   {
    "duration": 29,
    "start_time": "2023-09-19T09:18:14.480Z"
   },
   {
    "duration": 208,
    "start_time": "2023-09-19T09:18:14.510Z"
   },
   {
    "duration": 468,
    "start_time": "2023-09-19T09:18:14.720Z"
   },
   {
    "duration": 6,
    "start_time": "2023-09-19T09:18:15.189Z"
   },
   {
    "duration": 209,
    "start_time": "2023-09-19T09:18:15.197Z"
   },
   {
    "duration": 4,
    "start_time": "2023-09-19T09:18:15.408Z"
   },
   {
    "duration": 16,
    "start_time": "2023-09-19T09:18:15.414Z"
   },
   {
    "duration": 15,
    "start_time": "2023-09-19T09:18:15.432Z"
   },
   {
    "duration": 11,
    "start_time": "2023-09-19T09:18:15.449Z"
   },
   {
    "duration": 30294,
    "start_time": "2023-09-19T09:18:15.462Z"
   },
   {
    "duration": 0,
    "start_time": "2023-09-19T09:18:45.758Z"
   },
   {
    "duration": 0,
    "start_time": "2023-09-19T09:18:45.759Z"
   },
   {
    "duration": 0,
    "start_time": "2023-09-19T09:18:45.760Z"
   },
   {
    "duration": 0,
    "start_time": "2023-09-19T09:18:45.761Z"
   },
   {
    "duration": 0,
    "start_time": "2023-09-19T09:18:45.762Z"
   },
   {
    "duration": 0,
    "start_time": "2023-09-19T09:18:45.763Z"
   },
   {
    "duration": 0,
    "start_time": "2023-09-19T09:18:45.765Z"
   },
   {
    "duration": 13,
    "start_time": "2023-09-19T09:24:49.455Z"
   },
   {
    "duration": 5,
    "start_time": "2023-09-19T09:26:58.193Z"
   },
   {
    "duration": 390,
    "start_time": "2023-09-19T09:26:58.205Z"
   },
   {
    "duration": 19,
    "start_time": "2023-09-19T09:26:58.598Z"
   },
   {
    "duration": 100,
    "start_time": "2023-09-19T09:26:58.618Z"
   },
   {
    "duration": 101,
    "start_time": "2023-09-19T09:26:58.720Z"
   },
   {
    "duration": 21,
    "start_time": "2023-09-19T09:26:58.824Z"
   },
   {
    "duration": 551,
    "start_time": "2023-09-19T09:26:58.860Z"
   },
   {
    "duration": 20,
    "start_time": "2023-09-19T09:26:59.413Z"
   },
   {
    "duration": 10,
    "start_time": "2023-09-19T09:26:59.435Z"
   },
   {
    "duration": 279,
    "start_time": "2023-09-19T09:26:59.455Z"
   },
   {
    "duration": 31,
    "start_time": "2023-09-19T09:26:59.736Z"
   },
   {
    "duration": 6,
    "start_time": "2023-09-19T09:26:59.772Z"
   },
   {
    "duration": 27,
    "start_time": "2023-09-19T09:26:59.779Z"
   },
   {
    "duration": 13,
    "start_time": "2023-09-19T09:26:59.808Z"
   },
   {
    "duration": 8,
    "start_time": "2023-09-19T09:26:59.824Z"
   },
   {
    "duration": 12,
    "start_time": "2023-09-19T09:26:59.834Z"
   },
   {
    "duration": 10,
    "start_time": "2023-09-19T09:26:59.848Z"
   },
   {
    "duration": 15,
    "start_time": "2023-09-19T09:26:59.860Z"
   },
   {
    "duration": 20,
    "start_time": "2023-09-19T09:26:59.877Z"
   },
   {
    "duration": 12,
    "start_time": "2023-09-19T09:26:59.900Z"
   },
   {
    "duration": 5,
    "start_time": "2023-09-19T09:26:59.913Z"
   },
   {
    "duration": 9,
    "start_time": "2023-09-19T09:26:59.919Z"
   },
   {
    "duration": 59,
    "start_time": "2023-09-19T09:26:59.929Z"
   },
   {
    "duration": 5,
    "start_time": "2023-09-19T09:26:59.990Z"
   },
   {
    "duration": 48,
    "start_time": "2023-09-19T09:26:59.997Z"
   },
   {
    "duration": 46,
    "start_time": "2023-09-19T09:27:00.047Z"
   },
   {
    "duration": 67,
    "start_time": "2023-09-19T09:27:00.095Z"
   },
   {
    "duration": 43,
    "start_time": "2023-09-19T09:27:00.164Z"
   },
   {
    "duration": 41,
    "start_time": "2023-09-19T09:27:00.209Z"
   },
   {
    "duration": 42,
    "start_time": "2023-09-19T09:27:00.253Z"
   },
   {
    "duration": 80,
    "start_time": "2023-09-19T09:27:00.298Z"
   },
   {
    "duration": 90,
    "start_time": "2023-09-19T09:27:00.380Z"
   },
   {
    "duration": 68,
    "start_time": "2023-09-19T09:27:00.472Z"
   },
   {
    "duration": 57,
    "start_time": "2023-09-19T09:27:00.542Z"
   },
   {
    "duration": 54,
    "start_time": "2023-09-19T09:27:00.601Z"
   },
   {
    "duration": 85,
    "start_time": "2023-09-19T09:27:00.665Z"
   },
   {
    "duration": 13,
    "start_time": "2023-09-19T09:27:00.752Z"
   },
   {
    "duration": 3,
    "start_time": "2023-09-19T09:27:00.766Z"
   },
   {
    "duration": 46,
    "start_time": "2023-09-19T09:27:00.771Z"
   },
   {
    "duration": 48,
    "start_time": "2023-09-19T09:27:00.819Z"
   },
   {
    "duration": 69,
    "start_time": "2023-09-19T09:27:00.869Z"
   },
   {
    "duration": 127,
    "start_time": "2023-09-19T09:27:00.942Z"
   },
   {
    "duration": 7,
    "start_time": "2023-09-19T09:27:01.071Z"
   },
   {
    "duration": 216,
    "start_time": "2023-09-19T09:27:01.080Z"
   },
   {
    "duration": 81,
    "start_time": "2023-09-19T09:27:01.298Z"
   },
   {
    "duration": 43,
    "start_time": "2023-09-19T09:27:01.381Z"
   },
   {
    "duration": 318,
    "start_time": "2023-09-19T09:27:01.426Z"
   },
   {
    "duration": 24,
    "start_time": "2023-09-19T09:27:01.746Z"
   },
   {
    "duration": 69,
    "start_time": "2023-09-19T09:27:01.773Z"
   },
   {
    "duration": 231,
    "start_time": "2023-09-19T09:27:01.844Z"
   },
   {
    "duration": 494,
    "start_time": "2023-09-19T09:27:02.077Z"
   },
   {
    "duration": 6,
    "start_time": "2023-09-19T09:27:02.574Z"
   },
   {
    "duration": 218,
    "start_time": "2023-09-19T09:27:02.581Z"
   },
   {
    "duration": 3,
    "start_time": "2023-09-19T09:27:02.801Z"
   },
   {
    "duration": 34,
    "start_time": "2023-09-19T09:27:02.805Z"
   },
   {
    "duration": 24,
    "start_time": "2023-09-19T09:27:02.841Z"
   },
   {
    "duration": 12,
    "start_time": "2023-09-19T09:27:02.867Z"
   },
   {
    "duration": 14,
    "start_time": "2023-09-19T09:27:58.506Z"
   },
   {
    "duration": 1311,
    "start_time": "2023-09-19T09:28:14.260Z"
   },
   {
    "duration": 59826,
    "start_time": "2023-09-19T09:28:54.456Z"
   },
   {
    "duration": 11068,
    "start_time": "2023-09-19T09:30:18.908Z"
   },
   {
    "duration": 14,
    "start_time": "2023-09-19T09:30:31.802Z"
   },
   {
    "duration": 30163,
    "start_time": "2023-09-19T09:30:36.797Z"
   },
   {
    "duration": 2,
    "start_time": "2023-09-19T09:32:02.605Z"
   },
   {
    "duration": 3,
    "start_time": "2023-09-19T09:34:56.236Z"
   },
   {
    "duration": 28,
    "start_time": "2023-09-19T09:37:15.069Z"
   },
   {
    "duration": 28,
    "start_time": "2023-09-19T09:38:54.281Z"
   },
   {
    "duration": 17399,
    "start_time": "2023-09-19T09:39:33.257Z"
   },
   {
    "duration": 456788,
    "start_time": "2023-09-19T09:39:54.398Z"
   },
   {
    "duration": 0,
    "start_time": "2023-09-19T09:47:31.188Z"
   },
   {
    "duration": 223593,
    "start_time": "2023-09-19T09:48:06.854Z"
   },
   {
    "duration": 593205,
    "start_time": "2023-09-19T09:51:56.022Z"
   },
   {
    "duration": 11,
    "start_time": "2023-09-19T10:03:33.311Z"
   },
   {
    "duration": 3,
    "start_time": "2023-09-19T10:03:39.758Z"
   },
   {
    "duration": 4,
    "start_time": "2023-09-19T10:03:44.650Z"
   },
   {
    "duration": 1443,
    "start_time": "2023-09-19T10:05:36.217Z"
   },
   {
    "duration": 3,
    "start_time": "2023-09-19T10:05:43.556Z"
   },
   {
    "duration": 1702,
    "start_time": "2023-09-19T10:05:46.354Z"
   },
   {
    "duration": 1290,
    "start_time": "2023-09-19T10:06:00.469Z"
   },
   {
    "duration": 4,
    "start_time": "2023-09-19T10:06:06.032Z"
   },
   {
    "duration": 4,
    "start_time": "2023-09-19T10:06:09.059Z"
   },
   {
    "duration": 3009,
    "start_time": "2023-09-19T10:06:26.138Z"
   },
   {
    "duration": 3266,
    "start_time": "2023-09-19T10:06:48.596Z"
   },
   {
    "duration": 4,
    "start_time": "2023-09-19T10:07:02.033Z"
   },
   {
    "duration": 581965,
    "start_time": "2023-09-19T10:07:07.316Z"
   },
   {
    "duration": 1774,
    "start_time": "2023-09-19T10:16:49.284Z"
   },
   {
    "duration": 95,
    "start_time": "2023-09-19T10:16:51.062Z"
   },
   {
    "duration": 1605,
    "start_time": "2023-09-19T10:16:51.159Z"
   },
   {
    "duration": 5,
    "start_time": "2023-09-19T10:16:52.766Z"
   },
   {
    "duration": 3,
    "start_time": "2023-09-19T10:18:57.457Z"
   },
   {
    "duration": 4,
    "start_time": "2023-09-19T10:19:10.204Z"
   },
   {
    "duration": 4,
    "start_time": "2023-09-19T10:19:15.915Z"
   },
   {
    "duration": 3,
    "start_time": "2023-09-19T10:19:34.366Z"
   },
   {
    "duration": 4,
    "start_time": "2023-09-19T10:19:37.329Z"
   },
   {
    "duration": 6,
    "start_time": "2023-09-19T10:19:38.818Z"
   },
   {
    "duration": 3,
    "start_time": "2023-09-19T10:19:59.267Z"
   },
   {
    "duration": 4,
    "start_time": "2023-09-19T10:19:59.278Z"
   },
   {
    "duration": 4852,
    "start_time": "2023-09-19T10:19:59.285Z"
   },
   {
    "duration": 4,
    "start_time": "2023-09-19T10:20:04.140Z"
   },
   {
    "duration": 85338,
    "start_time": "2023-09-19T10:20:04.157Z"
   },
   {
    "duration": 0,
    "start_time": "2023-09-19T10:21:29.499Z"
   },
   {
    "duration": 0,
    "start_time": "2023-09-19T10:21:29.501Z"
   },
   {
    "duration": 0,
    "start_time": "2023-09-19T10:21:29.502Z"
   },
   {
    "duration": 0,
    "start_time": "2023-09-19T10:21:29.504Z"
   },
   {
    "duration": 0,
    "start_time": "2023-09-19T10:21:29.505Z"
   },
   {
    "duration": 0,
    "start_time": "2023-09-19T10:21:29.507Z"
   },
   {
    "duration": 0,
    "start_time": "2023-09-19T10:21:29.508Z"
   },
   {
    "duration": 0,
    "start_time": "2023-09-19T10:21:29.510Z"
   },
   {
    "duration": 1,
    "start_time": "2023-09-19T10:21:29.511Z"
   },
   {
    "duration": 0,
    "start_time": "2023-09-19T10:21:29.513Z"
   },
   {
    "duration": 0,
    "start_time": "2023-09-19T10:21:29.515Z"
   },
   {
    "duration": 0,
    "start_time": "2023-09-19T10:21:29.516Z"
   },
   {
    "duration": 0,
    "start_time": "2023-09-19T10:21:29.518Z"
   },
   {
    "duration": 0,
    "start_time": "2023-09-19T10:21:29.519Z"
   },
   {
    "duration": 0,
    "start_time": "2023-09-19T10:21:29.557Z"
   },
   {
    "duration": 0,
    "start_time": "2023-09-19T10:21:29.559Z"
   },
   {
    "duration": 0,
    "start_time": "2023-09-19T10:21:29.561Z"
   },
   {
    "duration": 0,
    "start_time": "2023-09-19T10:21:29.562Z"
   },
   {
    "duration": 0,
    "start_time": "2023-09-19T10:21:29.564Z"
   },
   {
    "duration": 0,
    "start_time": "2023-09-19T10:21:29.565Z"
   },
   {
    "duration": 5,
    "start_time": "2023-09-19T10:21:31.586Z"
   },
   {
    "duration": 8,
    "start_time": "2023-09-19T10:21:33.012Z"
   },
   {
    "duration": 16,
    "start_time": "2023-09-19T10:21:36.389Z"
   },
   {
    "duration": 17,
    "start_time": "2023-09-19T10:22:02.141Z"
   },
   {
    "duration": 9,
    "start_time": "2023-09-19T10:22:03.661Z"
   },
   {
    "duration": 1416,
    "start_time": "2023-09-19T10:22:07.761Z"
   },
   {
    "duration": 1862,
    "start_time": "2023-09-19T10:22:38.261Z"
   },
   {
    "duration": 156,
    "start_time": "2023-09-19T10:23:14.327Z"
   },
   {
    "duration": 174,
    "start_time": "2023-09-19T10:23:41.579Z"
   },
   {
    "duration": 19,
    "start_time": "2023-09-19T10:25:00.798Z"
   },
   {
    "duration": 148,
    "start_time": "2023-09-19T10:25:11.557Z"
   },
   {
    "duration": 16,
    "start_time": "2023-09-19T10:26:14.468Z"
   },
   {
    "duration": 7,
    "start_time": "2023-09-19T10:26:19.042Z"
   },
   {
    "duration": 7,
    "start_time": "2023-09-19T10:26:22.701Z"
   },
   {
    "duration": 12,
    "start_time": "2023-09-19T10:26:25.163Z"
   },
   {
    "duration": 10,
    "start_time": "2023-09-19T10:26:28.198Z"
   },
   {
    "duration": 226,
    "start_time": "2023-09-19T10:26:37.699Z"
   },
   {
    "duration": 4,
    "start_time": "2023-09-19T10:27:12.083Z"
   },
   {
    "duration": 5,
    "start_time": "2023-09-19T10:32:45.138Z"
   },
   {
    "duration": 285,
    "start_time": "2023-09-19T10:34:52.323Z"
   },
   {
    "duration": 464,
    "start_time": "2023-09-19T10:35:06.512Z"
   },
   {
    "duration": 638,
    "start_time": "2023-09-19T10:35:16.690Z"
   },
   {
    "duration": 633,
    "start_time": "2023-09-19T10:35:36.132Z"
   },
   {
    "duration": 589,
    "start_time": "2023-09-19T10:35:52.423Z"
   },
   {
    "duration": 936,
    "start_time": "2023-09-19T10:36:00.492Z"
   },
   {
    "duration": 899,
    "start_time": "2023-09-19T10:37:58.898Z"
   },
   {
    "duration": 178,
    "start_time": "2023-09-19T10:38:12.059Z"
   },
   {
    "duration": 954,
    "start_time": "2023-09-19T10:38:59.358Z"
   },
   {
    "duration": 492,
    "start_time": "2023-09-19T10:39:33.197Z"
   },
   {
    "duration": 1161,
    "start_time": "2023-09-19T10:39:39.110Z"
   },
   {
    "duration": 1286,
    "start_time": "2023-09-19T10:39:48.907Z"
   },
   {
    "duration": 1434,
    "start_time": "2023-09-19T10:39:56.637Z"
   },
   {
    "duration": 2014,
    "start_time": "2023-09-19T10:40:14.804Z"
   },
   {
    "duration": 2114,
    "start_time": "2023-09-19T10:40:25.118Z"
   },
   {
    "duration": 1432,
    "start_time": "2023-09-19T10:40:47.529Z"
   },
   {
    "duration": 366,
    "start_time": "2023-09-19T10:42:02.861Z"
   },
   {
    "duration": 1790,
    "start_time": "2023-09-19T10:42:08.132Z"
   },
   {
    "duration": 3,
    "start_time": "2023-09-19T10:42:47.927Z"
   },
   {
    "duration": 1636,
    "start_time": "2023-09-19T10:42:51.881Z"
   },
   {
    "duration": 1375,
    "start_time": "2023-09-19T10:43:11.999Z"
   },
   {
    "duration": 1673,
    "start_time": "2023-09-19T10:43:23.128Z"
   },
   {
    "duration": 1407,
    "start_time": "2023-09-19T10:43:39.864Z"
   },
   {
    "duration": 1647,
    "start_time": "2023-09-19T10:44:09.647Z"
   },
   {
    "duration": 1529,
    "start_time": "2023-09-19T10:44:27.570Z"
   },
   {
    "duration": 1684,
    "start_time": "2023-09-19T10:44:36.694Z"
   },
   {
    "duration": 1633,
    "start_time": "2023-09-19T10:45:05.363Z"
   },
   {
    "duration": 1350,
    "start_time": "2023-09-19T10:47:11.450Z"
   },
   {
    "duration": 13,
    "start_time": "2023-09-19T10:47:45.165Z"
   },
   {
    "duration": 52,
    "start_time": "2023-09-19T10:47:56.894Z"
   },
   {
    "duration": 43,
    "start_time": "2023-09-19T10:48:24.862Z"
   },
   {
    "duration": 1567,
    "start_time": "2023-09-19T10:56:12.354Z"
   },
   {
    "duration": 138,
    "start_time": "2023-09-19T10:57:15.165Z"
   },
   {
    "duration": 1443,
    "start_time": "2023-09-19T10:57:58.207Z"
   },
   {
    "duration": 1593,
    "start_time": "2023-09-19T10:58:09.679Z"
   },
   {
    "duration": 1347,
    "start_time": "2023-09-19T10:58:17.185Z"
   },
   {
    "duration": 216,
    "start_time": "2023-09-19T11:03:31.074Z"
   },
   {
    "duration": 40,
    "start_time": "2023-09-19T11:03:56.168Z"
   },
   {
    "duration": 517,
    "start_time": "2023-09-19T11:04:24.968Z"
   },
   {
    "duration": 57,
    "start_time": "2023-09-19T11:04:39.428Z"
   },
   {
    "duration": 125,
    "start_time": "2023-09-19T11:07:37.743Z"
   },
   {
    "duration": 100,
    "start_time": "2023-09-19T11:07:49.729Z"
   },
   {
    "duration": 479,
    "start_time": "2023-09-19T11:07:52.400Z"
   },
   {
    "duration": 56,
    "start_time": "2023-09-19T11:08:13.424Z"
   },
   {
    "duration": 1981,
    "start_time": "2023-09-19T11:09:04.354Z"
   },
   {
    "duration": 5,
    "start_time": "2023-09-19T11:09:30.767Z"
   },
   {
    "duration": 34,
    "start_time": "2023-09-19T11:09:57.524Z"
   },
   {
    "duration": 994,
    "start_time": "2023-09-19T11:10:15.909Z"
   },
   {
    "duration": 88,
    "start_time": "2023-09-19T11:10:21.799Z"
   },
   {
    "duration": 7,
    "start_time": "2023-09-19T11:11:17.517Z"
   },
   {
    "duration": 11,
    "start_time": "2023-09-19T11:49:51.740Z"
   },
   {
    "duration": 5,
    "start_time": "2023-09-19T11:50:03.132Z"
   },
   {
    "duration": 389,
    "start_time": "2023-09-19T11:50:03.142Z"
   },
   {
    "duration": 32,
    "start_time": "2023-09-19T11:50:03.533Z"
   },
   {
    "duration": 96,
    "start_time": "2023-09-19T11:50:03.568Z"
   },
   {
    "duration": 96,
    "start_time": "2023-09-19T11:50:03.668Z"
   },
   {
    "duration": 18,
    "start_time": "2023-09-19T11:50:03.768Z"
   },
   {
    "duration": 498,
    "start_time": "2023-09-19T11:50:03.788Z"
   },
   {
    "duration": 19,
    "start_time": "2023-09-19T11:50:04.288Z"
   },
   {
    "duration": 3,
    "start_time": "2023-09-19T11:50:04.309Z"
   },
   {
    "duration": 282,
    "start_time": "2023-09-19T11:50:04.313Z"
   },
   {
    "duration": 16,
    "start_time": "2023-09-19T11:50:04.598Z"
   },
   {
    "duration": 7,
    "start_time": "2023-09-19T11:50:04.616Z"
   },
   {
    "duration": 47,
    "start_time": "2023-09-19T11:50:04.625Z"
   },
   {
    "duration": 18,
    "start_time": "2023-09-19T11:50:04.674Z"
   },
   {
    "duration": 81,
    "start_time": "2023-09-19T11:50:04.695Z"
   },
   {
    "duration": 21,
    "start_time": "2023-09-19T11:50:04.778Z"
   },
   {
    "duration": 47,
    "start_time": "2023-09-19T11:50:04.801Z"
   },
   {
    "duration": 38,
    "start_time": "2023-09-19T11:50:04.851Z"
   },
   {
    "duration": 30,
    "start_time": "2023-09-19T11:50:04.890Z"
   },
   {
    "duration": 65,
    "start_time": "2023-09-19T11:50:04.922Z"
   },
   {
    "duration": 6,
    "start_time": "2023-09-19T11:50:07.435Z"
   },
   {
    "duration": 50,
    "start_time": "2023-09-19T11:50:09.965Z"
   },
   {
    "duration": 25,
    "start_time": "2023-09-19T11:50:42.068Z"
   },
   {
    "duration": 5,
    "start_time": "2023-09-19T11:55:54.035Z"
   },
   {
    "duration": 410,
    "start_time": "2023-09-19T11:55:54.046Z"
   },
   {
    "duration": 253,
    "start_time": "2023-09-19T11:55:54.459Z"
   },
   {
    "duration": 75,
    "start_time": "2023-09-19T11:55:54.714Z"
   },
   {
    "duration": 95,
    "start_time": "2023-09-19T11:55:54.791Z"
   },
   {
    "duration": 14,
    "start_time": "2023-09-19T11:55:54.889Z"
   },
   {
    "duration": 509,
    "start_time": "2023-09-19T11:55:54.906Z"
   },
   {
    "duration": 20,
    "start_time": "2023-09-19T11:55:55.417Z"
   },
   {
    "duration": 37,
    "start_time": "2023-09-19T11:55:55.438Z"
   },
   {
    "duration": 281,
    "start_time": "2023-09-19T11:55:55.478Z"
   },
   {
    "duration": 21,
    "start_time": "2023-09-19T11:55:55.762Z"
   },
   {
    "duration": 6,
    "start_time": "2023-09-19T11:55:55.785Z"
   },
   {
    "duration": 83,
    "start_time": "2023-09-19T11:55:55.792Z"
   },
   {
    "duration": 55,
    "start_time": "2023-09-19T11:55:55.878Z"
   },
   {
    "duration": 66,
    "start_time": "2023-09-19T11:55:55.936Z"
   },
   {
    "duration": 54,
    "start_time": "2023-09-19T11:55:56.004Z"
   },
   {
    "duration": 32,
    "start_time": "2023-09-19T11:55:56.060Z"
   },
   {
    "duration": 311,
    "start_time": "2023-09-19T11:57:28.216Z"
   },
   {
    "duration": 4,
    "start_time": "2023-09-19T11:57:36.980Z"
   },
   {
    "duration": 14,
    "start_time": "2023-09-19T11:57:43.615Z"
   },
   {
    "duration": 10,
    "start_time": "2023-09-19T11:57:46.350Z"
   },
   {
    "duration": 6,
    "start_time": "2023-09-19T11:57:49.486Z"
   },
   {
    "duration": 51,
    "start_time": "2023-09-19T11:57:52.871Z"
   },
   {
    "duration": 6,
    "start_time": "2023-09-19T11:57:55.890Z"
   },
   {
    "duration": 5,
    "start_time": "2023-09-19T11:57:57.682Z"
   },
   {
    "duration": 4,
    "start_time": "2023-09-19T11:57:59.185Z"
   },
   {
    "duration": 236,
    "start_time": "2023-09-19T11:58:02.652Z"
   },
   {
    "duration": 54,
    "start_time": "2023-09-19T12:01:01.351Z"
   },
   {
    "duration": 17,
    "start_time": "2023-09-19T12:02:51.821Z"
   },
   {
    "duration": 2100,
    "start_time": "2023-09-19T12:03:37.365Z"
   },
   {
    "duration": 15,
    "start_time": "2023-09-19T12:03:51.404Z"
   },
   {
    "duration": 6,
    "start_time": "2023-09-19T12:04:02.553Z"
   },
   {
    "duration": 2146,
    "start_time": "2023-09-19T12:04:05.215Z"
   },
   {
    "duration": 432,
    "start_time": "2023-09-19T12:04:19.766Z"
   },
   {
    "duration": 305,
    "start_time": "2023-09-19T12:04:27.788Z"
   },
   {
    "duration": 23,
    "start_time": "2023-09-19T12:05:57.272Z"
   },
   {
    "duration": 1858,
    "start_time": "2023-09-19T12:06:43.229Z"
   },
   {
    "duration": 14,
    "start_time": "2023-09-19T12:07:00.964Z"
   },
   {
    "duration": 374,
    "start_time": "2023-09-19T12:22:39.219Z"
   },
   {
    "duration": 197,
    "start_time": "2023-09-19T13:10:53.225Z"
   },
   {
    "duration": 3,
    "start_time": "2023-09-19T13:23:53.085Z"
   },
   {
    "duration": 26,
    "start_time": "2023-09-19T13:23:53.095Z"
   },
   {
    "duration": 15,
    "start_time": "2023-09-19T13:23:53.123Z"
   },
   {
    "duration": 13,
    "start_time": "2023-09-19T13:23:53.140Z"
   },
   {
    "duration": 19,
    "start_time": "2023-09-19T13:23:53.155Z"
   },
   {
    "duration": 3485,
    "start_time": "2023-09-19T13:23:53.177Z"
   },
   {
    "duration": 4,
    "start_time": "2023-09-19T13:23:56.665Z"
   },
   {
    "duration": 622375,
    "start_time": "2023-09-19T13:23:56.671Z"
   },
   {
    "duration": 11,
    "start_time": "2023-09-19T13:34:19.048Z"
   },
   {
    "duration": 2916,
    "start_time": "2023-09-19T13:34:19.061Z"
   },
   {
    "duration": 5,
    "start_time": "2023-09-19T13:34:22.063Z"
   },
   {
    "duration": 4103,
    "start_time": "2023-09-19T13:34:22.075Z"
   },
   {
    "duration": 77,
    "start_time": "2023-09-19T13:34:26.183Z"
   },
   {
    "duration": 14,
    "start_time": "2023-09-19T13:34:26.270Z"
   },
   {
    "duration": 3256,
    "start_time": "2023-09-19T13:34:26.287Z"
   },
   {
    "duration": 3,
    "start_time": "2023-09-19T13:34:29.545Z"
   },
   {
    "duration": 601582,
    "start_time": "2023-09-19T13:34:29.557Z"
   },
   {
    "duration": 5,
    "start_time": "2023-09-19T13:44:31.141Z"
   },
   {
    "duration": 3819,
    "start_time": "2023-09-19T13:44:31.162Z"
   },
   {
    "duration": 86,
    "start_time": "2023-09-19T13:44:34.984Z"
   },
   {
    "duration": 2896,
    "start_time": "2023-09-19T13:44:35.072Z"
   },
   {
    "duration": 8,
    "start_time": "2023-09-19T13:44:37.973Z"
   },
   {
    "duration": 81,
    "start_time": "2023-09-19T13:44:37.986Z"
   },
   {
    "duration": 12,
    "start_time": "2023-09-19T13:44:38.070Z"
   },
   {
    "duration": 22,
    "start_time": "2023-09-19T13:44:38.084Z"
   },
   {
    "duration": 0,
    "start_time": "2023-09-19T13:44:38.108Z"
   },
   {
    "duration": 0,
    "start_time": "2023-09-19T13:44:38.110Z"
   },
   {
    "duration": 0,
    "start_time": "2023-09-19T13:44:38.112Z"
   },
   {
    "duration": 40769,
    "start_time": "2023-09-19T14:07:41.823Z"
   },
   {
    "duration": 0,
    "start_time": "2023-09-19T14:08:22.594Z"
   },
   {
    "duration": 0,
    "start_time": "2023-09-19T14:08:22.597Z"
   },
   {
    "duration": 0,
    "start_time": "2023-09-19T14:08:22.598Z"
   },
   {
    "duration": 41479,
    "start_time": "2023-09-19T14:08:43.186Z"
   },
   {
    "duration": 4,
    "start_time": "2023-09-19T14:09:37.142Z"
   },
   {
    "duration": 896,
    "start_time": "2023-09-19T14:09:38.887Z"
   },
   {
    "duration": 4,
    "start_time": "2023-09-19T14:09:42.534Z"
   },
   {
    "duration": 11,
    "start_time": "2023-09-19T15:01:45.887Z"
   },
   {
    "duration": 4,
    "start_time": "2023-09-19T15:01:58.331Z"
   },
   {
    "duration": 4,
    "start_time": "2023-09-19T15:02:30.029Z"
   },
   {
    "duration": 5,
    "start_time": "2023-09-19T15:02:45.417Z"
   },
   {
    "duration": 5,
    "start_time": "2023-09-19T15:03:17.221Z"
   },
   {
    "duration": 8,
    "start_time": "2023-09-19T15:03:18.988Z"
   },
   {
    "duration": 4,
    "start_time": "2023-09-19T15:03:31.647Z"
   },
   {
    "duration": 51,
    "start_time": "2023-09-19T17:42:47.002Z"
   },
   {
    "duration": 1732,
    "start_time": "2023-09-19T17:42:54.982Z"
   },
   {
    "duration": 1074,
    "start_time": "2023-09-19T17:42:56.717Z"
   },
   {
    "duration": 20,
    "start_time": "2023-09-19T17:42:57.793Z"
   },
   {
    "duration": 72,
    "start_time": "2023-09-19T17:42:57.815Z"
   },
   {
    "duration": 160,
    "start_time": "2023-09-19T17:42:57.888Z"
   },
   {
    "duration": 13,
    "start_time": "2023-09-19T17:42:58.050Z"
   },
   {
    "duration": 1171,
    "start_time": "2023-09-19T17:42:58.064Z"
   },
   {
    "duration": 18,
    "start_time": "2023-09-19T17:42:59.236Z"
   },
   {
    "duration": 39,
    "start_time": "2023-09-19T17:42:59.255Z"
   },
   {
    "duration": 294,
    "start_time": "2023-09-19T17:42:59.296Z"
   },
   {
    "duration": 18,
    "start_time": "2023-09-19T17:42:59.592Z"
   },
   {
    "duration": 14,
    "start_time": "2023-09-19T17:42:59.612Z"
   },
   {
    "duration": 36,
    "start_time": "2023-09-19T17:42:59.628Z"
   },
   {
    "duration": 45,
    "start_time": "2023-09-19T17:42:59.666Z"
   },
   {
    "duration": 42,
    "start_time": "2023-09-19T17:42:59.712Z"
   },
   {
    "duration": 32,
    "start_time": "2023-09-19T17:42:59.756Z"
   },
   {
    "duration": 33,
    "start_time": "2023-09-19T17:42:59.790Z"
   },
   {
    "duration": 37,
    "start_time": "2023-09-19T17:42:59.825Z"
   },
   {
    "duration": 65,
    "start_time": "2023-09-19T17:42:59.864Z"
   },
   {
    "duration": 33,
    "start_time": "2023-09-19T17:42:59.930Z"
   },
   {
    "duration": 26,
    "start_time": "2023-09-19T17:42:59.964Z"
   },
   {
    "duration": 87,
    "start_time": "2023-09-19T17:42:59.991Z"
   },
   {
    "duration": 5,
    "start_time": "2023-09-19T17:43:00.079Z"
   },
   {
    "duration": 46,
    "start_time": "2023-09-19T17:43:00.085Z"
   },
   {
    "duration": 57,
    "start_time": "2023-09-19T17:43:00.133Z"
   },
   {
    "duration": 51,
    "start_time": "2023-09-19T17:43:00.192Z"
   },
   {
    "duration": 32,
    "start_time": "2023-09-19T17:43:00.245Z"
   },
   {
    "duration": 50,
    "start_time": "2023-09-19T17:43:00.281Z"
   },
   {
    "duration": 27,
    "start_time": "2023-09-19T17:43:00.333Z"
   },
   {
    "duration": 29,
    "start_time": "2023-09-19T17:43:00.361Z"
   },
   {
    "duration": 53,
    "start_time": "2023-09-19T17:43:00.392Z"
   },
   {
    "duration": 91,
    "start_time": "2023-09-19T17:43:00.447Z"
   },
   {
    "duration": 151,
    "start_time": "2023-09-19T17:43:00.541Z"
   },
   {
    "duration": 0,
    "start_time": "2023-09-19T17:43:00.694Z"
   },
   {
    "duration": 0,
    "start_time": "2023-09-19T17:43:00.695Z"
   },
   {
    "duration": 0,
    "start_time": "2023-09-19T17:43:00.696Z"
   },
   {
    "duration": 0,
    "start_time": "2023-09-19T17:43:00.698Z"
   },
   {
    "duration": 0,
    "start_time": "2023-09-19T17:43:00.699Z"
   },
   {
    "duration": 0,
    "start_time": "2023-09-19T17:43:00.700Z"
   },
   {
    "duration": 0,
    "start_time": "2023-09-19T17:43:00.701Z"
   },
   {
    "duration": 0,
    "start_time": "2023-09-19T17:43:00.702Z"
   },
   {
    "duration": 0,
    "start_time": "2023-09-19T17:43:00.704Z"
   },
   {
    "duration": 0,
    "start_time": "2023-09-19T17:43:00.705Z"
   },
   {
    "duration": 0,
    "start_time": "2023-09-19T17:43:00.707Z"
   },
   {
    "duration": 0,
    "start_time": "2023-09-19T17:43:00.708Z"
   },
   {
    "duration": 0,
    "start_time": "2023-09-19T17:43:00.709Z"
   },
   {
    "duration": 0,
    "start_time": "2023-09-19T17:43:00.710Z"
   },
   {
    "duration": 0,
    "start_time": "2023-09-19T17:43:00.712Z"
   },
   {
    "duration": 0,
    "start_time": "2023-09-19T17:43:00.713Z"
   },
   {
    "duration": 0,
    "start_time": "2023-09-19T17:43:00.714Z"
   },
   {
    "duration": 0,
    "start_time": "2023-09-19T17:43:00.715Z"
   },
   {
    "duration": 11,
    "start_time": "2023-09-19T17:43:03.464Z"
   },
   {
    "duration": 3,
    "start_time": "2023-09-19T17:44:48.963Z"
   },
   {
    "duration": 31,
    "start_time": "2023-09-19T17:44:50.225Z"
   },
   {
    "duration": 39,
    "start_time": "2023-09-19T17:44:51.804Z"
   },
   {
    "duration": 4,
    "start_time": "2023-09-19T17:45:06.943Z"
   },
   {
    "duration": 399,
    "start_time": "2023-09-19T17:45:06.949Z"
   },
   {
    "duration": 16,
    "start_time": "2023-09-19T17:45:07.350Z"
   },
   {
    "duration": 68,
    "start_time": "2023-09-19T17:45:07.368Z"
   },
   {
    "duration": 84,
    "start_time": "2023-09-19T17:45:07.438Z"
   },
   {
    "duration": 13,
    "start_time": "2023-09-19T17:45:07.524Z"
   },
   {
    "duration": 457,
    "start_time": "2023-09-19T17:45:07.538Z"
   },
   {
    "duration": 19,
    "start_time": "2023-09-19T17:45:07.997Z"
   },
   {
    "duration": 37,
    "start_time": "2023-09-19T17:45:08.018Z"
   },
   {
    "duration": 297,
    "start_time": "2023-09-19T17:45:08.057Z"
   },
   {
    "duration": 14,
    "start_time": "2023-09-19T17:45:08.356Z"
   },
   {
    "duration": 11,
    "start_time": "2023-09-19T17:45:08.371Z"
   },
   {
    "duration": 11,
    "start_time": "2023-09-19T17:45:08.384Z"
   },
   {
    "duration": 15,
    "start_time": "2023-09-19T17:45:08.398Z"
   },
   {
    "duration": 21,
    "start_time": "2023-09-19T17:45:08.414Z"
   },
   {
    "duration": 26,
    "start_time": "2023-09-19T17:45:08.437Z"
   },
   {
    "duration": 19,
    "start_time": "2023-09-19T17:45:08.465Z"
   },
   {
    "duration": 6,
    "start_time": "2023-09-19T17:45:08.486Z"
   },
   {
    "duration": 14,
    "start_time": "2023-09-19T17:45:08.493Z"
   },
   {
    "duration": 42,
    "start_time": "2023-09-19T17:45:08.509Z"
   },
   {
    "duration": 10,
    "start_time": "2023-09-19T17:45:08.553Z"
   },
   {
    "duration": 47,
    "start_time": "2023-09-19T17:45:08.565Z"
   },
   {
    "duration": 6,
    "start_time": "2023-09-19T17:45:08.613Z"
   },
   {
    "duration": 24,
    "start_time": "2023-09-19T17:45:08.621Z"
   },
   {
    "duration": 20,
    "start_time": "2023-09-19T17:45:08.647Z"
   },
   {
    "duration": 29,
    "start_time": "2023-09-19T17:45:08.668Z"
   },
   {
    "duration": 29,
    "start_time": "2023-09-19T17:45:08.699Z"
   },
   {
    "duration": 36,
    "start_time": "2023-09-19T17:45:08.730Z"
   },
   {
    "duration": 13,
    "start_time": "2023-09-19T17:45:08.767Z"
   },
   {
    "duration": 27,
    "start_time": "2023-09-19T17:45:08.782Z"
   },
   {
    "duration": 26,
    "start_time": "2023-09-19T17:45:08.810Z"
   },
   {
    "duration": 13,
    "start_time": "2023-09-19T17:45:08.838Z"
   },
   {
    "duration": 23,
    "start_time": "2023-09-19T17:45:08.853Z"
   },
   {
    "duration": 45,
    "start_time": "2023-09-19T17:45:08.878Z"
   },
   {
    "duration": 49,
    "start_time": "2023-09-19T17:45:08.926Z"
   },
   {
    "duration": 5,
    "start_time": "2023-09-19T17:45:08.977Z"
   },
   {
    "duration": 9,
    "start_time": "2023-09-19T17:45:08.984Z"
   },
   {
    "duration": 8,
    "start_time": "2023-09-19T17:45:08.995Z"
   },
   {
    "duration": 10,
    "start_time": "2023-09-19T17:45:09.004Z"
   },
   {
    "duration": 9,
    "start_time": "2023-09-19T17:45:09.016Z"
   },
   {
    "duration": 78,
    "start_time": "2023-09-19T17:45:09.029Z"
   },
   {
    "duration": 7,
    "start_time": "2023-09-19T17:45:09.109Z"
   },
   {
    "duration": 22,
    "start_time": "2023-09-19T17:45:09.117Z"
   },
   {
    "duration": 18,
    "start_time": "2023-09-19T17:45:09.141Z"
   },
   {
    "duration": 244,
    "start_time": "2023-09-19T17:45:09.161Z"
   },
   {
    "duration": 1414,
    "start_time": "2023-09-19T17:45:09.407Z"
   },
   {
    "duration": 8,
    "start_time": "2023-09-19T17:45:10.822Z"
   },
   {
    "duration": 21,
    "start_time": "2023-09-19T17:45:10.832Z"
   },
   {
    "duration": 201,
    "start_time": "2023-09-19T17:45:10.854Z"
   },
   {
    "duration": 356,
    "start_time": "2023-09-19T17:45:11.057Z"
   },
   {
    "duration": 7,
    "start_time": "2023-09-19T17:45:11.414Z"
   },
   {
    "duration": 191,
    "start_time": "2023-09-19T17:45:11.422Z"
   },
   {
    "duration": 942,
    "start_time": "2023-09-19T17:45:14.657Z"
   },
   {
    "duration": 520,
    "start_time": "2023-09-19T17:46:49.270Z"
   },
   {
    "duration": 152,
    "start_time": "2023-09-19T17:47:14.444Z"
   },
   {
    "duration": 519,
    "start_time": "2023-09-19T17:47:20.218Z"
   },
   {
    "duration": 1532,
    "start_time": "2023-09-19T17:48:17.038Z"
   },
   {
    "duration": 917,
    "start_time": "2023-09-19T17:49:23.663Z"
   },
   {
    "duration": 747,
    "start_time": "2023-09-19T17:49:35.196Z"
   },
   {
    "duration": 695,
    "start_time": "2023-09-19T17:49:41.626Z"
   },
   {
    "duration": 798,
    "start_time": "2023-09-19T17:49:53.113Z"
   },
   {
    "duration": 160,
    "start_time": "2023-09-19T18:55:23.942Z"
   },
   {
    "duration": 678,
    "start_time": "2023-09-19T18:55:32.346Z"
   },
   {
    "duration": 792,
    "start_time": "2023-09-19T18:55:37.950Z"
   },
   {
    "duration": 737,
    "start_time": "2023-09-19T18:56:05.042Z"
   },
   {
    "duration": 953,
    "start_time": "2023-09-19T19:00:15.087Z"
   },
   {
    "duration": 1522,
    "start_time": "2023-09-19T19:17:51.849Z"
   },
   {
    "duration": 363,
    "start_time": "2023-09-19T19:17:53.373Z"
   },
   {
    "duration": 21,
    "start_time": "2023-09-19T19:17:53.738Z"
   },
   {
    "duration": 84,
    "start_time": "2023-09-19T19:17:53.760Z"
   },
   {
    "duration": 91,
    "start_time": "2023-09-19T19:17:53.847Z"
   },
   {
    "duration": 15,
    "start_time": "2023-09-19T19:17:53.939Z"
   },
   {
    "duration": 468,
    "start_time": "2023-09-19T19:17:53.956Z"
   },
   {
    "duration": 18,
    "start_time": "2023-09-19T19:17:54.426Z"
   },
   {
    "duration": 3,
    "start_time": "2023-09-19T19:17:54.446Z"
   },
   {
    "duration": 282,
    "start_time": "2023-09-19T19:17:54.451Z"
   },
   {
    "duration": 17,
    "start_time": "2023-09-19T19:17:54.735Z"
   },
   {
    "duration": 4,
    "start_time": "2023-09-19T19:17:54.754Z"
   },
   {
    "duration": 22,
    "start_time": "2023-09-19T19:17:54.759Z"
   },
   {
    "duration": 4,
    "start_time": "2023-09-19T19:17:54.784Z"
   },
   {
    "duration": 7,
    "start_time": "2023-09-19T19:17:54.790Z"
   },
   {
    "duration": 8,
    "start_time": "2023-09-19T19:17:54.800Z"
   },
   {
    "duration": 8,
    "start_time": "2023-09-19T19:17:54.810Z"
   },
   {
    "duration": 9,
    "start_time": "2023-09-19T19:17:54.820Z"
   },
   {
    "duration": 13,
    "start_time": "2023-09-19T19:17:54.831Z"
   },
   {
    "duration": 40,
    "start_time": "2023-09-19T19:17:54.846Z"
   },
   {
    "duration": 5,
    "start_time": "2023-09-19T19:17:54.888Z"
   },
   {
    "duration": 54,
    "start_time": "2023-09-19T19:17:54.897Z"
   },
   {
    "duration": 4,
    "start_time": "2023-09-19T19:17:54.954Z"
   },
   {
    "duration": 22,
    "start_time": "2023-09-19T19:17:54.960Z"
   },
   {
    "duration": 8,
    "start_time": "2023-09-19T19:17:54.983Z"
   },
   {
    "duration": 20,
    "start_time": "2023-09-19T19:17:54.992Z"
   },
   {
    "duration": 7,
    "start_time": "2023-09-19T19:17:55.014Z"
   },
   {
    "duration": 17,
    "start_time": "2023-09-19T19:17:55.023Z"
   },
   {
    "duration": 42,
    "start_time": "2023-09-19T19:17:55.041Z"
   },
   {
    "duration": 7,
    "start_time": "2023-09-19T19:17:55.085Z"
   },
   {
    "duration": 8,
    "start_time": "2023-09-19T19:17:55.094Z"
   },
   {
    "duration": 23,
    "start_time": "2023-09-19T19:17:55.103Z"
   },
   {
    "duration": 9,
    "start_time": "2023-09-19T19:17:55.128Z"
   },
   {
    "duration": 27,
    "start_time": "2023-09-19T19:17:55.138Z"
   },
   {
    "duration": 63,
    "start_time": "2023-09-19T19:17:55.166Z"
   },
   {
    "duration": 4,
    "start_time": "2023-09-19T19:17:55.230Z"
   },
   {
    "duration": 4,
    "start_time": "2023-09-19T19:17:55.236Z"
   },
   {
    "duration": 5,
    "start_time": "2023-09-19T19:17:55.242Z"
   },
   {
    "duration": 8,
    "start_time": "2023-09-19T19:17:55.249Z"
   },
   {
    "duration": 22,
    "start_time": "2023-09-19T19:17:55.259Z"
   },
   {
    "duration": 97,
    "start_time": "2023-09-19T19:17:55.286Z"
   },
   {
    "duration": 10,
    "start_time": "2023-09-19T19:17:55.385Z"
   },
   {
    "duration": 14,
    "start_time": "2023-09-19T19:17:55.397Z"
   },
   {
    "duration": 8,
    "start_time": "2023-09-19T19:17:55.413Z"
   },
   {
    "duration": 276,
    "start_time": "2023-09-19T19:17:55.423Z"
   },
   {
    "duration": 1644,
    "start_time": "2023-09-19T19:17:55.701Z"
   },
   {
    "duration": 8,
    "start_time": "2023-09-19T19:17:57.346Z"
   },
   {
    "duration": 7,
    "start_time": "2023-09-19T19:17:57.356Z"
   },
   {
    "duration": 202,
    "start_time": "2023-09-19T19:17:57.365Z"
   },
   {
    "duration": 381,
    "start_time": "2023-09-19T19:17:57.569Z"
   },
   {
    "duration": 5,
    "start_time": "2023-09-19T19:17:57.952Z"
   },
   {
    "duration": 196,
    "start_time": "2023-09-19T19:17:57.958Z"
   },
   {
    "duration": 1121,
    "start_time": "2023-09-19T19:17:58.156Z"
   },
   {
    "duration": 5,
    "start_time": "2023-09-19T19:17:59.279Z"
   },
   {
    "duration": 4,
    "start_time": "2023-09-19T19:17:59.287Z"
   },
   {
    "duration": 8,
    "start_time": "2023-09-19T19:17:59.293Z"
   },
   {
    "duration": 5,
    "start_time": "2023-09-19T19:17:59.303Z"
   },
   {
    "duration": 8,
    "start_time": "2023-09-19T19:17:59.309Z"
   },
   {
    "duration": 3107,
    "start_time": "2023-09-19T19:17:59.319Z"
   },
   {
    "duration": 4,
    "start_time": "2023-09-19T19:18:02.428Z"
   },
   {
    "duration": 616413,
    "start_time": "2023-09-19T19:18:02.434Z"
   },
   {
    "duration": 3,
    "start_time": "2023-09-19T19:28:18.849Z"
   },
   {
    "duration": 1331,
    "start_time": "2023-09-19T19:28:18.853Z"
   },
   {
    "duration": 3,
    "start_time": "2023-09-19T19:28:20.186Z"
   },
   {
    "duration": 1594,
    "start_time": "2023-09-19T19:28:20.191Z"
   },
   {
    "duration": 5,
    "start_time": "2023-09-19T19:28:21.787Z"
   },
   {
    "duration": 99,
    "start_time": "2023-09-19T19:28:21.794Z"
   },
   {
    "duration": 2891,
    "start_time": "2023-09-19T19:28:21.900Z"
   },
   {
    "duration": 3,
    "start_time": "2023-09-19T19:28:24.793Z"
   },
   {
    "duration": 547284,
    "start_time": "2023-09-19T19:28:24.797Z"
   },
   {
    "duration": 4,
    "start_time": "2023-09-19T19:37:32.083Z"
   },
   {
    "duration": 1293,
    "start_time": "2023-09-19T19:37:32.088Z"
   },
   {
    "duration": 4,
    "start_time": "2023-09-19T19:37:33.384Z"
   },
   {
    "duration": 1492,
    "start_time": "2023-09-19T19:37:33.390Z"
   },
   {
    "duration": 3,
    "start_time": "2023-09-19T19:37:34.884Z"
   },
   {
    "duration": 6,
    "start_time": "2023-09-19T19:37:34.888Z"
   },
   {
    "duration": 5,
    "start_time": "2023-09-19T19:37:34.896Z"
   },
   {
    "duration": 81,
    "start_time": "2023-09-19T19:37:34.902Z"
   },
   {
    "duration": 7,
    "start_time": "2023-09-19T19:37:34.985Z"
   },
   {
    "duration": 11100,
    "start_time": "2023-09-19T19:37:34.993Z"
   },
   {
    "duration": 0,
    "start_time": "2023-09-19T19:37:46.094Z"
   },
   {
    "duration": 13177,
    "start_time": "2023-09-19T19:40:06.173Z"
   },
   {
    "duration": 5,
    "start_time": "2023-09-19T19:40:29.921Z"
   },
   {
    "duration": 12715,
    "start_time": "2023-09-19T19:42:27.972Z"
   },
   {
    "duration": 5,
    "start_time": "2023-09-19T19:42:40.697Z"
   },
   {
    "duration": 12369,
    "start_time": "2023-09-19T19:42:53.481Z"
   },
   {
    "duration": 53,
    "start_time": "2023-09-20T14:19:11.308Z"
   },
   {
    "duration": 1809,
    "start_time": "2023-09-20T14:19:16.076Z"
   },
   {
    "duration": 996,
    "start_time": "2023-09-20T14:19:17.887Z"
   },
   {
    "duration": 22,
    "start_time": "2023-09-20T14:19:18.885Z"
   },
   {
    "duration": 94,
    "start_time": "2023-09-20T14:19:18.908Z"
   },
   {
    "duration": 186,
    "start_time": "2023-09-20T14:19:19.005Z"
   },
   {
    "duration": 14,
    "start_time": "2023-09-20T14:19:19.193Z"
   },
   {
    "duration": 1326,
    "start_time": "2023-09-20T14:19:19.209Z"
   },
   {
    "duration": 25,
    "start_time": "2023-09-20T14:19:20.537Z"
   },
   {
    "duration": 11,
    "start_time": "2023-09-20T14:19:20.564Z"
   },
   {
    "duration": 334,
    "start_time": "2023-09-20T14:19:20.578Z"
   },
   {
    "duration": 19,
    "start_time": "2023-09-20T14:19:20.914Z"
   },
   {
    "duration": 68,
    "start_time": "2023-09-20T14:19:20.935Z"
   },
   {
    "duration": 34,
    "start_time": "2023-09-20T14:19:21.006Z"
   },
   {
    "duration": 46,
    "start_time": "2023-09-20T14:19:21.044Z"
   },
   {
    "duration": 20,
    "start_time": "2023-09-20T14:19:21.091Z"
   },
   {
    "duration": 37,
    "start_time": "2023-09-20T14:19:21.112Z"
   },
   {
    "duration": 37,
    "start_time": "2023-09-20T14:19:21.151Z"
   },
   {
    "duration": 26,
    "start_time": "2023-09-20T14:19:21.189Z"
   },
   {
    "duration": 57,
    "start_time": "2023-09-20T14:19:21.217Z"
   },
   {
    "duration": 43,
    "start_time": "2023-09-20T14:19:21.276Z"
   },
   {
    "duration": 14,
    "start_time": "2023-09-20T14:19:21.321Z"
   },
   {
    "duration": 59,
    "start_time": "2023-09-20T14:19:21.337Z"
   },
   {
    "duration": 5,
    "start_time": "2023-09-20T14:19:21.398Z"
   },
   {
    "duration": 19,
    "start_time": "2023-09-20T14:19:21.404Z"
   },
   {
    "duration": 9,
    "start_time": "2023-09-20T14:19:21.425Z"
   },
   {
    "duration": 27,
    "start_time": "2023-09-20T14:19:21.436Z"
   },
   {
    "duration": 13,
    "start_time": "2023-09-20T14:19:21.465Z"
   },
   {
    "duration": 19,
    "start_time": "2023-09-20T14:19:21.479Z"
   },
   {
    "duration": 13,
    "start_time": "2023-09-20T14:19:21.500Z"
   },
   {
    "duration": 14,
    "start_time": "2023-09-20T14:19:21.515Z"
   },
   {
    "duration": 17,
    "start_time": "2023-09-20T14:19:21.531Z"
   },
   {
    "duration": 93,
    "start_time": "2023-09-20T14:22:25.799Z"
   },
   {
    "duration": 2198,
    "start_time": "2023-09-20T14:46:41.581Z"
   },
   {
    "duration": 968,
    "start_time": "2023-09-20T14:46:43.781Z"
   },
   {
    "duration": 28,
    "start_time": "2023-09-20T14:46:44.753Z"
   },
   {
    "duration": 203,
    "start_time": "2023-09-20T14:46:44.783Z"
   },
   {
    "duration": 186,
    "start_time": "2023-09-20T14:46:44.988Z"
   },
   {
    "duration": 14,
    "start_time": "2023-09-20T14:46:45.176Z"
   },
   {
    "duration": 582,
    "start_time": "2023-09-20T14:46:45.191Z"
   },
   {
    "duration": 20,
    "start_time": "2023-09-20T14:46:45.775Z"
   },
   {
    "duration": 3,
    "start_time": "2023-09-20T14:46:45.797Z"
   },
   {
    "duration": 303,
    "start_time": "2023-09-20T14:46:45.803Z"
   },
   {
    "duration": 22,
    "start_time": "2023-09-20T14:46:46.108Z"
   },
   {
    "duration": 29,
    "start_time": "2023-09-20T14:46:46.132Z"
   },
   {
    "duration": 25,
    "start_time": "2023-09-20T14:46:46.163Z"
   },
   {
    "duration": 23,
    "start_time": "2023-09-20T14:46:46.192Z"
   },
   {
    "duration": 14,
    "start_time": "2023-09-20T14:46:46.217Z"
   },
   {
    "duration": 6,
    "start_time": "2023-09-20T14:46:46.233Z"
   },
   {
    "duration": 13,
    "start_time": "2023-09-20T14:46:46.240Z"
   },
   {
    "duration": 13,
    "start_time": "2023-09-20T14:46:46.256Z"
   },
   {
    "duration": 31,
    "start_time": "2023-09-20T14:46:46.271Z"
   },
   {
    "duration": 8,
    "start_time": "2023-09-20T14:46:46.305Z"
   },
   {
    "duration": 11,
    "start_time": "2023-09-20T14:46:46.315Z"
   },
   {
    "duration": 77,
    "start_time": "2023-09-20T14:46:46.328Z"
   },
   {
    "duration": 5,
    "start_time": "2023-09-20T14:46:46.407Z"
   },
   {
    "duration": 20,
    "start_time": "2023-09-20T14:46:46.415Z"
   },
   {
    "duration": 24,
    "start_time": "2023-09-20T14:46:46.437Z"
   },
   {
    "duration": 28,
    "start_time": "2023-09-20T14:46:46.463Z"
   },
   {
    "duration": 7,
    "start_time": "2023-09-20T14:46:46.493Z"
   },
   {
    "duration": 19,
    "start_time": "2023-09-20T14:46:46.502Z"
   },
   {
    "duration": 8,
    "start_time": "2023-09-20T14:46:46.524Z"
   },
   {
    "duration": 18,
    "start_time": "2023-09-20T14:46:46.534Z"
   },
   {
    "duration": 15,
    "start_time": "2023-09-20T14:46:46.554Z"
   },
   {
    "duration": 13,
    "start_time": "2023-09-20T14:46:46.571Z"
   },
   {
    "duration": 10,
    "start_time": "2023-09-20T14:46:46.586Z"
   },
   {
    "duration": 13,
    "start_time": "2023-09-20T14:46:46.598Z"
   },
   {
    "duration": 12,
    "start_time": "2023-09-20T14:46:46.613Z"
   },
   {
    "duration": 60,
    "start_time": "2023-09-20T14:46:46.626Z"
   },
   {
    "duration": 43,
    "start_time": "2023-09-20T14:46:46.688Z"
   },
   {
    "duration": 11,
    "start_time": "2023-09-20T14:46:46.733Z"
   },
   {
    "duration": 10,
    "start_time": "2023-09-20T14:46:46.746Z"
   },
   {
    "duration": 16,
    "start_time": "2023-09-20T14:46:46.758Z"
   },
   {
    "duration": 66,
    "start_time": "2023-09-20T14:46:46.779Z"
   },
   {
    "duration": 16,
    "start_time": "2023-09-20T14:46:46.847Z"
   },
   {
    "duration": 84,
    "start_time": "2023-09-20T14:46:46.866Z"
   },
   {
    "duration": 10,
    "start_time": "2023-09-20T14:46:46.953Z"
   },
   {
    "duration": 23,
    "start_time": "2023-09-20T14:46:46.966Z"
   },
   {
    "duration": 22,
    "start_time": "2023-09-20T14:46:46.991Z"
   },
   {
    "duration": 275,
    "start_time": "2023-09-20T14:46:47.014Z"
   },
   {
    "duration": 1694,
    "start_time": "2023-09-20T14:46:47.291Z"
   },
   {
    "duration": 9,
    "start_time": "2023-09-20T14:46:48.988Z"
   },
   {
    "duration": 167,
    "start_time": "2023-09-20T14:46:48.999Z"
   },
   {
    "duration": 215,
    "start_time": "2023-09-20T14:46:49.169Z"
   },
   {
    "duration": 396,
    "start_time": "2023-09-20T14:46:49.386Z"
   },
   {
    "duration": 6,
    "start_time": "2023-09-20T14:46:49.784Z"
   },
   {
    "duration": 334,
    "start_time": "2023-09-20T14:46:49.792Z"
   },
   {
    "duration": 1269,
    "start_time": "2023-09-20T14:46:50.128Z"
   },
   {
    "duration": 4,
    "start_time": "2023-09-20T14:46:51.398Z"
   },
   {
    "duration": 106,
    "start_time": "2023-09-20T14:46:51.404Z"
   },
   {
    "duration": 30,
    "start_time": "2023-09-20T14:46:51.511Z"
   },
   {
    "duration": 22,
    "start_time": "2023-09-20T14:46:51.542Z"
   },
   {
    "duration": 16,
    "start_time": "2023-09-20T14:46:51.567Z"
   },
   {
    "duration": 3343,
    "start_time": "2023-09-20T14:46:51.585Z"
   },
   {
    "duration": 3,
    "start_time": "2023-09-20T14:46:54.930Z"
   },
   {
    "duration": 695382,
    "start_time": "2023-09-20T14:46:54.935Z"
   },
   {
    "duration": 3,
    "start_time": "2023-09-20T14:58:30.320Z"
   },
   {
    "duration": 2521,
    "start_time": "2023-09-20T14:58:30.325Z"
   },
   {
    "duration": 4,
    "start_time": "2023-09-20T14:58:32.850Z"
   },
   {
    "duration": 2197,
    "start_time": "2023-09-20T14:58:32.856Z"
   },
   {
    "duration": 7,
    "start_time": "2023-09-20T14:58:35.056Z"
   },
   {
    "duration": 103,
    "start_time": "2023-09-20T14:58:35.065Z"
   },
   {
    "duration": 3225,
    "start_time": "2023-09-20T14:58:35.174Z"
   },
   {
    "duration": 3,
    "start_time": "2023-09-20T14:58:38.401Z"
   },
   {
    "duration": 614236,
    "start_time": "2023-09-20T14:58:38.405Z"
   },
   {
    "duration": 4,
    "start_time": "2023-09-20T15:08:52.646Z"
   },
   {
    "duration": 2411,
    "start_time": "2023-09-20T15:08:52.652Z"
   },
   {
    "duration": 83,
    "start_time": "2023-09-20T15:08:55.068Z"
   },
   {
    "duration": 2597,
    "start_time": "2023-09-20T15:08:55.163Z"
   },
   {
    "duration": 4,
    "start_time": "2023-09-20T15:08:57.846Z"
   },
   {
    "duration": 18,
    "start_time": "2023-09-20T15:08:57.852Z"
   },
   {
    "duration": 12,
    "start_time": "2023-09-20T15:08:57.872Z"
   },
   {
    "duration": 12600,
    "start_time": "2023-09-20T15:08:57.885Z"
   },
   {
    "duration": 4,
    "start_time": "2023-09-20T15:13:19.527Z"
   },
   {
    "duration": 4,
    "start_time": "2023-09-20T15:13:45.195Z"
   },
   {
    "duration": 5,
    "start_time": "2023-09-20T15:13:59.800Z"
   },
   {
    "duration": 133,
    "start_time": "2023-09-20T15:27:38.523Z"
   },
   {
    "duration": 161,
    "start_time": "2023-09-20T15:27:44.946Z"
   },
   {
    "duration": 337,
    "start_time": "2023-09-20T15:28:01.462Z"
   },
   {
    "duration": 13,
    "start_time": "2023-09-20T15:28:19.361Z"
   },
   {
    "duration": 43,
    "start_time": "2023-09-20T15:31:09.981Z"
   },
   {
    "duration": 6,
    "start_time": "2023-09-20T15:31:19.738Z"
   },
   {
    "duration": 6,
    "start_time": "2023-09-20T15:31:30.235Z"
   },
   {
    "duration": 6,
    "start_time": "2023-09-20T15:31:42.031Z"
   },
   {
    "duration": 10,
    "start_time": "2023-09-20T15:31:45.741Z"
   },
   {
    "duration": 5,
    "start_time": "2023-09-20T15:31:51.526Z"
   },
   {
    "duration": 5,
    "start_time": "2023-09-20T15:32:02.650Z"
   },
   {
    "duration": 14,
    "start_time": "2023-09-20T15:32:07.185Z"
   },
   {
    "duration": 2573,
    "start_time": "2023-09-20T15:38:43.055Z"
   },
   {
    "duration": 4,
    "start_time": "2023-09-20T15:38:58.540Z"
   },
   {
    "duration": 2958,
    "start_time": "2023-09-20T15:57:30.709Z"
   },
   {
    "duration": 420,
    "start_time": "2023-09-20T15:57:33.669Z"
   },
   {
    "duration": 27,
    "start_time": "2023-09-20T15:57:34.091Z"
   },
   {
    "duration": 161,
    "start_time": "2023-09-20T15:57:34.120Z"
   },
   {
    "duration": 101,
    "start_time": "2023-09-20T15:57:34.283Z"
   },
   {
    "duration": 13,
    "start_time": "2023-09-20T15:57:34.386Z"
   },
   {
    "duration": 525,
    "start_time": "2023-09-20T15:57:34.400Z"
   },
   {
    "duration": 28,
    "start_time": "2023-09-20T15:57:34.927Z"
   },
   {
    "duration": 5,
    "start_time": "2023-09-20T15:57:34.957Z"
   },
   {
    "duration": 364,
    "start_time": "2023-09-20T15:57:34.965Z"
   },
   {
    "duration": 33,
    "start_time": "2023-09-20T15:57:35.331Z"
   },
   {
    "duration": 5,
    "start_time": "2023-09-20T15:57:35.369Z"
   },
   {
    "duration": 25,
    "start_time": "2023-09-20T15:57:35.376Z"
   },
   {
    "duration": 78,
    "start_time": "2023-09-20T15:57:35.405Z"
   },
   {
    "duration": 33,
    "start_time": "2023-09-20T15:57:35.485Z"
   },
   {
    "duration": 52,
    "start_time": "2023-09-20T15:57:35.520Z"
   },
   {
    "duration": 63,
    "start_time": "2023-09-20T15:57:35.574Z"
   },
   {
    "duration": 39,
    "start_time": "2023-09-20T15:57:35.639Z"
   },
   {
    "duration": 34,
    "start_time": "2023-09-20T15:57:35.680Z"
   },
   {
    "duration": 36,
    "start_time": "2023-09-20T15:57:35.716Z"
   },
   {
    "duration": 31,
    "start_time": "2023-09-20T15:57:35.754Z"
   },
   {
    "duration": 71,
    "start_time": "2023-09-20T15:57:35.787Z"
   },
   {
    "duration": 7,
    "start_time": "2023-09-20T15:57:35.860Z"
   },
   {
    "duration": 25,
    "start_time": "2023-09-20T15:57:35.869Z"
   },
   {
    "duration": 15,
    "start_time": "2023-09-20T15:57:35.896Z"
   },
   {
    "duration": 33,
    "start_time": "2023-09-20T15:57:35.912Z"
   },
   {
    "duration": 12,
    "start_time": "2023-09-20T15:57:35.947Z"
   },
   {
    "duration": 33,
    "start_time": "2023-09-20T15:57:35.961Z"
   },
   {
    "duration": 50,
    "start_time": "2023-09-20T15:57:35.996Z"
   },
   {
    "duration": 23,
    "start_time": "2023-09-20T15:57:36.050Z"
   },
   {
    "duration": 28,
    "start_time": "2023-09-20T15:57:36.075Z"
   },
   {
    "duration": 38,
    "start_time": "2023-09-20T15:57:36.105Z"
   },
   {
    "duration": 9,
    "start_time": "2023-09-20T15:57:36.145Z"
   },
   {
    "duration": 15,
    "start_time": "2023-09-20T15:57:36.156Z"
   },
   {
    "duration": 23,
    "start_time": "2023-09-20T15:57:36.174Z"
   },
   {
    "duration": 18,
    "start_time": "2023-09-20T15:57:36.198Z"
   },
   {
    "duration": 44,
    "start_time": "2023-09-20T15:57:36.217Z"
   },
   {
    "duration": 43,
    "start_time": "2023-09-20T15:57:36.267Z"
   },
   {
    "duration": 168,
    "start_time": "2023-09-20T15:57:36.312Z"
   },
   {
    "duration": 186,
    "start_time": "2023-09-20T15:57:36.482Z"
   },
   {
    "duration": 24,
    "start_time": "2023-09-20T15:57:36.674Z"
   },
   {
    "duration": 7,
    "start_time": "2023-09-20T15:57:36.700Z"
   },
   {
    "duration": 13,
    "start_time": "2023-09-20T15:57:36.709Z"
   },
   {
    "duration": 94,
    "start_time": "2023-09-20T15:57:36.723Z"
   },
   {
    "duration": 6,
    "start_time": "2023-09-20T15:57:36.819Z"
   },
   {
    "duration": 42,
    "start_time": "2023-09-20T15:57:36.827Z"
   },
   {
    "duration": 13,
    "start_time": "2023-09-20T15:57:36.871Z"
   },
   {
    "duration": 245,
    "start_time": "2023-09-20T15:57:36.886Z"
   },
   {
    "duration": 1532,
    "start_time": "2023-09-20T15:57:37.133Z"
   },
   {
    "duration": 10,
    "start_time": "2023-09-20T15:57:38.667Z"
   },
   {
    "duration": 16,
    "start_time": "2023-09-20T15:57:38.679Z"
   },
   {
    "duration": 205,
    "start_time": "2023-09-20T15:57:38.697Z"
   },
   {
    "duration": 411,
    "start_time": "2023-09-20T15:57:38.904Z"
   },
   {
    "duration": 6,
    "start_time": "2023-09-20T15:57:39.317Z"
   },
   {
    "duration": 196,
    "start_time": "2023-09-20T15:57:39.324Z"
   },
   {
    "duration": 1113,
    "start_time": "2023-09-20T15:57:39.522Z"
   },
   {
    "duration": 9,
    "start_time": "2023-09-20T15:57:40.637Z"
   },
   {
    "duration": 16,
    "start_time": "2023-09-20T15:57:40.648Z"
   },
   {
    "duration": 31,
    "start_time": "2023-09-20T15:57:40.665Z"
   },
   {
    "duration": 24,
    "start_time": "2023-09-20T15:57:40.698Z"
   },
   {
    "duration": 17,
    "start_time": "2023-09-20T15:57:40.724Z"
   },
   {
    "duration": 3182,
    "start_time": "2023-09-20T15:57:40.743Z"
   },
   {
    "duration": 4,
    "start_time": "2023-09-20T15:57:43.927Z"
   },
   {
    "duration": 634274,
    "start_time": "2023-09-20T15:57:43.933Z"
   },
   {
    "duration": 3,
    "start_time": "2023-09-20T16:08:18.209Z"
   },
   {
    "duration": 1237,
    "start_time": "2023-09-20T16:08:18.213Z"
   },
   {
    "duration": 4,
    "start_time": "2023-09-20T16:08:19.452Z"
   },
   {
    "duration": 1398,
    "start_time": "2023-09-20T16:08:19.549Z"
   },
   {
    "duration": 4,
    "start_time": "2023-09-20T16:08:20.950Z"
   },
   {
    "duration": 48,
    "start_time": "2023-09-20T16:08:20.956Z"
   },
   {
    "duration": 2971,
    "start_time": "2023-09-20T16:08:21.006Z"
   },
   {
    "duration": 3,
    "start_time": "2023-09-20T16:08:23.980Z"
   },
   {
    "duration": 588594,
    "start_time": "2023-09-20T16:08:23.985Z"
   },
   {
    "duration": 3,
    "start_time": "2023-09-20T16:18:12.581Z"
   },
   {
    "duration": 1066,
    "start_time": "2023-09-20T16:18:12.586Z"
   },
   {
    "duration": 91,
    "start_time": "2023-09-20T16:18:13.656Z"
   },
   {
    "duration": 1501,
    "start_time": "2023-09-20T16:18:13.750Z"
   },
   {
    "duration": 4,
    "start_time": "2023-09-20T16:18:15.253Z"
   },
   {
    "duration": 104,
    "start_time": "2023-09-20T16:18:15.259Z"
   },
   {
    "duration": 30,
    "start_time": "2023-09-20T16:18:15.365Z"
   },
   {
    "duration": 11772,
    "start_time": "2023-09-20T16:18:15.396Z"
   },
   {
    "duration": 9,
    "start_time": "2023-09-20T16:34:52.241Z"
   },
   {
    "duration": 275,
    "start_time": "2023-09-20T16:34:59.169Z"
   },
   {
    "duration": 1989,
    "start_time": "2023-09-21T08:15:23.511Z"
   },
   {
    "duration": 158,
    "start_time": "2023-09-21T08:18:53.989Z"
   },
   {
    "duration": 1047,
    "start_time": "2023-09-21T08:19:19.728Z"
   },
   {
    "duration": 14,
    "start_time": "2023-09-21T08:23:41.740Z"
   },
   {
    "duration": 6,
    "start_time": "2023-09-21T08:23:45.456Z"
   },
   {
    "duration": 433,
    "start_time": "2023-09-21T08:23:45.464Z"
   },
   {
    "duration": 416,
    "start_time": "2023-09-21T08:23:45.899Z"
   },
   {
    "duration": 21,
    "start_time": "2023-09-21T08:23:46.317Z"
   },
   {
    "duration": 99,
    "start_time": "2023-09-21T08:23:46.340Z"
   },
   {
    "duration": 171,
    "start_time": "2023-09-21T08:23:46.441Z"
   },
   {
    "duration": 22,
    "start_time": "2023-09-21T08:23:46.614Z"
   },
   {
    "duration": 1404,
    "start_time": "2023-09-21T08:23:46.639Z"
   },
   {
    "duration": 21,
    "start_time": "2023-09-21T08:23:48.045Z"
   },
   {
    "duration": 4,
    "start_time": "2023-09-21T08:23:48.069Z"
   },
   {
    "duration": 308,
    "start_time": "2023-09-21T08:23:48.077Z"
   },
   {
    "duration": 26,
    "start_time": "2023-09-21T08:23:48.387Z"
   },
   {
    "duration": 5,
    "start_time": "2023-09-21T08:23:48.416Z"
   },
   {
    "duration": 22,
    "start_time": "2023-09-21T08:23:48.423Z"
   },
   {
    "duration": 7,
    "start_time": "2023-09-21T08:23:48.447Z"
   },
   {
    "duration": 12,
    "start_time": "2023-09-21T08:23:48.456Z"
   },
   {
    "duration": 10,
    "start_time": "2023-09-21T08:23:48.470Z"
   },
   {
    "duration": 31,
    "start_time": "2023-09-21T08:23:48.482Z"
   },
   {
    "duration": 15,
    "start_time": "2023-09-21T08:23:48.515Z"
   },
   {
    "duration": 36,
    "start_time": "2023-09-21T08:23:48.532Z"
   },
   {
    "duration": 28,
    "start_time": "2023-09-21T08:23:48.572Z"
   },
   {
    "duration": 9,
    "start_time": "2023-09-21T08:23:48.603Z"
   },
   {
    "duration": 70,
    "start_time": "2023-09-21T08:23:48.617Z"
   },
   {
    "duration": 5,
    "start_time": "2023-09-21T08:23:48.689Z"
   },
   {
    "duration": 29,
    "start_time": "2023-09-21T08:23:48.696Z"
   },
   {
    "duration": 27,
    "start_time": "2023-09-21T08:23:48.727Z"
   },
   {
    "duration": 31,
    "start_time": "2023-09-21T08:23:48.756Z"
   },
   {
    "duration": 13,
    "start_time": "2023-09-21T08:24:05.400Z"
   },
   {
    "duration": 6,
    "start_time": "2023-09-21T08:24:22.558Z"
   },
   {
    "duration": 6,
    "start_time": "2023-09-21T08:24:27.460Z"
   },
   {
    "duration": 5,
    "start_time": "2023-09-21T08:24:31.147Z"
   },
   {
    "duration": 10,
    "start_time": "2023-09-21T08:24:45.094Z"
   },
   {
    "duration": 7,
    "start_time": "2023-09-21T08:24:51.690Z"
   },
   {
    "duration": 7,
    "start_time": "2023-09-21T08:25:02.321Z"
   },
   {
    "duration": 21,
    "start_time": "2023-09-21T08:25:48.856Z"
   },
   {
    "duration": 7,
    "start_time": "2023-09-21T08:26:05.106Z"
   },
   {
    "duration": 7,
    "start_time": "2023-09-21T08:26:06.931Z"
   },
   {
    "duration": 7,
    "start_time": "2023-09-21T08:26:08.978Z"
   },
   {
    "duration": 7,
    "start_time": "2023-09-21T08:26:16.077Z"
   },
   {
    "duration": 437,
    "start_time": "2023-09-21T08:30:30.104Z"
   },
   {
    "duration": 3,
    "start_time": "2023-09-21T08:35:58.236Z"
   },
   {
    "duration": 14,
    "start_time": "2023-09-21T08:36:53.325Z"
   },
   {
    "duration": 3,
    "start_time": "2023-09-21T08:36:57.939Z"
   },
   {
    "duration": 3,
    "start_time": "2023-09-21T08:37:00.370Z"
   },
   {
    "duration": 16,
    "start_time": "2023-09-21T08:37:04.674Z"
   },
   {
    "duration": 5,
    "start_time": "2023-09-21T08:37:09.916Z"
   },
   {
    "duration": 375,
    "start_time": "2023-09-21T08:37:09.927Z"
   },
   {
    "duration": 412,
    "start_time": "2023-09-21T08:37:10.304Z"
   },
   {
    "duration": 19,
    "start_time": "2023-09-21T08:37:10.718Z"
   },
   {
    "duration": 82,
    "start_time": "2023-09-21T08:37:10.738Z"
   },
   {
    "duration": 88,
    "start_time": "2023-09-21T08:37:10.823Z"
   },
   {
    "duration": 15,
    "start_time": "2023-09-21T08:37:10.912Z"
   },
   {
    "duration": 453,
    "start_time": "2023-09-21T08:37:10.928Z"
   },
   {
    "duration": 19,
    "start_time": "2023-09-21T08:37:11.382Z"
   },
   {
    "duration": 4,
    "start_time": "2023-09-21T08:37:11.410Z"
   },
   {
    "duration": 280,
    "start_time": "2023-09-21T08:37:11.417Z"
   },
   {
    "duration": 16,
    "start_time": "2023-09-21T08:37:11.699Z"
   },
   {
    "duration": 7,
    "start_time": "2023-09-21T08:37:11.716Z"
   },
   {
    "duration": 30,
    "start_time": "2023-09-21T08:37:11.724Z"
   },
   {
    "duration": 17,
    "start_time": "2023-09-21T08:37:11.759Z"
   },
   {
    "duration": 17,
    "start_time": "2023-09-21T08:37:11.777Z"
   },
   {
    "duration": 23,
    "start_time": "2023-09-21T08:37:11.796Z"
   },
   {
    "duration": 24,
    "start_time": "2023-09-21T08:37:11.821Z"
   },
   {
    "duration": 27,
    "start_time": "2023-09-21T08:37:11.847Z"
   },
   {
    "duration": 27,
    "start_time": "2023-09-21T08:37:11.876Z"
   },
   {
    "duration": 18,
    "start_time": "2023-09-21T08:37:11.906Z"
   },
   {
    "duration": 7,
    "start_time": "2023-09-21T08:37:11.926Z"
   },
   {
    "duration": 65,
    "start_time": "2023-09-21T08:37:11.935Z"
   },
   {
    "duration": 9,
    "start_time": "2023-09-21T08:37:12.002Z"
   },
   {
    "duration": 13,
    "start_time": "2023-09-21T08:37:12.013Z"
   },
   {
    "duration": 33,
    "start_time": "2023-09-21T08:37:12.028Z"
   },
   {
    "duration": 33,
    "start_time": "2023-09-21T08:37:12.063Z"
   },
   {
    "duration": 10,
    "start_time": "2023-09-21T08:37:12.097Z"
   },
   {
    "duration": 17,
    "start_time": "2023-09-21T08:37:12.109Z"
   },
   {
    "duration": 9,
    "start_time": "2023-09-21T08:37:12.128Z"
   },
   {
    "duration": 33,
    "start_time": "2023-09-21T08:37:12.139Z"
   },
   {
    "duration": 29,
    "start_time": "2023-09-21T08:37:12.175Z"
   },
   {
    "duration": 19,
    "start_time": "2023-09-21T08:37:12.206Z"
   },
   {
    "duration": 41,
    "start_time": "2023-09-21T08:37:12.227Z"
   },
   {
    "duration": 24,
    "start_time": "2023-09-21T08:37:12.270Z"
   },
   {
    "duration": 11,
    "start_time": "2023-09-21T08:37:12.297Z"
   },
   {
    "duration": 9,
    "start_time": "2023-09-21T08:37:12.310Z"
   },
   {
    "duration": 57,
    "start_time": "2023-09-21T08:37:12.322Z"
   },
   {
    "duration": 65,
    "start_time": "2023-09-21T08:37:12.381Z"
   },
   {
    "duration": 6,
    "start_time": "2023-09-21T08:37:12.449Z"
   },
   {
    "duration": 7,
    "start_time": "2023-09-21T08:37:12.456Z"
   },
   {
    "duration": 15,
    "start_time": "2023-09-21T08:37:12.468Z"
   },
   {
    "duration": 24,
    "start_time": "2023-09-21T08:37:12.485Z"
   },
   {
    "duration": 4,
    "start_time": "2023-09-21T08:37:12.514Z"
   },
   {
    "duration": 111,
    "start_time": "2023-09-21T08:37:12.521Z"
   },
   {
    "duration": 8,
    "start_time": "2023-09-21T08:37:12.635Z"
   },
   {
    "duration": 32,
    "start_time": "2023-09-21T08:37:12.646Z"
   },
   {
    "duration": 11,
    "start_time": "2023-09-21T08:37:12.681Z"
   },
   {
    "duration": 275,
    "start_time": "2023-09-21T08:37:12.695Z"
   },
   {
    "duration": 1434,
    "start_time": "2023-09-21T08:37:12.972Z"
   },
   {
    "duration": 10,
    "start_time": "2023-09-21T08:37:14.407Z"
   },
   {
    "duration": 35,
    "start_time": "2023-09-21T08:37:14.418Z"
   },
   {
    "duration": 357,
    "start_time": "2023-09-21T08:37:14.455Z"
   },
   {
    "duration": 451,
    "start_time": "2023-09-21T08:37:14.814Z"
   },
   {
    "duration": 6,
    "start_time": "2023-09-21T08:37:15.268Z"
   },
   {
    "duration": 233,
    "start_time": "2023-09-21T08:37:15.276Z"
   },
   {
    "duration": 1006,
    "start_time": "2023-09-21T08:37:15.511Z"
   },
   {
    "duration": 4,
    "start_time": "2023-09-21T08:37:16.519Z"
   },
   {
    "duration": 10,
    "start_time": "2023-09-21T08:37:16.525Z"
   },
   {
    "duration": 10,
    "start_time": "2023-09-21T08:37:16.537Z"
   },
   {
    "duration": 3,
    "start_time": "2023-09-21T08:37:16.549Z"
   },
   {
    "duration": 10,
    "start_time": "2023-09-21T08:37:16.554Z"
   },
   {
    "duration": 8,
    "start_time": "2023-09-21T08:37:16.566Z"
   },
   {
    "duration": 23,
    "start_time": "2023-09-21T08:37:24.935Z"
   },
   {
    "duration": 4,
    "start_time": "2023-09-21T08:38:09.980Z"
   },
   {
    "duration": 3408,
    "start_time": "2023-09-21T08:38:16.972Z"
   },
   {
    "duration": 305561,
    "start_time": "2023-09-21T08:39:25.090Z"
   },
   {
    "duration": 0,
    "start_time": "2023-09-21T08:44:30.656Z"
   },
   {
    "duration": 4,
    "start_time": "2023-09-21T08:44:34.634Z"
   },
   {
    "duration": 3612,
    "start_time": "2023-09-21T08:44:38.548Z"
   },
   {
    "duration": 4,
    "start_time": "2023-09-21T08:44:59.935Z"
   },
   {
    "duration": 3,
    "start_time": "2023-09-21T08:45:07.968Z"
   },
   {
    "duration": 3802,
    "start_time": "2023-09-21T08:45:45.371Z"
   },
   {
    "duration": 6,
    "start_time": "2023-09-21T08:46:09.676Z"
   },
   {
    "duration": 40121,
    "start_time": "2023-09-21T08:46:13.579Z"
   },
   {
    "duration": 5,
    "start_time": "2023-09-21T08:47:02.179Z"
   },
   {
    "duration": 4810,
    "start_time": "2023-09-21T08:47:05.005Z"
   },
   {
    "duration": 5,
    "start_time": "2023-09-21T08:47:11.077Z"
   },
   {
    "duration": 4309,
    "start_time": "2023-09-21T08:47:14.862Z"
   },
   {
    "duration": 2590,
    "start_time": "2023-09-21T08:47:42.134Z"
   },
   {
    "duration": 18,
    "start_time": "2023-09-21T08:47:49.601Z"
   },
   {
    "duration": 5,
    "start_time": "2023-09-21T08:48:11.484Z"
   },
   {
    "duration": 18,
    "start_time": "2023-09-21T08:48:16.890Z"
   },
   {
    "duration": 7,
    "start_time": "2023-09-21T08:48:51.371Z"
   },
   {
    "duration": 6,
    "start_time": "2023-09-21T08:49:22.072Z"
   },
   {
    "duration": 562,
    "start_time": "2023-09-21T08:49:22.085Z"
   },
   {
    "duration": 611,
    "start_time": "2023-09-21T08:49:22.659Z"
   },
   {
    "duration": 39,
    "start_time": "2023-09-21T08:49:23.272Z"
   },
   {
    "duration": 114,
    "start_time": "2023-09-21T08:49:23.317Z"
   },
   {
    "duration": 145,
    "start_time": "2023-09-21T08:49:23.434Z"
   },
   {
    "duration": 19,
    "start_time": "2023-09-21T08:49:23.581Z"
   },
   {
    "duration": 651,
    "start_time": "2023-09-21T08:49:23.612Z"
   },
   {
    "duration": 24,
    "start_time": "2023-09-21T08:49:24.268Z"
   },
   {
    "duration": 5,
    "start_time": "2023-09-21T08:49:24.295Z"
   },
   {
    "duration": 313,
    "start_time": "2023-09-21T08:49:24.309Z"
   },
   {
    "duration": 18,
    "start_time": "2023-09-21T08:49:24.628Z"
   },
   {
    "duration": 12,
    "start_time": "2023-09-21T08:49:24.648Z"
   },
   {
    "duration": 9,
    "start_time": "2023-09-21T08:49:24.667Z"
   },
   {
    "duration": 4,
    "start_time": "2023-09-21T08:49:24.681Z"
   },
   {
    "duration": 31,
    "start_time": "2023-09-21T08:49:24.687Z"
   },
   {
    "duration": 22,
    "start_time": "2023-09-21T08:49:24.720Z"
   },
   {
    "duration": 13,
    "start_time": "2023-09-21T08:49:24.744Z"
   },
   {
    "duration": 16,
    "start_time": "2023-09-21T08:49:24.760Z"
   },
   {
    "duration": 47,
    "start_time": "2023-09-21T08:49:24.778Z"
   },
   {
    "duration": 40,
    "start_time": "2023-09-21T08:49:24.827Z"
   },
   {
    "duration": 6,
    "start_time": "2023-09-21T08:49:24.869Z"
   },
   {
    "duration": 87,
    "start_time": "2023-09-21T08:49:24.877Z"
   },
   {
    "duration": 5,
    "start_time": "2023-09-21T08:49:24.966Z"
   },
   {
    "duration": 12,
    "start_time": "2023-09-21T08:49:24.974Z"
   },
   {
    "duration": 23,
    "start_time": "2023-09-21T08:49:24.988Z"
   },
   {
    "duration": 42,
    "start_time": "2023-09-21T08:49:25.012Z"
   },
   {
    "duration": 10,
    "start_time": "2023-09-21T08:49:25.057Z"
   },
   {
    "duration": 30,
    "start_time": "2023-09-21T08:49:25.070Z"
   },
   {
    "duration": 10,
    "start_time": "2023-09-21T08:49:25.109Z"
   },
   {
    "duration": 16,
    "start_time": "2023-09-21T08:49:25.121Z"
   },
   {
    "duration": 12,
    "start_time": "2023-09-21T08:49:25.139Z"
   },
   {
    "duration": 8,
    "start_time": "2023-09-21T08:49:25.154Z"
   },
   {
    "duration": 6,
    "start_time": "2023-09-21T08:49:25.165Z"
   },
   {
    "duration": 10,
    "start_time": "2023-09-21T08:49:25.173Z"
   },
   {
    "duration": 7,
    "start_time": "2023-09-21T08:49:25.210Z"
   },
   {
    "duration": 3,
    "start_time": "2023-09-21T08:49:25.220Z"
   },
   {
    "duration": 54,
    "start_time": "2023-09-21T08:49:25.225Z"
   },
   {
    "duration": 88,
    "start_time": "2023-09-21T08:49:25.282Z"
   },
   {
    "duration": 6,
    "start_time": "2023-09-21T08:49:29.474Z"
   },
   {
    "duration": 6,
    "start_time": "2023-09-21T08:52:11.873Z"
   },
   {
    "duration": 644,
    "start_time": "2023-09-21T08:52:11.886Z"
   },
   {
    "duration": 637,
    "start_time": "2023-09-21T08:52:12.535Z"
   },
   {
    "duration": 40,
    "start_time": "2023-09-21T08:52:13.176Z"
   },
   {
    "duration": 129,
    "start_time": "2023-09-21T08:52:13.222Z"
   },
   {
    "duration": 199,
    "start_time": "2023-09-21T08:52:13.358Z"
   },
   {
    "duration": 29,
    "start_time": "2023-09-21T08:52:13.564Z"
   },
   {
    "duration": 701,
    "start_time": "2023-09-21T08:52:13.598Z"
   },
   {
    "duration": 29,
    "start_time": "2023-09-21T08:52:14.302Z"
   },
   {
    "duration": 5,
    "start_time": "2023-09-21T08:52:14.333Z"
   },
   {
    "duration": 457,
    "start_time": "2023-09-21T08:52:14.340Z"
   },
   {
    "duration": 23,
    "start_time": "2023-09-21T08:52:14.800Z"
   },
   {
    "duration": 8,
    "start_time": "2023-09-21T08:52:14.828Z"
   },
   {
    "duration": 17,
    "start_time": "2023-09-21T08:52:14.843Z"
   },
   {
    "duration": 11,
    "start_time": "2023-09-21T08:52:14.864Z"
   },
   {
    "duration": 18,
    "start_time": "2023-09-21T08:52:14.878Z"
   },
   {
    "duration": 39,
    "start_time": "2023-09-21T08:52:14.898Z"
   },
   {
    "duration": 6,
    "start_time": "2023-09-21T08:52:14.944Z"
   },
   {
    "duration": 24,
    "start_time": "2023-09-21T08:52:14.952Z"
   },
   {
    "duration": 23,
    "start_time": "2023-09-21T08:52:14.978Z"
   },
   {
    "duration": 77,
    "start_time": "2023-09-21T08:52:15.003Z"
   },
   {
    "duration": 53,
    "start_time": "2023-09-21T08:52:15.084Z"
   },
   {
    "duration": 235,
    "start_time": "2023-09-21T08:52:15.139Z"
   },
   {
    "duration": 14,
    "start_time": "2023-09-21T08:52:15.377Z"
   },
   {
    "duration": 42,
    "start_time": "2023-09-21T08:52:15.394Z"
   },
   {
    "duration": 27,
    "start_time": "2023-09-21T08:52:15.438Z"
   },
   {
    "duration": 18,
    "start_time": "2023-09-21T08:53:01.432Z"
   },
   {
    "duration": 86,
    "start_time": "2023-09-21T08:53:16.805Z"
   },
   {
    "duration": 6,
    "start_time": "2023-09-21T08:53:28.972Z"
   },
   {
    "duration": 467,
    "start_time": "2023-09-21T08:53:28.981Z"
   },
   {
    "duration": 489,
    "start_time": "2023-09-21T08:53:29.451Z"
   },
   {
    "duration": 24,
    "start_time": "2023-09-21T08:53:29.941Z"
   },
   {
    "duration": 102,
    "start_time": "2023-09-21T08:53:29.968Z"
   },
   {
    "duration": 121,
    "start_time": "2023-09-21T08:53:30.072Z"
   },
   {
    "duration": 21,
    "start_time": "2023-09-21T08:53:30.195Z"
   },
   {
    "duration": 637,
    "start_time": "2023-09-21T08:53:30.224Z"
   },
   {
    "duration": 25,
    "start_time": "2023-09-21T08:53:30.864Z"
   },
   {
    "duration": 36,
    "start_time": "2023-09-21T08:53:30.891Z"
   },
   {
    "duration": 361,
    "start_time": "2023-09-21T08:53:30.930Z"
   },
   {
    "duration": 31,
    "start_time": "2023-09-21T08:53:31.294Z"
   },
   {
    "duration": 25,
    "start_time": "2023-09-21T08:53:31.327Z"
   },
   {
    "duration": 84,
    "start_time": "2023-09-21T08:53:31.358Z"
   },
   {
    "duration": 39,
    "start_time": "2023-09-21T08:53:31.446Z"
   },
   {
    "duration": 59,
    "start_time": "2023-09-21T08:53:31.487Z"
   },
   {
    "duration": 34,
    "start_time": "2023-09-21T08:53:31.548Z"
   },
   {
    "duration": 61,
    "start_time": "2023-09-21T08:53:31.584Z"
   },
   {
    "duration": 49,
    "start_time": "2023-09-21T08:53:31.651Z"
   },
   {
    "duration": 62,
    "start_time": "2023-09-21T08:53:31.703Z"
   },
   {
    "duration": 47,
    "start_time": "2023-09-21T08:53:31.767Z"
   },
   {
    "duration": 29,
    "start_time": "2023-09-21T08:53:31.824Z"
   },
   {
    "duration": 126,
    "start_time": "2023-09-21T08:53:31.858Z"
   },
   {
    "duration": 42,
    "start_time": "2023-09-21T08:53:31.986Z"
   },
   {
    "duration": 53,
    "start_time": "2023-09-21T08:53:32.032Z"
   },
   {
    "duration": 38,
    "start_time": "2023-09-21T08:53:32.087Z"
   },
   {
    "duration": 29,
    "start_time": "2023-09-21T08:53:39.171Z"
   },
   {
    "duration": 77,
    "start_time": "2023-09-21T08:53:45.855Z"
   },
   {
    "duration": 3799,
    "start_time": "2023-09-21T08:54:36.200Z"
   },
   {
    "duration": 10,
    "start_time": "2023-09-21T08:55:09.076Z"
   },
   {
    "duration": 12,
    "start_time": "2023-09-21T08:55:14.669Z"
   },
   {
    "duration": 10,
    "start_time": "2023-09-21T08:55:33.527Z"
   },
   {
    "duration": 8,
    "start_time": "2023-09-21T08:55:35.130Z"
   },
   {
    "duration": 7,
    "start_time": "2023-09-21T08:55:40.168Z"
   },
   {
    "duration": 281,
    "start_time": "2023-09-21T08:56:17.767Z"
   },
   {
    "duration": 74,
    "start_time": "2023-09-21T08:57:36.778Z"
   },
   {
    "duration": 81,
    "start_time": "2023-09-21T08:58:34.888Z"
   },
   {
    "duration": 105,
    "start_time": "2023-09-21T08:59:03.433Z"
   },
   {
    "duration": 170,
    "start_time": "2023-09-21T08:59:08.535Z"
   },
   {
    "duration": 189,
    "start_time": "2023-09-21T08:59:21.187Z"
   },
   {
    "duration": 18,
    "start_time": "2023-09-21T09:01:30.147Z"
   },
   {
    "duration": 43,
    "start_time": "2023-09-21T09:29:10.074Z"
   },
   {
    "duration": 1780,
    "start_time": "2023-09-21T09:29:19.993Z"
   },
   {
    "duration": 42,
    "start_time": "2023-09-21T09:29:48.559Z"
   },
   {
    "duration": 1830,
    "start_time": "2023-09-21T09:29:50.246Z"
   },
   {
    "duration": 50,
    "start_time": "2023-09-21T09:30:15.080Z"
   },
   {
    "duration": 10,
    "start_time": "2023-09-21T09:31:27.439Z"
   },
   {
    "duration": 485,
    "start_time": "2023-09-21T09:31:27.457Z"
   },
   {
    "duration": 524,
    "start_time": "2023-09-21T09:31:27.944Z"
   },
   {
    "duration": 57,
    "start_time": "2023-09-21T09:31:28.471Z"
   },
   {
    "duration": 90,
    "start_time": "2023-09-21T09:31:28.541Z"
   },
   {
    "duration": 150,
    "start_time": "2023-09-21T09:31:28.633Z"
   },
   {
    "duration": 14,
    "start_time": "2023-09-21T09:31:28.785Z"
   },
   {
    "duration": 616,
    "start_time": "2023-09-21T09:31:28.801Z"
   },
   {
    "duration": 29,
    "start_time": "2023-09-21T09:31:29.419Z"
   },
   {
    "duration": 6,
    "start_time": "2023-09-21T09:31:29.460Z"
   },
   {
    "duration": 872,
    "start_time": "2023-09-21T09:31:29.469Z"
   },
   {
    "duration": 25,
    "start_time": "2023-09-21T09:31:30.344Z"
   },
   {
    "duration": 55,
    "start_time": "2023-09-21T09:31:30.411Z"
   },
   {
    "duration": 45,
    "start_time": "2023-09-21T09:31:30.468Z"
   },
   {
    "duration": 38,
    "start_time": "2023-09-21T09:31:30.517Z"
   },
   {
    "duration": 25,
    "start_time": "2023-09-21T09:31:30.556Z"
   },
   {
    "duration": 72,
    "start_time": "2023-09-21T09:31:30.610Z"
   },
   {
    "duration": 66,
    "start_time": "2023-09-21T09:31:30.684Z"
   },
   {
    "duration": 74,
    "start_time": "2023-09-21T09:31:30.751Z"
   },
   {
    "duration": 133,
    "start_time": "2023-09-21T09:31:30.827Z"
   },
   {
    "duration": 784,
    "start_time": "2023-09-21T09:31:30.962Z"
   },
   {
    "duration": 231,
    "start_time": "2023-09-21T09:31:31.748Z"
   },
   {
    "duration": 93,
    "start_time": "2023-09-21T09:31:31.981Z"
   },
   {
    "duration": 58,
    "start_time": "2023-09-21T09:31:32.076Z"
   },
   {
    "duration": 39,
    "start_time": "2023-09-21T09:31:32.136Z"
   },
   {
    "duration": 24,
    "start_time": "2023-09-21T09:31:32.178Z"
   },
   {
    "duration": 54,
    "start_time": "2023-09-21T09:31:32.204Z"
   },
   {
    "duration": 5,
    "start_time": "2023-09-21T09:31:32.262Z"
   },
   {
    "duration": 40,
    "start_time": "2023-09-21T09:31:32.268Z"
   },
   {
    "duration": 44,
    "start_time": "2023-09-21T09:31:32.318Z"
   },
   {
    "duration": 33,
    "start_time": "2023-09-21T09:31:32.364Z"
   },
   {
    "duration": 9,
    "start_time": "2023-09-21T09:31:32.400Z"
   },
   {
    "duration": 137,
    "start_time": "2023-09-21T09:31:32.416Z"
   },
   {
    "duration": 78,
    "start_time": "2023-09-21T09:31:32.555Z"
   },
   {
    "duration": 4,
    "start_time": "2023-09-21T09:31:32.638Z"
   },
   {
    "duration": 26,
    "start_time": "2023-09-21T09:31:32.645Z"
   },
   {
    "duration": 19,
    "start_time": "2023-09-21T09:31:32.673Z"
   },
   {
    "duration": 7,
    "start_time": "2023-09-21T09:31:32.695Z"
   },
   {
    "duration": 156,
    "start_time": "2023-09-21T09:31:32.704Z"
   },
   {
    "duration": 7,
    "start_time": "2023-09-21T09:31:32.862Z"
   },
   {
    "duration": 28,
    "start_time": "2023-09-21T09:31:32.878Z"
   },
   {
    "duration": 30,
    "start_time": "2023-09-21T09:31:32.908Z"
   },
   {
    "duration": 277,
    "start_time": "2023-09-21T09:31:32.940Z"
   },
   {
    "duration": 1579,
    "start_time": "2023-09-21T09:31:33.220Z"
   },
   {
    "duration": 117,
    "start_time": "2023-09-21T09:31:46.325Z"
   },
   {
    "duration": 4,
    "start_time": "2023-09-21T09:32:15.791Z"
   },
   {
    "duration": 469,
    "start_time": "2023-09-21T09:32:15.797Z"
   },
   {
    "duration": 491,
    "start_time": "2023-09-21T09:32:16.268Z"
   },
   {
    "duration": 20,
    "start_time": "2023-09-21T09:32:16.760Z"
   },
   {
    "duration": 101,
    "start_time": "2023-09-21T09:32:16.784Z"
   },
   {
    "duration": 129,
    "start_time": "2023-09-21T09:32:16.887Z"
   },
   {
    "duration": 19,
    "start_time": "2023-09-21T09:32:17.018Z"
   },
   {
    "duration": 530,
    "start_time": "2023-09-21T09:32:17.039Z"
   },
   {
    "duration": 21,
    "start_time": "2023-09-21T09:32:17.571Z"
   },
   {
    "duration": 22,
    "start_time": "2023-09-21T09:32:17.594Z"
   },
   {
    "duration": 341,
    "start_time": "2023-09-21T09:32:17.625Z"
   },
   {
    "duration": 16,
    "start_time": "2023-09-21T09:32:17.968Z"
   },
   {
    "duration": 5,
    "start_time": "2023-09-21T09:32:17.986Z"
   },
   {
    "duration": 26,
    "start_time": "2023-09-21T09:32:17.993Z"
   },
   {
    "duration": 18,
    "start_time": "2023-09-21T09:32:18.020Z"
   },
   {
    "duration": 9,
    "start_time": "2023-09-21T09:32:18.040Z"
   },
   {
    "duration": 6,
    "start_time": "2023-09-21T09:32:18.051Z"
   },
   {
    "duration": 6,
    "start_time": "2023-09-21T09:32:18.059Z"
   },
   {
    "duration": 9,
    "start_time": "2023-09-21T09:32:18.066Z"
   },
   {
    "duration": 25,
    "start_time": "2023-09-21T09:32:18.076Z"
   },
   {
    "duration": 30,
    "start_time": "2023-09-21T09:32:18.103Z"
   },
   {
    "duration": 13,
    "start_time": "2023-09-21T09:32:18.135Z"
   },
   {
    "duration": 56,
    "start_time": "2023-09-21T09:32:18.150Z"
   },
   {
    "duration": 12,
    "start_time": "2023-09-21T09:32:18.207Z"
   },
   {
    "duration": 11,
    "start_time": "2023-09-21T09:32:18.223Z"
   },
   {
    "duration": 37,
    "start_time": "2023-09-21T09:32:18.236Z"
   },
   {
    "duration": 52,
    "start_time": "2023-09-21T09:32:18.274Z"
   },
   {
    "duration": 11,
    "start_time": "2023-09-21T09:32:18.328Z"
   },
   {
    "duration": 8,
    "start_time": "2023-09-21T09:32:18.344Z"
   },
   {
    "duration": 17,
    "start_time": "2023-09-21T09:32:18.354Z"
   },
   {
    "duration": 21,
    "start_time": "2023-09-21T09:32:18.373Z"
   },
   {
    "duration": 26,
    "start_time": "2023-09-21T09:32:18.396Z"
   },
   {
    "duration": 26,
    "start_time": "2023-09-21T09:32:18.424Z"
   },
   {
    "duration": 11,
    "start_time": "2023-09-21T09:32:18.452Z"
   },
   {
    "duration": 14,
    "start_time": "2023-09-21T09:32:18.465Z"
   },
   {
    "duration": 7,
    "start_time": "2023-09-21T09:32:18.481Z"
   },
   {
    "duration": 12,
    "start_time": "2023-09-21T09:32:18.491Z"
   },
   {
    "duration": 10,
    "start_time": "2023-09-21T09:32:18.505Z"
   },
   {
    "duration": 115,
    "start_time": "2023-09-21T09:32:18.518Z"
   },
   {
    "duration": 13,
    "start_time": "2023-09-21T09:32:18.641Z"
   },
   {
    "duration": 20,
    "start_time": "2023-09-21T09:32:18.656Z"
   },
   {
    "duration": 13,
    "start_time": "2023-09-21T09:32:18.679Z"
   },
   {
    "duration": 461,
    "start_time": "2023-09-21T09:32:18.694Z"
   },
   {
    "duration": 2162,
    "start_time": "2023-09-21T09:32:19.157Z"
   },
   {
    "duration": 56,
    "start_time": "2023-09-21T09:34:45.279Z"
   },
   {
    "duration": 118,
    "start_time": "2023-09-21T09:34:45.337Z"
   },
   {
    "duration": 1814,
    "start_time": "2023-09-21T09:34:45.458Z"
   },
   {
    "duration": 10,
    "start_time": "2023-09-21T09:34:47.275Z"
   },
   {
    "duration": 31,
    "start_time": "2023-09-21T09:34:47.287Z"
   },
   {
    "duration": 207,
    "start_time": "2023-09-21T09:34:47.322Z"
   },
   {
    "duration": 435,
    "start_time": "2023-09-21T09:34:47.536Z"
   },
   {
    "duration": 0,
    "start_time": "2023-09-21T09:34:47.973Z"
   },
   {
    "duration": 0,
    "start_time": "2023-09-21T09:34:47.974Z"
   },
   {
    "duration": 0,
    "start_time": "2023-09-21T09:34:47.976Z"
   },
   {
    "duration": 0,
    "start_time": "2023-09-21T09:34:47.977Z"
   },
   {
    "duration": 0,
    "start_time": "2023-09-21T09:34:47.978Z"
   },
   {
    "duration": 0,
    "start_time": "2023-09-21T09:34:47.979Z"
   },
   {
    "duration": 0,
    "start_time": "2023-09-21T09:34:47.980Z"
   },
   {
    "duration": 0,
    "start_time": "2023-09-21T09:34:47.982Z"
   },
   {
    "duration": 0,
    "start_time": "2023-09-21T09:34:47.983Z"
   },
   {
    "duration": 0,
    "start_time": "2023-09-21T09:34:47.984Z"
   },
   {
    "duration": 0,
    "start_time": "2023-09-21T09:34:47.985Z"
   },
   {
    "duration": 0,
    "start_time": "2023-09-21T09:34:48.012Z"
   },
   {
    "duration": 0,
    "start_time": "2023-09-21T09:34:48.013Z"
   },
   {
    "duration": 0,
    "start_time": "2023-09-21T09:34:48.015Z"
   },
   {
    "duration": 0,
    "start_time": "2023-09-21T09:34:48.016Z"
   },
   {
    "duration": 0,
    "start_time": "2023-09-21T09:34:48.017Z"
   },
   {
    "duration": 0,
    "start_time": "2023-09-21T09:34:48.018Z"
   },
   {
    "duration": 0,
    "start_time": "2023-09-21T09:34:48.019Z"
   },
   {
    "duration": 0,
    "start_time": "2023-09-21T09:34:48.020Z"
   },
   {
    "duration": 0,
    "start_time": "2023-09-21T09:34:48.021Z"
   },
   {
    "duration": 0,
    "start_time": "2023-09-21T09:34:48.022Z"
   },
   {
    "duration": 0,
    "start_time": "2023-09-21T09:34:48.023Z"
   },
   {
    "duration": 0,
    "start_time": "2023-09-21T09:34:48.024Z"
   },
   {
    "duration": 0,
    "start_time": "2023-09-21T09:34:48.025Z"
   },
   {
    "duration": 0,
    "start_time": "2023-09-21T09:34:48.026Z"
   },
   {
    "duration": 0,
    "start_time": "2023-09-21T09:34:48.027Z"
   },
   {
    "duration": 0,
    "start_time": "2023-09-21T09:34:48.029Z"
   },
   {
    "duration": 0,
    "start_time": "2023-09-21T09:34:48.030Z"
   },
   {
    "duration": 0,
    "start_time": "2023-09-21T09:34:48.031Z"
   },
   {
    "duration": 0,
    "start_time": "2023-09-21T09:34:48.033Z"
   },
   {
    "duration": 1,
    "start_time": "2023-09-21T09:34:48.034Z"
   },
   {
    "duration": 0,
    "start_time": "2023-09-21T09:34:48.036Z"
   },
   {
    "duration": 0,
    "start_time": "2023-09-21T09:34:48.037Z"
   },
   {
    "duration": 0,
    "start_time": "2023-09-21T09:34:48.038Z"
   },
   {
    "duration": 0,
    "start_time": "2023-09-21T09:34:48.040Z"
   },
   {
    "duration": 0,
    "start_time": "2023-09-21T09:34:48.041Z"
   },
   {
    "duration": 0,
    "start_time": "2023-09-21T09:34:48.042Z"
   },
   {
    "duration": 0,
    "start_time": "2023-09-21T09:34:48.044Z"
   },
   {
    "duration": 4,
    "start_time": "2023-09-21T09:34:59.603Z"
   },
   {
    "duration": 464,
    "start_time": "2023-09-21T09:34:59.609Z"
   },
   {
    "duration": 491,
    "start_time": "2023-09-21T09:35:00.076Z"
   },
   {
    "duration": 24,
    "start_time": "2023-09-21T09:35:00.569Z"
   },
   {
    "duration": 72,
    "start_time": "2023-09-21T09:35:00.617Z"
   },
   {
    "duration": 112,
    "start_time": "2023-09-21T09:35:00.691Z"
   },
   {
    "duration": 35,
    "start_time": "2023-09-21T09:35:00.806Z"
   },
   {
    "duration": 551,
    "start_time": "2023-09-21T09:35:00.845Z"
   },
   {
    "duration": 27,
    "start_time": "2023-09-21T09:35:01.398Z"
   },
   {
    "duration": 22,
    "start_time": "2023-09-21T09:35:01.432Z"
   },
   {
    "duration": 387,
    "start_time": "2023-09-21T09:35:01.459Z"
   },
   {
    "duration": 17,
    "start_time": "2023-09-21T09:35:01.848Z"
   },
   {
    "duration": 31,
    "start_time": "2023-09-21T09:35:01.867Z"
   },
   {
    "duration": 225,
    "start_time": "2023-09-21T09:35:01.900Z"
   },
   {
    "duration": 123,
    "start_time": "2023-09-21T09:35:02.127Z"
   },
   {
    "duration": 124,
    "start_time": "2023-09-21T09:35:02.252Z"
   },
   {
    "duration": 50,
    "start_time": "2023-09-21T09:35:02.378Z"
   },
   {
    "duration": 15,
    "start_time": "2023-09-21T09:35:02.436Z"
   },
   {
    "duration": 24,
    "start_time": "2023-09-21T09:35:02.453Z"
   },
   {
    "duration": 59,
    "start_time": "2023-09-21T09:35:02.479Z"
   },
   {
    "duration": 43,
    "start_time": "2023-09-21T09:35:02.541Z"
   },
   {
    "duration": 6,
    "start_time": "2023-09-21T09:35:02.587Z"
   },
   {
    "duration": 83,
    "start_time": "2023-09-21T09:35:02.596Z"
   },
   {
    "duration": 7,
    "start_time": "2023-09-21T09:35:02.682Z"
   },
   {
    "duration": 21,
    "start_time": "2023-09-21T09:35:02.692Z"
   },
   {
    "duration": 26,
    "start_time": "2023-09-21T09:35:02.722Z"
   },
   {
    "duration": 38,
    "start_time": "2023-09-21T09:35:02.750Z"
   },
   {
    "duration": 112,
    "start_time": "2023-09-21T09:35:02.792Z"
   },
   {
    "duration": 36,
    "start_time": "2023-09-21T09:35:02.909Z"
   },
   {
    "duration": 17,
    "start_time": "2023-09-21T09:35:02.949Z"
   },
   {
    "duration": 22,
    "start_time": "2023-09-21T09:35:02.968Z"
   },
   {
    "duration": 14,
    "start_time": "2023-09-21T09:35:02.993Z"
   },
   {
    "duration": 32,
    "start_time": "2023-09-21T09:35:03.009Z"
   },
   {
    "duration": 7,
    "start_time": "2023-09-21T09:35:03.042Z"
   },
   {
    "duration": 7,
    "start_time": "2023-09-21T09:35:03.051Z"
   },
   {
    "duration": 11,
    "start_time": "2023-09-21T09:35:03.059Z"
   },
   {
    "duration": 14,
    "start_time": "2023-09-21T09:35:03.072Z"
   },
   {
    "duration": 20,
    "start_time": "2023-09-21T09:35:03.088Z"
   },
   {
    "duration": 99,
    "start_time": "2023-09-21T09:35:03.116Z"
   },
   {
    "duration": 11,
    "start_time": "2023-09-21T09:35:03.225Z"
   },
   {
    "duration": 55,
    "start_time": "2023-09-21T09:35:03.238Z"
   },
   {
    "duration": 36,
    "start_time": "2023-09-21T09:35:03.294Z"
   },
   {
    "duration": 249,
    "start_time": "2023-09-21T09:35:03.332Z"
   },
   {
    "duration": 1816,
    "start_time": "2023-09-21T09:35:03.583Z"
   },
   {
    "duration": 92,
    "start_time": "2023-09-21T09:35:19.546Z"
   },
   {
    "duration": 5,
    "start_time": "2023-09-21T09:35:54.338Z"
   },
   {
    "duration": 5,
    "start_time": "2023-09-21T09:36:01.095Z"
   },
   {
    "duration": 459,
    "start_time": "2023-09-21T09:36:01.106Z"
   },
   {
    "duration": 461,
    "start_time": "2023-09-21T09:36:01.568Z"
   },
   {
    "duration": 31,
    "start_time": "2023-09-21T09:36:02.031Z"
   },
   {
    "duration": 110,
    "start_time": "2023-09-21T09:36:02.064Z"
   },
   {
    "duration": 113,
    "start_time": "2023-09-21T09:36:02.177Z"
   },
   {
    "duration": 31,
    "start_time": "2023-09-21T09:36:02.293Z"
   },
   {
    "duration": 701,
    "start_time": "2023-09-21T09:36:02.330Z"
   },
   {
    "duration": 26,
    "start_time": "2023-09-21T09:36:03.035Z"
   },
   {
    "duration": 45,
    "start_time": "2023-09-21T09:36:03.063Z"
   },
   {
    "duration": 333,
    "start_time": "2023-09-21T09:36:03.110Z"
   },
   {
    "duration": 14,
    "start_time": "2023-09-21T09:36:03.445Z"
   },
   {
    "duration": 5,
    "start_time": "2023-09-21T09:36:03.461Z"
   },
   {
    "duration": 22,
    "start_time": "2023-09-21T09:36:03.467Z"
   },
   {
    "duration": 7,
    "start_time": "2023-09-21T09:36:03.492Z"
   },
   {
    "duration": 34,
    "start_time": "2023-09-21T09:36:03.500Z"
   },
   {
    "duration": 6,
    "start_time": "2023-09-21T09:36:03.539Z"
   },
   {
    "duration": 7,
    "start_time": "2023-09-21T09:36:03.546Z"
   },
   {
    "duration": 15,
    "start_time": "2023-09-21T09:36:03.555Z"
   },
   {
    "duration": 27,
    "start_time": "2023-09-21T09:36:03.571Z"
   },
   {
    "duration": 25,
    "start_time": "2023-09-21T09:36:03.599Z"
   },
   {
    "duration": 11,
    "start_time": "2023-09-21T09:36:03.630Z"
   },
   {
    "duration": 86,
    "start_time": "2023-09-21T09:36:03.643Z"
   },
   {
    "duration": 7,
    "start_time": "2023-09-21T09:36:03.731Z"
   },
   {
    "duration": 17,
    "start_time": "2023-09-21T09:36:03.739Z"
   },
   {
    "duration": 19,
    "start_time": "2023-09-21T09:36:03.758Z"
   },
   {
    "duration": 24,
    "start_time": "2023-09-21T09:36:03.778Z"
   },
   {
    "duration": 6,
    "start_time": "2023-09-21T09:36:03.804Z"
   },
   {
    "duration": 10,
    "start_time": "2023-09-21T09:36:03.819Z"
   },
   {
    "duration": 21,
    "start_time": "2023-09-21T09:36:03.831Z"
   },
   {
    "duration": 28,
    "start_time": "2023-09-21T09:36:03.854Z"
   },
   {
    "duration": 33,
    "start_time": "2023-09-21T09:36:03.884Z"
   },
   {
    "duration": 25,
    "start_time": "2023-09-21T09:36:03.919Z"
   },
   {
    "duration": 26,
    "start_time": "2023-09-21T09:36:03.945Z"
   },
   {
    "duration": 22,
    "start_time": "2023-09-21T09:36:03.973Z"
   },
   {
    "duration": 38,
    "start_time": "2023-09-21T09:36:03.997Z"
   },
   {
    "duration": 7,
    "start_time": "2023-09-21T09:36:04.039Z"
   },
   {
    "duration": 13,
    "start_time": "2023-09-21T09:36:04.048Z"
   },
   {
    "duration": 111,
    "start_time": "2023-09-21T09:36:04.063Z"
   },
   {
    "duration": 8,
    "start_time": "2023-09-21T09:36:04.176Z"
   },
   {
    "duration": 55,
    "start_time": "2023-09-21T09:36:04.187Z"
   },
   {
    "duration": 9,
    "start_time": "2023-09-21T09:36:04.247Z"
   },
   {
    "duration": 289,
    "start_time": "2023-09-21T09:36:04.258Z"
   },
   {
    "duration": 1646,
    "start_time": "2023-09-21T09:36:04.549Z"
   },
   {
    "duration": 25,
    "start_time": "2023-09-21T09:36:06.198Z"
   },
   {
    "duration": 69,
    "start_time": "2023-09-21T09:36:13.081Z"
   },
   {
    "duration": 1782,
    "start_time": "2023-09-21T09:36:15.988Z"
   },
   {
    "duration": 37,
    "start_time": "2023-09-21T09:37:22.041Z"
   },
   {
    "duration": 5,
    "start_time": "2023-09-21T09:37:28.183Z"
   },
   {
    "duration": 440,
    "start_time": "2023-09-21T09:37:28.196Z"
   },
   {
    "duration": 456,
    "start_time": "2023-09-21T09:37:28.643Z"
   },
   {
    "duration": 33,
    "start_time": "2023-09-21T09:37:29.101Z"
   },
   {
    "duration": 70,
    "start_time": "2023-09-21T09:37:29.143Z"
   },
   {
    "duration": 117,
    "start_time": "2023-09-21T09:37:29.221Z"
   },
   {
    "duration": 17,
    "start_time": "2023-09-21T09:37:29.342Z"
   },
   {
    "duration": 531,
    "start_time": "2023-09-21T09:37:29.362Z"
   },
   {
    "duration": 33,
    "start_time": "2023-09-21T09:37:29.894Z"
   },
   {
    "duration": 11,
    "start_time": "2023-09-21T09:37:29.929Z"
   },
   {
    "duration": 321,
    "start_time": "2023-09-21T09:37:29.943Z"
   },
   {
    "duration": 15,
    "start_time": "2023-09-21T09:37:30.265Z"
   },
   {
    "duration": 57,
    "start_time": "2023-09-21T09:37:30.283Z"
   },
   {
    "duration": 40,
    "start_time": "2023-09-21T09:37:30.342Z"
   },
   {
    "duration": 20,
    "start_time": "2023-09-21T09:37:30.385Z"
   },
   {
    "duration": 39,
    "start_time": "2023-09-21T09:37:30.407Z"
   },
   {
    "duration": 50,
    "start_time": "2023-09-21T09:37:30.448Z"
   },
   {
    "duration": 38,
    "start_time": "2023-09-21T09:37:30.499Z"
   },
   {
    "duration": 39,
    "start_time": "2023-09-21T09:37:30.539Z"
   },
   {
    "duration": 66,
    "start_time": "2023-09-21T09:37:30.580Z"
   },
   {
    "duration": 9,
    "start_time": "2023-09-21T09:37:30.648Z"
   },
   {
    "duration": 22,
    "start_time": "2023-09-21T09:37:30.659Z"
   },
   {
    "duration": 70,
    "start_time": "2023-09-21T09:37:30.683Z"
   },
   {
    "duration": 6,
    "start_time": "2023-09-21T09:37:30.756Z"
   },
   {
    "duration": 35,
    "start_time": "2023-09-21T09:37:30.764Z"
   },
   {
    "duration": 42,
    "start_time": "2023-09-21T09:37:30.801Z"
   },
   {
    "duration": 57,
    "start_time": "2023-09-21T09:37:30.844Z"
   },
   {
    "duration": 39,
    "start_time": "2023-09-21T09:37:30.903Z"
   },
   {
    "duration": 32,
    "start_time": "2023-09-21T09:37:30.945Z"
   },
   {
    "duration": 64,
    "start_time": "2023-09-21T09:37:30.980Z"
   },
   {
    "duration": 60,
    "start_time": "2023-09-21T09:37:31.047Z"
   },
   {
    "duration": 92,
    "start_time": "2023-09-21T09:37:31.109Z"
   },
   {
    "duration": 34,
    "start_time": "2023-09-21T09:37:31.203Z"
   },
   {
    "duration": 47,
    "start_time": "2023-09-21T09:37:31.242Z"
   },
   {
    "duration": 48,
    "start_time": "2023-09-21T09:37:31.292Z"
   },
   {
    "duration": 50,
    "start_time": "2023-09-21T09:37:31.343Z"
   },
   {
    "duration": 69,
    "start_time": "2023-09-21T09:37:31.396Z"
   },
   {
    "duration": 80,
    "start_time": "2023-09-21T09:37:31.467Z"
   },
   {
    "duration": 180,
    "start_time": "2023-09-21T09:37:31.550Z"
   },
   {
    "duration": 7,
    "start_time": "2023-09-21T09:37:31.732Z"
   },
   {
    "duration": 95,
    "start_time": "2023-09-21T09:37:31.742Z"
   },
   {
    "duration": 46,
    "start_time": "2023-09-21T09:37:31.841Z"
   },
   {
    "duration": 312,
    "start_time": "2023-09-21T09:37:31.889Z"
   },
   {
    "duration": 1894,
    "start_time": "2023-09-21T09:37:32.209Z"
   },
   {
    "duration": 95,
    "start_time": "2023-09-21T09:38:31.555Z"
   },
   {
    "duration": 57,
    "start_time": "2023-09-21T09:39:04.881Z"
   },
   {
    "duration": 32,
    "start_time": "2023-09-21T09:39:14.036Z"
   },
   {
    "duration": 48,
    "start_time": "2023-09-21T09:39:44.492Z"
   },
   {
    "duration": 44,
    "start_time": "2023-09-21T09:40:10.648Z"
   },
   {
    "duration": 62,
    "start_time": "2023-09-21T09:40:23.175Z"
   },
   {
    "duration": 1812,
    "start_time": "2023-09-21T09:40:25.692Z"
   },
   {
    "duration": 30,
    "start_time": "2023-09-21T09:40:38.584Z"
   },
   {
    "duration": 58,
    "start_time": "2023-09-21T09:40:52.365Z"
   },
   {
    "duration": 8,
    "start_time": "2023-09-21T09:41:58.447Z"
   },
   {
    "duration": 448,
    "start_time": "2023-09-21T09:41:58.457Z"
   },
   {
    "duration": 527,
    "start_time": "2023-09-21T09:41:58.907Z"
   },
   {
    "duration": 29,
    "start_time": "2023-09-21T09:41:59.441Z"
   },
   {
    "duration": 84,
    "start_time": "2023-09-21T09:41:59.472Z"
   },
   {
    "duration": 112,
    "start_time": "2023-09-21T09:41:59.558Z"
   },
   {
    "duration": 14,
    "start_time": "2023-09-21T09:41:59.671Z"
   },
   {
    "duration": 617,
    "start_time": "2023-09-21T09:41:59.687Z"
   },
   {
    "duration": 35,
    "start_time": "2023-09-21T09:42:00.307Z"
   },
   {
    "duration": 26,
    "start_time": "2023-09-21T09:42:00.348Z"
   },
   {
    "duration": 475,
    "start_time": "2023-09-21T09:42:00.376Z"
   },
   {
    "duration": 15,
    "start_time": "2023-09-21T09:42:00.853Z"
   },
   {
    "duration": 53,
    "start_time": "2023-09-21T09:42:00.869Z"
   },
   {
    "duration": 62,
    "start_time": "2023-09-21T09:42:00.930Z"
   },
   {
    "duration": 76,
    "start_time": "2023-09-21T09:42:00.994Z"
   },
   {
    "duration": 67,
    "start_time": "2023-09-21T09:42:01.073Z"
   },
   {
    "duration": 48,
    "start_time": "2023-09-21T09:42:01.144Z"
   },
   {
    "duration": 63,
    "start_time": "2023-09-21T09:42:01.194Z"
   },
   {
    "duration": 47,
    "start_time": "2023-09-21T09:42:01.259Z"
   },
   {
    "duration": 118,
    "start_time": "2023-09-21T09:42:01.307Z"
   },
   {
    "duration": 129,
    "start_time": "2023-09-21T09:42:01.427Z"
   },
   {
    "duration": 106,
    "start_time": "2023-09-21T09:42:01.558Z"
   },
   {
    "duration": 122,
    "start_time": "2023-09-21T09:42:01.667Z"
   },
   {
    "duration": 72,
    "start_time": "2023-09-21T09:42:01.794Z"
   },
   {
    "duration": 421,
    "start_time": "2023-09-21T09:42:01.869Z"
   },
   {
    "duration": 108,
    "start_time": "2023-09-21T09:42:02.292Z"
   },
   {
    "duration": 71,
    "start_time": "2023-09-21T09:42:02.402Z"
   },
   {
    "duration": 32,
    "start_time": "2023-09-21T09:42:02.475Z"
   },
   {
    "duration": 40,
    "start_time": "2023-09-21T09:42:02.514Z"
   },
   {
    "duration": 35,
    "start_time": "2023-09-21T09:42:02.558Z"
   },
   {
    "duration": 68,
    "start_time": "2023-09-21T09:42:02.595Z"
   },
   {
    "duration": 29,
    "start_time": "2023-09-21T09:42:02.665Z"
   },
   {
    "duration": 69,
    "start_time": "2023-09-21T09:42:02.697Z"
   },
   {
    "duration": 188,
    "start_time": "2023-09-21T09:42:02.768Z"
   },
   {
    "duration": 121,
    "start_time": "2023-09-21T09:42:02.958Z"
   },
   {
    "duration": 26,
    "start_time": "2023-09-21T09:42:03.081Z"
   },
   {
    "duration": 42,
    "start_time": "2023-09-21T09:42:03.115Z"
   },
   {
    "duration": 46,
    "start_time": "2023-09-21T09:42:03.161Z"
   },
   {
    "duration": 124,
    "start_time": "2023-09-21T09:42:03.210Z"
   },
   {
    "duration": 12,
    "start_time": "2023-09-21T09:42:03.336Z"
   },
   {
    "duration": 53,
    "start_time": "2023-09-21T09:42:03.350Z"
   },
   {
    "duration": 40,
    "start_time": "2023-09-21T09:42:03.404Z"
   },
   {
    "duration": 391,
    "start_time": "2023-09-21T09:42:03.449Z"
   },
   {
    "duration": 1979,
    "start_time": "2023-09-21T09:42:03.842Z"
   },
   {
    "duration": 53,
    "start_time": "2023-09-21T09:42:05.823Z"
   },
   {
    "duration": 70,
    "start_time": "2023-09-21T09:42:05.878Z"
   },
   {
    "duration": 9,
    "start_time": "2023-09-21T09:59:28.751Z"
   },
   {
    "duration": 12,
    "start_time": "2023-09-21T09:59:47.743Z"
   },
   {
    "duration": 13,
    "start_time": "2023-09-21T09:59:50.915Z"
   },
   {
    "duration": 7,
    "start_time": "2023-09-21T10:00:20.645Z"
   },
   {
    "duration": 5,
    "start_time": "2023-09-21T10:02:29.528Z"
   },
   {
    "duration": 397,
    "start_time": "2023-09-21T10:02:29.543Z"
   },
   {
    "duration": 435,
    "start_time": "2023-09-21T10:02:29.943Z"
   },
   {
    "duration": 34,
    "start_time": "2023-09-21T10:02:30.379Z"
   },
   {
    "duration": 71,
    "start_time": "2023-09-21T10:02:30.425Z"
   },
   {
    "duration": 105,
    "start_time": "2023-09-21T10:02:30.498Z"
   },
   {
    "duration": 21,
    "start_time": "2023-09-21T10:02:30.604Z"
   },
   {
    "duration": 528,
    "start_time": "2023-09-21T10:02:30.627Z"
   },
   {
    "duration": 19,
    "start_time": "2023-09-21T10:02:31.156Z"
   },
   {
    "duration": 46,
    "start_time": "2023-09-21T10:02:31.177Z"
   },
   {
    "duration": 355,
    "start_time": "2023-09-21T10:02:31.225Z"
   },
   {
    "duration": 16,
    "start_time": "2023-09-21T10:02:31.582Z"
   },
   {
    "duration": 30,
    "start_time": "2023-09-21T10:02:31.610Z"
   },
   {
    "duration": 31,
    "start_time": "2023-09-21T10:02:31.642Z"
   },
   {
    "duration": 40,
    "start_time": "2023-09-21T10:02:31.677Z"
   },
   {
    "duration": 53,
    "start_time": "2023-09-21T10:02:31.719Z"
   },
   {
    "duration": 52,
    "start_time": "2023-09-21T10:02:31.774Z"
   },
   {
    "duration": 45,
    "start_time": "2023-09-21T10:02:31.830Z"
   },
   {
    "duration": 30,
    "start_time": "2023-09-21T10:02:31.876Z"
   },
   {
    "duration": 61,
    "start_time": "2023-09-21T10:02:31.908Z"
   },
   {
    "duration": 34,
    "start_time": "2023-09-21T10:02:31.971Z"
   },
   {
    "duration": 37,
    "start_time": "2023-09-21T10:02:32.007Z"
   },
   {
    "duration": 91,
    "start_time": "2023-09-21T10:02:32.046Z"
   },
   {
    "duration": 6,
    "start_time": "2023-09-21T10:02:32.139Z"
   },
   {
    "duration": 38,
    "start_time": "2023-09-21T10:02:32.146Z"
   },
   {
    "duration": 50,
    "start_time": "2023-09-21T10:02:32.186Z"
   },
   {
    "duration": 33,
    "start_time": "2023-09-21T10:02:32.239Z"
   },
   {
    "duration": 5,
    "start_time": "2023-09-21T10:02:32.274Z"
   },
   {
    "duration": 16,
    "start_time": "2023-09-21T10:02:32.281Z"
   },
   {
    "duration": 25,
    "start_time": "2023-09-21T10:02:32.299Z"
   },
   {
    "duration": 28,
    "start_time": "2023-09-21T10:02:32.331Z"
   },
   {
    "duration": 7,
    "start_time": "2023-09-21T10:02:32.361Z"
   },
   {
    "duration": 18,
    "start_time": "2023-09-21T10:02:32.370Z"
   },
   {
    "duration": 50,
    "start_time": "2023-09-21T10:02:32.390Z"
   },
   {
    "duration": 13,
    "start_time": "2023-09-21T10:02:32.446Z"
   },
   {
    "duration": 11,
    "start_time": "2023-09-21T10:02:32.461Z"
   },
   {
    "duration": 9,
    "start_time": "2023-09-21T10:02:32.474Z"
   },
   {
    "duration": 7,
    "start_time": "2023-09-21T10:02:32.486Z"
   },
   {
    "duration": 102,
    "start_time": "2023-09-21T10:02:32.495Z"
   },
   {
    "duration": 15,
    "start_time": "2023-09-21T10:02:32.615Z"
   },
   {
    "duration": 24,
    "start_time": "2023-09-21T10:02:32.633Z"
   },
   {
    "duration": 13,
    "start_time": "2023-09-21T10:02:32.664Z"
   },
   {
    "duration": 308,
    "start_time": "2023-09-21T10:02:32.679Z"
   },
   {
    "duration": 2193,
    "start_time": "2023-09-21T10:02:32.990Z"
   },
   {
    "duration": 64,
    "start_time": "2023-09-21T10:02:35.185Z"
   },
   {
    "duration": 45,
    "start_time": "2023-09-21T10:02:35.251Z"
   },
   {
    "duration": 1629,
    "start_time": "2023-09-21T10:02:35.298Z"
   },
   {
    "duration": 9,
    "start_time": "2023-09-21T10:02:36.934Z"
   },
   {
    "duration": 23,
    "start_time": "2023-09-21T10:02:36.946Z"
   },
   {
    "duration": 11,
    "start_time": "2023-09-21T10:02:36.971Z"
   },
   {
    "duration": 420,
    "start_time": "2023-09-21T10:02:42.855Z"
   },
   {
    "duration": 410,
    "start_time": "2023-09-21T10:02:49.627Z"
   },
   {
    "duration": 8,
    "start_time": "2023-09-21T10:03:02.734Z"
   },
   {
    "duration": 239,
    "start_time": "2023-09-21T10:03:05.128Z"
   },
   {
    "duration": 1098,
    "start_time": "2023-09-21T10:03:12.804Z"
   },
   {
    "duration": 1968,
    "start_time": "2023-09-21T10:05:17.200Z"
   },
   {
    "duration": 489,
    "start_time": "2023-09-21T10:05:19.171Z"
   },
   {
    "duration": 525,
    "start_time": "2023-09-21T10:05:19.670Z"
   },
   {
    "duration": 35,
    "start_time": "2023-09-21T10:05:20.197Z"
   },
   {
    "duration": 94,
    "start_time": "2023-09-21T10:05:20.236Z"
   },
   {
    "duration": 136,
    "start_time": "2023-09-21T10:05:20.332Z"
   },
   {
    "duration": 15,
    "start_time": "2023-09-21T10:05:20.470Z"
   },
   {
    "duration": 637,
    "start_time": "2023-09-21T10:05:20.487Z"
   },
   {
    "duration": 28,
    "start_time": "2023-09-21T10:05:21.134Z"
   },
   {
    "duration": 24,
    "start_time": "2023-09-21T10:05:21.167Z"
   },
   {
    "duration": 439,
    "start_time": "2023-09-21T10:05:21.193Z"
   },
   {
    "duration": 22,
    "start_time": "2023-09-21T10:05:21.634Z"
   },
   {
    "duration": 43,
    "start_time": "2023-09-21T10:05:21.658Z"
   },
   {
    "duration": 31,
    "start_time": "2023-09-21T10:05:21.705Z"
   },
   {
    "duration": 9,
    "start_time": "2023-09-21T10:05:21.738Z"
   },
   {
    "duration": 48,
    "start_time": "2023-09-21T10:05:21.749Z"
   },
   {
    "duration": 24,
    "start_time": "2023-09-21T10:05:21.798Z"
   },
   {
    "duration": 40,
    "start_time": "2023-09-21T10:05:21.824Z"
   },
   {
    "duration": 20,
    "start_time": "2023-09-21T10:05:21.866Z"
   },
   {
    "duration": 56,
    "start_time": "2023-09-21T10:05:21.888Z"
   },
   {
    "duration": 15,
    "start_time": "2023-09-21T10:05:21.950Z"
   },
   {
    "duration": 25,
    "start_time": "2023-09-21T10:05:21.967Z"
   },
   {
    "duration": 95,
    "start_time": "2023-09-21T10:05:21.994Z"
   },
   {
    "duration": 5,
    "start_time": "2023-09-21T10:05:22.091Z"
   },
   {
    "duration": 54,
    "start_time": "2023-09-21T10:05:22.098Z"
   },
   {
    "duration": 27,
    "start_time": "2023-09-21T10:05:22.158Z"
   },
   {
    "duration": 53,
    "start_time": "2023-09-21T10:05:22.187Z"
   },
   {
    "duration": 15,
    "start_time": "2023-09-21T10:05:22.241Z"
   },
   {
    "duration": 34,
    "start_time": "2023-09-21T10:05:22.259Z"
   },
   {
    "duration": 49,
    "start_time": "2023-09-21T10:05:22.295Z"
   },
   {
    "duration": 27,
    "start_time": "2023-09-21T10:05:22.346Z"
   },
   {
    "duration": 23,
    "start_time": "2023-09-21T10:05:22.375Z"
   },
   {
    "duration": 49,
    "start_time": "2023-09-21T10:05:22.400Z"
   },
   {
    "duration": 20,
    "start_time": "2023-09-21T10:05:22.451Z"
   },
   {
    "duration": 15,
    "start_time": "2023-09-21T10:05:22.473Z"
   },
   {
    "duration": 43,
    "start_time": "2023-09-21T10:05:22.490Z"
   },
   {
    "duration": 35,
    "start_time": "2023-09-21T10:05:22.536Z"
   },
   {
    "duration": 28,
    "start_time": "2023-09-21T10:05:22.573Z"
   },
   {
    "duration": 158,
    "start_time": "2023-09-21T10:05:22.604Z"
   },
   {
    "duration": 8,
    "start_time": "2023-09-21T10:05:22.764Z"
   },
   {
    "duration": 45,
    "start_time": "2023-09-21T10:05:22.778Z"
   },
   {
    "duration": 39,
    "start_time": "2023-09-21T10:05:22.825Z"
   },
   {
    "duration": 362,
    "start_time": "2023-09-21T10:05:22.866Z"
   },
   {
    "duration": 1866,
    "start_time": "2023-09-21T10:05:23.231Z"
   },
   {
    "duration": 91,
    "start_time": "2023-09-21T10:05:25.099Z"
   },
   {
    "duration": 61,
    "start_time": "2023-09-21T10:05:25.192Z"
   },
   {
    "duration": 1995,
    "start_time": "2023-09-21T10:05:25.263Z"
   },
   {
    "duration": 15,
    "start_time": "2023-09-21T10:05:27.259Z"
   },
   {
    "duration": 24,
    "start_time": "2023-09-21T10:05:27.275Z"
   },
   {
    "duration": 18,
    "start_time": "2023-09-21T10:05:27.301Z"
   },
   {
    "duration": 240,
    "start_time": "2023-09-21T10:05:27.327Z"
   },
   {
    "duration": 453,
    "start_time": "2023-09-21T10:05:27.569Z"
   },
   {
    "duration": 9,
    "start_time": "2023-09-21T10:05:28.024Z"
   },
   {
    "duration": 252,
    "start_time": "2023-09-21T10:05:28.035Z"
   },
   {
    "duration": 1188,
    "start_time": "2023-09-21T10:05:28.289Z"
   },
   {
    "duration": 3,
    "start_time": "2023-09-21T10:05:29.479Z"
   },
   {
    "duration": 7,
    "start_time": "2023-09-21T10:05:29.484Z"
   },
   {
    "duration": 183,
    "start_time": "2023-09-21T10:05:29.493Z"
   },
   {
    "duration": 0,
    "start_time": "2023-09-21T10:05:29.678Z"
   },
   {
    "duration": 0,
    "start_time": "2023-09-21T10:05:29.679Z"
   },
   {
    "duration": 0,
    "start_time": "2023-09-21T10:05:29.680Z"
   },
   {
    "duration": 0,
    "start_time": "2023-09-21T10:05:29.681Z"
   },
   {
    "duration": 0,
    "start_time": "2023-09-21T10:05:29.682Z"
   },
   {
    "duration": 0,
    "start_time": "2023-09-21T10:05:29.684Z"
   },
   {
    "duration": 0,
    "start_time": "2023-09-21T10:05:29.685Z"
   },
   {
    "duration": 0,
    "start_time": "2023-09-21T10:05:29.686Z"
   },
   {
    "duration": 0,
    "start_time": "2023-09-21T10:05:29.687Z"
   },
   {
    "duration": 1,
    "start_time": "2023-09-21T10:05:29.688Z"
   },
   {
    "duration": 0,
    "start_time": "2023-09-21T10:05:29.690Z"
   },
   {
    "duration": 0,
    "start_time": "2023-09-21T10:05:29.691Z"
   },
   {
    "duration": 0,
    "start_time": "2023-09-21T10:05:29.709Z"
   },
   {
    "duration": 0,
    "start_time": "2023-09-21T10:05:29.710Z"
   },
   {
    "duration": 0,
    "start_time": "2023-09-21T10:05:29.719Z"
   },
   {
    "duration": 0,
    "start_time": "2023-09-21T10:05:29.720Z"
   },
   {
    "duration": 0,
    "start_time": "2023-09-21T10:05:29.722Z"
   },
   {
    "duration": 0,
    "start_time": "2023-09-21T10:05:29.723Z"
   },
   {
    "duration": 0,
    "start_time": "2023-09-21T10:05:29.727Z"
   },
   {
    "duration": 0,
    "start_time": "2023-09-21T10:05:29.728Z"
   },
   {
    "duration": 0,
    "start_time": "2023-09-21T10:05:29.728Z"
   },
   {
    "duration": 0,
    "start_time": "2023-09-21T10:05:29.729Z"
   },
   {
    "duration": 0,
    "start_time": "2023-09-21T10:05:29.732Z"
   },
   {
    "duration": 0,
    "start_time": "2023-09-21T10:05:29.733Z"
   },
   {
    "duration": 0,
    "start_time": "2023-09-21T10:05:29.734Z"
   },
   {
    "duration": 0,
    "start_time": "2023-09-21T10:05:29.735Z"
   },
   {
    "duration": 0,
    "start_time": "2023-09-21T10:05:29.739Z"
   },
   {
    "duration": 0,
    "start_time": "2023-09-21T10:05:29.744Z"
   },
   {
    "duration": 0,
    "start_time": "2023-09-21T10:05:29.746Z"
   },
   {
    "duration": 0,
    "start_time": "2023-09-21T10:05:29.747Z"
   },
   {
    "duration": 0,
    "start_time": "2023-09-21T10:05:29.748Z"
   },
   {
    "duration": 0,
    "start_time": "2023-09-21T10:05:29.752Z"
   },
   {
    "duration": 10,
    "start_time": "2023-09-21T10:06:13.576Z"
   },
   {
    "duration": 16,
    "start_time": "2023-09-21T10:10:09.903Z"
   },
   {
    "duration": 15,
    "start_time": "2023-09-21T10:10:26.053Z"
   },
   {
    "duration": 5,
    "start_time": "2023-09-21T10:10:36.003Z"
   },
   {
    "duration": 13,
    "start_time": "2023-09-21T10:10:47.538Z"
   },
   {
    "duration": 6,
    "start_time": "2023-09-21T10:10:51.796Z"
   },
   {
    "duration": 1951,
    "start_time": "2023-09-21T10:11:10.710Z"
   },
   {
    "duration": 517,
    "start_time": "2023-09-21T10:11:12.664Z"
   },
   {
    "duration": 575,
    "start_time": "2023-09-21T10:11:13.184Z"
   },
   {
    "duration": 25,
    "start_time": "2023-09-21T10:11:13.761Z"
   },
   {
    "duration": 158,
    "start_time": "2023-09-21T10:11:13.791Z"
   },
   {
    "duration": 272,
    "start_time": "2023-09-21T10:11:13.952Z"
   },
   {
    "duration": 38,
    "start_time": "2023-09-21T10:11:14.226Z"
   },
   {
    "duration": 1589,
    "start_time": "2023-09-21T10:11:14.267Z"
   },
   {
    "duration": 70,
    "start_time": "2023-09-21T10:11:15.858Z"
   },
   {
    "duration": 7,
    "start_time": "2023-09-21T10:11:15.930Z"
   },
   {
    "duration": 779,
    "start_time": "2023-09-21T10:11:15.941Z"
   },
   {
    "duration": 28,
    "start_time": "2023-09-21T10:11:16.726Z"
   },
   {
    "duration": 17,
    "start_time": "2023-09-21T10:11:16.756Z"
   },
   {
    "duration": 52,
    "start_time": "2023-09-21T10:11:16.778Z"
   },
   {
    "duration": 36,
    "start_time": "2023-09-21T10:11:16.836Z"
   },
   {
    "duration": 44,
    "start_time": "2023-09-21T10:11:16.874Z"
   },
   {
    "duration": 49,
    "start_time": "2023-09-21T10:11:16.922Z"
   },
   {
    "duration": 51,
    "start_time": "2023-09-21T10:11:16.974Z"
   },
   {
    "duration": 37,
    "start_time": "2023-09-21T10:11:17.030Z"
   },
   {
    "duration": 53,
    "start_time": "2023-09-21T10:11:17.070Z"
   },
   {
    "duration": 28,
    "start_time": "2023-09-21T10:11:17.126Z"
   },
   {
    "duration": 40,
    "start_time": "2023-09-21T10:11:17.157Z"
   },
   {
    "duration": 78,
    "start_time": "2023-09-21T10:11:17.199Z"
   },
   {
    "duration": 6,
    "start_time": "2023-09-21T10:11:17.279Z"
   },
   {
    "duration": 20,
    "start_time": "2023-09-21T10:11:17.287Z"
   },
   {
    "duration": 12,
    "start_time": "2023-09-21T10:11:17.309Z"
   },
   {
    "duration": 48,
    "start_time": "2023-09-21T10:11:17.323Z"
   },
   {
    "duration": 5,
    "start_time": "2023-09-21T10:11:17.373Z"
   },
   {
    "duration": 26,
    "start_time": "2023-09-21T10:11:17.380Z"
   },
   {
    "duration": 17,
    "start_time": "2023-09-21T10:11:17.408Z"
   },
   {
    "duration": 39,
    "start_time": "2023-09-21T10:11:17.428Z"
   },
   {
    "duration": 11,
    "start_time": "2023-09-21T10:11:17.469Z"
   },
   {
    "duration": 64,
    "start_time": "2023-09-21T10:11:17.482Z"
   },
   {
    "duration": 16,
    "start_time": "2023-09-21T10:11:17.549Z"
   },
   {
    "duration": 17,
    "start_time": "2023-09-21T10:11:17.568Z"
   },
   {
    "duration": 36,
    "start_time": "2023-09-21T10:11:17.588Z"
   },
   {
    "duration": 29,
    "start_time": "2023-09-21T10:11:17.626Z"
   },
   {
    "duration": 35,
    "start_time": "2023-09-21T10:11:17.657Z"
   },
   {
    "duration": 123,
    "start_time": "2023-09-21T10:11:17.694Z"
   },
   {
    "duration": 7,
    "start_time": "2023-09-21T10:11:17.819Z"
   },
   {
    "duration": 17,
    "start_time": "2023-09-21T10:11:17.833Z"
   },
   {
    "duration": 21,
    "start_time": "2023-09-21T10:11:17.852Z"
   },
   {
    "duration": 316,
    "start_time": "2023-09-21T10:11:17.879Z"
   },
   {
    "duration": 1944,
    "start_time": "2023-09-21T10:11:18.197Z"
   },
   {
    "duration": 52,
    "start_time": "2023-09-21T10:11:20.143Z"
   },
   {
    "duration": 75,
    "start_time": "2023-09-21T10:11:20.198Z"
   },
   {
    "duration": 2012,
    "start_time": "2023-09-21T10:11:20.275Z"
   },
   {
    "duration": 6,
    "start_time": "2023-09-21T10:11:22.290Z"
   },
   {
    "duration": 39,
    "start_time": "2023-09-21T10:11:22.298Z"
   },
   {
    "duration": 14,
    "start_time": "2023-09-21T10:11:22.338Z"
   },
   {
    "duration": 269,
    "start_time": "2023-09-21T10:11:22.355Z"
   },
   {
    "duration": 611,
    "start_time": "2023-09-21T10:11:22.628Z"
   },
   {
    "duration": 22,
    "start_time": "2023-09-21T10:11:23.243Z"
   },
   {
    "duration": 264,
    "start_time": "2023-09-21T10:11:23.271Z"
   },
   {
    "duration": 1158,
    "start_time": "2023-09-21T10:11:23.537Z"
   },
   {
    "duration": 4,
    "start_time": "2023-09-21T10:11:24.698Z"
   },
   {
    "duration": 39,
    "start_time": "2023-09-21T10:11:24.709Z"
   },
   {
    "duration": 15,
    "start_time": "2023-09-21T10:11:24.750Z"
   },
   {
    "duration": 6,
    "start_time": "2023-09-21T10:11:24.771Z"
   },
   {
    "duration": 12,
    "start_time": "2023-09-21T10:11:24.779Z"
   },
   {
    "duration": 24,
    "start_time": "2023-09-21T10:11:24.793Z"
   },
   {
    "duration": 13,
    "start_time": "2023-09-21T10:11:24.829Z"
   },
   {
    "duration": 8,
    "start_time": "2023-09-21T10:11:24.844Z"
   },
   {
    "duration": 35,
    "start_time": "2023-09-21T10:11:24.854Z"
   },
   {
    "duration": 80,
    "start_time": "2023-09-21T10:11:24.891Z"
   },
   {
    "duration": 5,
    "start_time": "2023-09-21T10:11:24.973Z"
   },
   {
    "duration": 18,
    "start_time": "2023-09-21T10:11:24.981Z"
   },
   {
    "duration": 24,
    "start_time": "2023-09-21T10:11:25.001Z"
   },
   {
    "duration": 22,
    "start_time": "2023-09-21T10:11:25.027Z"
   },
   {
    "duration": 22,
    "start_time": "2023-09-21T10:11:25.058Z"
   },
   {
    "duration": 998,
    "start_time": "2023-09-21T10:11:25.083Z"
   },
   {
    "duration": 0,
    "start_time": "2023-09-21T10:11:26.084Z"
   },
   {
    "duration": 0,
    "start_time": "2023-09-21T10:11:26.086Z"
   },
   {
    "duration": 0,
    "start_time": "2023-09-21T10:11:26.087Z"
   },
   {
    "duration": 0,
    "start_time": "2023-09-21T10:11:26.089Z"
   },
   {
    "duration": 0,
    "start_time": "2023-09-21T10:11:26.110Z"
   },
   {
    "duration": 0,
    "start_time": "2023-09-21T10:11:26.119Z"
   },
   {
    "duration": 0,
    "start_time": "2023-09-21T10:11:26.121Z"
   },
   {
    "duration": 0,
    "start_time": "2023-09-21T10:11:26.124Z"
   },
   {
    "duration": 0,
    "start_time": "2023-09-21T10:11:26.124Z"
   },
   {
    "duration": 0,
    "start_time": "2023-09-21T10:11:26.125Z"
   },
   {
    "duration": 0,
    "start_time": "2023-09-21T10:11:26.126Z"
   },
   {
    "duration": 1,
    "start_time": "2023-09-21T10:11:26.126Z"
   },
   {
    "duration": 0,
    "start_time": "2023-09-21T10:11:26.127Z"
   },
   {
    "duration": 0,
    "start_time": "2023-09-21T10:11:26.129Z"
   },
   {
    "duration": 0,
    "start_time": "2023-09-21T10:11:26.133Z"
   },
   {
    "duration": 0,
    "start_time": "2023-09-21T10:11:26.134Z"
   },
   {
    "duration": 0,
    "start_time": "2023-09-21T10:11:26.136Z"
   },
   {
    "duration": 0,
    "start_time": "2023-09-21T10:11:26.137Z"
   },
   {
    "duration": 0,
    "start_time": "2023-09-21T10:11:26.139Z"
   },
   {
    "duration": 4,
    "start_time": "2023-09-21T10:13:08.705Z"
   },
   {
    "duration": 6,
    "start_time": "2023-09-21T10:13:08.726Z"
   },
   {
    "duration": 5380,
    "start_time": "2023-09-21T10:13:08.735Z"
   },
   {
    "duration": 5,
    "start_time": "2023-09-21T10:13:14.117Z"
   },
   {
    "duration": 666589,
    "start_time": "2023-09-21T10:13:14.131Z"
   },
   {
    "duration": 3,
    "start_time": "2023-09-21T10:24:20.724Z"
   },
   {
    "duration": 25,
    "start_time": "2023-09-21T10:24:20.732Z"
   },
   {
    "duration": 0,
    "start_time": "2023-09-21T10:24:20.760Z"
   },
   {
    "duration": 0,
    "start_time": "2023-09-21T10:24:20.761Z"
   },
   {
    "duration": 0,
    "start_time": "2023-09-21T10:24:20.762Z"
   },
   {
    "duration": 0,
    "start_time": "2023-09-21T10:24:20.764Z"
   },
   {
    "duration": 0,
    "start_time": "2023-09-21T10:24:20.766Z"
   },
   {
    "duration": 0,
    "start_time": "2023-09-21T10:24:20.767Z"
   },
   {
    "duration": 0,
    "start_time": "2023-09-21T10:24:20.769Z"
   },
   {
    "duration": 0,
    "start_time": "2023-09-21T10:24:20.770Z"
   },
   {
    "duration": 0,
    "start_time": "2023-09-21T10:24:20.771Z"
   },
   {
    "duration": 0,
    "start_time": "2023-09-21T10:24:20.772Z"
   },
   {
    "duration": 0,
    "start_time": "2023-09-21T10:24:20.773Z"
   },
   {
    "duration": 0,
    "start_time": "2023-09-21T10:24:20.774Z"
   },
   {
    "duration": 0,
    "start_time": "2023-09-21T10:24:20.775Z"
   },
   {
    "duration": 0,
    "start_time": "2023-09-21T10:24:20.777Z"
   },
   {
    "duration": 1,
    "start_time": "2023-09-21T10:24:20.777Z"
   },
   {
    "duration": 4413,
    "start_time": "2023-09-21T10:24:43.936Z"
   },
   {
    "duration": 12,
    "start_time": "2023-09-21T10:24:48.410Z"
   },
   {
    "duration": 4886,
    "start_time": "2023-09-21T10:24:48.438Z"
   },
   {
    "duration": 19,
    "start_time": "2023-09-21T10:24:53.326Z"
   },
   {
    "duration": 18,
    "start_time": "2023-09-21T10:24:53.413Z"
   },
   {
    "duration": 3444,
    "start_time": "2023-09-21T10:24:53.435Z"
   },
   {
    "duration": 4,
    "start_time": "2023-09-21T10:24:56.880Z"
   },
   {
    "duration": 666580,
    "start_time": "2023-09-21T10:24:56.886Z"
   },
   {
    "duration": 3,
    "start_time": "2023-09-21T10:36:03.468Z"
   },
   {
    "duration": 3292,
    "start_time": "2023-09-21T10:36:03.472Z"
   },
   {
    "duration": 76,
    "start_time": "2023-09-21T10:36:06.766Z"
   },
   {
    "duration": 4476,
    "start_time": "2023-09-21T10:36:06.844Z"
   },
   {
    "duration": 8,
    "start_time": "2023-09-21T10:36:11.331Z"
   },
   {
    "duration": 25,
    "start_time": "2023-09-21T10:36:11.347Z"
   },
   {
    "duration": 71,
    "start_time": "2023-09-21T10:36:11.374Z"
   },
   {
    "duration": 2466,
    "start_time": "2023-09-21T10:36:11.450Z"
   },
   {
    "duration": 27,
    "start_time": "2023-09-21T10:36:13.918Z"
   },
   {
    "duration": 7,
    "start_time": "2023-09-21T10:39:30.516Z"
   },
   {
    "duration": 13,
    "start_time": "2023-09-21T10:39:34.936Z"
   },
   {
    "duration": 3557,
    "start_time": "2023-09-21T10:41:21.375Z"
   },
   {
    "duration": 6,
    "start_time": "2023-09-21T10:41:27.645Z"
   },
   {
    "duration": 3141,
    "start_time": "2023-09-21T10:41:30.404Z"
   },
   {
    "duration": 3,
    "start_time": "2023-09-21T10:41:35.441Z"
   },
   {
    "duration": 4190,
    "start_time": "2023-09-21T10:41:43.451Z"
   },
   {
    "duration": 7,
    "start_time": "2023-09-21T10:41:49.807Z"
   },
   {
    "duration": 3170,
    "start_time": "2023-09-21T10:41:53.276Z"
   },
   {
    "duration": 9,
    "start_time": "2023-09-21T10:41:58.652Z"
   },
   {
    "duration": 6,
    "start_time": "2023-09-21T10:42:42.332Z"
   },
   {
    "duration": 1861,
    "start_time": "2023-09-21T10:43:05.734Z"
   },
   {
    "duration": 499,
    "start_time": "2023-09-21T10:43:07.598Z"
   },
   {
    "duration": 1211,
    "start_time": "2023-09-21T10:43:08.099Z"
   },
   {
    "duration": 47,
    "start_time": "2023-09-21T10:43:09.322Z"
   },
   {
    "duration": 196,
    "start_time": "2023-09-21T10:43:09.371Z"
   },
   {
    "duration": 254,
    "start_time": "2023-09-21T10:43:09.569Z"
   },
   {
    "duration": 28,
    "start_time": "2023-09-21T10:43:09.825Z"
   },
   {
    "duration": 1325,
    "start_time": "2023-09-21T10:43:09.856Z"
   },
   {
    "duration": 19,
    "start_time": "2023-09-21T10:43:11.183Z"
   },
   {
    "duration": 16,
    "start_time": "2023-09-21T10:43:11.205Z"
   },
   {
    "duration": 380,
    "start_time": "2023-09-21T10:43:11.228Z"
   },
   {
    "duration": 38,
    "start_time": "2023-09-21T10:43:11.612Z"
   },
   {
    "duration": 13,
    "start_time": "2023-09-21T10:43:11.654Z"
   },
   {
    "duration": 25,
    "start_time": "2023-09-21T10:43:11.669Z"
   },
   {
    "duration": 56,
    "start_time": "2023-09-21T10:43:11.697Z"
   },
   {
    "duration": 34,
    "start_time": "2023-09-21T10:43:11.755Z"
   },
   {
    "duration": 61,
    "start_time": "2023-09-21T10:43:11.791Z"
   },
   {
    "duration": 30,
    "start_time": "2023-09-21T10:43:11.854Z"
   },
   {
    "duration": 35,
    "start_time": "2023-09-21T10:43:11.886Z"
   },
   {
    "duration": 51,
    "start_time": "2023-09-21T10:43:11.923Z"
   },
   {
    "duration": 10,
    "start_time": "2023-09-21T10:43:11.976Z"
   },
   {
    "duration": 53,
    "start_time": "2023-09-21T10:43:11.988Z"
   },
   {
    "duration": 123,
    "start_time": "2023-09-21T10:43:12.043Z"
   },
   {
    "duration": 6,
    "start_time": "2023-09-21T10:43:12.167Z"
   },
   {
    "duration": 29,
    "start_time": "2023-09-21T10:43:12.175Z"
   },
   {
    "duration": 18,
    "start_time": "2023-09-21T10:43:12.206Z"
   },
   {
    "duration": 34,
    "start_time": "2023-09-21T10:43:12.228Z"
   },
   {
    "duration": 4,
    "start_time": "2023-09-21T10:43:12.266Z"
   },
   {
    "duration": 25,
    "start_time": "2023-09-21T10:43:12.272Z"
   },
   {
    "duration": 33,
    "start_time": "2023-09-21T10:43:12.299Z"
   },
   {
    "duration": 28,
    "start_time": "2023-09-21T10:43:12.334Z"
   },
   {
    "duration": 7,
    "start_time": "2023-09-21T10:43:12.364Z"
   },
   {
    "duration": 15,
    "start_time": "2023-09-21T10:43:12.373Z"
   },
   {
    "duration": 7,
    "start_time": "2023-09-21T10:43:12.390Z"
   },
   {
    "duration": 14,
    "start_time": "2023-09-21T10:43:12.399Z"
   },
   {
    "duration": 7,
    "start_time": "2023-09-21T10:43:12.415Z"
   },
   {
    "duration": 6,
    "start_time": "2023-09-21T10:43:12.424Z"
   },
   {
    "duration": 41,
    "start_time": "2023-09-21T10:43:12.433Z"
   },
   {
    "duration": 108,
    "start_time": "2023-09-21T10:43:12.476Z"
   },
   {
    "duration": 7,
    "start_time": "2023-09-21T10:43:12.587Z"
   },
   {
    "duration": 31,
    "start_time": "2023-09-21T10:43:12.613Z"
   },
   {
    "duration": 21,
    "start_time": "2023-09-21T10:43:12.649Z"
   },
   {
    "duration": 341,
    "start_time": "2023-09-21T10:43:12.672Z"
   },
   {
    "duration": 1885,
    "start_time": "2023-09-21T10:43:13.022Z"
   },
   {
    "duration": 65,
    "start_time": "2023-09-21T10:43:14.912Z"
   },
   {
    "duration": 60,
    "start_time": "2023-09-21T10:43:14.979Z"
   },
   {
    "duration": 1899,
    "start_time": "2023-09-21T10:43:15.042Z"
   },
   {
    "duration": 7,
    "start_time": "2023-09-21T10:43:16.943Z"
   },
   {
    "duration": 14,
    "start_time": "2023-09-21T10:43:16.952Z"
   },
   {
    "duration": 8,
    "start_time": "2023-09-21T10:43:16.968Z"
   },
   {
    "duration": 255,
    "start_time": "2023-09-21T10:43:16.978Z"
   },
   {
    "duration": 495,
    "start_time": "2023-09-21T10:43:17.235Z"
   },
   {
    "duration": 18,
    "start_time": "2023-09-21T10:43:17.733Z"
   },
   {
    "duration": 322,
    "start_time": "2023-09-21T10:43:17.755Z"
   },
   {
    "duration": 1226,
    "start_time": "2023-09-21T10:43:18.079Z"
   },
   {
    "duration": 5,
    "start_time": "2023-09-21T10:43:19.319Z"
   },
   {
    "duration": 11,
    "start_time": "2023-09-21T10:43:19.326Z"
   },
   {
    "duration": 22,
    "start_time": "2023-09-21T10:43:19.340Z"
   },
   {
    "duration": 11,
    "start_time": "2023-09-21T10:43:19.364Z"
   },
   {
    "duration": 15,
    "start_time": "2023-09-21T10:43:19.377Z"
   },
   {
    "duration": 9,
    "start_time": "2023-09-21T10:43:19.394Z"
   },
   {
    "duration": 60,
    "start_time": "2023-09-21T10:43:19.404Z"
   },
   {
    "duration": 50,
    "start_time": "2023-09-21T10:43:19.466Z"
   },
   {
    "duration": 7,
    "start_time": "2023-09-21T10:43:19.521Z"
   },
   {
    "duration": 10,
    "start_time": "2023-09-21T10:43:19.530Z"
   },
   {
    "duration": 20,
    "start_time": "2023-09-21T10:43:19.544Z"
   },
   {
    "duration": 6,
    "start_time": "2023-09-21T10:43:19.566Z"
   },
   {
    "duration": 16,
    "start_time": "2023-09-21T10:43:19.574Z"
   },
   {
    "duration": 4026,
    "start_time": "2023-09-21T10:43:19.591Z"
   },
   {
    "duration": 8,
    "start_time": "2023-09-21T10:43:23.622Z"
   },
   {
    "duration": 667101,
    "start_time": "2023-09-21T10:43:23.637Z"
   },
   {
    "duration": 4,
    "start_time": "2023-09-21T10:54:30.744Z"
   },
   {
    "duration": 5064,
    "start_time": "2023-09-21T10:54:30.751Z"
   },
   {
    "duration": 4,
    "start_time": "2023-09-21T10:54:35.819Z"
   },
   {
    "duration": 4587,
    "start_time": "2023-09-21T10:54:35.826Z"
   },
   {
    "duration": 7,
    "start_time": "2023-09-21T10:54:40.424Z"
   },
   {
    "duration": 22,
    "start_time": "2023-09-21T10:54:40.437Z"
   },
   {
    "duration": 3414,
    "start_time": "2023-09-21T10:54:40.461Z"
   },
   {
    "duration": 4,
    "start_time": "2023-09-21T10:54:43.877Z"
   },
   {
    "duration": 658673,
    "start_time": "2023-09-21T10:54:43.884Z"
   },
   {
    "duration": 4,
    "start_time": "2023-09-21T11:05:42.559Z"
   },
   {
    "duration": 4955,
    "start_time": "2023-09-21T11:05:42.571Z"
   },
   {
    "duration": 9,
    "start_time": "2023-09-21T11:05:47.528Z"
   },
   {
    "duration": 2992,
    "start_time": "2023-09-21T11:05:47.540Z"
   },
   {
    "duration": 4,
    "start_time": "2023-09-21T11:05:50.535Z"
   },
   {
    "duration": 87,
    "start_time": "2023-09-21T11:05:50.541Z"
   },
   {
    "duration": 32,
    "start_time": "2023-09-21T11:05:50.630Z"
   },
   {
    "duration": 5065,
    "start_time": "2023-09-21T11:05:50.664Z"
   },
   {
    "duration": 10,
    "start_time": "2023-09-21T11:05:55.738Z"
   },
   {
    "duration": 6,
    "start_time": "2023-09-21T11:11:14.627Z"
   },
   {
    "duration": 48,
    "start_time": "2023-09-22T09:29:05.597Z"
   },
   {
    "duration": 1718,
    "start_time": "2023-09-22T09:29:18.952Z"
   },
   {
    "duration": 946,
    "start_time": "2023-09-22T09:29:20.672Z"
   },
   {
    "duration": 407,
    "start_time": "2023-09-22T09:29:21.620Z"
   },
   {
    "duration": 17,
    "start_time": "2023-09-22T09:29:22.029Z"
   },
   {
    "duration": 59,
    "start_time": "2023-09-22T09:29:22.048Z"
   },
   {
    "duration": 170,
    "start_time": "2023-09-22T09:29:22.108Z"
   },
   {
    "duration": 14,
    "start_time": "2023-09-22T09:29:22.280Z"
   },
   {
    "duration": 1179,
    "start_time": "2023-09-22T09:29:22.296Z"
   },
   {
    "duration": 16,
    "start_time": "2023-09-22T09:29:23.477Z"
   },
   {
    "duration": 10,
    "start_time": "2023-09-22T09:29:23.496Z"
   },
   {
    "duration": 301,
    "start_time": "2023-09-22T09:29:23.508Z"
   },
   {
    "duration": 24,
    "start_time": "2023-09-22T09:29:23.811Z"
   },
   {
    "duration": 4,
    "start_time": "2023-09-22T09:29:23.843Z"
   },
   {
    "duration": 45,
    "start_time": "2023-09-22T09:29:23.849Z"
   },
   {
    "duration": 6,
    "start_time": "2023-09-22T09:29:23.896Z"
   },
   {
    "duration": 24,
    "start_time": "2023-09-22T09:29:23.903Z"
   },
   {
    "duration": 39,
    "start_time": "2023-09-22T09:29:23.929Z"
   },
   {
    "duration": 23,
    "start_time": "2023-09-22T09:29:23.969Z"
   },
   {
    "duration": 33,
    "start_time": "2023-09-22T09:29:23.994Z"
   },
   {
    "duration": 19,
    "start_time": "2023-09-22T09:29:24.029Z"
   },
   {
    "duration": 14,
    "start_time": "2023-09-22T09:29:24.049Z"
   },
   {
    "duration": 5,
    "start_time": "2023-09-22T09:29:24.064Z"
   },
   {
    "duration": 66,
    "start_time": "2023-09-22T09:29:24.071Z"
   },
   {
    "duration": 6,
    "start_time": "2023-09-22T09:29:24.139Z"
   },
   {
    "duration": 24,
    "start_time": "2023-09-22T09:29:24.147Z"
   },
   {
    "duration": 24,
    "start_time": "2023-09-22T09:29:24.173Z"
   },
   {
    "duration": 42,
    "start_time": "2023-09-22T09:29:24.199Z"
   },
   {
    "duration": 4,
    "start_time": "2023-09-22T09:29:24.245Z"
   },
   {
    "duration": 36,
    "start_time": "2023-09-22T09:29:24.250Z"
   },
   {
    "duration": 18,
    "start_time": "2023-09-22T09:29:24.289Z"
   },
   {
    "duration": 25,
    "start_time": "2023-09-22T09:29:24.309Z"
   },
   {
    "duration": 18,
    "start_time": "2023-09-22T09:29:24.336Z"
   },
   {
    "duration": 41,
    "start_time": "2023-09-22T09:29:24.356Z"
   },
   {
    "duration": 36,
    "start_time": "2023-09-22T09:29:24.399Z"
   },
   {
    "duration": 19,
    "start_time": "2023-09-22T09:29:24.437Z"
   },
   {
    "duration": 28,
    "start_time": "2023-09-22T09:29:24.458Z"
   },
   {
    "duration": 40,
    "start_time": "2023-09-22T09:29:24.488Z"
   },
   {
    "duration": 33,
    "start_time": "2023-09-22T09:29:24.530Z"
   },
   {
    "duration": 91,
    "start_time": "2023-09-22T09:29:24.565Z"
   },
   {
    "duration": 5,
    "start_time": "2023-09-22T09:29:24.658Z"
   },
   {
    "duration": 22,
    "start_time": "2023-09-22T09:29:24.664Z"
   },
   {
    "duration": 12,
    "start_time": "2023-09-22T09:29:24.687Z"
   },
   {
    "duration": 220,
    "start_time": "2023-09-22T09:29:24.701Z"
   },
   {
    "duration": 1341,
    "start_time": "2023-09-22T09:29:24.923Z"
   },
   {
    "duration": 39,
    "start_time": "2023-09-22T09:29:26.266Z"
   },
   {
    "duration": 63,
    "start_time": "2023-09-22T09:29:26.307Z"
   },
   {
    "duration": 1400,
    "start_time": "2023-09-22T09:29:26.372Z"
   },
   {
    "duration": 5,
    "start_time": "2023-09-22T09:29:27.774Z"
   },
   {
    "duration": 29,
    "start_time": "2023-09-22T09:29:27.781Z"
   },
   {
    "duration": 15,
    "start_time": "2023-09-22T09:29:27.812Z"
   },
   {
    "duration": 194,
    "start_time": "2023-09-22T09:29:27.828Z"
   },
   {
    "duration": 344,
    "start_time": "2023-09-22T09:29:28.024Z"
   },
   {
    "duration": 6,
    "start_time": "2023-09-22T09:29:28.370Z"
   },
   {
    "duration": 194,
    "start_time": "2023-09-22T09:29:28.377Z"
   },
   {
    "duration": 947,
    "start_time": "2023-09-22T09:29:28.573Z"
   },
   {
    "duration": 3,
    "start_time": "2023-09-22T09:29:29.522Z"
   },
   {
    "duration": 13,
    "start_time": "2023-09-22T09:29:29.526Z"
   },
   {
    "duration": 18,
    "start_time": "2023-09-22T09:29:29.541Z"
   },
   {
    "duration": 23,
    "start_time": "2023-09-22T09:29:29.561Z"
   },
   {
    "duration": 14,
    "start_time": "2023-09-22T09:29:29.586Z"
   },
   {
    "duration": 19,
    "start_time": "2023-09-22T09:29:29.601Z"
   },
   {
    "duration": 35,
    "start_time": "2023-09-22T09:29:29.622Z"
   },
   {
    "duration": 46,
    "start_time": "2023-09-22T09:29:29.659Z"
   },
   {
    "duration": 18,
    "start_time": "2023-09-22T09:29:29.707Z"
   },
   {
    "duration": 11,
    "start_time": "2023-09-22T09:29:29.727Z"
   },
   {
    "duration": 9,
    "start_time": "2023-09-22T09:29:29.739Z"
   },
   {
    "duration": 19,
    "start_time": "2023-09-22T09:29:29.750Z"
   },
   {
    "duration": 13,
    "start_time": "2023-09-22T09:29:29.771Z"
   },
   {
    "duration": 2861,
    "start_time": "2023-09-22T09:29:29.786Z"
   },
   {
    "duration": 3,
    "start_time": "2023-09-22T09:29:32.649Z"
   },
   {
    "duration": 536247,
    "start_time": "2023-09-22T09:29:32.654Z"
   },
   {
    "duration": 3,
    "start_time": "2023-09-22T09:38:28.903Z"
   },
   {
    "duration": 1548,
    "start_time": "2023-09-22T09:38:28.907Z"
   },
   {
    "duration": 88,
    "start_time": "2023-09-22T09:38:30.461Z"
   },
   {
    "duration": 2101,
    "start_time": "2023-09-22T09:38:30.551Z"
   },
   {
    "duration": 6,
    "start_time": "2023-09-22T09:38:32.654Z"
   },
   {
    "duration": 184,
    "start_time": "2023-09-22T09:38:32.665Z"
   },
   {
    "duration": 2808,
    "start_time": "2023-09-22T09:38:32.851Z"
   },
   {
    "duration": 4,
    "start_time": "2023-09-22T09:38:35.660Z"
   },
   {
    "duration": 546995,
    "start_time": "2023-09-22T09:38:35.665Z"
   },
   {
    "duration": 3,
    "start_time": "2023-09-22T09:47:42.663Z"
   },
   {
    "duration": 1278,
    "start_time": "2023-09-22T09:47:42.670Z"
   },
   {
    "duration": 92,
    "start_time": "2023-09-22T09:47:43.952Z"
   },
   {
    "duration": 1304,
    "start_time": "2023-09-22T09:47:44.046Z"
   },
   {
    "duration": 93,
    "start_time": "2023-09-22T09:47:45.352Z"
   },
   {
    "duration": 28,
    "start_time": "2023-09-22T09:47:45.447Z"
   },
   {
    "duration": 69,
    "start_time": "2023-09-22T09:47:45.476Z"
   },
   {
    "duration": 4143,
    "start_time": "2023-09-22T09:47:45.547Z"
   },
   {
    "duration": 8,
    "start_time": "2023-09-22T09:47:49.691Z"
   }
  ],
  "kernelspec": {
   "display_name": "Python 3 (ipykernel)",
   "language": "python",
   "name": "python3"
  },
  "language_info": {
   "codemirror_mode": {
    "name": "ipython",
    "version": 3
   },
   "file_extension": ".py",
   "mimetype": "text/x-python",
   "name": "python",
   "nbconvert_exporter": "python",
   "pygments_lexer": "ipython3",
   "version": "3.10.13"
  },
  "toc": {
   "base_numbering": 1,
   "nav_menu": {},
   "number_sections": true,
   "sideBar": true,
   "skip_h1_title": true,
   "title_cell": "Содержание",
   "title_sidebar": "Contents",
   "toc_cell": true,
   "toc_position": {
    "height": "calc(100% - 180px)",
    "left": "10px",
    "top": "150px",
    "width": "396.797px"
   },
   "toc_section_display": true,
   "toc_window_display": true
  }
 },
 "nbformat": 4,
 "nbformat_minor": 2
}
